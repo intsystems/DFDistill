{
 "cells": [
  {
   "cell_type": "code",
   "execution_count": 1,
   "id": "8750bed9",
   "metadata": {},
   "outputs": [],
   "source": [
    "import sys\n",
    "import math\n",
    "sys.path.append(\"..\")\n",
    "\n",
    "import torch\n",
    "\n",
    "# from algorithms.deepinversion import distill_deep_inversion\n",
    "# from algorithms.vanilla_distillation import distill\n",
    "from distillation import run_distillation\n",
    "\n",
    "from trainer import Trainer\n",
    "from models import SimpleConvNet, SimpleResNet\n",
    "from utils import get_cifar100_loader, get_cifar10_loader\n",
    "\n",
    "device = \"cuda\"\n",
    "\n",
    "%load_ext autoreload\n",
    "%autoreload 2"
   ]
  },
  {
   "cell_type": "code",
   "execution_count": 2,
   "id": "8eea1385",
   "metadata": {},
   "outputs": [],
   "source": [
    "teacher = SimpleResNet(n_blocks=4, n_filters=16, input_shape=(3, 32, 32), n_classes=100).to(device)\n",
    "student_reference = SimpleConvNet(n_layers=2, n_filters=16, input_shape=(3, 32, 32), n_classes=100).to(device)\n",
    "\n",
    "student_vanilla = SimpleConvNet(n_layers=2, n_filters=16, input_shape=(3, 32, 32), n_classes=100).to(device)\n",
    "student_deepinversion = SimpleConvNet(n_layers=2, n_filters=32, input_shape=(3, 32, 32), n_classes=100).to(device)\n",
    "student_dfad = SimpleConvNet(n_layers=2, n_filters=32, input_shape=(3, 32, 32), n_classes=100).to(device)\n",
    "student_spec_features = SimpleConvNet(n_layers=2, n_filters=32, input_shape=(3, 32, 32), n_classes=100).to(device)"
   ]
  },
  {
   "cell_type": "code",
   "execution_count": 3,
   "id": "c9870acd",
   "metadata": {},
   "outputs": [],
   "source": [
    "train_config = {\n",
    "    'lr': 1e-3,\n",
    "    'batch_size': 512,\n",
    "    'max_iters': -1,\n",
    "    'max_epochs': 8,\n",
    "    'evaluate_every': 36,\n",
    "    'log_every': 36,\n",
    "    \"optimizer\": \"AdamW\",\n",
    "    'verbose': False,\n",
    "    'dataset_size': 50000\n",
    "}"
   ]
  },
  {
   "cell_type": "code",
   "execution_count": 4,
   "id": "f2001dbc",
   "metadata": {},
   "outputs": [],
   "source": [
    "trainer = Trainer(train_config=train_config)"
   ]
  },
  {
   "cell_type": "code",
   "execution_count": null,
   "id": "6502e578",
   "metadata": {},
   "outputs": [
    {
     "data": {
      "application/vnd.jupyter.widget-view+json": {
       "model_id": "f8e47aca369443adb1984c9550262a5b",
       "version_major": 2,
       "version_minor": 0
      },
      "text/plain": [
       "Training iters:   0%|          | 0/100000 [00:00<?, ?it/s]"
      ]
     },
     "metadata": {},
     "output_type": "display_data"
    },
    {
     "data": {
      "application/vnd.jupyter.widget-view+json": {
       "model_id": "ef9e48ef534b444d9eb16d2ebb7e86ee",
       "version_major": 2,
       "version_minor": 0
      },
      "text/plain": [
       "eval batch:   0%|          | 0/20 [00:00<?, ?it/s]"
      ]
     },
     "metadata": {},
     "output_type": "display_data"
    }
   ],
   "source": [
    "teacher = trainer.train(\n",
    "    model=teacher,\n",
    "    train_loader=get_cifar10_loader(data_path=\"../../data\", train=True, batch_size=train_config[\"batch_size\"]),\n",
    "    val_loader=get_cifar10_loader(data_path=\"../../data\", train=False, batch_size=train_config[\"batch_size\"]),\n",
    "    max_epochs=train_config[\"max_epochs\"] // 4 # just to prevent overfitting\n",
    ")\n",
    "trainer.train_config[\"max_epochs\"] = trainer.train_config[\"max_epochs\"] * 4"
   ]
  },
  {
   "cell_type": "code",
   "execution_count": null,
   "id": "b72fbc32",
   "metadata": {},
   "outputs": [
    {
     "data": {
      "application/vnd.jupyter.widget-view+json": {
       "model_id": "b6c30f1788324f178665c71dacd270c8",
       "version_major": 2,
       "version_minor": 0
      },
      "text/plain": [
       "eval batch:   0%|          | 0/20 [00:00<?, ?it/s]"
      ]
     },
     "metadata": {},
     "output_type": "display_data"
    },
    {
     "data": {
      "text/plain": [
       "{'Accuracy': 0.612}"
      ]
     },
     "execution_count": 8,
     "metadata": {},
     "output_type": "execute_result"
    }
   ],
   "source": [
    "trainer.evaluate(\n",
    "    get_cifar10_loader(data_path=\"../../data\", train=False, batch_size=train_config[\"batch_size\"]),\n",
    "    model=teacher\n",
    ")"
   ]
  },
  {
   "cell_type": "code",
   "execution_count": null,
   "id": "84139aaf",
   "metadata": {},
   "outputs": [
    {
     "data": {
      "application/vnd.jupyter.widget-view+json": {
       "model_id": "2e5965fec29a490ba1ba91ff69ead994",
       "version_major": 2,
       "version_minor": 0
      },
      "text/plain": [
       "Training iters:   0%|          | 0/400000 [00:00<?, ?it/s]"
      ]
     },
     "metadata": {},
     "output_type": "display_data"
    },
    {
     "data": {
      "application/vnd.jupyter.widget-view+json": {
       "model_id": "0c256cf51bc8432bb0ce553a9eb13040",
       "version_major": 2,
       "version_minor": 0
      },
      "text/plain": [
       "eval batch:   0%|          | 0/20 [00:00<?, ?it/s]"
      ]
     },
     "metadata": {},
     "output_type": "display_data"
    },
    {
     "data": {
      "application/vnd.jupyter.widget-view+json": {
       "model_id": "8847256a5e5444058171e5dde7cae825",
       "version_major": 2,
       "version_minor": 0
      },
      "text/plain": [
       "eval batch:   0%|          | 0/20 [00:00<?, ?it/s]"
      ]
     },
     "metadata": {},
     "output_type": "display_data"
    },
    {
     "data": {
      "application/vnd.jupyter.widget-view+json": {
       "model_id": "de7758a191c8471c83c9c0b452acd0e6",
       "version_major": 2,
       "version_minor": 0
      },
      "text/plain": [
       "eval batch:   0%|          | 0/20 [00:00<?, ?it/s]"
      ]
     },
     "metadata": {},
     "output_type": "display_data"
    },
    {
     "data": {
      "application/vnd.jupyter.widget-view+json": {
       "model_id": "6f956048025142359becda7bac0b192b",
       "version_major": 2,
       "version_minor": 0
      },
      "text/plain": [
       "eval batch:   0%|          | 0/20 [00:00<?, ?it/s]"
      ]
     },
     "metadata": {},
     "output_type": "display_data"
    },
    {
     "data": {
      "application/vnd.jupyter.widget-view+json": {
       "model_id": "24694be714ae4d5a9698b962cc8b9158",
       "version_major": 2,
       "version_minor": 0
      },
      "text/plain": [
       "eval batch:   0%|          | 0/20 [00:00<?, ?it/s]"
      ]
     },
     "metadata": {},
     "output_type": "display_data"
    },
    {
     "data": {
      "application/vnd.jupyter.widget-view+json": {
       "model_id": "e48f4f4ae32e4374ba1fdd8cecd01edd",
       "version_major": 2,
       "version_minor": 0
      },
      "text/plain": [
       "eval batch:   0%|          | 0/20 [00:00<?, ?it/s]"
      ]
     },
     "metadata": {},
     "output_type": "display_data"
    },
    {
     "data": {
      "application/vnd.jupyter.widget-view+json": {
       "model_id": "8520e45a41f84163a7475aeecf2e62ec",
       "version_major": 2,
       "version_minor": 0
      },
      "text/plain": [
       "eval batch:   0%|          | 0/20 [00:00<?, ?it/s]"
      ]
     },
     "metadata": {},
     "output_type": "display_data"
    },
    {
     "data": {
      "application/vnd.jupyter.widget-view+json": {
       "model_id": "5d6e38e26c1145c6bb5cd409d3804eed",
       "version_major": 2,
       "version_minor": 0
      },
      "text/plain": [
       "eval batch:   0%|          | 0/20 [00:00<?, ?it/s]"
      ]
     },
     "metadata": {},
     "output_type": "display_data"
    },
    {
     "data": {
      "application/vnd.jupyter.widget-view+json": {
       "model_id": "19496c482bed4d87b0973ee89c3e2cc4",
       "version_major": 2,
       "version_minor": 0
      },
      "text/plain": [
       "eval batch:   0%|          | 0/20 [00:00<?, ?it/s]"
      ]
     },
     "metadata": {},
     "output_type": "display_data"
    },
    {
     "data": {
      "application/vnd.jupyter.widget-view+json": {
       "model_id": "44e53476e97541c790aff36bd51157a9",
       "version_major": 2,
       "version_minor": 0
      },
      "text/plain": [
       "eval batch:   0%|          | 0/20 [00:00<?, ?it/s]"
      ]
     },
     "metadata": {},
     "output_type": "display_data"
    },
    {
     "data": {
      "application/vnd.jupyter.widget-view+json": {
       "model_id": "5dce5f7d6a9a4ba8ab7d0f6cd8b707c1",
       "version_major": 2,
       "version_minor": 0
      },
      "text/plain": [
       "eval batch:   0%|          | 0/20 [00:00<?, ?it/s]"
      ]
     },
     "metadata": {},
     "output_type": "display_data"
    },
    {
     "data": {
      "application/vnd.jupyter.widget-view+json": {
       "model_id": "af1cd82a80be4483808fc0b3ce58aee7",
       "version_major": 2,
       "version_minor": 0
      },
      "text/plain": [
       "eval batch:   0%|          | 0/20 [00:00<?, ?it/s]"
      ]
     },
     "metadata": {},
     "output_type": "display_data"
    },
    {
     "data": {
      "application/vnd.jupyter.widget-view+json": {
       "model_id": "60abe15c40d345ecbc1c95c50a9b8f70",
       "version_major": 2,
       "version_minor": 0
      },
      "text/plain": [
       "eval batch:   0%|          | 0/20 [00:00<?, ?it/s]"
      ]
     },
     "metadata": {},
     "output_type": "display_data"
    },
    {
     "data": {
      "application/vnd.jupyter.widget-view+json": {
       "model_id": "61f85dfc049142ea94711b8f765572ee",
       "version_major": 2,
       "version_minor": 0
      },
      "text/plain": [
       "eval batch:   0%|          | 0/20 [00:00<?, ?it/s]"
      ]
     },
     "metadata": {},
     "output_type": "display_data"
    },
    {
     "data": {
      "application/vnd.jupyter.widget-view+json": {
       "model_id": "5b00c55f192242bf8b0f3aaa969be463",
       "version_major": 2,
       "version_minor": 0
      },
      "text/plain": [
       "eval batch:   0%|          | 0/20 [00:00<?, ?it/s]"
      ]
     },
     "metadata": {},
     "output_type": "display_data"
    },
    {
     "data": {
      "application/vnd.jupyter.widget-view+json": {
       "model_id": "ffd4ddea54e14485b00125b8608d35ec",
       "version_major": 2,
       "version_minor": 0
      },
      "text/plain": [
       "eval batch:   0%|          | 0/20 [00:00<?, ?it/s]"
      ]
     },
     "metadata": {},
     "output_type": "display_data"
    }
   ],
   "source": [
    "student_reference = trainer.train(\n",
    "    model=student_reference,\n",
    "    train_loader=get_cifar10_loader(data_path=\"../../data\", train=True, batch_size=train_config[\"batch_size\"]),\n",
    "    val_loader=get_cifar10_loader(data_path=\"../../data\", train=False, batch_size=train_config[\"batch_size\"])\n",
    ")"
   ]
  },
  {
   "cell_type": "code",
   "execution_count": null,
   "id": "c3f0aed3",
   "metadata": {},
   "outputs": [
    {
     "data": {
      "application/vnd.jupyter.widget-view+json": {
       "model_id": "b7512738ff8640919b59d8aa32021868",
       "version_major": 2,
       "version_minor": 0
      },
      "text/plain": [
       "eval batch:   0%|          | 0/20 [00:00<?, ?it/s]"
      ]
     },
     "metadata": {},
     "output_type": "display_data"
    },
    {
     "data": {
      "text/plain": [
       "{'Accuracy': 0.5452}"
      ]
     },
     "execution_count": 10,
     "metadata": {},
     "output_type": "execute_result"
    }
   ],
   "source": [
    "trainer.evaluate(\n",
    "    get_cifar10_loader(data_path=\"../../data\", train=False, batch_size=train_config[\"batch_size\"]),\n",
    "    model=student_reference\n",
    ")"
   ]
  },
  {
   "cell_type": "code",
   "execution_count": null,
   "id": "dd7367f3",
   "metadata": {},
   "outputs": [
    {
     "name": "stdout",
     "output_type": "stream",
     "text": [
      "[INFO] Running algorithm: vanilla\n",
      "[INFO] Using arguments for 'vanilla': ['teacher', 'student', 'test_loader', 'optimizer', 'train_loader', 'iterations']\n"
     ]
    },
    {
     "name": "stderr",
     "output_type": "stream",
     "text": [
      "Training - 0/784 [                              ] ELP: 00:00d:\\Desktop\\10сем\\BMM\\DFDistill\\.venv\\Lib\\site-packages\\torch\\nn\\_reduction.py:51: UserWarning: size_average and reduce args will be deprecated, please use reduction='sum' instead.\n",
      "  warnings.warn(warning.format(ret))\n",
      "Training - 784/784 [██████████████████████████████] ELP: 00:49, accuracy: 0.5171 - \n"
     ]
    }
   ],
   "source": [
    "student_vanilla = run_distillation(\n",
    "    algorithm_name=\"vanilla\",\n",
    "    teacher=teacher,\n",
    "    student=student_vanilla,\n",
    "    config={\n",
    "        \"optimizer\": torch.optim.AdamW(student_vanilla.parameters(), lr=train_config[\"lr\"], betas=(0.8, 0.9)),\n",
    "        \"train_loader\": get_cifar10_loader(data_path=\"../../data\", train=True, batch_size=train_config[\"batch_size\"]),\n",
    "        \"iterations\": math.ceil(train_config['dataset_size'] / train_config[\"batch_size\"]) * train_config[\"max_epochs\"],\n",
    "    }\n",
    ")"
   ]
  },
  {
   "cell_type": "code",
   "execution_count": null,
   "id": "c24723ed",
   "metadata": {},
   "outputs": [
    {
     "data": {
      "application/vnd.jupyter.widget-view+json": {
       "model_id": "34931e36840e49aaa21cebaae03fb3b8",
       "version_major": 2,
       "version_minor": 0
      },
      "text/plain": [
       "eval batch:   0%|          | 0/20 [00:00<?, ?it/s]"
      ]
     },
     "metadata": {},
     "output_type": "display_data"
    },
    {
     "data": {
      "text/plain": [
       "{'Accuracy': 0.5514}"
      ]
     },
     "execution_count": 12,
     "metadata": {},
     "output_type": "execute_result"
    }
   ],
   "source": [
    "trainer.evaluate(\n",
    "    get_cifar10_loader(data_path=\"../../data\", train=False, batch_size=train_config[\"batch_size\"]),\n",
    "    model=student_vanilla\n",
    ")"
   ]
  },
  {
   "cell_type": "code",
   "execution_count": null,
   "id": "a9f2f6a4",
   "metadata": {},
   "outputs": [
    {
     "name": "stdout",
     "output_type": "stream",
     "text": [
      "[INFO] Running algorithm: deepinversion\n",
      "[INFO] Using arguments for 'deepinversion': ['teacher', 'student', 'total_iterations', 'distill_k_times', 'batch_size', 'deep_inversion_batch_size', 'n_classes']\n"
     ]
    },
    {
     "name": "stderr",
     "output_type": "stream",
     "text": [
      "<string>:38: UserWarning: [WARNING] Argument 'test_loader' is not used by 'deepinversion' and will be ignored.\n"
     ]
    },
    {
     "data": {
      "application/vnd.jupyter.widget-view+json": {
       "model_id": "d935fac9d6e74cc58e6417adcf132096",
       "version_major": 2,
       "version_minor": 0
      },
      "text/plain": [
       "Pipeline iters:   0%|          | 0/390 [00:00<?, ?it/s]"
      ]
     },
     "metadata": {},
     "output_type": "display_data"
    },
    {
     "data": {
      "application/vnd.jupyter.widget-view+json": {
       "model_id": "45f3f4c538ff4e90a55b07338df80371",
       "version_major": 2,
       "version_minor": 0
      },
      "text/plain": [
       "Getting_images:   0%|          | 0/100 [00:00<?, ?it/s]"
      ]
     },
     "metadata": {},
     "output_type": "display_data"
    },
    {
     "data": {
      "application/vnd.jupyter.widget-view+json": {
       "model_id": "38a9572b873a409f80a1bf65810719cc",
       "version_major": 2,
       "version_minor": 0
      },
      "text/plain": [
       "Getting_images:   0%|          | 0/100 [00:00<?, ?it/s]"
      ]
     },
     "metadata": {},
     "output_type": "display_data"
    },
    {
     "data": {
      "application/vnd.jupyter.widget-view+json": {
       "model_id": "2ed0e6462b674ae082cead8d527822cd",
       "version_major": 2,
       "version_minor": 0
      },
      "text/plain": [
       "Getting_images:   0%|          | 0/100 [00:00<?, ?it/s]"
      ]
     },
     "metadata": {},
     "output_type": "display_data"
    },
    {
     "data": {
      "application/vnd.jupyter.widget-view+json": {
       "model_id": "ba37517160be47b2a5b271428ec237a9",
       "version_major": 2,
       "version_minor": 0
      },
      "text/plain": [
       "Getting_images:   0%|          | 0/100 [00:00<?, ?it/s]"
      ]
     },
     "metadata": {},
     "output_type": "display_data"
    },
    {
     "data": {
      "application/vnd.jupyter.widget-view+json": {
       "model_id": "f642ddea1dfe461e9f3c0976f98d4090",
       "version_major": 2,
       "version_minor": 0
      },
      "text/plain": [
       "Getting_images:   0%|          | 0/100 [00:00<?, ?it/s]"
      ]
     },
     "metadata": {},
     "output_type": "display_data"
    },
    {
     "data": {
      "application/vnd.jupyter.widget-view+json": {
       "model_id": "47bafd99da464282a80fd343c058916e",
       "version_major": 2,
       "version_minor": 0
      },
      "text/plain": [
       "Getting_images:   0%|          | 0/100 [00:00<?, ?it/s]"
      ]
     },
     "metadata": {},
     "output_type": "display_data"
    },
    {
     "data": {
      "application/vnd.jupyter.widget-view+json": {
       "model_id": "67b2aff794c949a19d657235ce95b2ff",
       "version_major": 2,
       "version_minor": 0
      },
      "text/plain": [
       "Getting_images:   0%|          | 0/100 [00:00<?, ?it/s]"
      ]
     },
     "metadata": {},
     "output_type": "display_data"
    },
    {
     "data": {
      "application/vnd.jupyter.widget-view+json": {
       "model_id": "9675c26f866e4a02a9c39d8c5efd0dce",
       "version_major": 2,
       "version_minor": 0
      },
      "text/plain": [
       "Getting_images:   0%|          | 0/100 [00:00<?, ?it/s]"
      ]
     },
     "metadata": {},
     "output_type": "display_data"
    },
    {
     "data": {
      "application/vnd.jupyter.widget-view+json": {
       "model_id": "9a185cec3b1d40bb9233aa0990ccfccb",
       "version_major": 2,
       "version_minor": 0
      },
      "text/plain": [
       "Getting_images:   0%|          | 0/100 [00:00<?, ?it/s]"
      ]
     },
     "metadata": {},
     "output_type": "display_data"
    },
    {
     "data": {
      "application/vnd.jupyter.widget-view+json": {
       "model_id": "7cb0c178cc864f09a0a81bdb372480ca",
       "version_major": 2,
       "version_minor": 0
      },
      "text/plain": [
       "Getting_images:   0%|          | 0/100 [00:00<?, ?it/s]"
      ]
     },
     "metadata": {},
     "output_type": "display_data"
    },
    {
     "data": {
      "application/vnd.jupyter.widget-view+json": {
       "model_id": "789356c5300640d292afff7d0c18ffd7",
       "version_major": 2,
       "version_minor": 0
      },
      "text/plain": [
       "Getting_images:   0%|          | 0/100 [00:00<?, ?it/s]"
      ]
     },
     "metadata": {},
     "output_type": "display_data"
    },
    {
     "data": {
      "application/vnd.jupyter.widget-view+json": {
       "model_id": "f1e365c611df48b7b45cfa98dbf69a3d",
       "version_major": 2,
       "version_minor": 0
      },
      "text/plain": [
       "Getting_images:   0%|          | 0/100 [00:00<?, ?it/s]"
      ]
     },
     "metadata": {},
     "output_type": "display_data"
    },
    {
     "data": {
      "application/vnd.jupyter.widget-view+json": {
       "model_id": "9c69933058074988aae98f198a23c450",
       "version_major": 2,
       "version_minor": 0
      },
      "text/plain": [
       "Getting_images:   0%|          | 0/100 [00:00<?, ?it/s]"
      ]
     },
     "metadata": {},
     "output_type": "display_data"
    },
    {
     "data": {
      "application/vnd.jupyter.widget-view+json": {
       "model_id": "9bea2178fad84180b6a35f0f6f437a31",
       "version_major": 2,
       "version_minor": 0
      },
      "text/plain": [
       "Getting_images:   0%|          | 0/100 [00:00<?, ?it/s]"
      ]
     },
     "metadata": {},
     "output_type": "display_data"
    },
    {
     "data": {
      "application/vnd.jupyter.widget-view+json": {
       "model_id": "9ffc789463024c34925e7d38a1e80bbf",
       "version_major": 2,
       "version_minor": 0
      },
      "text/plain": [
       "Getting_images:   0%|          | 0/100 [00:00<?, ?it/s]"
      ]
     },
     "metadata": {},
     "output_type": "display_data"
    },
    {
     "data": {
      "application/vnd.jupyter.widget-view+json": {
       "model_id": "98ce756afa0844bbadc1564759a05c4c",
       "version_major": 2,
       "version_minor": 0
      },
      "text/plain": [
       "Getting_images:   0%|          | 0/100 [00:00<?, ?it/s]"
      ]
     },
     "metadata": {},
     "output_type": "display_data"
    },
    {
     "data": {
      "application/vnd.jupyter.widget-view+json": {
       "model_id": "703a78f36a1044f785f401d908dd9178",
       "version_major": 2,
       "version_minor": 0
      },
      "text/plain": [
       "Getting_images:   0%|          | 0/100 [00:00<?, ?it/s]"
      ]
     },
     "metadata": {},
     "output_type": "display_data"
    },
    {
     "data": {
      "application/vnd.jupyter.widget-view+json": {
       "model_id": "b7503e0c2234452f8cc949cac43ac983",
       "version_major": 2,
       "version_minor": 0
      },
      "text/plain": [
       "Getting_images:   0%|          | 0/100 [00:00<?, ?it/s]"
      ]
     },
     "metadata": {},
     "output_type": "display_data"
    },
    {
     "data": {
      "application/vnd.jupyter.widget-view+json": {
       "model_id": "2c2e5a889610445e97e7e77f45d78898",
       "version_major": 2,
       "version_minor": 0
      },
      "text/plain": [
       "Getting_images:   0%|          | 0/100 [00:00<?, ?it/s]"
      ]
     },
     "metadata": {},
     "output_type": "display_data"
    },
    {
     "data": {
      "application/vnd.jupyter.widget-view+json": {
       "model_id": "6b8cecdb029c488eacbf143c5ac6f7a2",
       "version_major": 2,
       "version_minor": 0
      },
      "text/plain": [
       "Getting_images:   0%|          | 0/100 [00:00<?, ?it/s]"
      ]
     },
     "metadata": {},
     "output_type": "display_data"
    },
    {
     "data": {
      "application/vnd.jupyter.widget-view+json": {
       "model_id": "92d23491c4d44768af39afb09be8adb2",
       "version_major": 2,
       "version_minor": 0
      },
      "text/plain": [
       "Getting_images:   0%|          | 0/100 [00:00<?, ?it/s]"
      ]
     },
     "metadata": {},
     "output_type": "display_data"
    },
    {
     "data": {
      "application/vnd.jupyter.widget-view+json": {
       "model_id": "a456066970a841f79d34d5047ab34177",
       "version_major": 2,
       "version_minor": 0
      },
      "text/plain": [
       "Getting_images:   0%|          | 0/100 [00:00<?, ?it/s]"
      ]
     },
     "metadata": {},
     "output_type": "display_data"
    },
    {
     "data": {
      "application/vnd.jupyter.widget-view+json": {
       "model_id": "4eb45476f2be44589fa4354b57601005",
       "version_major": 2,
       "version_minor": 0
      },
      "text/plain": [
       "Getting_images:   0%|          | 0/100 [00:00<?, ?it/s]"
      ]
     },
     "metadata": {},
     "output_type": "display_data"
    },
    {
     "data": {
      "application/vnd.jupyter.widget-view+json": {
       "model_id": "3ada12f2e2ad45ffa5da486b6e57be4d",
       "version_major": 2,
       "version_minor": 0
      },
      "text/plain": [
       "Getting_images:   0%|          | 0/100 [00:00<?, ?it/s]"
      ]
     },
     "metadata": {},
     "output_type": "display_data"
    },
    {
     "data": {
      "application/vnd.jupyter.widget-view+json": {
       "model_id": "69ce20b6ff5d4e31a3943ea9027bf06a",
       "version_major": 2,
       "version_minor": 0
      },
      "text/plain": [
       "Getting_images:   0%|          | 0/100 [00:00<?, ?it/s]"
      ]
     },
     "metadata": {},
     "output_type": "display_data"
    },
    {
     "data": {
      "application/vnd.jupyter.widget-view+json": {
       "model_id": "70e348a4153645dab64ee0a287c3d7ef",
       "version_major": 2,
       "version_minor": 0
      },
      "text/plain": [
       "Getting_images:   0%|          | 0/100 [00:00<?, ?it/s]"
      ]
     },
     "metadata": {},
     "output_type": "display_data"
    },
    {
     "data": {
      "application/vnd.jupyter.widget-view+json": {
       "model_id": "18e409b0d41044d2838065c475193651",
       "version_major": 2,
       "version_minor": 0
      },
      "text/plain": [
       "Getting_images:   0%|          | 0/100 [00:00<?, ?it/s]"
      ]
     },
     "metadata": {},
     "output_type": "display_data"
    },
    {
     "data": {
      "application/vnd.jupyter.widget-view+json": {
       "model_id": "4711eb5fda3742deaee9d51f2cbb2f7a",
       "version_major": 2,
       "version_minor": 0
      },
      "text/plain": [
       "Getting_images:   0%|          | 0/100 [00:00<?, ?it/s]"
      ]
     },
     "metadata": {},
     "output_type": "display_data"
    },
    {
     "data": {
      "application/vnd.jupyter.widget-view+json": {
       "model_id": "7e65cd6b7f2e4183bc891fdcdcb47506",
       "version_major": 2,
       "version_minor": 0
      },
      "text/plain": [
       "Getting_images:   0%|          | 0/100 [00:00<?, ?it/s]"
      ]
     },
     "metadata": {},
     "output_type": "display_data"
    },
    {
     "data": {
      "application/vnd.jupyter.widget-view+json": {
       "model_id": "77a6ce31743f4319a08199310da84b6e",
       "version_major": 2,
       "version_minor": 0
      },
      "text/plain": [
       "Getting_images:   0%|          | 0/100 [00:00<?, ?it/s]"
      ]
     },
     "metadata": {},
     "output_type": "display_data"
    },
    {
     "data": {
      "application/vnd.jupyter.widget-view+json": {
       "model_id": "8e7efba3b67c497b80831fb128155f33",
       "version_major": 2,
       "version_minor": 0
      },
      "text/plain": [
       "Getting_images:   0%|          | 0/100 [00:00<?, ?it/s]"
      ]
     },
     "metadata": {},
     "output_type": "display_data"
    },
    {
     "data": {
      "application/vnd.jupyter.widget-view+json": {
       "model_id": "0feb24506dba49908c82a958c0f92759",
       "version_major": 2,
       "version_minor": 0
      },
      "text/plain": [
       "Getting_images:   0%|          | 0/100 [00:00<?, ?it/s]"
      ]
     },
     "metadata": {},
     "output_type": "display_data"
    },
    {
     "data": {
      "application/vnd.jupyter.widget-view+json": {
       "model_id": "92dc510cf82648c6a493e9021cc8307f",
       "version_major": 2,
       "version_minor": 0
      },
      "text/plain": [
       "Getting_images:   0%|          | 0/100 [00:00<?, ?it/s]"
      ]
     },
     "metadata": {},
     "output_type": "display_data"
    },
    {
     "data": {
      "application/vnd.jupyter.widget-view+json": {
       "model_id": "4d9fec7a02f64d2ca4c102963a8da502",
       "version_major": 2,
       "version_minor": 0
      },
      "text/plain": [
       "Getting_images:   0%|          | 0/100 [00:00<?, ?it/s]"
      ]
     },
     "metadata": {},
     "output_type": "display_data"
    },
    {
     "data": {
      "application/vnd.jupyter.widget-view+json": {
       "model_id": "7cc39e980d3643d4a91bdb98ca7fb770",
       "version_major": 2,
       "version_minor": 0
      },
      "text/plain": [
       "Getting_images:   0%|          | 0/100 [00:00<?, ?it/s]"
      ]
     },
     "metadata": {},
     "output_type": "display_data"
    },
    {
     "data": {
      "application/vnd.jupyter.widget-view+json": {
       "model_id": "5bf2feb9969747098dd1b2a378cc30aa",
       "version_major": 2,
       "version_minor": 0
      },
      "text/plain": [
       "Getting_images:   0%|          | 0/100 [00:00<?, ?it/s]"
      ]
     },
     "metadata": {},
     "output_type": "display_data"
    },
    {
     "data": {
      "application/vnd.jupyter.widget-view+json": {
       "model_id": "4d0bf996bc6242638193d8d1c0c33752",
       "version_major": 2,
       "version_minor": 0
      },
      "text/plain": [
       "Getting_images:   0%|          | 0/100 [00:00<?, ?it/s]"
      ]
     },
     "metadata": {},
     "output_type": "display_data"
    },
    {
     "data": {
      "application/vnd.jupyter.widget-view+json": {
       "model_id": "8ebdc2085ee740f796500fbdbe19ccc9",
       "version_major": 2,
       "version_minor": 0
      },
      "text/plain": [
       "Getting_images:   0%|          | 0/100 [00:00<?, ?it/s]"
      ]
     },
     "metadata": {},
     "output_type": "display_data"
    },
    {
     "data": {
      "application/vnd.jupyter.widget-view+json": {
       "model_id": "38606785d1c24c74820a092442a169e4",
       "version_major": 2,
       "version_minor": 0
      },
      "text/plain": [
       "Getting_images:   0%|          | 0/100 [00:00<?, ?it/s]"
      ]
     },
     "metadata": {},
     "output_type": "display_data"
    },
    {
     "data": {
      "application/vnd.jupyter.widget-view+json": {
       "model_id": "ed190a87df094430bd1249d7434bc38e",
       "version_major": 2,
       "version_minor": 0
      },
      "text/plain": [
       "Getting_images:   0%|          | 0/100 [00:00<?, ?it/s]"
      ]
     },
     "metadata": {},
     "output_type": "display_data"
    },
    {
     "data": {
      "application/vnd.jupyter.widget-view+json": {
       "model_id": "3585fe49ca334300955375a2ff2f8e3e",
       "version_major": 2,
       "version_minor": 0
      },
      "text/plain": [
       "Getting_images:   0%|          | 0/100 [00:00<?, ?it/s]"
      ]
     },
     "metadata": {},
     "output_type": "display_data"
    },
    {
     "data": {
      "application/vnd.jupyter.widget-view+json": {
       "model_id": "f3d27a1c44c846a4b071de846c7b5ed5",
       "version_major": 2,
       "version_minor": 0
      },
      "text/plain": [
       "Getting_images:   0%|          | 0/100 [00:00<?, ?it/s]"
      ]
     },
     "metadata": {},
     "output_type": "display_data"
    },
    {
     "data": {
      "application/vnd.jupyter.widget-view+json": {
       "model_id": "fd88d1d5dafa4f7fa2e7d07d08228de8",
       "version_major": 2,
       "version_minor": 0
      },
      "text/plain": [
       "Getting_images:   0%|          | 0/100 [00:00<?, ?it/s]"
      ]
     },
     "metadata": {},
     "output_type": "display_data"
    },
    {
     "data": {
      "application/vnd.jupyter.widget-view+json": {
       "model_id": "0be7d8d88ada402192811dbaba6b7d3f",
       "version_major": 2,
       "version_minor": 0
      },
      "text/plain": [
       "Getting_images:   0%|          | 0/100 [00:00<?, ?it/s]"
      ]
     },
     "metadata": {},
     "output_type": "display_data"
    },
    {
     "data": {
      "application/vnd.jupyter.widget-view+json": {
       "model_id": "a6db4399ab0e4bde8dfaca362d42d509",
       "version_major": 2,
       "version_minor": 0
      },
      "text/plain": [
       "Getting_images:   0%|          | 0/100 [00:00<?, ?it/s]"
      ]
     },
     "metadata": {},
     "output_type": "display_data"
    },
    {
     "data": {
      "application/vnd.jupyter.widget-view+json": {
       "model_id": "302afda4adc54e81b19f28b54db26241",
       "version_major": 2,
       "version_minor": 0
      },
      "text/plain": [
       "Getting_images:   0%|          | 0/100 [00:00<?, ?it/s]"
      ]
     },
     "metadata": {},
     "output_type": "display_data"
    },
    {
     "data": {
      "application/vnd.jupyter.widget-view+json": {
       "model_id": "3ca3e4b5cac1484c8b0223c6e1bc90ee",
       "version_major": 2,
       "version_minor": 0
      },
      "text/plain": [
       "Getting_images:   0%|          | 0/100 [00:00<?, ?it/s]"
      ]
     },
     "metadata": {},
     "output_type": "display_data"
    },
    {
     "data": {
      "application/vnd.jupyter.widget-view+json": {
       "model_id": "749caba95b0345fabd6abaa10e608051",
       "version_major": 2,
       "version_minor": 0
      },
      "text/plain": [
       "Getting_images:   0%|          | 0/100 [00:00<?, ?it/s]"
      ]
     },
     "metadata": {},
     "output_type": "display_data"
    },
    {
     "data": {
      "application/vnd.jupyter.widget-view+json": {
       "model_id": "c04a14cdd5a04f66a4f5fe7d93a37fb4",
       "version_major": 2,
       "version_minor": 0
      },
      "text/plain": [
       "Getting_images:   0%|          | 0/100 [00:00<?, ?it/s]"
      ]
     },
     "metadata": {},
     "output_type": "display_data"
    },
    {
     "data": {
      "application/vnd.jupyter.widget-view+json": {
       "model_id": "9047196e8cf540ae87daca41e0bcc345",
       "version_major": 2,
       "version_minor": 0
      },
      "text/plain": [
       "Getting_images:   0%|          | 0/100 [00:00<?, ?it/s]"
      ]
     },
     "metadata": {},
     "output_type": "display_data"
    },
    {
     "data": {
      "application/vnd.jupyter.widget-view+json": {
       "model_id": "a5a3a96d64624e5cbfe33106b9edf5ad",
       "version_major": 2,
       "version_minor": 0
      },
      "text/plain": [
       "Getting_images:   0%|          | 0/100 [00:00<?, ?it/s]"
      ]
     },
     "metadata": {},
     "output_type": "display_data"
    },
    {
     "data": {
      "application/vnd.jupyter.widget-view+json": {
       "model_id": "1fbf1dae7a37418b81d5fe5fcd70c99f",
       "version_major": 2,
       "version_minor": 0
      },
      "text/plain": [
       "Getting_images:   0%|          | 0/100 [00:00<?, ?it/s]"
      ]
     },
     "metadata": {},
     "output_type": "display_data"
    },
    {
     "data": {
      "application/vnd.jupyter.widget-view+json": {
       "model_id": "3d0b6e5f537b42bea3fe63bcd8371004",
       "version_major": 2,
       "version_minor": 0
      },
      "text/plain": [
       "Getting_images:   0%|          | 0/100 [00:00<?, ?it/s]"
      ]
     },
     "metadata": {},
     "output_type": "display_data"
    },
    {
     "data": {
      "application/vnd.jupyter.widget-view+json": {
       "model_id": "cbb856a71077424d92123d2ad9e32032",
       "version_major": 2,
       "version_minor": 0
      },
      "text/plain": [
       "Getting_images:   0%|          | 0/100 [00:00<?, ?it/s]"
      ]
     },
     "metadata": {},
     "output_type": "display_data"
    },
    {
     "data": {
      "application/vnd.jupyter.widget-view+json": {
       "model_id": "e6983c13752f4f4a87d5bca7c280db7e",
       "version_major": 2,
       "version_minor": 0
      },
      "text/plain": [
       "Getting_images:   0%|          | 0/100 [00:00<?, ?it/s]"
      ]
     },
     "metadata": {},
     "output_type": "display_data"
    },
    {
     "data": {
      "application/vnd.jupyter.widget-view+json": {
       "model_id": "0dc9c44aed52400393bc84464eb0fa4a",
       "version_major": 2,
       "version_minor": 0
      },
      "text/plain": [
       "Getting_images:   0%|          | 0/100 [00:00<?, ?it/s]"
      ]
     },
     "metadata": {},
     "output_type": "display_data"
    },
    {
     "data": {
      "application/vnd.jupyter.widget-view+json": {
       "model_id": "216f7aad5e8a405480421501f4115722",
       "version_major": 2,
       "version_minor": 0
      },
      "text/plain": [
       "Getting_images:   0%|          | 0/100 [00:00<?, ?it/s]"
      ]
     },
     "metadata": {},
     "output_type": "display_data"
    },
    {
     "data": {
      "application/vnd.jupyter.widget-view+json": {
       "model_id": "ec2f7be2eed043e9bd4acc6a7dd18bb3",
       "version_major": 2,
       "version_minor": 0
      },
      "text/plain": [
       "Getting_images:   0%|          | 0/100 [00:00<?, ?it/s]"
      ]
     },
     "metadata": {},
     "output_type": "display_data"
    },
    {
     "data": {
      "application/vnd.jupyter.widget-view+json": {
       "model_id": "ba7c55ad4f714cfc8ee85e53edebafff",
       "version_major": 2,
       "version_minor": 0
      },
      "text/plain": [
       "Getting_images:   0%|          | 0/100 [00:00<?, ?it/s]"
      ]
     },
     "metadata": {},
     "output_type": "display_data"
    },
    {
     "data": {
      "application/vnd.jupyter.widget-view+json": {
       "model_id": "ff1fdf8233a545bb8f6c26b3e2bdd837",
       "version_major": 2,
       "version_minor": 0
      },
      "text/plain": [
       "Getting_images:   0%|          | 0/100 [00:00<?, ?it/s]"
      ]
     },
     "metadata": {},
     "output_type": "display_data"
    },
    {
     "data": {
      "application/vnd.jupyter.widget-view+json": {
       "model_id": "67ed402a8119460cb962d686bc0edc71",
       "version_major": 2,
       "version_minor": 0
      },
      "text/plain": [
       "Getting_images:   0%|          | 0/100 [00:00<?, ?it/s]"
      ]
     },
     "metadata": {},
     "output_type": "display_data"
    },
    {
     "data": {
      "application/vnd.jupyter.widget-view+json": {
       "model_id": "12416b72ed8f4235a5e3e93107b4ed02",
       "version_major": 2,
       "version_minor": 0
      },
      "text/plain": [
       "Getting_images:   0%|          | 0/100 [00:00<?, ?it/s]"
      ]
     },
     "metadata": {},
     "output_type": "display_data"
    },
    {
     "data": {
      "application/vnd.jupyter.widget-view+json": {
       "model_id": "b2c956121d0b442da49344b026e06840",
       "version_major": 2,
       "version_minor": 0
      },
      "text/plain": [
       "Getting_images:   0%|          | 0/100 [00:00<?, ?it/s]"
      ]
     },
     "metadata": {},
     "output_type": "display_data"
    },
    {
     "data": {
      "application/vnd.jupyter.widget-view+json": {
       "model_id": "58a4fa121ad74ec4ba6884398a892494",
       "version_major": 2,
       "version_minor": 0
      },
      "text/plain": [
       "Getting_images:   0%|          | 0/100 [00:00<?, ?it/s]"
      ]
     },
     "metadata": {},
     "output_type": "display_data"
    },
    {
     "data": {
      "application/vnd.jupyter.widget-view+json": {
       "model_id": "155abd4c29c047409b2b5a5073f0ba5f",
       "version_major": 2,
       "version_minor": 0
      },
      "text/plain": [
       "Getting_images:   0%|          | 0/100 [00:00<?, ?it/s]"
      ]
     },
     "metadata": {},
     "output_type": "display_data"
    },
    {
     "data": {
      "application/vnd.jupyter.widget-view+json": {
       "model_id": "3dc31d9a76f1400c8d0c5defe2d36d05",
       "version_major": 2,
       "version_minor": 0
      },
      "text/plain": [
       "Getting_images:   0%|          | 0/100 [00:00<?, ?it/s]"
      ]
     },
     "metadata": {},
     "output_type": "display_data"
    },
    {
     "data": {
      "application/vnd.jupyter.widget-view+json": {
       "model_id": "3ecf761941ac4ccb98fd68da59a4cf9f",
       "version_major": 2,
       "version_minor": 0
      },
      "text/plain": [
       "Getting_images:   0%|          | 0/100 [00:00<?, ?it/s]"
      ]
     },
     "metadata": {},
     "output_type": "display_data"
    },
    {
     "data": {
      "application/vnd.jupyter.widget-view+json": {
       "model_id": "9ca85c20ab4e4c14b1dcffdd033162ba",
       "version_major": 2,
       "version_minor": 0
      },
      "text/plain": [
       "Getting_images:   0%|          | 0/100 [00:00<?, ?it/s]"
      ]
     },
     "metadata": {},
     "output_type": "display_data"
    },
    {
     "data": {
      "application/vnd.jupyter.widget-view+json": {
       "model_id": "a60c9b4fab744635aa2a9404bc5f8312",
       "version_major": 2,
       "version_minor": 0
      },
      "text/plain": [
       "Getting_images:   0%|          | 0/100 [00:00<?, ?it/s]"
      ]
     },
     "metadata": {},
     "output_type": "display_data"
    },
    {
     "data": {
      "application/vnd.jupyter.widget-view+json": {
       "model_id": "f9b9e6f86e024e44ab771f779db22e82",
       "version_major": 2,
       "version_minor": 0
      },
      "text/plain": [
       "Getting_images:   0%|          | 0/100 [00:00<?, ?it/s]"
      ]
     },
     "metadata": {},
     "output_type": "display_data"
    },
    {
     "data": {
      "application/vnd.jupyter.widget-view+json": {
       "model_id": "99d8b73f1af942cab9d6d3f3de54c336",
       "version_major": 2,
       "version_minor": 0
      },
      "text/plain": [
       "Getting_images:   0%|          | 0/100 [00:00<?, ?it/s]"
      ]
     },
     "metadata": {},
     "output_type": "display_data"
    },
    {
     "data": {
      "application/vnd.jupyter.widget-view+json": {
       "model_id": "a051086e112b450e831ae76bbbc2eb7c",
       "version_major": 2,
       "version_minor": 0
      },
      "text/plain": [
       "Getting_images:   0%|          | 0/100 [00:00<?, ?it/s]"
      ]
     },
     "metadata": {},
     "output_type": "display_data"
    },
    {
     "data": {
      "application/vnd.jupyter.widget-view+json": {
       "model_id": "9cbbd7f3ab264ba6b2ce80cba2a8d0c6",
       "version_major": 2,
       "version_minor": 0
      },
      "text/plain": [
       "Getting_images:   0%|          | 0/100 [00:00<?, ?it/s]"
      ]
     },
     "metadata": {},
     "output_type": "display_data"
    },
    {
     "data": {
      "application/vnd.jupyter.widget-view+json": {
       "model_id": "c36faa0bcdc04342b8941efc6dd62c55",
       "version_major": 2,
       "version_minor": 0
      },
      "text/plain": [
       "Getting_images:   0%|          | 0/100 [00:00<?, ?it/s]"
      ]
     },
     "metadata": {},
     "output_type": "display_data"
    },
    {
     "data": {
      "application/vnd.jupyter.widget-view+json": {
       "model_id": "e8fe0bbda52b4146974c242348a55601",
       "version_major": 2,
       "version_minor": 0
      },
      "text/plain": [
       "Getting_images:   0%|          | 0/100 [00:00<?, ?it/s]"
      ]
     },
     "metadata": {},
     "output_type": "display_data"
    },
    {
     "data": {
      "application/vnd.jupyter.widget-view+json": {
       "model_id": "52f6ee354d144e0394c7a8ef0f519da1",
       "version_major": 2,
       "version_minor": 0
      },
      "text/plain": [
       "Getting_images:   0%|          | 0/100 [00:00<?, ?it/s]"
      ]
     },
     "metadata": {},
     "output_type": "display_data"
    },
    {
     "data": {
      "application/vnd.jupyter.widget-view+json": {
       "model_id": "d4b84353bb5d410b87e6ffbe93cde30e",
       "version_major": 2,
       "version_minor": 0
      },
      "text/plain": [
       "Getting_images:   0%|          | 0/100 [00:00<?, ?it/s]"
      ]
     },
     "metadata": {},
     "output_type": "display_data"
    },
    {
     "data": {
      "application/vnd.jupyter.widget-view+json": {
       "model_id": "ebcd4cc3c9e045369b89974b948ca2e6",
       "version_major": 2,
       "version_minor": 0
      },
      "text/plain": [
       "Getting_images:   0%|          | 0/100 [00:00<?, ?it/s]"
      ]
     },
     "metadata": {},
     "output_type": "display_data"
    },
    {
     "data": {
      "application/vnd.jupyter.widget-view+json": {
       "model_id": "edf2572e5d3f45e394708484ab251ffd",
       "version_major": 2,
       "version_minor": 0
      },
      "text/plain": [
       "Getting_images:   0%|          | 0/100 [00:00<?, ?it/s]"
      ]
     },
     "metadata": {},
     "output_type": "display_data"
    },
    {
     "data": {
      "application/vnd.jupyter.widget-view+json": {
       "model_id": "e0acdafc92a44ebf96bef08041073091",
       "version_major": 2,
       "version_minor": 0
      },
      "text/plain": [
       "Getting_images:   0%|          | 0/100 [00:00<?, ?it/s]"
      ]
     },
     "metadata": {},
     "output_type": "display_data"
    },
    {
     "data": {
      "application/vnd.jupyter.widget-view+json": {
       "model_id": "dbaa87caa995468aa7be3dfc3e0fe469",
       "version_major": 2,
       "version_minor": 0
      },
      "text/plain": [
       "Getting_images:   0%|          | 0/100 [00:00<?, ?it/s]"
      ]
     },
     "metadata": {},
     "output_type": "display_data"
    },
    {
     "data": {
      "application/vnd.jupyter.widget-view+json": {
       "model_id": "9a5880b2ac144b649745d002f88547a1",
       "version_major": 2,
       "version_minor": 0
      },
      "text/plain": [
       "Getting_images:   0%|          | 0/100 [00:00<?, ?it/s]"
      ]
     },
     "metadata": {},
     "output_type": "display_data"
    },
    {
     "data": {
      "application/vnd.jupyter.widget-view+json": {
       "model_id": "04a91e808778458c816ea5e2a1fa66a2",
       "version_major": 2,
       "version_minor": 0
      },
      "text/plain": [
       "Getting_images:   0%|          | 0/100 [00:00<?, ?it/s]"
      ]
     },
     "metadata": {},
     "output_type": "display_data"
    },
    {
     "data": {
      "application/vnd.jupyter.widget-view+json": {
       "model_id": "785f2ed0470b4dae8d51bbb05e51811a",
       "version_major": 2,
       "version_minor": 0
      },
      "text/plain": [
       "Getting_images:   0%|          | 0/100 [00:00<?, ?it/s]"
      ]
     },
     "metadata": {},
     "output_type": "display_data"
    },
    {
     "data": {
      "application/vnd.jupyter.widget-view+json": {
       "model_id": "2690457c08cb400199088159d5632d41",
       "version_major": 2,
       "version_minor": 0
      },
      "text/plain": [
       "Getting_images:   0%|          | 0/100 [00:00<?, ?it/s]"
      ]
     },
     "metadata": {},
     "output_type": "display_data"
    },
    {
     "data": {
      "application/vnd.jupyter.widget-view+json": {
       "model_id": "b9e17e5599954d218e510c5bd10dd851",
       "version_major": 2,
       "version_minor": 0
      },
      "text/plain": [
       "Getting_images:   0%|          | 0/100 [00:00<?, ?it/s]"
      ]
     },
     "metadata": {},
     "output_type": "display_data"
    },
    {
     "data": {
      "application/vnd.jupyter.widget-view+json": {
       "model_id": "4dff08a309784bada34e548057d6fb4b",
       "version_major": 2,
       "version_minor": 0
      },
      "text/plain": [
       "Getting_images:   0%|          | 0/100 [00:00<?, ?it/s]"
      ]
     },
     "metadata": {},
     "output_type": "display_data"
    },
    {
     "data": {
      "application/vnd.jupyter.widget-view+json": {
       "model_id": "849611ca49d54b9ab1abd558fb96d539",
       "version_major": 2,
       "version_minor": 0
      },
      "text/plain": [
       "Getting_images:   0%|          | 0/100 [00:00<?, ?it/s]"
      ]
     },
     "metadata": {},
     "output_type": "display_data"
    },
    {
     "data": {
      "application/vnd.jupyter.widget-view+json": {
       "model_id": "0f7b8fd5e98641f7ab2646566ccb841b",
       "version_major": 2,
       "version_minor": 0
      },
      "text/plain": [
       "Getting_images:   0%|          | 0/100 [00:00<?, ?it/s]"
      ]
     },
     "metadata": {},
     "output_type": "display_data"
    },
    {
     "data": {
      "application/vnd.jupyter.widget-view+json": {
       "model_id": "0c9ee9c62b4b419caf51f15499e8746f",
       "version_major": 2,
       "version_minor": 0
      },
      "text/plain": [
       "Getting_images:   0%|          | 0/100 [00:00<?, ?it/s]"
      ]
     },
     "metadata": {},
     "output_type": "display_data"
    },
    {
     "data": {
      "application/vnd.jupyter.widget-view+json": {
       "model_id": "33cb91e7544945d4b1f56305c3c591c5",
       "version_major": 2,
       "version_minor": 0
      },
      "text/plain": [
       "Getting_images:   0%|          | 0/100 [00:00<?, ?it/s]"
      ]
     },
     "metadata": {},
     "output_type": "display_data"
    },
    {
     "data": {
      "application/vnd.jupyter.widget-view+json": {
       "model_id": "8d720860424c4131988b90f26fea34cc",
       "version_major": 2,
       "version_minor": 0
      },
      "text/plain": [
       "Getting_images:   0%|          | 0/100 [00:00<?, ?it/s]"
      ]
     },
     "metadata": {},
     "output_type": "display_data"
    },
    {
     "data": {
      "application/vnd.jupyter.widget-view+json": {
       "model_id": "9169f89c8b5f432092fcd7cec890c371",
       "version_major": 2,
       "version_minor": 0
      },
      "text/plain": [
       "Getting_images:   0%|          | 0/100 [00:00<?, ?it/s]"
      ]
     },
     "metadata": {},
     "output_type": "display_data"
    },
    {
     "data": {
      "application/vnd.jupyter.widget-view+json": {
       "model_id": "70b8c98f4e3e4d90827160107eafcdb2",
       "version_major": 2,
       "version_minor": 0
      },
      "text/plain": [
       "Getting_images:   0%|          | 0/100 [00:00<?, ?it/s]"
      ]
     },
     "metadata": {},
     "output_type": "display_data"
    },
    {
     "data": {
      "application/vnd.jupyter.widget-view+json": {
       "model_id": "71ea5751ca104424a9a1954bff1db613",
       "version_major": 2,
       "version_minor": 0
      },
      "text/plain": [
       "Getting_images:   0%|          | 0/100 [00:00<?, ?it/s]"
      ]
     },
     "metadata": {},
     "output_type": "display_data"
    },
    {
     "data": {
      "application/vnd.jupyter.widget-view+json": {
       "model_id": "cfdc8f8933974964a4ce97e542ca873b",
       "version_major": 2,
       "version_minor": 0
      },
      "text/plain": [
       "Getting_images:   0%|          | 0/100 [00:00<?, ?it/s]"
      ]
     },
     "metadata": {},
     "output_type": "display_data"
    },
    {
     "data": {
      "application/vnd.jupyter.widget-view+json": {
       "model_id": "943f8c2b4c354cc489123135bda976be",
       "version_major": 2,
       "version_minor": 0
      },
      "text/plain": [
       "Getting_images:   0%|          | 0/100 [00:00<?, ?it/s]"
      ]
     },
     "metadata": {},
     "output_type": "display_data"
    },
    {
     "data": {
      "application/vnd.jupyter.widget-view+json": {
       "model_id": "6a0f7228e59b444082cb868832284cf1",
       "version_major": 2,
       "version_minor": 0
      },
      "text/plain": [
       "Getting_images:   0%|          | 0/100 [00:00<?, ?it/s]"
      ]
     },
     "metadata": {},
     "output_type": "display_data"
    },
    {
     "data": {
      "application/vnd.jupyter.widget-view+json": {
       "model_id": "eb54ac0618d843c0b749661997168b47",
       "version_major": 2,
       "version_minor": 0
      },
      "text/plain": [
       "Getting_images:   0%|          | 0/100 [00:00<?, ?it/s]"
      ]
     },
     "metadata": {},
     "output_type": "display_data"
    },
    {
     "data": {
      "application/vnd.jupyter.widget-view+json": {
       "model_id": "34839384eeff4113913431e3f107aa16",
       "version_major": 2,
       "version_minor": 0
      },
      "text/plain": [
       "Getting_images:   0%|          | 0/100 [00:00<?, ?it/s]"
      ]
     },
     "metadata": {},
     "output_type": "display_data"
    },
    {
     "data": {
      "application/vnd.jupyter.widget-view+json": {
       "model_id": "45998ba52b0b435296fab3f964009644",
       "version_major": 2,
       "version_minor": 0
      },
      "text/plain": [
       "Getting_images:   0%|          | 0/100 [00:00<?, ?it/s]"
      ]
     },
     "metadata": {},
     "output_type": "display_data"
    },
    {
     "data": {
      "application/vnd.jupyter.widget-view+json": {
       "model_id": "dcbbe37e281843b9840aa34b1e53d858",
       "version_major": 2,
       "version_minor": 0
      },
      "text/plain": [
       "Getting_images:   0%|          | 0/100 [00:00<?, ?it/s]"
      ]
     },
     "metadata": {},
     "output_type": "display_data"
    },
    {
     "data": {
      "application/vnd.jupyter.widget-view+json": {
       "model_id": "71ee37e891584552bde8c1495ef83a26",
       "version_major": 2,
       "version_minor": 0
      },
      "text/plain": [
       "Getting_images:   0%|          | 0/100 [00:00<?, ?it/s]"
      ]
     },
     "metadata": {},
     "output_type": "display_data"
    },
    {
     "data": {
      "application/vnd.jupyter.widget-view+json": {
       "model_id": "2f4a0d051d7b441a807ba7378b80cd5d",
       "version_major": 2,
       "version_minor": 0
      },
      "text/plain": [
       "Getting_images:   0%|          | 0/100 [00:00<?, ?it/s]"
      ]
     },
     "metadata": {},
     "output_type": "display_data"
    },
    {
     "data": {
      "application/vnd.jupyter.widget-view+json": {
       "model_id": "47de4f2dd1e84a52a7ac51957e873be0",
       "version_major": 2,
       "version_minor": 0
      },
      "text/plain": [
       "Getting_images:   0%|          | 0/100 [00:00<?, ?it/s]"
      ]
     },
     "metadata": {},
     "output_type": "display_data"
    },
    {
     "data": {
      "application/vnd.jupyter.widget-view+json": {
       "model_id": "84083ad11c5d42d7bef8367cc8731aa6",
       "version_major": 2,
       "version_minor": 0
      },
      "text/plain": [
       "Getting_images:   0%|          | 0/100 [00:00<?, ?it/s]"
      ]
     },
     "metadata": {},
     "output_type": "display_data"
    },
    {
     "data": {
      "application/vnd.jupyter.widget-view+json": {
       "model_id": "59ee586d171240e4a9202cc9053ea79b",
       "version_major": 2,
       "version_minor": 0
      },
      "text/plain": [
       "Getting_images:   0%|          | 0/100 [00:00<?, ?it/s]"
      ]
     },
     "metadata": {},
     "output_type": "display_data"
    },
    {
     "data": {
      "application/vnd.jupyter.widget-view+json": {
       "model_id": "13cba9c88ba244feac6d71ce6f3eb4a8",
       "version_major": 2,
       "version_minor": 0
      },
      "text/plain": [
       "Getting_images:   0%|          | 0/100 [00:00<?, ?it/s]"
      ]
     },
     "metadata": {},
     "output_type": "display_data"
    },
    {
     "data": {
      "application/vnd.jupyter.widget-view+json": {
       "model_id": "b631e18d84954b39a4657931cccc05ef",
       "version_major": 2,
       "version_minor": 0
      },
      "text/plain": [
       "Getting_images:   0%|          | 0/100 [00:00<?, ?it/s]"
      ]
     },
     "metadata": {},
     "output_type": "display_data"
    },
    {
     "data": {
      "application/vnd.jupyter.widget-view+json": {
       "model_id": "d89ed70320544713ba5a2e9cba3fe338",
       "version_major": 2,
       "version_minor": 0
      },
      "text/plain": [
       "Getting_images:   0%|          | 0/100 [00:00<?, ?it/s]"
      ]
     },
     "metadata": {},
     "output_type": "display_data"
    },
    {
     "data": {
      "application/vnd.jupyter.widget-view+json": {
       "model_id": "f03f876c231c4c5eb4aa608e00ee1385",
       "version_major": 2,
       "version_minor": 0
      },
      "text/plain": [
       "Getting_images:   0%|          | 0/100 [00:00<?, ?it/s]"
      ]
     },
     "metadata": {},
     "output_type": "display_data"
    },
    {
     "data": {
      "application/vnd.jupyter.widget-view+json": {
       "model_id": "b37d8807de944278a3d596b7f63380ee",
       "version_major": 2,
       "version_minor": 0
      },
      "text/plain": [
       "Getting_images:   0%|          | 0/100 [00:00<?, ?it/s]"
      ]
     },
     "metadata": {},
     "output_type": "display_data"
    },
    {
     "data": {
      "application/vnd.jupyter.widget-view+json": {
       "model_id": "e0df2dfea2584f7d9824d6a9b74a309e",
       "version_major": 2,
       "version_minor": 0
      },
      "text/plain": [
       "Getting_images:   0%|          | 0/100 [00:00<?, ?it/s]"
      ]
     },
     "metadata": {},
     "output_type": "display_data"
    },
    {
     "data": {
      "application/vnd.jupyter.widget-view+json": {
       "model_id": "ebe2badece1e4039a8da26a753a1b404",
       "version_major": 2,
       "version_minor": 0
      },
      "text/plain": [
       "Getting_images:   0%|          | 0/100 [00:00<?, ?it/s]"
      ]
     },
     "metadata": {},
     "output_type": "display_data"
    },
    {
     "data": {
      "application/vnd.jupyter.widget-view+json": {
       "model_id": "86fb58d1bd2f440c8a90cd09f4ba50c9",
       "version_major": 2,
       "version_minor": 0
      },
      "text/plain": [
       "Getting_images:   0%|          | 0/100 [00:00<?, ?it/s]"
      ]
     },
     "metadata": {},
     "output_type": "display_data"
    },
    {
     "data": {
      "application/vnd.jupyter.widget-view+json": {
       "model_id": "800a4c35051b4c3cb55019c088f8b427",
       "version_major": 2,
       "version_minor": 0
      },
      "text/plain": [
       "Getting_images:   0%|          | 0/100 [00:00<?, ?it/s]"
      ]
     },
     "metadata": {},
     "output_type": "display_data"
    },
    {
     "data": {
      "application/vnd.jupyter.widget-view+json": {
       "model_id": "364b801649e6418ea76de8f8a981b954",
       "version_major": 2,
       "version_minor": 0
      },
      "text/plain": [
       "Getting_images:   0%|          | 0/100 [00:00<?, ?it/s]"
      ]
     },
     "metadata": {},
     "output_type": "display_data"
    },
    {
     "data": {
      "application/vnd.jupyter.widget-view+json": {
       "model_id": "008c237a24a241feb080e7056ff6b4cd",
       "version_major": 2,
       "version_minor": 0
      },
      "text/plain": [
       "Getting_images:   0%|          | 0/100 [00:00<?, ?it/s]"
      ]
     },
     "metadata": {},
     "output_type": "display_data"
    },
    {
     "data": {
      "application/vnd.jupyter.widget-view+json": {
       "model_id": "7531ed0011264f31ab45f1b43dac863b",
       "version_major": 2,
       "version_minor": 0
      },
      "text/plain": [
       "Getting_images:   0%|          | 0/100 [00:00<?, ?it/s]"
      ]
     },
     "metadata": {},
     "output_type": "display_data"
    },
    {
     "data": {
      "application/vnd.jupyter.widget-view+json": {
       "model_id": "d74ce27e0ad44a7db1610ac2268f23a7",
       "version_major": 2,
       "version_minor": 0
      },
      "text/plain": [
       "Getting_images:   0%|          | 0/100 [00:00<?, ?it/s]"
      ]
     },
     "metadata": {},
     "output_type": "display_data"
    },
    {
     "data": {
      "application/vnd.jupyter.widget-view+json": {
       "model_id": "f9962e7c90d249fbb542a8f77b59bfad",
       "version_major": 2,
       "version_minor": 0
      },
      "text/plain": [
       "Getting_images:   0%|          | 0/100 [00:00<?, ?it/s]"
      ]
     },
     "metadata": {},
     "output_type": "display_data"
    },
    {
     "data": {
      "application/vnd.jupyter.widget-view+json": {
       "model_id": "3e91975c50e042e893fafef8581bb421",
       "version_major": 2,
       "version_minor": 0
      },
      "text/plain": [
       "Getting_images:   0%|          | 0/100 [00:00<?, ?it/s]"
      ]
     },
     "metadata": {},
     "output_type": "display_data"
    },
    {
     "data": {
      "application/vnd.jupyter.widget-view+json": {
       "model_id": "74d7eb00d75041e59c1f6dfb12b7f4e4",
       "version_major": 2,
       "version_minor": 0
      },
      "text/plain": [
       "Getting_images:   0%|          | 0/100 [00:00<?, ?it/s]"
      ]
     },
     "metadata": {},
     "output_type": "display_data"
    },
    {
     "data": {
      "application/vnd.jupyter.widget-view+json": {
       "model_id": "ffdae825d4324774995a3829dcea5ecd",
       "version_major": 2,
       "version_minor": 0
      },
      "text/plain": [
       "Getting_images:   0%|          | 0/100 [00:00<?, ?it/s]"
      ]
     },
     "metadata": {},
     "output_type": "display_data"
    },
    {
     "data": {
      "application/vnd.jupyter.widget-view+json": {
       "model_id": "237869498ad04e4583fd06301affbef0",
       "version_major": 2,
       "version_minor": 0
      },
      "text/plain": [
       "Getting_images:   0%|          | 0/100 [00:00<?, ?it/s]"
      ]
     },
     "metadata": {},
     "output_type": "display_data"
    },
    {
     "data": {
      "application/vnd.jupyter.widget-view+json": {
       "model_id": "4a9b59bb894b4d928fecafda11b1daa2",
       "version_major": 2,
       "version_minor": 0
      },
      "text/plain": [
       "Getting_images:   0%|          | 0/100 [00:00<?, ?it/s]"
      ]
     },
     "metadata": {},
     "output_type": "display_data"
    },
    {
     "data": {
      "application/vnd.jupyter.widget-view+json": {
       "model_id": "1b1da893ce2b4e5ca65b4cb1f60338c5",
       "version_major": 2,
       "version_minor": 0
      },
      "text/plain": [
       "Getting_images:   0%|          | 0/100 [00:00<?, ?it/s]"
      ]
     },
     "metadata": {},
     "output_type": "display_data"
    },
    {
     "data": {
      "application/vnd.jupyter.widget-view+json": {
       "model_id": "eff67d3fc07e4ef6b45aa07278a515ac",
       "version_major": 2,
       "version_minor": 0
      },
      "text/plain": [
       "Getting_images:   0%|          | 0/100 [00:00<?, ?it/s]"
      ]
     },
     "metadata": {},
     "output_type": "display_data"
    },
    {
     "data": {
      "application/vnd.jupyter.widget-view+json": {
       "model_id": "0a3996940475449abb293bb950af3c5e",
       "version_major": 2,
       "version_minor": 0
      },
      "text/plain": [
       "Getting_images:   0%|          | 0/100 [00:00<?, ?it/s]"
      ]
     },
     "metadata": {},
     "output_type": "display_data"
    },
    {
     "data": {
      "application/vnd.jupyter.widget-view+json": {
       "model_id": "219c5f9897044ce4b69191dceed341f9",
       "version_major": 2,
       "version_minor": 0
      },
      "text/plain": [
       "Getting_images:   0%|          | 0/100 [00:00<?, ?it/s]"
      ]
     },
     "metadata": {},
     "output_type": "display_data"
    },
    {
     "data": {
      "application/vnd.jupyter.widget-view+json": {
       "model_id": "75c7e4a8ef7f4a959d95bd9905950527",
       "version_major": 2,
       "version_minor": 0
      },
      "text/plain": [
       "Getting_images:   0%|          | 0/100 [00:00<?, ?it/s]"
      ]
     },
     "metadata": {},
     "output_type": "display_data"
    },
    {
     "data": {
      "application/vnd.jupyter.widget-view+json": {
       "model_id": "69f6fb2c5436435cb7081755de5a5d96",
       "version_major": 2,
       "version_minor": 0
      },
      "text/plain": [
       "Getting_images:   0%|          | 0/100 [00:00<?, ?it/s]"
      ]
     },
     "metadata": {},
     "output_type": "display_data"
    },
    {
     "data": {
      "application/vnd.jupyter.widget-view+json": {
       "model_id": "d9c61f93302d4f88bd9549e2e4167529",
       "version_major": 2,
       "version_minor": 0
      },
      "text/plain": [
       "Getting_images:   0%|          | 0/100 [00:00<?, ?it/s]"
      ]
     },
     "metadata": {},
     "output_type": "display_data"
    },
    {
     "data": {
      "application/vnd.jupyter.widget-view+json": {
       "model_id": "ae44618ead934ccc9c1eeff6132696dd",
       "version_major": 2,
       "version_minor": 0
      },
      "text/plain": [
       "Getting_images:   0%|          | 0/100 [00:00<?, ?it/s]"
      ]
     },
     "metadata": {},
     "output_type": "display_data"
    },
    {
     "data": {
      "application/vnd.jupyter.widget-view+json": {
       "model_id": "5d06857273a44f18b3fad655ca30bd1e",
       "version_major": 2,
       "version_minor": 0
      },
      "text/plain": [
       "Getting_images:   0%|          | 0/100 [00:00<?, ?it/s]"
      ]
     },
     "metadata": {},
     "output_type": "display_data"
    },
    {
     "data": {
      "application/vnd.jupyter.widget-view+json": {
       "model_id": "502dbf0ad4ef401693b704574f3b82cd",
       "version_major": 2,
       "version_minor": 0
      },
      "text/plain": [
       "Getting_images:   0%|          | 0/100 [00:00<?, ?it/s]"
      ]
     },
     "metadata": {},
     "output_type": "display_data"
    },
    {
     "data": {
      "application/vnd.jupyter.widget-view+json": {
       "model_id": "107546b8b3444aedb0a3b07dae0f4cca",
       "version_major": 2,
       "version_minor": 0
      },
      "text/plain": [
       "Getting_images:   0%|          | 0/100 [00:00<?, ?it/s]"
      ]
     },
     "metadata": {},
     "output_type": "display_data"
    },
    {
     "data": {
      "application/vnd.jupyter.widget-view+json": {
       "model_id": "4aa6778b2f104b419b8de8e4a69f6020",
       "version_major": 2,
       "version_minor": 0
      },
      "text/plain": [
       "Getting_images:   0%|          | 0/100 [00:00<?, ?it/s]"
      ]
     },
     "metadata": {},
     "output_type": "display_data"
    },
    {
     "data": {
      "application/vnd.jupyter.widget-view+json": {
       "model_id": "e867efac75454b778e40fb9231a97a50",
       "version_major": 2,
       "version_minor": 0
      },
      "text/plain": [
       "Getting_images:   0%|          | 0/100 [00:00<?, ?it/s]"
      ]
     },
     "metadata": {},
     "output_type": "display_data"
    },
    {
     "data": {
      "application/vnd.jupyter.widget-view+json": {
       "model_id": "8da2220302574137be9285250ac66050",
       "version_major": 2,
       "version_minor": 0
      },
      "text/plain": [
       "Getting_images:   0%|          | 0/100 [00:00<?, ?it/s]"
      ]
     },
     "metadata": {},
     "output_type": "display_data"
    },
    {
     "data": {
      "application/vnd.jupyter.widget-view+json": {
       "model_id": "973a1d873b48482e9305db1a43b66769",
       "version_major": 2,
       "version_minor": 0
      },
      "text/plain": [
       "Getting_images:   0%|          | 0/100 [00:00<?, ?it/s]"
      ]
     },
     "metadata": {},
     "output_type": "display_data"
    },
    {
     "data": {
      "application/vnd.jupyter.widget-view+json": {
       "model_id": "0b724ec159a34500b2c0af4bf7a57cbb",
       "version_major": 2,
       "version_minor": 0
      },
      "text/plain": [
       "Getting_images:   0%|          | 0/100 [00:00<?, ?it/s]"
      ]
     },
     "metadata": {},
     "output_type": "display_data"
    },
    {
     "data": {
      "application/vnd.jupyter.widget-view+json": {
       "model_id": "2d2fccb3c9fa4b2987ca96f635788228",
       "version_major": 2,
       "version_minor": 0
      },
      "text/plain": [
       "Getting_images:   0%|          | 0/100 [00:00<?, ?it/s]"
      ]
     },
     "metadata": {},
     "output_type": "display_data"
    },
    {
     "data": {
      "application/vnd.jupyter.widget-view+json": {
       "model_id": "89b56f47104d46109a909c522fbd897d",
       "version_major": 2,
       "version_minor": 0
      },
      "text/plain": [
       "Getting_images:   0%|          | 0/100 [00:00<?, ?it/s]"
      ]
     },
     "metadata": {},
     "output_type": "display_data"
    },
    {
     "data": {
      "application/vnd.jupyter.widget-view+json": {
       "model_id": "68d9835b83ab4cef9dd6a77813a84daa",
       "version_major": 2,
       "version_minor": 0
      },
      "text/plain": [
       "Getting_images:   0%|          | 0/100 [00:00<?, ?it/s]"
      ]
     },
     "metadata": {},
     "output_type": "display_data"
    },
    {
     "data": {
      "application/vnd.jupyter.widget-view+json": {
       "model_id": "cf30abc1953c4b2abf3adf016bec21be",
       "version_major": 2,
       "version_minor": 0
      },
      "text/plain": [
       "Getting_images:   0%|          | 0/100 [00:00<?, ?it/s]"
      ]
     },
     "metadata": {},
     "output_type": "display_data"
    },
    {
     "data": {
      "application/vnd.jupyter.widget-view+json": {
       "model_id": "450156d3fece48bb995588a8ed86900e",
       "version_major": 2,
       "version_minor": 0
      },
      "text/plain": [
       "Getting_images:   0%|          | 0/100 [00:00<?, ?it/s]"
      ]
     },
     "metadata": {},
     "output_type": "display_data"
    },
    {
     "data": {
      "application/vnd.jupyter.widget-view+json": {
       "model_id": "1605f716623c404dafa50fdd754358c1",
       "version_major": 2,
       "version_minor": 0
      },
      "text/plain": [
       "Getting_images:   0%|          | 0/100 [00:00<?, ?it/s]"
      ]
     },
     "metadata": {},
     "output_type": "display_data"
    },
    {
     "data": {
      "application/vnd.jupyter.widget-view+json": {
       "model_id": "4a12d6da10a943469b568e91bd2be980",
       "version_major": 2,
       "version_minor": 0
      },
      "text/plain": [
       "Getting_images:   0%|          | 0/100 [00:00<?, ?it/s]"
      ]
     },
     "metadata": {},
     "output_type": "display_data"
    },
    {
     "data": {
      "application/vnd.jupyter.widget-view+json": {
       "model_id": "0ef9de2567704f068d0c7334d137b61d",
       "version_major": 2,
       "version_minor": 0
      },
      "text/plain": [
       "Getting_images:   0%|          | 0/100 [00:00<?, ?it/s]"
      ]
     },
     "metadata": {},
     "output_type": "display_data"
    },
    {
     "data": {
      "application/vnd.jupyter.widget-view+json": {
       "model_id": "12b45f5478754f54b0f9ff41bf2f7f1b",
       "version_major": 2,
       "version_minor": 0
      },
      "text/plain": [
       "Getting_images:   0%|          | 0/100 [00:00<?, ?it/s]"
      ]
     },
     "metadata": {},
     "output_type": "display_data"
    },
    {
     "data": {
      "application/vnd.jupyter.widget-view+json": {
       "model_id": "849a0e6cfdd84e3bb2d64f7341c3e23c",
       "version_major": 2,
       "version_minor": 0
      },
      "text/plain": [
       "Getting_images:   0%|          | 0/100 [00:00<?, ?it/s]"
      ]
     },
     "metadata": {},
     "output_type": "display_data"
    },
    {
     "data": {
      "application/vnd.jupyter.widget-view+json": {
       "model_id": "edaf07cfbad44ffe9b9c3dfb63b61425",
       "version_major": 2,
       "version_minor": 0
      },
      "text/plain": [
       "Getting_images:   0%|          | 0/100 [00:00<?, ?it/s]"
      ]
     },
     "metadata": {},
     "output_type": "display_data"
    },
    {
     "data": {
      "application/vnd.jupyter.widget-view+json": {
       "model_id": "ea84fe14af7342f988639cad8ac4fba8",
       "version_major": 2,
       "version_minor": 0
      },
      "text/plain": [
       "Getting_images:   0%|          | 0/100 [00:00<?, ?it/s]"
      ]
     },
     "metadata": {},
     "output_type": "display_data"
    },
    {
     "data": {
      "application/vnd.jupyter.widget-view+json": {
       "model_id": "63e4a0845426436a8952cc8d0cc283eb",
       "version_major": 2,
       "version_minor": 0
      },
      "text/plain": [
       "Getting_images:   0%|          | 0/100 [00:00<?, ?it/s]"
      ]
     },
     "metadata": {},
     "output_type": "display_data"
    },
    {
     "data": {
      "application/vnd.jupyter.widget-view+json": {
       "model_id": "f24ca17bc3d049f1bb0c2eb1ee8064dd",
       "version_major": 2,
       "version_minor": 0
      },
      "text/plain": [
       "Getting_images:   0%|          | 0/100 [00:00<?, ?it/s]"
      ]
     },
     "metadata": {},
     "output_type": "display_data"
    },
    {
     "data": {
      "application/vnd.jupyter.widget-view+json": {
       "model_id": "587415f1b81b434cacd2ffcc49178129",
       "version_major": 2,
       "version_minor": 0
      },
      "text/plain": [
       "Getting_images:   0%|          | 0/100 [00:00<?, ?it/s]"
      ]
     },
     "metadata": {},
     "output_type": "display_data"
    },
    {
     "data": {
      "application/vnd.jupyter.widget-view+json": {
       "model_id": "c0c2f8c9ed4c4ff788074eaf5ff7908a",
       "version_major": 2,
       "version_minor": 0
      },
      "text/plain": [
       "Getting_images:   0%|          | 0/100 [00:00<?, ?it/s]"
      ]
     },
     "metadata": {},
     "output_type": "display_data"
    },
    {
     "data": {
      "application/vnd.jupyter.widget-view+json": {
       "model_id": "4ac3408ed57841858cb81f2fb3943dc1",
       "version_major": 2,
       "version_minor": 0
      },
      "text/plain": [
       "Getting_images:   0%|          | 0/100 [00:00<?, ?it/s]"
      ]
     },
     "metadata": {},
     "output_type": "display_data"
    },
    {
     "data": {
      "application/vnd.jupyter.widget-view+json": {
       "model_id": "999891909d3345afb86dd73f21606b63",
       "version_major": 2,
       "version_minor": 0
      },
      "text/plain": [
       "Getting_images:   0%|          | 0/100 [00:00<?, ?it/s]"
      ]
     },
     "metadata": {},
     "output_type": "display_data"
    },
    {
     "data": {
      "application/vnd.jupyter.widget-view+json": {
       "model_id": "457c60a6a3a2457eb31641e49aaee465",
       "version_major": 2,
       "version_minor": 0
      },
      "text/plain": [
       "Getting_images:   0%|          | 0/100 [00:00<?, ?it/s]"
      ]
     },
     "metadata": {},
     "output_type": "display_data"
    },
    {
     "data": {
      "application/vnd.jupyter.widget-view+json": {
       "model_id": "247c3de6dfd44130ae1bee35ed7c639d",
       "version_major": 2,
       "version_minor": 0
      },
      "text/plain": [
       "Getting_images:   0%|          | 0/100 [00:00<?, ?it/s]"
      ]
     },
     "metadata": {},
     "output_type": "display_data"
    },
    {
     "data": {
      "application/vnd.jupyter.widget-view+json": {
       "model_id": "21a176012f9e49df85dbe73d0ed09ab7",
       "version_major": 2,
       "version_minor": 0
      },
      "text/plain": [
       "Getting_images:   0%|          | 0/100 [00:00<?, ?it/s]"
      ]
     },
     "metadata": {},
     "output_type": "display_data"
    },
    {
     "data": {
      "application/vnd.jupyter.widget-view+json": {
       "model_id": "e12517b14d2640a2b3e033a5e5b7885d",
       "version_major": 2,
       "version_minor": 0
      },
      "text/plain": [
       "Getting_images:   0%|          | 0/100 [00:00<?, ?it/s]"
      ]
     },
     "metadata": {},
     "output_type": "display_data"
    },
    {
     "data": {
      "application/vnd.jupyter.widget-view+json": {
       "model_id": "08776892ff584bf48a3b7170be7b3c79",
       "version_major": 2,
       "version_minor": 0
      },
      "text/plain": [
       "Getting_images:   0%|          | 0/100 [00:00<?, ?it/s]"
      ]
     },
     "metadata": {},
     "output_type": "display_data"
    },
    {
     "data": {
      "application/vnd.jupyter.widget-view+json": {
       "model_id": "ea5983410d32442eabc3a6421aabb5ab",
       "version_major": 2,
       "version_minor": 0
      },
      "text/plain": [
       "Getting_images:   0%|          | 0/100 [00:00<?, ?it/s]"
      ]
     },
     "metadata": {},
     "output_type": "display_data"
    },
    {
     "data": {
      "application/vnd.jupyter.widget-view+json": {
       "model_id": "2f3cf238ad9f4cf0b085037807acd7e8",
       "version_major": 2,
       "version_minor": 0
      },
      "text/plain": [
       "Getting_images:   0%|          | 0/100 [00:00<?, ?it/s]"
      ]
     },
     "metadata": {},
     "output_type": "display_data"
    },
    {
     "data": {
      "application/vnd.jupyter.widget-view+json": {
       "model_id": "ec470035222046669a89190203065d86",
       "version_major": 2,
       "version_minor": 0
      },
      "text/plain": [
       "Getting_images:   0%|          | 0/100 [00:00<?, ?it/s]"
      ]
     },
     "metadata": {},
     "output_type": "display_data"
    },
    {
     "data": {
      "application/vnd.jupyter.widget-view+json": {
       "model_id": "5bb7554fb5ea4324bd40fdd50caf60bf",
       "version_major": 2,
       "version_minor": 0
      },
      "text/plain": [
       "Getting_images:   0%|          | 0/100 [00:00<?, ?it/s]"
      ]
     },
     "metadata": {},
     "output_type": "display_data"
    },
    {
     "data": {
      "application/vnd.jupyter.widget-view+json": {
       "model_id": "28c10231c4234641b11a8ab368e7a04d",
       "version_major": 2,
       "version_minor": 0
      },
      "text/plain": [
       "Getting_images:   0%|          | 0/100 [00:00<?, ?it/s]"
      ]
     },
     "metadata": {},
     "output_type": "display_data"
    },
    {
     "data": {
      "application/vnd.jupyter.widget-view+json": {
       "model_id": "905dd37456464f3689803719e27f3372",
       "version_major": 2,
       "version_minor": 0
      },
      "text/plain": [
       "Getting_images:   0%|          | 0/100 [00:00<?, ?it/s]"
      ]
     },
     "metadata": {},
     "output_type": "display_data"
    },
    {
     "data": {
      "application/vnd.jupyter.widget-view+json": {
       "model_id": "06cd0a47a1254b86ac0b2a6c2de727bd",
       "version_major": 2,
       "version_minor": 0
      },
      "text/plain": [
       "Getting_images:   0%|          | 0/100 [00:00<?, ?it/s]"
      ]
     },
     "metadata": {},
     "output_type": "display_data"
    },
    {
     "data": {
      "application/vnd.jupyter.widget-view+json": {
       "model_id": "66a2831c772f471685d085c351939a68",
       "version_major": 2,
       "version_minor": 0
      },
      "text/plain": [
       "Getting_images:   0%|          | 0/100 [00:00<?, ?it/s]"
      ]
     },
     "metadata": {},
     "output_type": "display_data"
    },
    {
     "data": {
      "application/vnd.jupyter.widget-view+json": {
       "model_id": "a0783f32853941539d564ae0b83cd1d3",
       "version_major": 2,
       "version_minor": 0
      },
      "text/plain": [
       "Getting_images:   0%|          | 0/100 [00:00<?, ?it/s]"
      ]
     },
     "metadata": {},
     "output_type": "display_data"
    },
    {
     "data": {
      "application/vnd.jupyter.widget-view+json": {
       "model_id": "1e76ea9ce30644c08407a9f25b35dd4e",
       "version_major": 2,
       "version_minor": 0
      },
      "text/plain": [
       "Getting_images:   0%|          | 0/100 [00:00<?, ?it/s]"
      ]
     },
     "metadata": {},
     "output_type": "display_data"
    },
    {
     "data": {
      "application/vnd.jupyter.widget-view+json": {
       "model_id": "d39b6d45dfad4fbdbb8235adb7722e77",
       "version_major": 2,
       "version_minor": 0
      },
      "text/plain": [
       "Getting_images:   0%|          | 0/100 [00:00<?, ?it/s]"
      ]
     },
     "metadata": {},
     "output_type": "display_data"
    },
    {
     "data": {
      "application/vnd.jupyter.widget-view+json": {
       "model_id": "05ecb303b09848e8be144878869d35f9",
       "version_major": 2,
       "version_minor": 0
      },
      "text/plain": [
       "Getting_images:   0%|          | 0/100 [00:00<?, ?it/s]"
      ]
     },
     "metadata": {},
     "output_type": "display_data"
    },
    {
     "data": {
      "application/vnd.jupyter.widget-view+json": {
       "model_id": "78889a3d78b34854a7d9904e01c6be68",
       "version_major": 2,
       "version_minor": 0
      },
      "text/plain": [
       "Getting_images:   0%|          | 0/100 [00:00<?, ?it/s]"
      ]
     },
     "metadata": {},
     "output_type": "display_data"
    },
    {
     "data": {
      "application/vnd.jupyter.widget-view+json": {
       "model_id": "98cd9418a1b44793a2074fe73d4fa2b4",
       "version_major": 2,
       "version_minor": 0
      },
      "text/plain": [
       "Getting_images:   0%|          | 0/100 [00:00<?, ?it/s]"
      ]
     },
     "metadata": {},
     "output_type": "display_data"
    },
    {
     "data": {
      "application/vnd.jupyter.widget-view+json": {
       "model_id": "28f9d7a31e5f49a4acdbe386588a9969",
       "version_major": 2,
       "version_minor": 0
      },
      "text/plain": [
       "Getting_images:   0%|          | 0/100 [00:00<?, ?it/s]"
      ]
     },
     "metadata": {},
     "output_type": "display_data"
    },
    {
     "data": {
      "application/vnd.jupyter.widget-view+json": {
       "model_id": "f0781e54500443b1823b81fd6e399fa7",
       "version_major": 2,
       "version_minor": 0
      },
      "text/plain": [
       "Getting_images:   0%|          | 0/100 [00:00<?, ?it/s]"
      ]
     },
     "metadata": {},
     "output_type": "display_data"
    },
    {
     "data": {
      "application/vnd.jupyter.widget-view+json": {
       "model_id": "436fb3ba7bb34ad69c3f202e441cdbdf",
       "version_major": 2,
       "version_minor": 0
      },
      "text/plain": [
       "Getting_images:   0%|          | 0/100 [00:00<?, ?it/s]"
      ]
     },
     "metadata": {},
     "output_type": "display_data"
    },
    {
     "data": {
      "application/vnd.jupyter.widget-view+json": {
       "model_id": "7bc4d99ad9e942cfb781e0a78ae25138",
       "version_major": 2,
       "version_minor": 0
      },
      "text/plain": [
       "Getting_images:   0%|          | 0/100 [00:00<?, ?it/s]"
      ]
     },
     "metadata": {},
     "output_type": "display_data"
    },
    {
     "data": {
      "application/vnd.jupyter.widget-view+json": {
       "model_id": "8db25447eee44d6cab12eb9067c6a15c",
       "version_major": 2,
       "version_minor": 0
      },
      "text/plain": [
       "Getting_images:   0%|          | 0/100 [00:00<?, ?it/s]"
      ]
     },
     "metadata": {},
     "output_type": "display_data"
    },
    {
     "data": {
      "application/vnd.jupyter.widget-view+json": {
       "model_id": "087531845d2943aaac4a15f633660f48",
       "version_major": 2,
       "version_minor": 0
      },
      "text/plain": [
       "Getting_images:   0%|          | 0/100 [00:00<?, ?it/s]"
      ]
     },
     "metadata": {},
     "output_type": "display_data"
    },
    {
     "data": {
      "application/vnd.jupyter.widget-view+json": {
       "model_id": "1d0b84c920bb4fbda602b280a53604c8",
       "version_major": 2,
       "version_minor": 0
      },
      "text/plain": [
       "Getting_images:   0%|          | 0/100 [00:00<?, ?it/s]"
      ]
     },
     "metadata": {},
     "output_type": "display_data"
    },
    {
     "data": {
      "application/vnd.jupyter.widget-view+json": {
       "model_id": "8a7ae19ae00048a2ad5390a4d4a24c15",
       "version_major": 2,
       "version_minor": 0
      },
      "text/plain": [
       "Getting_images:   0%|          | 0/100 [00:00<?, ?it/s]"
      ]
     },
     "metadata": {},
     "output_type": "display_data"
    },
    {
     "data": {
      "application/vnd.jupyter.widget-view+json": {
       "model_id": "e64eb014a478466796eefa8a1f5745df",
       "version_major": 2,
       "version_minor": 0
      },
      "text/plain": [
       "Getting_images:   0%|          | 0/100 [00:00<?, ?it/s]"
      ]
     },
     "metadata": {},
     "output_type": "display_data"
    },
    {
     "data": {
      "application/vnd.jupyter.widget-view+json": {
       "model_id": "812e1c762e9649b98a57d7a63e6df140",
       "version_major": 2,
       "version_minor": 0
      },
      "text/plain": [
       "Getting_images:   0%|          | 0/100 [00:00<?, ?it/s]"
      ]
     },
     "metadata": {},
     "output_type": "display_data"
    },
    {
     "data": {
      "application/vnd.jupyter.widget-view+json": {
       "model_id": "0480b18b694c4964824f224ea8b14d30",
       "version_major": 2,
       "version_minor": 0
      },
      "text/plain": [
       "Getting_images:   0%|          | 0/100 [00:00<?, ?it/s]"
      ]
     },
     "metadata": {},
     "output_type": "display_data"
    },
    {
     "data": {
      "application/vnd.jupyter.widget-view+json": {
       "model_id": "d6354f533932420d833198d9fec4d712",
       "version_major": 2,
       "version_minor": 0
      },
      "text/plain": [
       "Getting_images:   0%|          | 0/100 [00:00<?, ?it/s]"
      ]
     },
     "metadata": {},
     "output_type": "display_data"
    },
    {
     "data": {
      "application/vnd.jupyter.widget-view+json": {
       "model_id": "a580713726504650aa18570d583f3701",
       "version_major": 2,
       "version_minor": 0
      },
      "text/plain": [
       "Getting_images:   0%|          | 0/100 [00:00<?, ?it/s]"
      ]
     },
     "metadata": {},
     "output_type": "display_data"
    },
    {
     "data": {
      "application/vnd.jupyter.widget-view+json": {
       "model_id": "1b17797a9d5042eabd57213fbfc0bf9f",
       "version_major": 2,
       "version_minor": 0
      },
      "text/plain": [
       "Getting_images:   0%|          | 0/100 [00:00<?, ?it/s]"
      ]
     },
     "metadata": {},
     "output_type": "display_data"
    },
    {
     "data": {
      "application/vnd.jupyter.widget-view+json": {
       "model_id": "cfc581f8c7804ab0a3819a6f79089a3c",
       "version_major": 2,
       "version_minor": 0
      },
      "text/plain": [
       "Getting_images:   0%|          | 0/100 [00:00<?, ?it/s]"
      ]
     },
     "metadata": {},
     "output_type": "display_data"
    },
    {
     "data": {
      "application/vnd.jupyter.widget-view+json": {
       "model_id": "333a0832a21c4091886ba4e3b6149649",
       "version_major": 2,
       "version_minor": 0
      },
      "text/plain": [
       "Getting_images:   0%|          | 0/100 [00:00<?, ?it/s]"
      ]
     },
     "metadata": {},
     "output_type": "display_data"
    },
    {
     "data": {
      "application/vnd.jupyter.widget-view+json": {
       "model_id": "a6740a8edde24b26a03493794561b196",
       "version_major": 2,
       "version_minor": 0
      },
      "text/plain": [
       "Getting_images:   0%|          | 0/100 [00:00<?, ?it/s]"
      ]
     },
     "metadata": {},
     "output_type": "display_data"
    },
    {
     "data": {
      "application/vnd.jupyter.widget-view+json": {
       "model_id": "a750070825a14d28aa1ce83fecc1fd72",
       "version_major": 2,
       "version_minor": 0
      },
      "text/plain": [
       "Getting_images:   0%|          | 0/100 [00:00<?, ?it/s]"
      ]
     },
     "metadata": {},
     "output_type": "display_data"
    },
    {
     "data": {
      "application/vnd.jupyter.widget-view+json": {
       "model_id": "ab91f48ac0a1436989529e17eaebbe4a",
       "version_major": 2,
       "version_minor": 0
      },
      "text/plain": [
       "Getting_images:   0%|          | 0/100 [00:00<?, ?it/s]"
      ]
     },
     "metadata": {},
     "output_type": "display_data"
    },
    {
     "data": {
      "application/vnd.jupyter.widget-view+json": {
       "model_id": "476ca74ce125436287152cf723131236",
       "version_major": 2,
       "version_minor": 0
      },
      "text/plain": [
       "Getting_images:   0%|          | 0/100 [00:00<?, ?it/s]"
      ]
     },
     "metadata": {},
     "output_type": "display_data"
    },
    {
     "data": {
      "application/vnd.jupyter.widget-view+json": {
       "model_id": "99e6ba3f47da41bea95df1fa00270287",
       "version_major": 2,
       "version_minor": 0
      },
      "text/plain": [
       "Getting_images:   0%|          | 0/100 [00:00<?, ?it/s]"
      ]
     },
     "metadata": {},
     "output_type": "display_data"
    },
    {
     "data": {
      "application/vnd.jupyter.widget-view+json": {
       "model_id": "a5e1926ecb1c42b19d298ea32e322060",
       "version_major": 2,
       "version_minor": 0
      },
      "text/plain": [
       "Getting_images:   0%|          | 0/100 [00:00<?, ?it/s]"
      ]
     },
     "metadata": {},
     "output_type": "display_data"
    },
    {
     "data": {
      "application/vnd.jupyter.widget-view+json": {
       "model_id": "b99708be1e584bbe8893a7c5a03096c8",
       "version_major": 2,
       "version_minor": 0
      },
      "text/plain": [
       "Getting_images:   0%|          | 0/100 [00:00<?, ?it/s]"
      ]
     },
     "metadata": {},
     "output_type": "display_data"
    },
    {
     "data": {
      "application/vnd.jupyter.widget-view+json": {
       "model_id": "8871cb556fce4fe6a7dd2c8ca013db1d",
       "version_major": 2,
       "version_minor": 0
      },
      "text/plain": [
       "Getting_images:   0%|          | 0/100 [00:00<?, ?it/s]"
      ]
     },
     "metadata": {},
     "output_type": "display_data"
    },
    {
     "data": {
      "application/vnd.jupyter.widget-view+json": {
       "model_id": "26d5c97f8de349d39294a564b5dea7a6",
       "version_major": 2,
       "version_minor": 0
      },
      "text/plain": [
       "Getting_images:   0%|          | 0/100 [00:00<?, ?it/s]"
      ]
     },
     "metadata": {},
     "output_type": "display_data"
    },
    {
     "data": {
      "application/vnd.jupyter.widget-view+json": {
       "model_id": "4cadf3a40a56486ba3be2aa4ec7b31d1",
       "version_major": 2,
       "version_minor": 0
      },
      "text/plain": [
       "Getting_images:   0%|          | 0/100 [00:00<?, ?it/s]"
      ]
     },
     "metadata": {},
     "output_type": "display_data"
    },
    {
     "data": {
      "application/vnd.jupyter.widget-view+json": {
       "model_id": "5d24e8a9396d48879ca7ac0ffe0d1346",
       "version_major": 2,
       "version_minor": 0
      },
      "text/plain": [
       "Getting_images:   0%|          | 0/100 [00:00<?, ?it/s]"
      ]
     },
     "metadata": {},
     "output_type": "display_data"
    },
    {
     "data": {
      "application/vnd.jupyter.widget-view+json": {
       "model_id": "0b3c07e554624ad3b496404d2484921d",
       "version_major": 2,
       "version_minor": 0
      },
      "text/plain": [
       "Getting_images:   0%|          | 0/100 [00:00<?, ?it/s]"
      ]
     },
     "metadata": {},
     "output_type": "display_data"
    },
    {
     "data": {
      "application/vnd.jupyter.widget-view+json": {
       "model_id": "678f7e2c9c1e41d9b98362b2db08020b",
       "version_major": 2,
       "version_minor": 0
      },
      "text/plain": [
       "Getting_images:   0%|          | 0/100 [00:00<?, ?it/s]"
      ]
     },
     "metadata": {},
     "output_type": "display_data"
    },
    {
     "data": {
      "application/vnd.jupyter.widget-view+json": {
       "model_id": "83368360044d4905a19e8e1078aa05c0",
       "version_major": 2,
       "version_minor": 0
      },
      "text/plain": [
       "Getting_images:   0%|          | 0/100 [00:00<?, ?it/s]"
      ]
     },
     "metadata": {},
     "output_type": "display_data"
    },
    {
     "data": {
      "application/vnd.jupyter.widget-view+json": {
       "model_id": "7e0eefb83bfa4a0cab3f7405f057fb8e",
       "version_major": 2,
       "version_minor": 0
      },
      "text/plain": [
       "Getting_images:   0%|          | 0/100 [00:00<?, ?it/s]"
      ]
     },
     "metadata": {},
     "output_type": "display_data"
    },
    {
     "data": {
      "application/vnd.jupyter.widget-view+json": {
       "model_id": "5ca9e2eab06141a99b5be7443fb035f7",
       "version_major": 2,
       "version_minor": 0
      },
      "text/plain": [
       "Getting_images:   0%|          | 0/100 [00:00<?, ?it/s]"
      ]
     },
     "metadata": {},
     "output_type": "display_data"
    },
    {
     "data": {
      "application/vnd.jupyter.widget-view+json": {
       "model_id": "8c750688d2c8494fb5b494f7c32c58a4",
       "version_major": 2,
       "version_minor": 0
      },
      "text/plain": [
       "Getting_images:   0%|          | 0/100 [00:00<?, ?it/s]"
      ]
     },
     "metadata": {},
     "output_type": "display_data"
    },
    {
     "data": {
      "application/vnd.jupyter.widget-view+json": {
       "model_id": "8d9393d212b740dbafbe8a09a44aaebd",
       "version_major": 2,
       "version_minor": 0
      },
      "text/plain": [
       "Getting_images:   0%|          | 0/100 [00:00<?, ?it/s]"
      ]
     },
     "metadata": {},
     "output_type": "display_data"
    },
    {
     "data": {
      "application/vnd.jupyter.widget-view+json": {
       "model_id": "193f9bbcc0314d3f86f91591a761f3a5",
       "version_major": 2,
       "version_minor": 0
      },
      "text/plain": [
       "Getting_images:   0%|          | 0/100 [00:00<?, ?it/s]"
      ]
     },
     "metadata": {},
     "output_type": "display_data"
    },
    {
     "data": {
      "application/vnd.jupyter.widget-view+json": {
       "model_id": "4d0e0a7583a24790bd9584521a1c91cb",
       "version_major": 2,
       "version_minor": 0
      },
      "text/plain": [
       "Getting_images:   0%|          | 0/100 [00:00<?, ?it/s]"
      ]
     },
     "metadata": {},
     "output_type": "display_data"
    },
    {
     "data": {
      "application/vnd.jupyter.widget-view+json": {
       "model_id": "e639157dd71b4d4e850050dcb7f253c5",
       "version_major": 2,
       "version_minor": 0
      },
      "text/plain": [
       "Getting_images:   0%|          | 0/100 [00:00<?, ?it/s]"
      ]
     },
     "metadata": {},
     "output_type": "display_data"
    },
    {
     "data": {
      "application/vnd.jupyter.widget-view+json": {
       "model_id": "007ededc17a04e1a90cad0f50f65ddf8",
       "version_major": 2,
       "version_minor": 0
      },
      "text/plain": [
       "Getting_images:   0%|          | 0/100 [00:00<?, ?it/s]"
      ]
     },
     "metadata": {},
     "output_type": "display_data"
    },
    {
     "data": {
      "application/vnd.jupyter.widget-view+json": {
       "model_id": "485b47f0997d466abe9501b5a5fdd536",
       "version_major": 2,
       "version_minor": 0
      },
      "text/plain": [
       "Getting_images:   0%|          | 0/100 [00:00<?, ?it/s]"
      ]
     },
     "metadata": {},
     "output_type": "display_data"
    },
    {
     "data": {
      "application/vnd.jupyter.widget-view+json": {
       "model_id": "1532346ca4ba4f7184584789b407f95d",
       "version_major": 2,
       "version_minor": 0
      },
      "text/plain": [
       "Getting_images:   0%|          | 0/100 [00:00<?, ?it/s]"
      ]
     },
     "metadata": {},
     "output_type": "display_data"
    },
    {
     "data": {
      "application/vnd.jupyter.widget-view+json": {
       "model_id": "ddf7f5e1ccb04e78afe30e99f6b7cc93",
       "version_major": 2,
       "version_minor": 0
      },
      "text/plain": [
       "Getting_images:   0%|          | 0/100 [00:00<?, ?it/s]"
      ]
     },
     "metadata": {},
     "output_type": "display_data"
    },
    {
     "data": {
      "application/vnd.jupyter.widget-view+json": {
       "model_id": "073b72d021304ff2aca93c5940ceff89",
       "version_major": 2,
       "version_minor": 0
      },
      "text/plain": [
       "Getting_images:   0%|          | 0/100 [00:00<?, ?it/s]"
      ]
     },
     "metadata": {},
     "output_type": "display_data"
    },
    {
     "data": {
      "application/vnd.jupyter.widget-view+json": {
       "model_id": "499d7ea1b7e7474fa545579d420ef5c5",
       "version_major": 2,
       "version_minor": 0
      },
      "text/plain": [
       "Getting_images:   0%|          | 0/100 [00:00<?, ?it/s]"
      ]
     },
     "metadata": {},
     "output_type": "display_data"
    },
    {
     "data": {
      "application/vnd.jupyter.widget-view+json": {
       "model_id": "f04545be0bfb4224a3066bbbcc0f1d41",
       "version_major": 2,
       "version_minor": 0
      },
      "text/plain": [
       "Getting_images:   0%|          | 0/100 [00:00<?, ?it/s]"
      ]
     },
     "metadata": {},
     "output_type": "display_data"
    },
    {
     "data": {
      "application/vnd.jupyter.widget-view+json": {
       "model_id": "def5d211219a4a64a53ceb7a1df16cb0",
       "version_major": 2,
       "version_minor": 0
      },
      "text/plain": [
       "Getting_images:   0%|          | 0/100 [00:00<?, ?it/s]"
      ]
     },
     "metadata": {},
     "output_type": "display_data"
    },
    {
     "data": {
      "application/vnd.jupyter.widget-view+json": {
       "model_id": "6a6f8fa2e5b046f8acfb7ab624067cfa",
       "version_major": 2,
       "version_minor": 0
      },
      "text/plain": [
       "Getting_images:   0%|          | 0/100 [00:00<?, ?it/s]"
      ]
     },
     "metadata": {},
     "output_type": "display_data"
    },
    {
     "data": {
      "application/vnd.jupyter.widget-view+json": {
       "model_id": "4546d253ba844c8cb93a856719a20357",
       "version_major": 2,
       "version_minor": 0
      },
      "text/plain": [
       "Getting_images:   0%|          | 0/100 [00:00<?, ?it/s]"
      ]
     },
     "metadata": {},
     "output_type": "display_data"
    },
    {
     "ename": "KeyboardInterrupt",
     "evalue": "",
     "output_type": "error",
     "traceback": [
      "\u001b[31m---------------------------------------------------------------------------\u001b[39m",
      "\u001b[31mKeyboardInterrupt\u001b[39m                         Traceback (most recent call last)",
      "\u001b[36mCell\u001b[39m\u001b[36m \u001b[39m\u001b[32mIn[14]\u001b[39m\u001b[32m, line 1\u001b[39m\n\u001b[32m----> \u001b[39m\u001b[32m1\u001b[39m student_deepinversion = \u001b[43mrun_distillation\u001b[49m\u001b[43m(\u001b[49m\n\u001b[32m      2\u001b[39m \u001b[43m    \u001b[49m\u001b[43malgorithm_name\u001b[49m\u001b[43m=\u001b[49m\u001b[33;43m\"\u001b[39;49m\u001b[33;43mdeepinversion\u001b[39;49m\u001b[33;43m\"\u001b[39;49m\u001b[43m,\u001b[49m\n\u001b[32m      3\u001b[39m \u001b[43m    \u001b[49m\u001b[43mteacher\u001b[49m\u001b[43m=\u001b[49m\u001b[43mteacher\u001b[49m\u001b[43m,\u001b[49m\n\u001b[32m      4\u001b[39m \u001b[43m    \u001b[49m\u001b[43mstudent\u001b[49m\u001b[43m=\u001b[49m\u001b[43mstudent_vanilla\u001b[49m\u001b[43m,\u001b[49m\n\u001b[32m      5\u001b[39m \u001b[43m    \u001b[49m\u001b[43mconfig\u001b[49m\u001b[43m=\u001b[49m\u001b[43m{\u001b[49m\n\u001b[32m      6\u001b[39m \u001b[43m        \u001b[49m\u001b[33;43m\"\u001b[39;49m\u001b[33;43mtotal_iterations\u001b[39;49m\u001b[33;43m\"\u001b[39;49m\u001b[43m:\u001b[49m\u001b[43m \u001b[49m\u001b[43mtrain_config\u001b[49m\u001b[43m[\u001b[49m\u001b[33;43m\"\u001b[39;49m\u001b[33;43mdataset_size\u001b[39;49m\u001b[33;43m\"\u001b[39;49m\u001b[43m]\u001b[49m\u001b[43m \u001b[49m\u001b[43m*\u001b[49m\u001b[43m \u001b[49m\u001b[43mtrain_config\u001b[49m\u001b[43m[\u001b[49m\u001b[33;43m\"\u001b[39;49m\u001b[33;43mmax_epochs\u001b[39;49m\u001b[33;43m\"\u001b[39;49m\u001b[43m]\u001b[49m\u001b[43m,\u001b[49m\n\u001b[32m      7\u001b[39m \u001b[43m        \u001b[49m\u001b[33;43m\"\u001b[39;49m\u001b[33;43mdistill_k_times\u001b[39;49m\u001b[33;43m\"\u001b[39;49m\u001b[43m:\u001b[49m\u001b[43m \u001b[49m\u001b[32;43m16\u001b[39;49m\u001b[43m,\u001b[49m\n\u001b[32m      8\u001b[39m \u001b[43m        \u001b[49m\u001b[33;43m\"\u001b[39;49m\u001b[33;43mbatch_size\u001b[39;49m\u001b[33;43m\"\u001b[39;49m\u001b[43m:\u001b[49m\u001b[43m \u001b[49m\u001b[32;43m128\u001b[39;49m\u001b[43m,\u001b[49m\n\u001b[32m      9\u001b[39m \u001b[43m        \u001b[49m\u001b[33;43m\"\u001b[39;49m\u001b[33;43mdeep_inversion_batch_size\u001b[39;49m\u001b[33;43m\"\u001b[39;49m\u001b[43m:\u001b[49m\u001b[43m \u001b[49m\u001b[32;43m1024\u001b[39;49m\u001b[43m,\u001b[49m\n\u001b[32m     10\u001b[39m \u001b[43m        \u001b[49m\u001b[33;43m\"\u001b[39;49m\u001b[33;43mn_classes\u001b[39;49m\u001b[33;43m\"\u001b[39;49m\u001b[43m:\u001b[49m\u001b[43m \u001b[49m\u001b[32;43m10\u001b[39;49m\u001b[43m,\u001b[49m\n\u001b[32m     11\u001b[39m \u001b[43m    \u001b[49m\u001b[43m}\u001b[49m\n\u001b[32m     12\u001b[39m \u001b[43m)\u001b[49m\n",
      "\u001b[36mFile \u001b[39m\u001b[32m<string>:40\u001b[39m, in \u001b[36mrun_distillation\u001b[39m\u001b[34m(algorithm_name, teacher, student, test_loader, config)\u001b[39m\n",
      "\u001b[36mFile \u001b[39m\u001b[32md:\\Desktop\\10сем\\BMM\\DFDistill\\dfdistill\\demo\\..\\algorithms\\deepinversion.py:325\u001b[39m, in \u001b[36mdistill_deep_inversion\u001b[39m\u001b[34m(teacher, student, distill_config, total_iterations, distill_k_times, batch_size, deep_inversion_batch_size, deep_inversion_iterations, n_classes, image_shape, r_feature, first_bn_multiplier, tv_l1, tv_l2, l2, main_loss_multiplier, lr, adi_scale, device, **kwargs)\u001b[39m\n\u001b[32m    317\u001b[39m     student.train()\n\u001b[32m    319\u001b[39m     loader = DataLoader(\n\u001b[32m    320\u001b[39m         TensorDataset(inputs, targets),\n\u001b[32m    321\u001b[39m         batch_size=batch_size,\n\u001b[32m    322\u001b[39m         shuffle=\u001b[38;5;28;01mTrue\u001b[39;00m\n\u001b[32m    323\u001b[39m     )\n\u001b[32m--> \u001b[39m\u001b[32m325\u001b[39m     \u001b[43mdistill\u001b[49m\u001b[43m(\u001b[49m\n\u001b[32m    326\u001b[39m \u001b[43m        \u001b[49m\u001b[43mteacher\u001b[49m\u001b[43m=\u001b[49m\u001b[43mteacher\u001b[49m\u001b[43m,\u001b[49m\n\u001b[32m    327\u001b[39m \u001b[43m        \u001b[49m\u001b[43mstudent\u001b[49m\u001b[43m=\u001b[49m\u001b[43mstudent\u001b[49m\u001b[43m,\u001b[49m\n\u001b[32m    328\u001b[39m \u001b[43m        \u001b[49m\u001b[43moptimizer\u001b[49m\u001b[43m=\u001b[49m\u001b[43moptimizer\u001b[49m\u001b[43m,\u001b[49m\n\u001b[32m    329\u001b[39m \u001b[43m        \u001b[49m\u001b[43mtrain_loader\u001b[49m\u001b[43m=\u001b[49m\u001b[43mloader\u001b[49m\u001b[43m,\u001b[49m\n\u001b[32m    330\u001b[39m \u001b[43m        \u001b[49m\u001b[43mtest_loader\u001b[49m\u001b[43m=\u001b[49m\u001b[38;5;28;43;01mNone\u001b[39;49;00m\u001b[43m,\u001b[49m\n\u001b[32m    331\u001b[39m \u001b[43m        \u001b[49m\u001b[43miterations\u001b[49m\u001b[43m=\u001b[49m\u001b[43mdistill_k_times\u001b[49m\u001b[43m \u001b[49m\u001b[43m*\u001b[49m\u001b[43m \u001b[49m\u001b[43mdeep_inversion_batch_size\u001b[49m\u001b[43m \u001b[49m\u001b[43m/\u001b[49m\u001b[43m/\u001b[49m\u001b[43m \u001b[49m\u001b[43mbatch_size\u001b[49m\u001b[43m,\u001b[49m\n\u001b[32m    332\u001b[39m \u001b[43m        \u001b[49m\u001b[43mtest_freq\u001b[49m\u001b[43m=\u001b[49m\u001b[43m-\u001b[49m\u001b[32;43m1\u001b[39;49m\u001b[43m,\u001b[49m\n\u001b[32m    333\u001b[39m \u001b[43m        \u001b[49m\u001b[43malpha\u001b[49m\u001b[43m=\u001b[49m\u001b[43malpha\u001b[49m\u001b[43m,\u001b[49m\n\u001b[32m    334\u001b[39m \u001b[43m        \u001b[49m\u001b[43mT\u001b[49m\u001b[43m=\u001b[49m\u001b[43mT\u001b[49m\u001b[43m,\u001b[49m\n\u001b[32m    335\u001b[39m \u001b[43m        \u001b[49m\u001b[43mverbose\u001b[49m\u001b[43m=\u001b[49m\u001b[38;5;28;43;01mFalse\u001b[39;49;00m\n\u001b[32m    336\u001b[39m \u001b[43m    \u001b[49m\u001b[43m)\u001b[49m\n\u001b[32m    338\u001b[39m \u001b[38;5;28;01mreturn\u001b[39;00m student\n",
      "\u001b[36mFile \u001b[39m\u001b[32md:\\Desktop\\10сем\\BMM\\DFDistill\\dfdistill\\demo\\..\\algorithms\\vanilla_distillation.py:372\u001b[39m, in \u001b[36mdistill\u001b[39m\u001b[34m(teacher, student, optimizer, train_loader, test_loader, iterations, test_freq, alpha, T, verbose, **kwargs)\u001b[39m\n\u001b[32m    369\u001b[39m \u001b[38;5;28;01mif\u001b[39;00m verbose:\n\u001b[32m    370\u001b[39m     process_log.update(\u001b[32m1\u001b[39m)\n\u001b[32m--> \u001b[39m\u001b[32m372\u001b[39m loss = \u001b[43malgo\u001b[49m\u001b[43m.\u001b[49m\u001b[43mteach_step\u001b[49m\u001b[43m(\u001b[49m\u001b[43mbatch\u001b[49m\u001b[43m[\u001b[49m\u001b[32;43m0\u001b[39;49m\u001b[43m]\u001b[49m\u001b[43m.\u001b[49m\u001b[43mto\u001b[49m\u001b[43m(\u001b[49m\u001b[43mdevice\u001b[49m\u001b[43m)\u001b[49m\u001b[43m,\u001b[49m\u001b[43m \u001b[49m\u001b[43mbatch\u001b[49m\u001b[43m[\u001b[49m\u001b[32;43m1\u001b[39;49m\u001b[43m]\u001b[49m\u001b[43m.\u001b[49m\u001b[43mto\u001b[49m\u001b[43m(\u001b[49m\u001b[43mdevice\u001b[49m\u001b[43m)\u001b[49m\u001b[43m)\u001b[49m\n\u001b[32m    373\u001b[39m result = algo.get_metrics()\n\u001b[32m    374\u001b[39m train_tmp = result_to_tqdm_template(result)\n",
      "\u001b[36mFile \u001b[39m\u001b[32md:\\Desktop\\10сем\\BMM\\DFDistill\\dfdistill\\demo\\..\\algorithms\\vanilla_distillation.py:138\u001b[39m, in \u001b[36mST.teach_step\u001b[39m\u001b[34m(self, x, y)\u001b[39m\n\u001b[32m    136\u001b[39m \u001b[38;5;28mself\u001b[39m.optimizer.zero_grad()\n\u001b[32m    137\u001b[39m \u001b[38;5;28;01mwith\u001b[39;00m torch.set_grad_enabled(\u001b[38;5;28;01mFalse\u001b[39;00m):\n\u001b[32m--> \u001b[39m\u001b[32m138\u001b[39m     t_logits = \u001b[38;5;28;43mself\u001b[39;49m\u001b[43m.\u001b[49m\u001b[43mteacher\u001b[49m\u001b[43m(\u001b[49m\u001b[43mx\u001b[49m\u001b[43m)\u001b[49m\n\u001b[32m    139\u001b[39m s_logits = \u001b[38;5;28mself\u001b[39m.student(x)\n\u001b[32m    140\u001b[39m \u001b[38;5;28mself\u001b[39m.logging_metrics(y, s_logits)\n",
      "\u001b[36mFile \u001b[39m\u001b[32md:\\Desktop\\10сем\\BMM\\DFDistill\\.venv\\Lib\\site-packages\\torch\\nn\\modules\\module.py:1751\u001b[39m, in \u001b[36mModule._wrapped_call_impl\u001b[39m\u001b[34m(self, *args, **kwargs)\u001b[39m\n\u001b[32m   1749\u001b[39m     \u001b[38;5;28;01mreturn\u001b[39;00m \u001b[38;5;28mself\u001b[39m._compiled_call_impl(*args, **kwargs)  \u001b[38;5;66;03m# type: ignore[misc]\u001b[39;00m\n\u001b[32m   1750\u001b[39m \u001b[38;5;28;01melse\u001b[39;00m:\n\u001b[32m-> \u001b[39m\u001b[32m1751\u001b[39m     \u001b[38;5;28;01mreturn\u001b[39;00m \u001b[38;5;28;43mself\u001b[39;49m\u001b[43m.\u001b[49m\u001b[43m_call_impl\u001b[49m\u001b[43m(\u001b[49m\u001b[43m*\u001b[49m\u001b[43margs\u001b[49m\u001b[43m,\u001b[49m\u001b[43m \u001b[49m\u001b[43m*\u001b[49m\u001b[43m*\u001b[49m\u001b[43mkwargs\u001b[49m\u001b[43m)\u001b[49m\n",
      "\u001b[36mFile \u001b[39m\u001b[32md:\\Desktop\\10сем\\BMM\\DFDistill\\.venv\\Lib\\site-packages\\torch\\nn\\modules\\module.py:1762\u001b[39m, in \u001b[36mModule._call_impl\u001b[39m\u001b[34m(self, *args, **kwargs)\u001b[39m\n\u001b[32m   1757\u001b[39m \u001b[38;5;66;03m# If we don't have any hooks, we want to skip the rest of the logic in\u001b[39;00m\n\u001b[32m   1758\u001b[39m \u001b[38;5;66;03m# this function, and just call forward.\u001b[39;00m\n\u001b[32m   1759\u001b[39m \u001b[38;5;28;01mif\u001b[39;00m \u001b[38;5;129;01mnot\u001b[39;00m (\u001b[38;5;28mself\u001b[39m._backward_hooks \u001b[38;5;129;01mor\u001b[39;00m \u001b[38;5;28mself\u001b[39m._backward_pre_hooks \u001b[38;5;129;01mor\u001b[39;00m \u001b[38;5;28mself\u001b[39m._forward_hooks \u001b[38;5;129;01mor\u001b[39;00m \u001b[38;5;28mself\u001b[39m._forward_pre_hooks\n\u001b[32m   1760\u001b[39m         \u001b[38;5;129;01mor\u001b[39;00m _global_backward_pre_hooks \u001b[38;5;129;01mor\u001b[39;00m _global_backward_hooks\n\u001b[32m   1761\u001b[39m         \u001b[38;5;129;01mor\u001b[39;00m _global_forward_hooks \u001b[38;5;129;01mor\u001b[39;00m _global_forward_pre_hooks):\n\u001b[32m-> \u001b[39m\u001b[32m1762\u001b[39m     \u001b[38;5;28;01mreturn\u001b[39;00m \u001b[43mforward_call\u001b[49m\u001b[43m(\u001b[49m\u001b[43m*\u001b[49m\u001b[43margs\u001b[49m\u001b[43m,\u001b[49m\u001b[43m \u001b[49m\u001b[43m*\u001b[49m\u001b[43m*\u001b[49m\u001b[43mkwargs\u001b[49m\u001b[43m)\u001b[49m\n\u001b[32m   1764\u001b[39m result = \u001b[38;5;28;01mNone\u001b[39;00m\n\u001b[32m   1765\u001b[39m called_always_called_hooks = \u001b[38;5;28mset\u001b[39m()\n",
      "\u001b[36mFile \u001b[39m\u001b[32md:\\Desktop\\10сем\\BMM\\DFDistill\\dfdistill\\demo\\..\\models.py:39\u001b[39m, in \u001b[36mSimpleResNet.forward\u001b[39m\u001b[34m(self, x)\u001b[39m\n\u001b[32m     37\u001b[39m \u001b[38;5;28;01mdef\u001b[39;00m\u001b[38;5;250m \u001b[39m\u001b[34mforward\u001b[39m(\u001b[38;5;28mself\u001b[39m, x):\n\u001b[32m     38\u001b[39m     \u001b[38;5;28;01mfor\u001b[39;00m layer \u001b[38;5;129;01min\u001b[39;00m \u001b[38;5;28mself\u001b[39m.layers:\n\u001b[32m---> \u001b[39m\u001b[32m39\u001b[39m         x = \u001b[43mlayer\u001b[49m\u001b[43m(\u001b[49m\u001b[43mx\u001b[49m\u001b[43m)\u001b[49m\n\u001b[32m     40\u001b[39m     \u001b[38;5;28;01mreturn\u001b[39;00m \u001b[38;5;28mself\u001b[39m.linear(x)\n",
      "\u001b[36mFile \u001b[39m\u001b[32md:\\Desktop\\10сем\\BMM\\DFDistill\\.venv\\Lib\\site-packages\\torch\\nn\\modules\\module.py:1751\u001b[39m, in \u001b[36mModule._wrapped_call_impl\u001b[39m\u001b[34m(self, *args, **kwargs)\u001b[39m\n\u001b[32m   1749\u001b[39m     \u001b[38;5;28;01mreturn\u001b[39;00m \u001b[38;5;28mself\u001b[39m._compiled_call_impl(*args, **kwargs)  \u001b[38;5;66;03m# type: ignore[misc]\u001b[39;00m\n\u001b[32m   1750\u001b[39m \u001b[38;5;28;01melse\u001b[39;00m:\n\u001b[32m-> \u001b[39m\u001b[32m1751\u001b[39m     \u001b[38;5;28;01mreturn\u001b[39;00m \u001b[38;5;28;43mself\u001b[39;49m\u001b[43m.\u001b[49m\u001b[43m_call_impl\u001b[49m\u001b[43m(\u001b[49m\u001b[43m*\u001b[49m\u001b[43margs\u001b[49m\u001b[43m,\u001b[49m\u001b[43m \u001b[49m\u001b[43m*\u001b[49m\u001b[43m*\u001b[49m\u001b[43mkwargs\u001b[49m\u001b[43m)\u001b[49m\n",
      "\u001b[36mFile \u001b[39m\u001b[32md:\\Desktop\\10сем\\BMM\\DFDistill\\.venv\\Lib\\site-packages\\torch\\nn\\modules\\module.py:1857\u001b[39m, in \u001b[36mModule._call_impl\u001b[39m\u001b[34m(self, *args, **kwargs)\u001b[39m\n\u001b[32m   1854\u001b[39m     \u001b[38;5;28;01mreturn\u001b[39;00m inner()\n\u001b[32m   1856\u001b[39m \u001b[38;5;28;01mtry\u001b[39;00m:\n\u001b[32m-> \u001b[39m\u001b[32m1857\u001b[39m     \u001b[38;5;28;01mreturn\u001b[39;00m \u001b[43minner\u001b[49m\u001b[43m(\u001b[49m\u001b[43m)\u001b[49m\n\u001b[32m   1858\u001b[39m \u001b[38;5;28;01mexcept\u001b[39;00m \u001b[38;5;167;01mException\u001b[39;00m:\n\u001b[32m   1859\u001b[39m     \u001b[38;5;66;03m# run always called hooks if they have not already been run\u001b[39;00m\n\u001b[32m   1860\u001b[39m     \u001b[38;5;66;03m# For now only forward hooks have the always_call option but perhaps\u001b[39;00m\n\u001b[32m   1861\u001b[39m     \u001b[38;5;66;03m# this functionality should be added to full backward hooks as well.\u001b[39;00m\n\u001b[32m   1862\u001b[39m     \u001b[38;5;28;01mfor\u001b[39;00m hook_id, hook \u001b[38;5;129;01min\u001b[39;00m _global_forward_hooks.items():\n",
      "\u001b[36mFile \u001b[39m\u001b[32md:\\Desktop\\10сем\\BMM\\DFDistill\\.venv\\Lib\\site-packages\\torch\\nn\\modules\\module.py:1818\u001b[39m, in \u001b[36mModule._call_impl.<locals>.inner\u001b[39m\u001b[34m()\u001b[39m\n\u001b[32m   1816\u001b[39m     hook_result = hook(\u001b[38;5;28mself\u001b[39m, args, kwargs, result)\n\u001b[32m   1817\u001b[39m \u001b[38;5;28;01melse\u001b[39;00m:\n\u001b[32m-> \u001b[39m\u001b[32m1818\u001b[39m     hook_result = \u001b[43mhook\u001b[49m\u001b[43m(\u001b[49m\u001b[38;5;28;43mself\u001b[39;49m\u001b[43m,\u001b[49m\u001b[43m \u001b[49m\u001b[43margs\u001b[49m\u001b[43m,\u001b[49m\u001b[43m \u001b[49m\u001b[43mresult\u001b[49m\u001b[43m)\u001b[49m\n\u001b[32m   1820\u001b[39m \u001b[38;5;28;01mif\u001b[39;00m hook_result \u001b[38;5;129;01mis\u001b[39;00m \u001b[38;5;129;01mnot\u001b[39;00m \u001b[38;5;28;01mNone\u001b[39;00m:\n\u001b[32m   1821\u001b[39m     result = hook_result\n",
      "\u001b[36mFile \u001b[39m\u001b[32md:\\Desktop\\10сем\\BMM\\DFDistill\\dfdistill\\demo\\..\\algorithms\\deepinversion.py:39\u001b[39m, in \u001b[36mDeepInversionFeatureHook.hook_fn\u001b[39m\u001b[34m(self, module, input, output)\u001b[39m\n\u001b[32m     37\u001b[39m mean = \u001b[38;5;28minput\u001b[39m[\u001b[32m0\u001b[39m].mean([\u001b[32m0\u001b[39m, \u001b[32m2\u001b[39m, \u001b[32m3\u001b[39m])\n\u001b[32m     38\u001b[39m var = \u001b[38;5;28minput\u001b[39m[\u001b[32m0\u001b[39m].permute(\u001b[32m1\u001b[39m, \u001b[32m0\u001b[39m, \u001b[32m2\u001b[39m, \u001b[32m3\u001b[39m).contiguous().view([nch, -\u001b[32m1\u001b[39m]).var(\u001b[32m1\u001b[39m, unbiased=\u001b[38;5;28;01mFalse\u001b[39;00m)\n\u001b[32m---> \u001b[39m\u001b[32m39\u001b[39m r_feature = \u001b[43mF\u001b[49m\u001b[43m.\u001b[49m\u001b[43mmse_loss\u001b[49m\u001b[43m(\u001b[49m\u001b[43mmodule\u001b[49m\u001b[43m.\u001b[49m\u001b[43mrunning_var\u001b[49m\u001b[43m.\u001b[49m\u001b[43mdata\u001b[49m\u001b[43m,\u001b[49m\u001b[43m \u001b[49m\u001b[43mvar\u001b[49m\u001b[43m)\u001b[49m ** \u001b[32m0.5\u001b[39m + F.mse_loss(module.running_mean.data, mean) ** \u001b[32m0.5\u001b[39m\n\u001b[32m     40\u001b[39m \u001b[38;5;28mself\u001b[39m.r_feature = r_feature\n",
      "\u001b[36mFile \u001b[39m\u001b[32md:\\Desktop\\10сем\\BMM\\DFDistill\\.venv\\Lib\\site-packages\\torch\\nn\\functional.py:3905\u001b[39m, in \u001b[36mmse_loss\u001b[39m\u001b[34m(input, target, size_average, reduce, reduction, weight)\u001b[39m\n\u001b[32m   3901\u001b[39m         \u001b[38;5;28;01mraise\u001b[39;00m \u001b[38;5;167;01mValueError\u001b[39;00m(\n\u001b[32m   3902\u001b[39m             \u001b[33mf\u001b[39m\u001b[33m\"\u001b[39m\u001b[33mInvalid reduction mode: \u001b[39m\u001b[38;5;132;01m{\u001b[39;00mreduction\u001b[38;5;132;01m}\u001b[39;00m\u001b[33m. Expected one of \u001b[39m\u001b[33m'\u001b[39m\u001b[33mnone\u001b[39m\u001b[33m'\u001b[39m\u001b[33m, \u001b[39m\u001b[33m'\u001b[39m\u001b[33mmean\u001b[39m\u001b[33m'\u001b[39m\u001b[33m, \u001b[39m\u001b[33m'\u001b[39m\u001b[33msum\u001b[39m\u001b[33m'\u001b[39m\u001b[33m.\u001b[39m\u001b[33m\"\u001b[39m\n\u001b[32m   3903\u001b[39m         )\n\u001b[32m   3904\u001b[39m \u001b[38;5;28;01melse\u001b[39;00m:\n\u001b[32m-> \u001b[39m\u001b[32m3905\u001b[39m     \u001b[38;5;28;01mreturn\u001b[39;00m \u001b[43mtorch\u001b[49m\u001b[43m.\u001b[49m\u001b[43m_C\u001b[49m\u001b[43m.\u001b[49m\u001b[43m_nn\u001b[49m\u001b[43m.\u001b[49m\u001b[43mmse_loss\u001b[49m\u001b[43m(\u001b[49m\n\u001b[32m   3906\u001b[39m \u001b[43m        \u001b[49m\u001b[43mexpanded_input\u001b[49m\u001b[43m,\u001b[49m\u001b[43m \u001b[49m\u001b[43mexpanded_target\u001b[49m\u001b[43m,\u001b[49m\u001b[43m \u001b[49m\u001b[43m_Reduction\u001b[49m\u001b[43m.\u001b[49m\u001b[43mget_enum\u001b[49m\u001b[43m(\u001b[49m\u001b[43mreduction\u001b[49m\u001b[43m)\u001b[49m\n\u001b[32m   3907\u001b[39m \u001b[43m    \u001b[49m\u001b[43m)\u001b[49m\n",
      "\u001b[31mKeyboardInterrupt\u001b[39m: "
     ]
    }
   ],
   "source": [
    "student_deepinversion = run_distillation(\n",
    "    algorithm_name=\"deepinversion\",\n",
    "    teacher=teacher,\n",
    "    student=student_deepinversion,\n",
    "    config={\n",
    "        \"total_iterations\": train_config[\"dataset_size\"] * train_config[\"max_epochs\"],\n",
    "        \"distill_k_times\": 16,\n",
    "        \"batch_size\": 128,\n",
    "        \"deep_inversion_batch_size\": 1024,\n",
    "        \"n_classes\": 10,\n",
    "    }\n",
    ")"
   ]
  },
  {
   "cell_type": "code",
   "execution_count": null,
   "id": "afe1086f",
   "metadata": {},
   "outputs": [
    {
     "data": {
      "application/vnd.jupyter.widget-view+json": {
       "model_id": "858a78f374884d9ca2c320ddceb5869c",
       "version_major": 2,
       "version_minor": 0
      },
      "text/plain": [
       "eval batch:   0%|          | 0/20 [00:00<?, ?it/s]"
      ]
     },
     "metadata": {},
     "output_type": "display_data"
    },
    {
     "data": {
      "text/plain": [
       "{'Accuracy': 0.0665}"
      ]
     },
     "execution_count": 12,
     "metadata": {},
     "output_type": "execute_result"
    }
   ],
   "source": [
    "trainer.evaluate(\n",
    "    get_cifar10_loader(data_path=\"../../data\", train=False, batch_size=train_config[\"batch_size\"]),\n",
    "    model=student_deepinversion\n",
    ")"
   ]
  },
  {
   "cell_type": "code",
   "execution_count": null,
   "id": "f186fc79",
   "metadata": {},
   "outputs": [],
   "source": [
    "student_dfad = run_distillation(\n",
    "    algorithm_name=\"dfad\",\n",
    "    teacher=teacher,\n",
    "    student=student_dfad,\n",
    "    config={\n",
    "        ...\n",
    "    }\n",
    ")"
   ]
  },
  {
   "cell_type": "code",
   "execution_count": null,
   "id": "0ed968f3",
   "metadata": {},
   "outputs": [],
   "source": [
    "student_spec_features = run_distillation(\n",
    "    algorithm_name=\"?????\",\n",
    "    teacher=teacher,\n",
    "    student=student_spec_features,\n",
    "    config={\n",
    "        ...\n",
    "    }\n",
    ")"
   ]
  }
 ],
 "metadata": {
  "kernelspec": {
   "display_name": ".venv",
   "language": "python",
   "name": "python3"
  },
  "language_info": {
   "codemirror_mode": {
    "name": "ipython",
    "version": 3
   },
   "file_extension": ".py",
   "mimetype": "text/x-python",
   "name": "python",
   "nbconvert_exporter": "python",
   "pygments_lexer": "ipython3",
   "version": "3.12.4"
  }
 },
 "nbformat": 4,
 "nbformat_minor": 5
}
