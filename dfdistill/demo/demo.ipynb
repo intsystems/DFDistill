{
 "cells": [
  {
   "cell_type": "code",
   "execution_count": 1,
   "id": "8750bed9",
   "metadata": {},
   "outputs": [],
   "source": [
    "import sys\n",
    "import math\n",
    "sys.path.append(\"..\")\n",
    "\n",
    "import torch\n",
    "\n",
    "# from algorithms.deepinversion import distill_deep_inversion\n",
    "# from algorithms.vanilla_distillation import distill\n",
    "from distillation import run_distillation\n",
    "\n",
    "from trainer import Trainer\n",
    "from models import SimpleConvNet, SimpleResNet\n",
    "from utils import get_cifar100_loader, get_cifar10_loader\n",
    "\n",
    "device = \"cuda\"\n",
    "\n",
    "%load_ext autoreload\n",
    "%autoreload 2"
   ]
  },
  {
   "cell_type": "code",
   "execution_count": null,
   "id": "8eea1385",
   "metadata": {},
   "outputs": [],
   "source": [
    "teacher = SimpleResNet(n_blocks=4, n_filters=16, input_shape=(3, 32, 32), n_classes=100).to(device)\n",
    "student_reference = SimpleConvNet(n_layers=2, n_filters=16, input_shape=(3, 32, 32), n_classes=100).to(device)\n",
    "\n",
    "student_vanilla = SimpleConvNet(n_layers=2, n_filters=16, input_shape=(3, 32, 32), n_classes=100).to(device)\n",
    "student_deepinversion = SimpleConvNet(n_layers=2, n_filters=32, input_shape=(3, 32, 32), n_classes=100).to(device)\n",
    "student_dfad = SimpleConvNet(n_layers=2, n_filters=32, input_shape=(3, 32, 32), n_classes=100).to(device)\n",
    "student_spec_features = SimpleConvNet(n_layers=2, n_filters=32, input_shape=(3, 32, 32), n_classes=100).to(device)\n",
    "student_stat_features = SimpleConvNet(n_layers=2, n_filters=32, input_shape=(3, 32, 32), n_classes=100).to(device)"
   ]
  },
  {
   "cell_type": "code",
   "execution_count": 3,
   "id": "c9870acd",
   "metadata": {},
   "outputs": [],
   "source": [
    "train_config = {\n",
    "    'lr': 1e-3,\n",
    "    'batch_size': 512,\n",
    "    'max_iters': -1,\n",
    "    'max_epochs': 8,\n",
    "    'evaluate_every': 36,\n",
    "    'log_every': 36,\n",
    "    \"optimizer\": \"AdamW\",\n",
    "    'verbose': False,\n",
    "    'dataset_size': 50000\n",
    "}"
   ]
  },
  {
   "cell_type": "code",
   "execution_count": 4,
   "id": "f2001dbc",
   "metadata": {},
   "outputs": [],
   "source": [
    "trainer = Trainer(train_config=train_config)"
   ]
  },
  {
   "cell_type": "code",
   "execution_count": 5,
   "id": "6502e578",
   "metadata": {},
   "outputs": [
    {
     "data": {
      "application/vnd.jupyter.widget-view+json": {
       "model_id": "f8e47aca369443adb1984c9550262a5b",
       "version_major": 2,
       "version_minor": 0
      },
      "text/plain": [
       "Training iters:   0%|          | 0/100000 [00:00<?, ?it/s]"
      ]
     },
     "metadata": {},
     "output_type": "display_data"
    },
    {
     "data": {
      "application/vnd.jupyter.widget-view+json": {
       "model_id": "ef9e48ef534b444d9eb16d2ebb7e86ee",
       "version_major": 2,
       "version_minor": 0
      },
      "text/plain": [
       "eval batch:   0%|          | 0/20 [00:00<?, ?it/s]"
      ]
     },
     "metadata": {},
     "output_type": "display_data"
    },
    {
     "data": {
      "application/vnd.jupyter.widget-view+json": {
       "model_id": "81dcb93a48554750a05fb1ca0659825d",
       "version_major": 2,
       "version_minor": 0
      },
      "text/plain": [
       "eval batch:   0%|          | 0/20 [00:00<?, ?it/s]"
      ]
     },
     "metadata": {},
     "output_type": "display_data"
    },
    {
     "data": {
      "application/vnd.jupyter.widget-view+json": {
       "model_id": "26c6c1807fd24c82a4de9a4daf841b72",
       "version_major": 2,
       "version_minor": 0
      },
      "text/plain": [
       "eval batch:   0%|          | 0/20 [00:00<?, ?it/s]"
      ]
     },
     "metadata": {},
     "output_type": "display_data"
    },
    {
     "data": {
      "application/vnd.jupyter.widget-view+json": {
       "model_id": "70609fb968d94dac8769cb2b808f00db",
       "version_major": 2,
       "version_minor": 0
      },
      "text/plain": [
       "eval batch:   0%|          | 0/20 [00:00<?, ?it/s]"
      ]
     },
     "metadata": {},
     "output_type": "display_data"
    }
   ],
   "source": [
    "teacher = trainer.train(\n",
    "    model=teacher,\n",
    "    train_loader=get_cifar10_loader(data_path=\"../../data\", train=True, batch_size=train_config[\"batch_size\"]),\n",
    "    val_loader=get_cifar10_loader(data_path=\"../../data\", train=False, batch_size=train_config[\"batch_size\"]),\n",
    "    max_epochs=train_config[\"max_epochs\"] // 4 # just to prevent overfitting\n",
    ")\n",
    "trainer.train_config[\"max_epochs\"] = trainer.train_config[\"max_epochs\"] * 4"
   ]
  },
  {
   "cell_type": "code",
   "execution_count": 6,
   "id": "b72fbc32",
   "metadata": {},
   "outputs": [
    {
     "data": {
      "application/vnd.jupyter.widget-view+json": {
       "model_id": "238b3f6a57f34955ab7c04885bf5e588",
       "version_major": 2,
       "version_minor": 0
      },
      "text/plain": [
       "eval batch:   0%|          | 0/20 [00:00<?, ?it/s]"
      ]
     },
     "metadata": {},
     "output_type": "display_data"
    },
    {
     "data": {
      "text/plain": [
       "{'Accuracy': 0.6311}"
      ]
     },
     "execution_count": 6,
     "metadata": {},
     "output_type": "execute_result"
    }
   ],
   "source": [
    "trainer.evaluate(\n",
    "    get_cifar10_loader(data_path=\"../../data\", train=False, batch_size=train_config[\"batch_size\"]),\n",
    "    model=teacher\n",
    ")"
   ]
  },
  {
   "cell_type": "code",
   "execution_count": 7,
   "id": "84139aaf",
   "metadata": {},
   "outputs": [
    {
     "data": {
      "application/vnd.jupyter.widget-view+json": {
       "model_id": "fc6eecd36b874d68aa889396358734a7",
       "version_major": 2,
       "version_minor": 0
      },
      "text/plain": [
       "Training iters:   0%|          | 0/400000 [00:00<?, ?it/s]"
      ]
     },
     "metadata": {},
     "output_type": "display_data"
    },
    {
     "data": {
      "application/vnd.jupyter.widget-view+json": {
       "model_id": "50c54b3aff264720a504d32554168f9a",
       "version_major": 2,
       "version_minor": 0
      },
      "text/plain": [
       "eval batch:   0%|          | 0/20 [00:00<?, ?it/s]"
      ]
     },
     "metadata": {},
     "output_type": "display_data"
    },
    {
     "data": {
      "application/vnd.jupyter.widget-view+json": {
       "model_id": "d3d915954cb5408aa60365739ce93e5c",
       "version_major": 2,
       "version_minor": 0
      },
      "text/plain": [
       "eval batch:   0%|          | 0/20 [00:00<?, ?it/s]"
      ]
     },
     "metadata": {},
     "output_type": "display_data"
    },
    {
     "data": {
      "application/vnd.jupyter.widget-view+json": {
       "model_id": "8f073cb808bd48a58b84de0eb88e6cc5",
       "version_major": 2,
       "version_minor": 0
      },
      "text/plain": [
       "eval batch:   0%|          | 0/20 [00:00<?, ?it/s]"
      ]
     },
     "metadata": {},
     "output_type": "display_data"
    },
    {
     "data": {
      "application/vnd.jupyter.widget-view+json": {
       "model_id": "f2b539b3aaec4a1389c3d73c9176d0dd",
       "version_major": 2,
       "version_minor": 0
      },
      "text/plain": [
       "eval batch:   0%|          | 0/20 [00:00<?, ?it/s]"
      ]
     },
     "metadata": {},
     "output_type": "display_data"
    },
    {
     "data": {
      "application/vnd.jupyter.widget-view+json": {
       "model_id": "b799632435f4422d8d7305a317ace085",
       "version_major": 2,
       "version_minor": 0
      },
      "text/plain": [
       "eval batch:   0%|          | 0/20 [00:00<?, ?it/s]"
      ]
     },
     "metadata": {},
     "output_type": "display_data"
    },
    {
     "data": {
      "application/vnd.jupyter.widget-view+json": {
       "model_id": "0ab6542792504d30b4f53eb59bf17e0f",
       "version_major": 2,
       "version_minor": 0
      },
      "text/plain": [
       "eval batch:   0%|          | 0/20 [00:00<?, ?it/s]"
      ]
     },
     "metadata": {},
     "output_type": "display_data"
    },
    {
     "data": {
      "application/vnd.jupyter.widget-view+json": {
       "model_id": "394e0946fc4e4775b7657cb2dbd71bbe",
       "version_major": 2,
       "version_minor": 0
      },
      "text/plain": [
       "eval batch:   0%|          | 0/20 [00:00<?, ?it/s]"
      ]
     },
     "metadata": {},
     "output_type": "display_data"
    },
    {
     "data": {
      "application/vnd.jupyter.widget-view+json": {
       "model_id": "7d7a3a55d1644cf98dc914900822804d",
       "version_major": 2,
       "version_minor": 0
      },
      "text/plain": [
       "eval batch:   0%|          | 0/20 [00:00<?, ?it/s]"
      ]
     },
     "metadata": {},
     "output_type": "display_data"
    },
    {
     "data": {
      "application/vnd.jupyter.widget-view+json": {
       "model_id": "ddce2f4bfa994e47843ee9a6e75508e3",
       "version_major": 2,
       "version_minor": 0
      },
      "text/plain": [
       "eval batch:   0%|          | 0/20 [00:00<?, ?it/s]"
      ]
     },
     "metadata": {},
     "output_type": "display_data"
    },
    {
     "data": {
      "application/vnd.jupyter.widget-view+json": {
       "model_id": "3bb79cbbd195404086de8171e3274ae0",
       "version_major": 2,
       "version_minor": 0
      },
      "text/plain": [
       "eval batch:   0%|          | 0/20 [00:00<?, ?it/s]"
      ]
     },
     "metadata": {},
     "output_type": "display_data"
    },
    {
     "data": {
      "application/vnd.jupyter.widget-view+json": {
       "model_id": "c3dd1999f73b4570967f2606533c4d84",
       "version_major": 2,
       "version_minor": 0
      },
      "text/plain": [
       "eval batch:   0%|          | 0/20 [00:00<?, ?it/s]"
      ]
     },
     "metadata": {},
     "output_type": "display_data"
    },
    {
     "data": {
      "application/vnd.jupyter.widget-view+json": {
       "model_id": "230eff97241b481d80bc8cab81216333",
       "version_major": 2,
       "version_minor": 0
      },
      "text/plain": [
       "eval batch:   0%|          | 0/20 [00:00<?, ?it/s]"
      ]
     },
     "metadata": {},
     "output_type": "display_data"
    },
    {
     "data": {
      "application/vnd.jupyter.widget-view+json": {
       "model_id": "79057c9ec4704ca09b420eed1b405efa",
       "version_major": 2,
       "version_minor": 0
      },
      "text/plain": [
       "eval batch:   0%|          | 0/20 [00:00<?, ?it/s]"
      ]
     },
     "metadata": {},
     "output_type": "display_data"
    },
    {
     "data": {
      "application/vnd.jupyter.widget-view+json": {
       "model_id": "c7d5422f16dc4a64909aefa876c7ccb5",
       "version_major": 2,
       "version_minor": 0
      },
      "text/plain": [
       "eval batch:   0%|          | 0/20 [00:00<?, ?it/s]"
      ]
     },
     "metadata": {},
     "output_type": "display_data"
    },
    {
     "data": {
      "application/vnd.jupyter.widget-view+json": {
       "model_id": "b6797ce3aef148b5b40ae8d03aea0332",
       "version_major": 2,
       "version_minor": 0
      },
      "text/plain": [
       "eval batch:   0%|          | 0/20 [00:00<?, ?it/s]"
      ]
     },
     "metadata": {},
     "output_type": "display_data"
    },
    {
     "data": {
      "application/vnd.jupyter.widget-view+json": {
       "model_id": "7a207fe8812146489ef1ed2a63a86943",
       "version_major": 2,
       "version_minor": 0
      },
      "text/plain": [
       "eval batch:   0%|          | 0/20 [00:00<?, ?it/s]"
      ]
     },
     "metadata": {},
     "output_type": "display_data"
    }
   ],
   "source": [
    "student_reference = trainer.train(\n",
    "    model=student_reference,\n",
    "    train_loader=get_cifar10_loader(data_path=\"../../data\", train=True, batch_size=train_config[\"batch_size\"]),\n",
    "    val_loader=get_cifar10_loader(data_path=\"../../data\", train=False, batch_size=train_config[\"batch_size\"])\n",
    ")"
   ]
  },
  {
   "cell_type": "code",
   "execution_count": 8,
   "id": "c3f0aed3",
   "metadata": {},
   "outputs": [
    {
     "data": {
      "application/vnd.jupyter.widget-view+json": {
       "model_id": "056c894699184a599ba5e3f0f49bf361",
       "version_major": 2,
       "version_minor": 0
      },
      "text/plain": [
       "eval batch:   0%|          | 0/20 [00:00<?, ?it/s]"
      ]
     },
     "metadata": {},
     "output_type": "display_data"
    },
    {
     "data": {
      "text/plain": [
       "{'Accuracy': 0.5409}"
      ]
     },
     "execution_count": 8,
     "metadata": {},
     "output_type": "execute_result"
    }
   ],
   "source": [
    "trainer.evaluate(\n",
    "    get_cifar10_loader(data_path=\"../../data\", train=False, batch_size=train_config[\"batch_size\"]),\n",
    "    model=student_reference\n",
    ")"
   ]
  },
  {
   "cell_type": "code",
   "execution_count": 9,
   "id": "dd7367f3",
   "metadata": {},
   "outputs": [
    {
     "name": "stdout",
     "output_type": "stream",
     "text": [
      "[INFO] Running algorithm: vanilla\n",
      "[INFO] Using arguments for 'vanilla': ['teacher', 'student', 'test_loader', 'optimizer', 'train_loader', 'iterations']\n"
     ]
    },
    {
     "name": "stderr",
     "output_type": "stream",
     "text": [
      "Training - 0/784 [                              ] ELP: 00:00d:\\Desktop\\10сем\\BMM\\DFDistill\\.venv\\Lib\\site-packages\\torch\\nn\\_reduction.py:51: UserWarning: size_average and reduce args will be deprecated, please use reduction='sum' instead.\n",
      "  warnings.warn(warning.format(ret))\n",
      "Training - 784/784 [██████████████████████████████] ELP: 00:49, accuracy: 0.5184 - \n"
     ]
    }
   ],
   "source": [
    "student_vanilla = run_distillation(\n",
    "    algorithm_name=\"vanilla\",\n",
    "    teacher=teacher,\n",
    "    student=student_vanilla,\n",
    "    config={\n",
    "        \"optimizer\": torch.optim.AdamW(student_vanilla.parameters(), lr=train_config[\"lr\"], betas=(0.8, 0.9)),\n",
    "        \"train_loader\": get_cifar10_loader(data_path=\"../../data\", train=True, batch_size=train_config[\"batch_size\"]),\n",
    "        \"iterations\": math.ceil(train_config['dataset_size'] / train_config[\"batch_size\"]) * train_config[\"max_epochs\"],\n",
    "    }\n",
    ")"
   ]
  },
  {
   "cell_type": "code",
   "execution_count": 10,
   "id": "c24723ed",
   "metadata": {},
   "outputs": [
    {
     "data": {
      "application/vnd.jupyter.widget-view+json": {
       "model_id": "6edfee84871d42379f81dfe0e0f1a02c",
       "version_major": 2,
       "version_minor": 0
      },
      "text/plain": [
       "eval batch:   0%|          | 0/20 [00:00<?, ?it/s]"
      ]
     },
     "metadata": {},
     "output_type": "display_data"
    },
    {
     "data": {
      "text/plain": [
       "{'Accuracy': 0.553}"
      ]
     },
     "execution_count": 10,
     "metadata": {},
     "output_type": "execute_result"
    }
   ],
   "source": [
    "trainer.evaluate(\n",
    "    get_cifar10_loader(data_path=\"../../data\", train=False, batch_size=train_config[\"batch_size\"]),\n",
    "    model=student_vanilla\n",
    ")"
   ]
  },
  {
   "cell_type": "code",
   "execution_count": 11,
   "id": "a9f2f6a4",
   "metadata": {},
   "outputs": [
    {
     "name": "stdout",
     "output_type": "stream",
     "text": [
      "[INFO] Running algorithm: deepinversion\n",
      "[INFO] Using arguments for 'deepinversion': ['teacher', 'student', 'total_iterations', 'distill_k_times', 'batch_size', 'deep_inversion_batch_size', 'n_classes']\n"
     ]
    },
    {
     "name": "stderr",
     "output_type": "stream",
     "text": [
      "d:\\Desktop\\10сем\\BMM\\DFDistill\\dfdistill\\demo\\..\\distillation.py:68: UserWarning: [WARNING] Argument 'test_loader' is not used by 'deepinversion' and will be ignored.\n",
      "  warnings.warn(f\"[WARNING] Argument '{key}' is not used by '{algorithm_name}' and will be ignored.\")\n"
     ]
    },
    {
     "data": {
      "application/vnd.jupyter.widget-view+json": {
       "model_id": "6281adc13e2642eba1e00d15c0ce94cf",
       "version_major": 2,
       "version_minor": 0
      },
      "text/plain": [
       "Pipeline iters:   0%|          | 0/390 [00:00<?, ?it/s]"
      ]
     },
     "metadata": {},
     "output_type": "display_data"
    },
    {
     "data": {
      "application/vnd.jupyter.widget-view+json": {
       "model_id": "2690e4ade213403eab0b89887ab0052c",
       "version_major": 2,
       "version_minor": 0
      },
      "text/plain": [
       "Getting_images:   0%|          | 0/100 [00:00<?, ?it/s]"
      ]
     },
     "metadata": {},
     "output_type": "display_data"
    },
    {
     "data": {
      "application/vnd.jupyter.widget-view+json": {
       "model_id": "996b5fc7949c44b09e4da01033ffc67e",
       "version_major": 2,
       "version_minor": 0
      },
      "text/plain": [
       "Getting_images:   0%|          | 0/100 [00:00<?, ?it/s]"
      ]
     },
     "metadata": {},
     "output_type": "display_data"
    },
    {
     "data": {
      "application/vnd.jupyter.widget-view+json": {
       "model_id": "e76da54792a044a29d4cd800dde3cb72",
       "version_major": 2,
       "version_minor": 0
      },
      "text/plain": [
       "Getting_images:   0%|          | 0/100 [00:00<?, ?it/s]"
      ]
     },
     "metadata": {},
     "output_type": "display_data"
    },
    {
     "data": {
      "application/vnd.jupyter.widget-view+json": {
       "model_id": "824f762f10864b1bae4afb8c97be641d",
       "version_major": 2,
       "version_minor": 0
      },
      "text/plain": [
       "Getting_images:   0%|          | 0/100 [00:00<?, ?it/s]"
      ]
     },
     "metadata": {},
     "output_type": "display_data"
    },
    {
     "data": {
      "application/vnd.jupyter.widget-view+json": {
       "model_id": "314b10133fb543a4a9cbc6eb8c651f7b",
       "version_major": 2,
       "version_minor": 0
      },
      "text/plain": [
       "Getting_images:   0%|          | 0/100 [00:00<?, ?it/s]"
      ]
     },
     "metadata": {},
     "output_type": "display_data"
    },
    {
     "data": {
      "application/vnd.jupyter.widget-view+json": {
       "model_id": "888e7b4adf2b447692afaf9462ff6cce",
       "version_major": 2,
       "version_minor": 0
      },
      "text/plain": [
       "Getting_images:   0%|          | 0/100 [00:00<?, ?it/s]"
      ]
     },
     "metadata": {},
     "output_type": "display_data"
    },
    {
     "data": {
      "application/vnd.jupyter.widget-view+json": {
       "model_id": "046243104065483c929b01b6415d8720",
       "version_major": 2,
       "version_minor": 0
      },
      "text/plain": [
       "Getting_images:   0%|          | 0/100 [00:00<?, ?it/s]"
      ]
     },
     "metadata": {},
     "output_type": "display_data"
    },
    {
     "data": {
      "application/vnd.jupyter.widget-view+json": {
       "model_id": "1b58536d452c421b998b9b1e924c3497",
       "version_major": 2,
       "version_minor": 0
      },
      "text/plain": [
       "Getting_images:   0%|          | 0/100 [00:00<?, ?it/s]"
      ]
     },
     "metadata": {},
     "output_type": "display_data"
    },
    {
     "data": {
      "application/vnd.jupyter.widget-view+json": {
       "model_id": "a228338fc6af46e1993705bd557528b6",
       "version_major": 2,
       "version_minor": 0
      },
      "text/plain": [
       "Getting_images:   0%|          | 0/100 [00:00<?, ?it/s]"
      ]
     },
     "metadata": {},
     "output_type": "display_data"
    },
    {
     "data": {
      "application/vnd.jupyter.widget-view+json": {
       "model_id": "4be55921cb2044219f5dd2fb51e38ae8",
       "version_major": 2,
       "version_minor": 0
      },
      "text/plain": [
       "Getting_images:   0%|          | 0/100 [00:00<?, ?it/s]"
      ]
     },
     "metadata": {},
     "output_type": "display_data"
    },
    {
     "data": {
      "application/vnd.jupyter.widget-view+json": {
       "model_id": "3317464a93734d268e4989b04a77ec2c",
       "version_major": 2,
       "version_minor": 0
      },
      "text/plain": [
       "Getting_images:   0%|          | 0/100 [00:00<?, ?it/s]"
      ]
     },
     "metadata": {},
     "output_type": "display_data"
    },
    {
     "data": {
      "application/vnd.jupyter.widget-view+json": {
       "model_id": "ab6367fe81bc4bc29b438673bb7b802e",
       "version_major": 2,
       "version_minor": 0
      },
      "text/plain": [
       "Getting_images:   0%|          | 0/100 [00:00<?, ?it/s]"
      ]
     },
     "metadata": {},
     "output_type": "display_data"
    },
    {
     "data": {
      "application/vnd.jupyter.widget-view+json": {
       "model_id": "6d68ab6aaf2d4b1598cde33722b9ee27",
       "version_major": 2,
       "version_minor": 0
      },
      "text/plain": [
       "Getting_images:   0%|          | 0/100 [00:00<?, ?it/s]"
      ]
     },
     "metadata": {},
     "output_type": "display_data"
    },
    {
     "data": {
      "application/vnd.jupyter.widget-view+json": {
       "model_id": "006e14fa9a5e47d9bca8d6889737e984",
       "version_major": 2,
       "version_minor": 0
      },
      "text/plain": [
       "Getting_images:   0%|          | 0/100 [00:00<?, ?it/s]"
      ]
     },
     "metadata": {},
     "output_type": "display_data"
    },
    {
     "data": {
      "application/vnd.jupyter.widget-view+json": {
       "model_id": "95f2b5b3511e458fa212baed5be98503",
       "version_major": 2,
       "version_minor": 0
      },
      "text/plain": [
       "Getting_images:   0%|          | 0/100 [00:00<?, ?it/s]"
      ]
     },
     "metadata": {},
     "output_type": "display_data"
    },
    {
     "data": {
      "application/vnd.jupyter.widget-view+json": {
       "model_id": "208c308dea0a4d89a1ce6f33a08eaf50",
       "version_major": 2,
       "version_minor": 0
      },
      "text/plain": [
       "Getting_images:   0%|          | 0/100 [00:00<?, ?it/s]"
      ]
     },
     "metadata": {},
     "output_type": "display_data"
    },
    {
     "data": {
      "application/vnd.jupyter.widget-view+json": {
       "model_id": "9d0ba8c3e8034a8d849cce2573a0b5fd",
       "version_major": 2,
       "version_minor": 0
      },
      "text/plain": [
       "Getting_images:   0%|          | 0/100 [00:00<?, ?it/s]"
      ]
     },
     "metadata": {},
     "output_type": "display_data"
    },
    {
     "data": {
      "application/vnd.jupyter.widget-view+json": {
       "model_id": "130cd0cacc624d19991c3f87c815f6a9",
       "version_major": 2,
       "version_minor": 0
      },
      "text/plain": [
       "Getting_images:   0%|          | 0/100 [00:00<?, ?it/s]"
      ]
     },
     "metadata": {},
     "output_type": "display_data"
    },
    {
     "data": {
      "application/vnd.jupyter.widget-view+json": {
       "model_id": "4ea6baa7174c4447bf8f956ee04015cf",
       "version_major": 2,
       "version_minor": 0
      },
      "text/plain": [
       "Getting_images:   0%|          | 0/100 [00:00<?, ?it/s]"
      ]
     },
     "metadata": {},
     "output_type": "display_data"
    },
    {
     "data": {
      "application/vnd.jupyter.widget-view+json": {
       "model_id": "2ca96a6ec7e84eaebc531e2428db87f4",
       "version_major": 2,
       "version_minor": 0
      },
      "text/plain": [
       "Getting_images:   0%|          | 0/100 [00:00<?, ?it/s]"
      ]
     },
     "metadata": {},
     "output_type": "display_data"
    },
    {
     "data": {
      "application/vnd.jupyter.widget-view+json": {
       "model_id": "b66bae76b2f9426d8892e25f68c0f2ab",
       "version_major": 2,
       "version_minor": 0
      },
      "text/plain": [
       "Getting_images:   0%|          | 0/100 [00:00<?, ?it/s]"
      ]
     },
     "metadata": {},
     "output_type": "display_data"
    },
    {
     "data": {
      "application/vnd.jupyter.widget-view+json": {
       "model_id": "a6a2537cc794463392123443539228eb",
       "version_major": 2,
       "version_minor": 0
      },
      "text/plain": [
       "Getting_images:   0%|          | 0/100 [00:00<?, ?it/s]"
      ]
     },
     "metadata": {},
     "output_type": "display_data"
    },
    {
     "data": {
      "application/vnd.jupyter.widget-view+json": {
       "model_id": "51f10ce674ad4c80a45f2d4889145fc3",
       "version_major": 2,
       "version_minor": 0
      },
      "text/plain": [
       "Getting_images:   0%|          | 0/100 [00:00<?, ?it/s]"
      ]
     },
     "metadata": {},
     "output_type": "display_data"
    },
    {
     "data": {
      "application/vnd.jupyter.widget-view+json": {
       "model_id": "21a85702d9e9451aa046e896bd1a0061",
       "version_major": 2,
       "version_minor": 0
      },
      "text/plain": [
       "Getting_images:   0%|          | 0/100 [00:00<?, ?it/s]"
      ]
     },
     "metadata": {},
     "output_type": "display_data"
    },
    {
     "data": {
      "application/vnd.jupyter.widget-view+json": {
       "model_id": "04bb944953b343c095b322baa49a1e6d",
       "version_major": 2,
       "version_minor": 0
      },
      "text/plain": [
       "Getting_images:   0%|          | 0/100 [00:00<?, ?it/s]"
      ]
     },
     "metadata": {},
     "output_type": "display_data"
    },
    {
     "data": {
      "application/vnd.jupyter.widget-view+json": {
       "model_id": "063c5fbfe4554b2494970451cc1ee702",
       "version_major": 2,
       "version_minor": 0
      },
      "text/plain": [
       "Getting_images:   0%|          | 0/100 [00:00<?, ?it/s]"
      ]
     },
     "metadata": {},
     "output_type": "display_data"
    },
    {
     "data": {
      "application/vnd.jupyter.widget-view+json": {
       "model_id": "bd001d8e5d4e4fa8bb19a8ff9c54757f",
       "version_major": 2,
       "version_minor": 0
      },
      "text/plain": [
       "Getting_images:   0%|          | 0/100 [00:00<?, ?it/s]"
      ]
     },
     "metadata": {},
     "output_type": "display_data"
    },
    {
     "data": {
      "application/vnd.jupyter.widget-view+json": {
       "model_id": "3d71effa2f3a4b1cbfeffe7b094b32f9",
       "version_major": 2,
       "version_minor": 0
      },
      "text/plain": [
       "Getting_images:   0%|          | 0/100 [00:00<?, ?it/s]"
      ]
     },
     "metadata": {},
     "output_type": "display_data"
    },
    {
     "data": {
      "application/vnd.jupyter.widget-view+json": {
       "model_id": "8ade38f563474fac94b2974bbef247a5",
       "version_major": 2,
       "version_minor": 0
      },
      "text/plain": [
       "Getting_images:   0%|          | 0/100 [00:00<?, ?it/s]"
      ]
     },
     "metadata": {},
     "output_type": "display_data"
    },
    {
     "data": {
      "application/vnd.jupyter.widget-view+json": {
       "model_id": "9c2895d2ab774f2b8eae320893fd761c",
       "version_major": 2,
       "version_minor": 0
      },
      "text/plain": [
       "Getting_images:   0%|          | 0/100 [00:00<?, ?it/s]"
      ]
     },
     "metadata": {},
     "output_type": "display_data"
    },
    {
     "data": {
      "application/vnd.jupyter.widget-view+json": {
       "model_id": "fc1c2924e1b548d0acd1f52afaaf57de",
       "version_major": 2,
       "version_minor": 0
      },
      "text/plain": [
       "Getting_images:   0%|          | 0/100 [00:00<?, ?it/s]"
      ]
     },
     "metadata": {},
     "output_type": "display_data"
    },
    {
     "data": {
      "application/vnd.jupyter.widget-view+json": {
       "model_id": "0c9b2f29b6404e44b06593466ee183e1",
       "version_major": 2,
       "version_minor": 0
      },
      "text/plain": [
       "Getting_images:   0%|          | 0/100 [00:00<?, ?it/s]"
      ]
     },
     "metadata": {},
     "output_type": "display_data"
    },
    {
     "data": {
      "application/vnd.jupyter.widget-view+json": {
       "model_id": "da7de68a02d049aeba8f7888a6bef74f",
       "version_major": 2,
       "version_minor": 0
      },
      "text/plain": [
       "Getting_images:   0%|          | 0/100 [00:00<?, ?it/s]"
      ]
     },
     "metadata": {},
     "output_type": "display_data"
    },
    {
     "data": {
      "application/vnd.jupyter.widget-view+json": {
       "model_id": "e04d3df99408487d99aed645fc5f8660",
       "version_major": 2,
       "version_minor": 0
      },
      "text/plain": [
       "Getting_images:   0%|          | 0/100 [00:00<?, ?it/s]"
      ]
     },
     "metadata": {},
     "output_type": "display_data"
    },
    {
     "data": {
      "application/vnd.jupyter.widget-view+json": {
       "model_id": "f681ae4a1177437d982f9836c732892b",
       "version_major": 2,
       "version_minor": 0
      },
      "text/plain": [
       "Getting_images:   0%|          | 0/100 [00:00<?, ?it/s]"
      ]
     },
     "metadata": {},
     "output_type": "display_data"
    },
    {
     "data": {
      "application/vnd.jupyter.widget-view+json": {
       "model_id": "f8d55dc857ce442b91f6b42ce20f22b0",
       "version_major": 2,
       "version_minor": 0
      },
      "text/plain": [
       "Getting_images:   0%|          | 0/100 [00:00<?, ?it/s]"
      ]
     },
     "metadata": {},
     "output_type": "display_data"
    },
    {
     "data": {
      "application/vnd.jupyter.widget-view+json": {
       "model_id": "f2e7ffc38d29423cba80c2e2c670ef60",
       "version_major": 2,
       "version_minor": 0
      },
      "text/plain": [
       "Getting_images:   0%|          | 0/100 [00:00<?, ?it/s]"
      ]
     },
     "metadata": {},
     "output_type": "display_data"
    },
    {
     "data": {
      "application/vnd.jupyter.widget-view+json": {
       "model_id": "aebd3538a55041bfa932f68cef0c9547",
       "version_major": 2,
       "version_minor": 0
      },
      "text/plain": [
       "Getting_images:   0%|          | 0/100 [00:00<?, ?it/s]"
      ]
     },
     "metadata": {},
     "output_type": "display_data"
    },
    {
     "data": {
      "application/vnd.jupyter.widget-view+json": {
       "model_id": "5e1d14c043524e53809dd570e7672a1d",
       "version_major": 2,
       "version_minor": 0
      },
      "text/plain": [
       "Getting_images:   0%|          | 0/100 [00:00<?, ?it/s]"
      ]
     },
     "metadata": {},
     "output_type": "display_data"
    },
    {
     "data": {
      "application/vnd.jupyter.widget-view+json": {
       "model_id": "56ee2a01f7cf41f39bda5b925c55e67f",
       "version_major": 2,
       "version_minor": 0
      },
      "text/plain": [
       "Getting_images:   0%|          | 0/100 [00:00<?, ?it/s]"
      ]
     },
     "metadata": {},
     "output_type": "display_data"
    },
    {
     "data": {
      "application/vnd.jupyter.widget-view+json": {
       "model_id": "1d7860a867fb4699803b083dcdf739e7",
       "version_major": 2,
       "version_minor": 0
      },
      "text/plain": [
       "Getting_images:   0%|          | 0/100 [00:00<?, ?it/s]"
      ]
     },
     "metadata": {},
     "output_type": "display_data"
    },
    {
     "data": {
      "application/vnd.jupyter.widget-view+json": {
       "model_id": "3509275883994098876fe9e7a00f5a53",
       "version_major": 2,
       "version_minor": 0
      },
      "text/plain": [
       "Getting_images:   0%|          | 0/100 [00:00<?, ?it/s]"
      ]
     },
     "metadata": {},
     "output_type": "display_data"
    },
    {
     "data": {
      "application/vnd.jupyter.widget-view+json": {
       "model_id": "295464e814ec48568d088efc97b73897",
       "version_major": 2,
       "version_minor": 0
      },
      "text/plain": [
       "Getting_images:   0%|          | 0/100 [00:00<?, ?it/s]"
      ]
     },
     "metadata": {},
     "output_type": "display_data"
    },
    {
     "data": {
      "application/vnd.jupyter.widget-view+json": {
       "model_id": "8aa39b5dded24773acc39b2a928f276a",
       "version_major": 2,
       "version_minor": 0
      },
      "text/plain": [
       "Getting_images:   0%|          | 0/100 [00:00<?, ?it/s]"
      ]
     },
     "metadata": {},
     "output_type": "display_data"
    },
    {
     "data": {
      "application/vnd.jupyter.widget-view+json": {
       "model_id": "0f304fdc9c2345468a64e736640502e7",
       "version_major": 2,
       "version_minor": 0
      },
      "text/plain": [
       "Getting_images:   0%|          | 0/100 [00:00<?, ?it/s]"
      ]
     },
     "metadata": {},
     "output_type": "display_data"
    },
    {
     "data": {
      "application/vnd.jupyter.widget-view+json": {
       "model_id": "5da6726c9b294e6b85734cce1932ca97",
       "version_major": 2,
       "version_minor": 0
      },
      "text/plain": [
       "Getting_images:   0%|          | 0/100 [00:00<?, ?it/s]"
      ]
     },
     "metadata": {},
     "output_type": "display_data"
    },
    {
     "data": {
      "application/vnd.jupyter.widget-view+json": {
       "model_id": "4734cfc546a8474dbe31e6992a354236",
       "version_major": 2,
       "version_minor": 0
      },
      "text/plain": [
       "Getting_images:   0%|          | 0/100 [00:00<?, ?it/s]"
      ]
     },
     "metadata": {},
     "output_type": "display_data"
    },
    {
     "data": {
      "application/vnd.jupyter.widget-view+json": {
       "model_id": "d911db4a699c4213bb6c1e69c44d6286",
       "version_major": 2,
       "version_minor": 0
      },
      "text/plain": [
       "Getting_images:   0%|          | 0/100 [00:00<?, ?it/s]"
      ]
     },
     "metadata": {},
     "output_type": "display_data"
    },
    {
     "data": {
      "application/vnd.jupyter.widget-view+json": {
       "model_id": "58d4700e119549708c103cc4e862c978",
       "version_major": 2,
       "version_minor": 0
      },
      "text/plain": [
       "Getting_images:   0%|          | 0/100 [00:00<?, ?it/s]"
      ]
     },
     "metadata": {},
     "output_type": "display_data"
    },
    {
     "data": {
      "application/vnd.jupyter.widget-view+json": {
       "model_id": "a3c44940cf014863b9e9eae774d9476e",
       "version_major": 2,
       "version_minor": 0
      },
      "text/plain": [
       "Getting_images:   0%|          | 0/100 [00:00<?, ?it/s]"
      ]
     },
     "metadata": {},
     "output_type": "display_data"
    },
    {
     "data": {
      "application/vnd.jupyter.widget-view+json": {
       "model_id": "62a4908125904365b61ea5c0a42ae98a",
       "version_major": 2,
       "version_minor": 0
      },
      "text/plain": [
       "Getting_images:   0%|          | 0/100 [00:00<?, ?it/s]"
      ]
     },
     "metadata": {},
     "output_type": "display_data"
    },
    {
     "data": {
      "application/vnd.jupyter.widget-view+json": {
       "model_id": "65f8d37c122d4ed0b1870b905f0e243d",
       "version_major": 2,
       "version_minor": 0
      },
      "text/plain": [
       "Getting_images:   0%|          | 0/100 [00:00<?, ?it/s]"
      ]
     },
     "metadata": {},
     "output_type": "display_data"
    },
    {
     "data": {
      "application/vnd.jupyter.widget-view+json": {
       "model_id": "2863cf71d37d42bc9fb4e54ce11a9874",
       "version_major": 2,
       "version_minor": 0
      },
      "text/plain": [
       "Getting_images:   0%|          | 0/100 [00:00<?, ?it/s]"
      ]
     },
     "metadata": {},
     "output_type": "display_data"
    },
    {
     "data": {
      "application/vnd.jupyter.widget-view+json": {
       "model_id": "54f382425659473881c1517ef7f63f7b",
       "version_major": 2,
       "version_minor": 0
      },
      "text/plain": [
       "Getting_images:   0%|          | 0/100 [00:00<?, ?it/s]"
      ]
     },
     "metadata": {},
     "output_type": "display_data"
    },
    {
     "data": {
      "application/vnd.jupyter.widget-view+json": {
       "model_id": "736c53fec7324f2c9c7b59da710ccf77",
       "version_major": 2,
       "version_minor": 0
      },
      "text/plain": [
       "Getting_images:   0%|          | 0/100 [00:00<?, ?it/s]"
      ]
     },
     "metadata": {},
     "output_type": "display_data"
    },
    {
     "data": {
      "application/vnd.jupyter.widget-view+json": {
       "model_id": "1991a3cd5f1d4598bb68f094aa28c07f",
       "version_major": 2,
       "version_minor": 0
      },
      "text/plain": [
       "Getting_images:   0%|          | 0/100 [00:00<?, ?it/s]"
      ]
     },
     "metadata": {},
     "output_type": "display_data"
    },
    {
     "data": {
      "application/vnd.jupyter.widget-view+json": {
       "model_id": "951c27fd118f440c8ea0c51df05bec94",
       "version_major": 2,
       "version_minor": 0
      },
      "text/plain": [
       "Getting_images:   0%|          | 0/100 [00:00<?, ?it/s]"
      ]
     },
     "metadata": {},
     "output_type": "display_data"
    },
    {
     "data": {
      "application/vnd.jupyter.widget-view+json": {
       "model_id": "8a0a8ae2053d434bbae5e8c943c96589",
       "version_major": 2,
       "version_minor": 0
      },
      "text/plain": [
       "Getting_images:   0%|          | 0/100 [00:00<?, ?it/s]"
      ]
     },
     "metadata": {},
     "output_type": "display_data"
    },
    {
     "data": {
      "application/vnd.jupyter.widget-view+json": {
       "model_id": "c71c0ff00c2b45589bba9ebb6ccd8197",
       "version_major": 2,
       "version_minor": 0
      },
      "text/plain": [
       "Getting_images:   0%|          | 0/100 [00:00<?, ?it/s]"
      ]
     },
     "metadata": {},
     "output_type": "display_data"
    },
    {
     "data": {
      "application/vnd.jupyter.widget-view+json": {
       "model_id": "34b2ae12785141fb8f6ee4edd948627a",
       "version_major": 2,
       "version_minor": 0
      },
      "text/plain": [
       "Getting_images:   0%|          | 0/100 [00:00<?, ?it/s]"
      ]
     },
     "metadata": {},
     "output_type": "display_data"
    },
    {
     "data": {
      "application/vnd.jupyter.widget-view+json": {
       "model_id": "cad17a510daa4c53b72901d134258527",
       "version_major": 2,
       "version_minor": 0
      },
      "text/plain": [
       "Getting_images:   0%|          | 0/100 [00:00<?, ?it/s]"
      ]
     },
     "metadata": {},
     "output_type": "display_data"
    },
    {
     "data": {
      "application/vnd.jupyter.widget-view+json": {
       "model_id": "e190feddf5c844fa8bf27bd5958396fd",
       "version_major": 2,
       "version_minor": 0
      },
      "text/plain": [
       "Getting_images:   0%|          | 0/100 [00:00<?, ?it/s]"
      ]
     },
     "metadata": {},
     "output_type": "display_data"
    },
    {
     "data": {
      "application/vnd.jupyter.widget-view+json": {
       "model_id": "8eec34a0681f4dd097a76fdf0aaaddc5",
       "version_major": 2,
       "version_minor": 0
      },
      "text/plain": [
       "Getting_images:   0%|          | 0/100 [00:00<?, ?it/s]"
      ]
     },
     "metadata": {},
     "output_type": "display_data"
    },
    {
     "data": {
      "application/vnd.jupyter.widget-view+json": {
       "model_id": "dc1ee58e0ec04ad9bf3bc1cb82045be6",
       "version_major": 2,
       "version_minor": 0
      },
      "text/plain": [
       "Getting_images:   0%|          | 0/100 [00:00<?, ?it/s]"
      ]
     },
     "metadata": {},
     "output_type": "display_data"
    },
    {
     "data": {
      "application/vnd.jupyter.widget-view+json": {
       "model_id": "3006f5a06f8b48b797e36fdb1015651c",
       "version_major": 2,
       "version_minor": 0
      },
      "text/plain": [
       "Getting_images:   0%|          | 0/100 [00:00<?, ?it/s]"
      ]
     },
     "metadata": {},
     "output_type": "display_data"
    },
    {
     "data": {
      "application/vnd.jupyter.widget-view+json": {
       "model_id": "1c904612b7144b95a4abeddbcb04c975",
       "version_major": 2,
       "version_minor": 0
      },
      "text/plain": [
       "Getting_images:   0%|          | 0/100 [00:00<?, ?it/s]"
      ]
     },
     "metadata": {},
     "output_type": "display_data"
    },
    {
     "data": {
      "application/vnd.jupyter.widget-view+json": {
       "model_id": "e9dcfee2595f439d922f8a45966c74e3",
       "version_major": 2,
       "version_minor": 0
      },
      "text/plain": [
       "Getting_images:   0%|          | 0/100 [00:00<?, ?it/s]"
      ]
     },
     "metadata": {},
     "output_type": "display_data"
    },
    {
     "data": {
      "application/vnd.jupyter.widget-view+json": {
       "model_id": "6ff89f9145b3436f96cd99b4a7467ed5",
       "version_major": 2,
       "version_minor": 0
      },
      "text/plain": [
       "Getting_images:   0%|          | 0/100 [00:00<?, ?it/s]"
      ]
     },
     "metadata": {},
     "output_type": "display_data"
    },
    {
     "data": {
      "application/vnd.jupyter.widget-view+json": {
       "model_id": "570843be71d64a33b26acecba8781e9e",
       "version_major": 2,
       "version_minor": 0
      },
      "text/plain": [
       "Getting_images:   0%|          | 0/100 [00:00<?, ?it/s]"
      ]
     },
     "metadata": {},
     "output_type": "display_data"
    },
    {
     "data": {
      "application/vnd.jupyter.widget-view+json": {
       "model_id": "e65914ad881e4330a88f459605633314",
       "version_major": 2,
       "version_minor": 0
      },
      "text/plain": [
       "Getting_images:   0%|          | 0/100 [00:00<?, ?it/s]"
      ]
     },
     "metadata": {},
     "output_type": "display_data"
    },
    {
     "data": {
      "application/vnd.jupyter.widget-view+json": {
       "model_id": "56512bbaaee3498d8cfea43d7179be6b",
       "version_major": 2,
       "version_minor": 0
      },
      "text/plain": [
       "Getting_images:   0%|          | 0/100 [00:00<?, ?it/s]"
      ]
     },
     "metadata": {},
     "output_type": "display_data"
    },
    {
     "data": {
      "application/vnd.jupyter.widget-view+json": {
       "model_id": "5caaefb332f8438eabab17b748770eab",
       "version_major": 2,
       "version_minor": 0
      },
      "text/plain": [
       "Getting_images:   0%|          | 0/100 [00:00<?, ?it/s]"
      ]
     },
     "metadata": {},
     "output_type": "display_data"
    },
    {
     "data": {
      "application/vnd.jupyter.widget-view+json": {
       "model_id": "ecdc359b16674210a9e53c70861ccb9f",
       "version_major": 2,
       "version_minor": 0
      },
      "text/plain": [
       "Getting_images:   0%|          | 0/100 [00:00<?, ?it/s]"
      ]
     },
     "metadata": {},
     "output_type": "display_data"
    },
    {
     "data": {
      "application/vnd.jupyter.widget-view+json": {
       "model_id": "736773bd318249b88712fcf0a6eed021",
       "version_major": 2,
       "version_minor": 0
      },
      "text/plain": [
       "Getting_images:   0%|          | 0/100 [00:00<?, ?it/s]"
      ]
     },
     "metadata": {},
     "output_type": "display_data"
    },
    {
     "data": {
      "application/vnd.jupyter.widget-view+json": {
       "model_id": "da6686285d9549368fd2b02fadf1779d",
       "version_major": 2,
       "version_minor": 0
      },
      "text/plain": [
       "Getting_images:   0%|          | 0/100 [00:00<?, ?it/s]"
      ]
     },
     "metadata": {},
     "output_type": "display_data"
    },
    {
     "data": {
      "application/vnd.jupyter.widget-view+json": {
       "model_id": "232a3a2feb064343af23f59c17fac32b",
       "version_major": 2,
       "version_minor": 0
      },
      "text/plain": [
       "Getting_images:   0%|          | 0/100 [00:00<?, ?it/s]"
      ]
     },
     "metadata": {},
     "output_type": "display_data"
    },
    {
     "data": {
      "application/vnd.jupyter.widget-view+json": {
       "model_id": "e3abf8bf3bed4668a0d0d471eeb5849e",
       "version_major": 2,
       "version_minor": 0
      },
      "text/plain": [
       "Getting_images:   0%|          | 0/100 [00:00<?, ?it/s]"
      ]
     },
     "metadata": {},
     "output_type": "display_data"
    },
    {
     "data": {
      "application/vnd.jupyter.widget-view+json": {
       "model_id": "40f0872a82f84227815399880b064693",
       "version_major": 2,
       "version_minor": 0
      },
      "text/plain": [
       "Getting_images:   0%|          | 0/100 [00:00<?, ?it/s]"
      ]
     },
     "metadata": {},
     "output_type": "display_data"
    },
    {
     "data": {
      "application/vnd.jupyter.widget-view+json": {
       "model_id": "ef8216af95c74155a475a749ace6d791",
       "version_major": 2,
       "version_minor": 0
      },
      "text/plain": [
       "Getting_images:   0%|          | 0/100 [00:00<?, ?it/s]"
      ]
     },
     "metadata": {},
     "output_type": "display_data"
    },
    {
     "data": {
      "application/vnd.jupyter.widget-view+json": {
       "model_id": "6275034f746d4943960e33b0d379960e",
       "version_major": 2,
       "version_minor": 0
      },
      "text/plain": [
       "Getting_images:   0%|          | 0/100 [00:00<?, ?it/s]"
      ]
     },
     "metadata": {},
     "output_type": "display_data"
    },
    {
     "data": {
      "application/vnd.jupyter.widget-view+json": {
       "model_id": "12caa67eaac240678364bc0a8c6a58f4",
       "version_major": 2,
       "version_minor": 0
      },
      "text/plain": [
       "Getting_images:   0%|          | 0/100 [00:00<?, ?it/s]"
      ]
     },
     "metadata": {},
     "output_type": "display_data"
    },
    {
     "data": {
      "application/vnd.jupyter.widget-view+json": {
       "model_id": "b584f5a9b1814a3ca737f949f1da7ef4",
       "version_major": 2,
       "version_minor": 0
      },
      "text/plain": [
       "Getting_images:   0%|          | 0/100 [00:00<?, ?it/s]"
      ]
     },
     "metadata": {},
     "output_type": "display_data"
    },
    {
     "data": {
      "application/vnd.jupyter.widget-view+json": {
       "model_id": "8ca5699856eb41d88681976a5f96498f",
       "version_major": 2,
       "version_minor": 0
      },
      "text/plain": [
       "Getting_images:   0%|          | 0/100 [00:00<?, ?it/s]"
      ]
     },
     "metadata": {},
     "output_type": "display_data"
    },
    {
     "data": {
      "application/vnd.jupyter.widget-view+json": {
       "model_id": "3b93baf14fb242c9b095140e802b6b65",
       "version_major": 2,
       "version_minor": 0
      },
      "text/plain": [
       "Getting_images:   0%|          | 0/100 [00:00<?, ?it/s]"
      ]
     },
     "metadata": {},
     "output_type": "display_data"
    },
    {
     "data": {
      "application/vnd.jupyter.widget-view+json": {
       "model_id": "9c99cda943d34491bf9cab04c3125a6d",
       "version_major": 2,
       "version_minor": 0
      },
      "text/plain": [
       "Getting_images:   0%|          | 0/100 [00:00<?, ?it/s]"
      ]
     },
     "metadata": {},
     "output_type": "display_data"
    },
    {
     "data": {
      "application/vnd.jupyter.widget-view+json": {
       "model_id": "2453af4eb3cd4a129edc3142b5657383",
       "version_major": 2,
       "version_minor": 0
      },
      "text/plain": [
       "Getting_images:   0%|          | 0/100 [00:00<?, ?it/s]"
      ]
     },
     "metadata": {},
     "output_type": "display_data"
    },
    {
     "data": {
      "application/vnd.jupyter.widget-view+json": {
       "model_id": "252a97a2c4a94a01b64604693e8eb791",
       "version_major": 2,
       "version_minor": 0
      },
      "text/plain": [
       "Getting_images:   0%|          | 0/100 [00:00<?, ?it/s]"
      ]
     },
     "metadata": {},
     "output_type": "display_data"
    },
    {
     "data": {
      "application/vnd.jupyter.widget-view+json": {
       "model_id": "48c852056bbc4cf39054cbaf022cc7aa",
       "version_major": 2,
       "version_minor": 0
      },
      "text/plain": [
       "Getting_images:   0%|          | 0/100 [00:00<?, ?it/s]"
      ]
     },
     "metadata": {},
     "output_type": "display_data"
    },
    {
     "data": {
      "application/vnd.jupyter.widget-view+json": {
       "model_id": "a2a593a6cb29467ca667e5ed54a043aa",
       "version_major": 2,
       "version_minor": 0
      },
      "text/plain": [
       "Getting_images:   0%|          | 0/100 [00:00<?, ?it/s]"
      ]
     },
     "metadata": {},
     "output_type": "display_data"
    },
    {
     "data": {
      "application/vnd.jupyter.widget-view+json": {
       "model_id": "f176587a3f7c47538c9e6cef3811e84a",
       "version_major": 2,
       "version_minor": 0
      },
      "text/plain": [
       "Getting_images:   0%|          | 0/100 [00:00<?, ?it/s]"
      ]
     },
     "metadata": {},
     "output_type": "display_data"
    },
    {
     "data": {
      "application/vnd.jupyter.widget-view+json": {
       "model_id": "1fe025936bfd41d895427671a1b6e1e5",
       "version_major": 2,
       "version_minor": 0
      },
      "text/plain": [
       "Getting_images:   0%|          | 0/100 [00:00<?, ?it/s]"
      ]
     },
     "metadata": {},
     "output_type": "display_data"
    },
    {
     "data": {
      "application/vnd.jupyter.widget-view+json": {
       "model_id": "eba3eeb26b6b4427b3951017d50bbcd6",
       "version_major": 2,
       "version_minor": 0
      },
      "text/plain": [
       "Getting_images:   0%|          | 0/100 [00:00<?, ?it/s]"
      ]
     },
     "metadata": {},
     "output_type": "display_data"
    },
    {
     "data": {
      "application/vnd.jupyter.widget-view+json": {
       "model_id": "1ed7b68d4854495ea07d17ed49bd75b7",
       "version_major": 2,
       "version_minor": 0
      },
      "text/plain": [
       "Getting_images:   0%|          | 0/100 [00:00<?, ?it/s]"
      ]
     },
     "metadata": {},
     "output_type": "display_data"
    },
    {
     "data": {
      "application/vnd.jupyter.widget-view+json": {
       "model_id": "7a1a3cfc7be54168acfda1ec405945eb",
       "version_major": 2,
       "version_minor": 0
      },
      "text/plain": [
       "Getting_images:   0%|          | 0/100 [00:00<?, ?it/s]"
      ]
     },
     "metadata": {},
     "output_type": "display_data"
    },
    {
     "data": {
      "application/vnd.jupyter.widget-view+json": {
       "model_id": "eaffa9a845ab4f0caac76d7037ee21c0",
       "version_major": 2,
       "version_minor": 0
      },
      "text/plain": [
       "Getting_images:   0%|          | 0/100 [00:00<?, ?it/s]"
      ]
     },
     "metadata": {},
     "output_type": "display_data"
    },
    {
     "data": {
      "application/vnd.jupyter.widget-view+json": {
       "model_id": "3a2bb57c577e4cd48a5ee382059d8d45",
       "version_major": 2,
       "version_minor": 0
      },
      "text/plain": [
       "Getting_images:   0%|          | 0/100 [00:00<?, ?it/s]"
      ]
     },
     "metadata": {},
     "output_type": "display_data"
    },
    {
     "data": {
      "application/vnd.jupyter.widget-view+json": {
       "model_id": "2e7ec2cf61924914945050d589ebfc44",
       "version_major": 2,
       "version_minor": 0
      },
      "text/plain": [
       "Getting_images:   0%|          | 0/100 [00:00<?, ?it/s]"
      ]
     },
     "metadata": {},
     "output_type": "display_data"
    },
    {
     "data": {
      "application/vnd.jupyter.widget-view+json": {
       "model_id": "4e0f31bf6ca742d5bddacfbfbc42e4a4",
       "version_major": 2,
       "version_minor": 0
      },
      "text/plain": [
       "Getting_images:   0%|          | 0/100 [00:00<?, ?it/s]"
      ]
     },
     "metadata": {},
     "output_type": "display_data"
    },
    {
     "data": {
      "application/vnd.jupyter.widget-view+json": {
       "model_id": "56cd8099a6464b869b1e47cd937b445c",
       "version_major": 2,
       "version_minor": 0
      },
      "text/plain": [
       "Getting_images:   0%|          | 0/100 [00:00<?, ?it/s]"
      ]
     },
     "metadata": {},
     "output_type": "display_data"
    },
    {
     "data": {
      "application/vnd.jupyter.widget-view+json": {
       "model_id": "de922110df4d455697b6c22d39cb2e0a",
       "version_major": 2,
       "version_minor": 0
      },
      "text/plain": [
       "Getting_images:   0%|          | 0/100 [00:00<?, ?it/s]"
      ]
     },
     "metadata": {},
     "output_type": "display_data"
    },
    {
     "data": {
      "application/vnd.jupyter.widget-view+json": {
       "model_id": "f813762d4f0f4751aa123d75a3a76086",
       "version_major": 2,
       "version_minor": 0
      },
      "text/plain": [
       "Getting_images:   0%|          | 0/100 [00:00<?, ?it/s]"
      ]
     },
     "metadata": {},
     "output_type": "display_data"
    },
    {
     "data": {
      "application/vnd.jupyter.widget-view+json": {
       "model_id": "cb7853901ee044e28f1da8b192531a9e",
       "version_major": 2,
       "version_minor": 0
      },
      "text/plain": [
       "Getting_images:   0%|          | 0/100 [00:00<?, ?it/s]"
      ]
     },
     "metadata": {},
     "output_type": "display_data"
    },
    {
     "data": {
      "application/vnd.jupyter.widget-view+json": {
       "model_id": "4fe7e0d0871144788a294facd91cdbfe",
       "version_major": 2,
       "version_minor": 0
      },
      "text/plain": [
       "Getting_images:   0%|          | 0/100 [00:00<?, ?it/s]"
      ]
     },
     "metadata": {},
     "output_type": "display_data"
    },
    {
     "data": {
      "application/vnd.jupyter.widget-view+json": {
       "model_id": "c842cca7cae14a5f9d555c53a88cb634",
       "version_major": 2,
       "version_minor": 0
      },
      "text/plain": [
       "Getting_images:   0%|          | 0/100 [00:00<?, ?it/s]"
      ]
     },
     "metadata": {},
     "output_type": "display_data"
    },
    {
     "data": {
      "application/vnd.jupyter.widget-view+json": {
       "model_id": "9ff7b63e145f47f3a0458a22ca187707",
       "version_major": 2,
       "version_minor": 0
      },
      "text/plain": [
       "Getting_images:   0%|          | 0/100 [00:00<?, ?it/s]"
      ]
     },
     "metadata": {},
     "output_type": "display_data"
    },
    {
     "data": {
      "application/vnd.jupyter.widget-view+json": {
       "model_id": "3b33042e25f5403b80c1ae1cb0723237",
       "version_major": 2,
       "version_minor": 0
      },
      "text/plain": [
       "Getting_images:   0%|          | 0/100 [00:00<?, ?it/s]"
      ]
     },
     "metadata": {},
     "output_type": "display_data"
    },
    {
     "data": {
      "application/vnd.jupyter.widget-view+json": {
       "model_id": "ae6b34297a10419c9a37a4b7aa268000",
       "version_major": 2,
       "version_minor": 0
      },
      "text/plain": [
       "Getting_images:   0%|          | 0/100 [00:00<?, ?it/s]"
      ]
     },
     "metadata": {},
     "output_type": "display_data"
    },
    {
     "data": {
      "application/vnd.jupyter.widget-view+json": {
       "model_id": "ab8474753f5a4c399836160693d1d42e",
       "version_major": 2,
       "version_minor": 0
      },
      "text/plain": [
       "Getting_images:   0%|          | 0/100 [00:00<?, ?it/s]"
      ]
     },
     "metadata": {},
     "output_type": "display_data"
    },
    {
     "data": {
      "application/vnd.jupyter.widget-view+json": {
       "model_id": "63fe8f7020034ecb8b110a74999da30c",
       "version_major": 2,
       "version_minor": 0
      },
      "text/plain": [
       "Getting_images:   0%|          | 0/100 [00:00<?, ?it/s]"
      ]
     },
     "metadata": {},
     "output_type": "display_data"
    },
    {
     "data": {
      "application/vnd.jupyter.widget-view+json": {
       "model_id": "925f69dddc934e609929fd56abf05ea9",
       "version_major": 2,
       "version_minor": 0
      },
      "text/plain": [
       "Getting_images:   0%|          | 0/100 [00:00<?, ?it/s]"
      ]
     },
     "metadata": {},
     "output_type": "display_data"
    },
    {
     "data": {
      "application/vnd.jupyter.widget-view+json": {
       "model_id": "ea3276c79df54d72b761ddc18d18c4d3",
       "version_major": 2,
       "version_minor": 0
      },
      "text/plain": [
       "Getting_images:   0%|          | 0/100 [00:00<?, ?it/s]"
      ]
     },
     "metadata": {},
     "output_type": "display_data"
    },
    {
     "data": {
      "application/vnd.jupyter.widget-view+json": {
       "model_id": "15511732b42140b08a943d3d49a4cfe3",
       "version_major": 2,
       "version_minor": 0
      },
      "text/plain": [
       "Getting_images:   0%|          | 0/100 [00:00<?, ?it/s]"
      ]
     },
     "metadata": {},
     "output_type": "display_data"
    },
    {
     "data": {
      "application/vnd.jupyter.widget-view+json": {
       "model_id": "c81babd006fd4a70bdea9da55f3b9b1f",
       "version_major": 2,
       "version_minor": 0
      },
      "text/plain": [
       "Getting_images:   0%|          | 0/100 [00:00<?, ?it/s]"
      ]
     },
     "metadata": {},
     "output_type": "display_data"
    },
    {
     "data": {
      "application/vnd.jupyter.widget-view+json": {
       "model_id": "918257f752684533b4f33b6841337da1",
       "version_major": 2,
       "version_minor": 0
      },
      "text/plain": [
       "Getting_images:   0%|          | 0/100 [00:00<?, ?it/s]"
      ]
     },
     "metadata": {},
     "output_type": "display_data"
    },
    {
     "data": {
      "application/vnd.jupyter.widget-view+json": {
       "model_id": "b73bcf5923894158aea77a98168dbc73",
       "version_major": 2,
       "version_minor": 0
      },
      "text/plain": [
       "Getting_images:   0%|          | 0/100 [00:00<?, ?it/s]"
      ]
     },
     "metadata": {},
     "output_type": "display_data"
    },
    {
     "data": {
      "application/vnd.jupyter.widget-view+json": {
       "model_id": "126f7fea98ad48fa8767243d1f869a9a",
       "version_major": 2,
       "version_minor": 0
      },
      "text/plain": [
       "Getting_images:   0%|          | 0/100 [00:00<?, ?it/s]"
      ]
     },
     "metadata": {},
     "output_type": "display_data"
    },
    {
     "data": {
      "application/vnd.jupyter.widget-view+json": {
       "model_id": "af4debab0a354b5782701d6f5e266992",
       "version_major": 2,
       "version_minor": 0
      },
      "text/plain": [
       "Getting_images:   0%|          | 0/100 [00:00<?, ?it/s]"
      ]
     },
     "metadata": {},
     "output_type": "display_data"
    },
    {
     "data": {
      "application/vnd.jupyter.widget-view+json": {
       "model_id": "dde330665bf841e6a7d3cbbdc6ac132c",
       "version_major": 2,
       "version_minor": 0
      },
      "text/plain": [
       "Getting_images:   0%|          | 0/100 [00:00<?, ?it/s]"
      ]
     },
     "metadata": {},
     "output_type": "display_data"
    },
    {
     "data": {
      "application/vnd.jupyter.widget-view+json": {
       "model_id": "db2f188a61ce40a4883f3bd091405870",
       "version_major": 2,
       "version_minor": 0
      },
      "text/plain": [
       "Getting_images:   0%|          | 0/100 [00:00<?, ?it/s]"
      ]
     },
     "metadata": {},
     "output_type": "display_data"
    },
    {
     "data": {
      "application/vnd.jupyter.widget-view+json": {
       "model_id": "e50f5f7967344b56a71f86692f9b3963",
       "version_major": 2,
       "version_minor": 0
      },
      "text/plain": [
       "Getting_images:   0%|          | 0/100 [00:00<?, ?it/s]"
      ]
     },
     "metadata": {},
     "output_type": "display_data"
    },
    {
     "data": {
      "application/vnd.jupyter.widget-view+json": {
       "model_id": "66ff900ca0e34198af4626960b4f620f",
       "version_major": 2,
       "version_minor": 0
      },
      "text/plain": [
       "Getting_images:   0%|          | 0/100 [00:00<?, ?it/s]"
      ]
     },
     "metadata": {},
     "output_type": "display_data"
    },
    {
     "data": {
      "application/vnd.jupyter.widget-view+json": {
       "model_id": "2171da54ff694a6790983739a7b70fef",
       "version_major": 2,
       "version_minor": 0
      },
      "text/plain": [
       "Getting_images:   0%|          | 0/100 [00:00<?, ?it/s]"
      ]
     },
     "metadata": {},
     "output_type": "display_data"
    },
    {
     "data": {
      "application/vnd.jupyter.widget-view+json": {
       "model_id": "1a1068f2f58a41ddb781ba8765dfaa8b",
       "version_major": 2,
       "version_minor": 0
      },
      "text/plain": [
       "Getting_images:   0%|          | 0/100 [00:00<?, ?it/s]"
      ]
     },
     "metadata": {},
     "output_type": "display_data"
    },
    {
     "data": {
      "application/vnd.jupyter.widget-view+json": {
       "model_id": "0c9760452ee34e038ab65c62f102a901",
       "version_major": 2,
       "version_minor": 0
      },
      "text/plain": [
       "Getting_images:   0%|          | 0/100 [00:00<?, ?it/s]"
      ]
     },
     "metadata": {},
     "output_type": "display_data"
    },
    {
     "data": {
      "application/vnd.jupyter.widget-view+json": {
       "model_id": "fed19b20cd174d288b838772fc793d20",
       "version_major": 2,
       "version_minor": 0
      },
      "text/plain": [
       "Getting_images:   0%|          | 0/100 [00:00<?, ?it/s]"
      ]
     },
     "metadata": {},
     "output_type": "display_data"
    },
    {
     "data": {
      "application/vnd.jupyter.widget-view+json": {
       "model_id": "75a2bd41fdc64594afd6d27bff1e6fd3",
       "version_major": 2,
       "version_minor": 0
      },
      "text/plain": [
       "Getting_images:   0%|          | 0/100 [00:00<?, ?it/s]"
      ]
     },
     "metadata": {},
     "output_type": "display_data"
    },
    {
     "data": {
      "application/vnd.jupyter.widget-view+json": {
       "model_id": "3effb575d4f048f399a77a0ae22b0a86",
       "version_major": 2,
       "version_minor": 0
      },
      "text/plain": [
       "Getting_images:   0%|          | 0/100 [00:00<?, ?it/s]"
      ]
     },
     "metadata": {},
     "output_type": "display_data"
    },
    {
     "data": {
      "application/vnd.jupyter.widget-view+json": {
       "model_id": "456ae8d2191943dea25f2debae8bfe14",
       "version_major": 2,
       "version_minor": 0
      },
      "text/plain": [
       "Getting_images:   0%|          | 0/100 [00:00<?, ?it/s]"
      ]
     },
     "metadata": {},
     "output_type": "display_data"
    },
    {
     "data": {
      "application/vnd.jupyter.widget-view+json": {
       "model_id": "af38b6e4e64f45019631616eee7b0bb0",
       "version_major": 2,
       "version_minor": 0
      },
      "text/plain": [
       "Getting_images:   0%|          | 0/100 [00:00<?, ?it/s]"
      ]
     },
     "metadata": {},
     "output_type": "display_data"
    },
    {
     "data": {
      "application/vnd.jupyter.widget-view+json": {
       "model_id": "a7d1a20015974231bff3b8dc91e30aa4",
       "version_major": 2,
       "version_minor": 0
      },
      "text/plain": [
       "Getting_images:   0%|          | 0/100 [00:00<?, ?it/s]"
      ]
     },
     "metadata": {},
     "output_type": "display_data"
    },
    {
     "data": {
      "application/vnd.jupyter.widget-view+json": {
       "model_id": "4dacdd8e5d164cd4b31fe6c006d7a296",
       "version_major": 2,
       "version_minor": 0
      },
      "text/plain": [
       "Getting_images:   0%|          | 0/100 [00:00<?, ?it/s]"
      ]
     },
     "metadata": {},
     "output_type": "display_data"
    },
    {
     "data": {
      "application/vnd.jupyter.widget-view+json": {
       "model_id": "96d61da24c1141c798c47e1ca22d1ff9",
       "version_major": 2,
       "version_minor": 0
      },
      "text/plain": [
       "Getting_images:   0%|          | 0/100 [00:00<?, ?it/s]"
      ]
     },
     "metadata": {},
     "output_type": "display_data"
    },
    {
     "data": {
      "application/vnd.jupyter.widget-view+json": {
       "model_id": "66a18d9ea30f41489c7afb16b3549594",
       "version_major": 2,
       "version_minor": 0
      },
      "text/plain": [
       "Getting_images:   0%|          | 0/100 [00:00<?, ?it/s]"
      ]
     },
     "metadata": {},
     "output_type": "display_data"
    },
    {
     "data": {
      "application/vnd.jupyter.widget-view+json": {
       "model_id": "0f2d0eda238143888bb8abfda1922d6b",
       "version_major": 2,
       "version_minor": 0
      },
      "text/plain": [
       "Getting_images:   0%|          | 0/100 [00:00<?, ?it/s]"
      ]
     },
     "metadata": {},
     "output_type": "display_data"
    },
    {
     "data": {
      "application/vnd.jupyter.widget-view+json": {
       "model_id": "3924b2587d4f4d4ab9a5a2f31936f359",
       "version_major": 2,
       "version_minor": 0
      },
      "text/plain": [
       "Getting_images:   0%|          | 0/100 [00:00<?, ?it/s]"
      ]
     },
     "metadata": {},
     "output_type": "display_data"
    },
    {
     "data": {
      "application/vnd.jupyter.widget-view+json": {
       "model_id": "7b3dfcbf2f50464cb7256833d8f0f046",
       "version_major": 2,
       "version_minor": 0
      },
      "text/plain": [
       "Getting_images:   0%|          | 0/100 [00:00<?, ?it/s]"
      ]
     },
     "metadata": {},
     "output_type": "display_data"
    },
    {
     "data": {
      "application/vnd.jupyter.widget-view+json": {
       "model_id": "bda55552b3c84e49bd3d5e0f70c288cb",
       "version_major": 2,
       "version_minor": 0
      },
      "text/plain": [
       "Getting_images:   0%|          | 0/100 [00:00<?, ?it/s]"
      ]
     },
     "metadata": {},
     "output_type": "display_data"
    },
    {
     "data": {
      "application/vnd.jupyter.widget-view+json": {
       "model_id": "e7b0bbbd779149acb05e11091a88957a",
       "version_major": 2,
       "version_minor": 0
      },
      "text/plain": [
       "Getting_images:   0%|          | 0/100 [00:00<?, ?it/s]"
      ]
     },
     "metadata": {},
     "output_type": "display_data"
    },
    {
     "data": {
      "application/vnd.jupyter.widget-view+json": {
       "model_id": "f94a264ea5094156a40edf8ef903234a",
       "version_major": 2,
       "version_minor": 0
      },
      "text/plain": [
       "Getting_images:   0%|          | 0/100 [00:00<?, ?it/s]"
      ]
     },
     "metadata": {},
     "output_type": "display_data"
    },
    {
     "data": {
      "application/vnd.jupyter.widget-view+json": {
       "model_id": "fe159d38306b41b69ffaaa64912e3782",
       "version_major": 2,
       "version_minor": 0
      },
      "text/plain": [
       "Getting_images:   0%|          | 0/100 [00:00<?, ?it/s]"
      ]
     },
     "metadata": {},
     "output_type": "display_data"
    },
    {
     "data": {
      "application/vnd.jupyter.widget-view+json": {
       "model_id": "865614319cc3436893c2725b99423512",
       "version_major": 2,
       "version_minor": 0
      },
      "text/plain": [
       "Getting_images:   0%|          | 0/100 [00:00<?, ?it/s]"
      ]
     },
     "metadata": {},
     "output_type": "display_data"
    },
    {
     "data": {
      "application/vnd.jupyter.widget-view+json": {
       "model_id": "9e845bdad3f741d595c959f45bb47b0f",
       "version_major": 2,
       "version_minor": 0
      },
      "text/plain": [
       "Getting_images:   0%|          | 0/100 [00:00<?, ?it/s]"
      ]
     },
     "metadata": {},
     "output_type": "display_data"
    },
    {
     "data": {
      "application/vnd.jupyter.widget-view+json": {
       "model_id": "d3bd4d8003a54306874e169beb499e89",
       "version_major": 2,
       "version_minor": 0
      },
      "text/plain": [
       "Getting_images:   0%|          | 0/100 [00:00<?, ?it/s]"
      ]
     },
     "metadata": {},
     "output_type": "display_data"
    },
    {
     "data": {
      "application/vnd.jupyter.widget-view+json": {
       "model_id": "df8f20073df3454e8f0b1fbbd84be4d1",
       "version_major": 2,
       "version_minor": 0
      },
      "text/plain": [
       "Getting_images:   0%|          | 0/100 [00:00<?, ?it/s]"
      ]
     },
     "metadata": {},
     "output_type": "display_data"
    },
    {
     "data": {
      "application/vnd.jupyter.widget-view+json": {
       "model_id": "933c5a9c6f3d42abb5976377a7056d1e",
       "version_major": 2,
       "version_minor": 0
      },
      "text/plain": [
       "Getting_images:   0%|          | 0/100 [00:00<?, ?it/s]"
      ]
     },
     "metadata": {},
     "output_type": "display_data"
    },
    {
     "data": {
      "application/vnd.jupyter.widget-view+json": {
       "model_id": "4ccf0bddcbcb49368c1f2d3ed6204b33",
       "version_major": 2,
       "version_minor": 0
      },
      "text/plain": [
       "Getting_images:   0%|          | 0/100 [00:00<?, ?it/s]"
      ]
     },
     "metadata": {},
     "output_type": "display_data"
    },
    {
     "data": {
      "application/vnd.jupyter.widget-view+json": {
       "model_id": "0408ec877741407380e5d67a2f4e3344",
       "version_major": 2,
       "version_minor": 0
      },
      "text/plain": [
       "Getting_images:   0%|          | 0/100 [00:00<?, ?it/s]"
      ]
     },
     "metadata": {},
     "output_type": "display_data"
    },
    {
     "data": {
      "application/vnd.jupyter.widget-view+json": {
       "model_id": "24fc5dbaf7384be79eb7cb28a9751c62",
       "version_major": 2,
       "version_minor": 0
      },
      "text/plain": [
       "Getting_images:   0%|          | 0/100 [00:00<?, ?it/s]"
      ]
     },
     "metadata": {},
     "output_type": "display_data"
    },
    {
     "data": {
      "application/vnd.jupyter.widget-view+json": {
       "model_id": "e4c4f593d14c46ab979e89e47c0853a7",
       "version_major": 2,
       "version_minor": 0
      },
      "text/plain": [
       "Getting_images:   0%|          | 0/100 [00:00<?, ?it/s]"
      ]
     },
     "metadata": {},
     "output_type": "display_data"
    },
    {
     "data": {
      "application/vnd.jupyter.widget-view+json": {
       "model_id": "91b3d36e0d054384ac53b6dab679bad8",
       "version_major": 2,
       "version_minor": 0
      },
      "text/plain": [
       "Getting_images:   0%|          | 0/100 [00:00<?, ?it/s]"
      ]
     },
     "metadata": {},
     "output_type": "display_data"
    },
    {
     "data": {
      "application/vnd.jupyter.widget-view+json": {
       "model_id": "1a9d9529082a42f09bcb6715c71397b8",
       "version_major": 2,
       "version_minor": 0
      },
      "text/plain": [
       "Getting_images:   0%|          | 0/100 [00:00<?, ?it/s]"
      ]
     },
     "metadata": {},
     "output_type": "display_data"
    },
    {
     "data": {
      "application/vnd.jupyter.widget-view+json": {
       "model_id": "87e0329417524a48bca9b2fad5a2091d",
       "version_major": 2,
       "version_minor": 0
      },
      "text/plain": [
       "Getting_images:   0%|          | 0/100 [00:00<?, ?it/s]"
      ]
     },
     "metadata": {},
     "output_type": "display_data"
    },
    {
     "data": {
      "application/vnd.jupyter.widget-view+json": {
       "model_id": "2b8bea3401bd4ba792e8698dbb52d101",
       "version_major": 2,
       "version_minor": 0
      },
      "text/plain": [
       "Getting_images:   0%|          | 0/100 [00:00<?, ?it/s]"
      ]
     },
     "metadata": {},
     "output_type": "display_data"
    },
    {
     "data": {
      "application/vnd.jupyter.widget-view+json": {
       "model_id": "9eff206e865d4477aae1d0d124e63667",
       "version_major": 2,
       "version_minor": 0
      },
      "text/plain": [
       "Getting_images:   0%|          | 0/100 [00:00<?, ?it/s]"
      ]
     },
     "metadata": {},
     "output_type": "display_data"
    },
    {
     "data": {
      "application/vnd.jupyter.widget-view+json": {
       "model_id": "f624587c8e6842e392bf1e19e71ac474",
       "version_major": 2,
       "version_minor": 0
      },
      "text/plain": [
       "Getting_images:   0%|          | 0/100 [00:00<?, ?it/s]"
      ]
     },
     "metadata": {},
     "output_type": "display_data"
    },
    {
     "data": {
      "application/vnd.jupyter.widget-view+json": {
       "model_id": "a7300ed0c86244b58d300e9656954c0a",
       "version_major": 2,
       "version_minor": 0
      },
      "text/plain": [
       "Getting_images:   0%|          | 0/100 [00:00<?, ?it/s]"
      ]
     },
     "metadata": {},
     "output_type": "display_data"
    },
    {
     "data": {
      "application/vnd.jupyter.widget-view+json": {
       "model_id": "5d786a2f36f74955a509ff57938d9b31",
       "version_major": 2,
       "version_minor": 0
      },
      "text/plain": [
       "Getting_images:   0%|          | 0/100 [00:00<?, ?it/s]"
      ]
     },
     "metadata": {},
     "output_type": "display_data"
    },
    {
     "data": {
      "application/vnd.jupyter.widget-view+json": {
       "model_id": "fa3f91df454a43de97b830599c5cfa60",
       "version_major": 2,
       "version_minor": 0
      },
      "text/plain": [
       "Getting_images:   0%|          | 0/100 [00:00<?, ?it/s]"
      ]
     },
     "metadata": {},
     "output_type": "display_data"
    },
    {
     "data": {
      "application/vnd.jupyter.widget-view+json": {
       "model_id": "f79026014ba7498d80260289c08219fd",
       "version_major": 2,
       "version_minor": 0
      },
      "text/plain": [
       "Getting_images:   0%|          | 0/100 [00:00<?, ?it/s]"
      ]
     },
     "metadata": {},
     "output_type": "display_data"
    },
    {
     "data": {
      "application/vnd.jupyter.widget-view+json": {
       "model_id": "ecfec57dfaa64f13bbce118ef9b49021",
       "version_major": 2,
       "version_minor": 0
      },
      "text/plain": [
       "Getting_images:   0%|          | 0/100 [00:00<?, ?it/s]"
      ]
     },
     "metadata": {},
     "output_type": "display_data"
    },
    {
     "data": {
      "application/vnd.jupyter.widget-view+json": {
       "model_id": "73169b11eba9462d85fd5f5025e641a7",
       "version_major": 2,
       "version_minor": 0
      },
      "text/plain": [
       "Getting_images:   0%|          | 0/100 [00:00<?, ?it/s]"
      ]
     },
     "metadata": {},
     "output_type": "display_data"
    },
    {
     "data": {
      "application/vnd.jupyter.widget-view+json": {
       "model_id": "3a8991291bb54fe5bd9e5c7d8c67646e",
       "version_major": 2,
       "version_minor": 0
      },
      "text/plain": [
       "Getting_images:   0%|          | 0/100 [00:00<?, ?it/s]"
      ]
     },
     "metadata": {},
     "output_type": "display_data"
    },
    {
     "data": {
      "application/vnd.jupyter.widget-view+json": {
       "model_id": "f5214e3ded3044519fce4888f1395e63",
       "version_major": 2,
       "version_minor": 0
      },
      "text/plain": [
       "Getting_images:   0%|          | 0/100 [00:00<?, ?it/s]"
      ]
     },
     "metadata": {},
     "output_type": "display_data"
    },
    {
     "data": {
      "application/vnd.jupyter.widget-view+json": {
       "model_id": "ce004dd922e8425c9cfb91d8a87c1cb0",
       "version_major": 2,
       "version_minor": 0
      },
      "text/plain": [
       "Getting_images:   0%|          | 0/100 [00:00<?, ?it/s]"
      ]
     },
     "metadata": {},
     "output_type": "display_data"
    },
    {
     "data": {
      "application/vnd.jupyter.widget-view+json": {
       "model_id": "d3226368756a410c965234bec827d6a2",
       "version_major": 2,
       "version_minor": 0
      },
      "text/plain": [
       "Getting_images:   0%|          | 0/100 [00:00<?, ?it/s]"
      ]
     },
     "metadata": {},
     "output_type": "display_data"
    },
    {
     "data": {
      "application/vnd.jupyter.widget-view+json": {
       "model_id": "79fc5e7b409246e9a3c6a469d767f736",
       "version_major": 2,
       "version_minor": 0
      },
      "text/plain": [
       "Getting_images:   0%|          | 0/100 [00:00<?, ?it/s]"
      ]
     },
     "metadata": {},
     "output_type": "display_data"
    },
    {
     "data": {
      "application/vnd.jupyter.widget-view+json": {
       "model_id": "9fede82a149b49bbaa7173688d655c92",
       "version_major": 2,
       "version_minor": 0
      },
      "text/plain": [
       "Getting_images:   0%|          | 0/100 [00:00<?, ?it/s]"
      ]
     },
     "metadata": {},
     "output_type": "display_data"
    },
    {
     "data": {
      "application/vnd.jupyter.widget-view+json": {
       "model_id": "69707dc055074816b35623d3ab3aa49f",
       "version_major": 2,
       "version_minor": 0
      },
      "text/plain": [
       "Getting_images:   0%|          | 0/100 [00:00<?, ?it/s]"
      ]
     },
     "metadata": {},
     "output_type": "display_data"
    },
    {
     "data": {
      "application/vnd.jupyter.widget-view+json": {
       "model_id": "51563af16fe94ab588f6ce315568dc43",
       "version_major": 2,
       "version_minor": 0
      },
      "text/plain": [
       "Getting_images:   0%|          | 0/100 [00:00<?, ?it/s]"
      ]
     },
     "metadata": {},
     "output_type": "display_data"
    },
    {
     "data": {
      "application/vnd.jupyter.widget-view+json": {
       "model_id": "0404eb45b417499da564b7bb9f617138",
       "version_major": 2,
       "version_minor": 0
      },
      "text/plain": [
       "Getting_images:   0%|          | 0/100 [00:00<?, ?it/s]"
      ]
     },
     "metadata": {},
     "output_type": "display_data"
    },
    {
     "data": {
      "application/vnd.jupyter.widget-view+json": {
       "model_id": "81aaec217fde4e799eb85866f94fc0a5",
       "version_major": 2,
       "version_minor": 0
      },
      "text/plain": [
       "Getting_images:   0%|          | 0/100 [00:00<?, ?it/s]"
      ]
     },
     "metadata": {},
     "output_type": "display_data"
    },
    {
     "data": {
      "application/vnd.jupyter.widget-view+json": {
       "model_id": "5d64ceda8c64494aba25d6c34125ecf0",
       "version_major": 2,
       "version_minor": 0
      },
      "text/plain": [
       "Getting_images:   0%|          | 0/100 [00:00<?, ?it/s]"
      ]
     },
     "metadata": {},
     "output_type": "display_data"
    },
    {
     "data": {
      "application/vnd.jupyter.widget-view+json": {
       "model_id": "8bbc61ad0ce941d1b1ebfac41d98967b",
       "version_major": 2,
       "version_minor": 0
      },
      "text/plain": [
       "Getting_images:   0%|          | 0/100 [00:00<?, ?it/s]"
      ]
     },
     "metadata": {},
     "output_type": "display_data"
    },
    {
     "data": {
      "application/vnd.jupyter.widget-view+json": {
       "model_id": "39406fd5ac7847ac85d79bded4efed97",
       "version_major": 2,
       "version_minor": 0
      },
      "text/plain": [
       "Getting_images:   0%|          | 0/100 [00:00<?, ?it/s]"
      ]
     },
     "metadata": {},
     "output_type": "display_data"
    },
    {
     "data": {
      "application/vnd.jupyter.widget-view+json": {
       "model_id": "6ce4eb0adb2d4fa6ab34ab3cafb56669",
       "version_major": 2,
       "version_minor": 0
      },
      "text/plain": [
       "Getting_images:   0%|          | 0/100 [00:00<?, ?it/s]"
      ]
     },
     "metadata": {},
     "output_type": "display_data"
    },
    {
     "data": {
      "application/vnd.jupyter.widget-view+json": {
       "model_id": "c03f9dc044ed454cb8a9c09a25b06509",
       "version_major": 2,
       "version_minor": 0
      },
      "text/plain": [
       "Getting_images:   0%|          | 0/100 [00:00<?, ?it/s]"
      ]
     },
     "metadata": {},
     "output_type": "display_data"
    },
    {
     "data": {
      "application/vnd.jupyter.widget-view+json": {
       "model_id": "e32593a69f83472db3f43ee5959b3b9a",
       "version_major": 2,
       "version_minor": 0
      },
      "text/plain": [
       "Getting_images:   0%|          | 0/100 [00:00<?, ?it/s]"
      ]
     },
     "metadata": {},
     "output_type": "display_data"
    },
    {
     "data": {
      "application/vnd.jupyter.widget-view+json": {
       "model_id": "fb5eb200002446f3bd78bb2d1b71d8aa",
       "version_major": 2,
       "version_minor": 0
      },
      "text/plain": [
       "Getting_images:   0%|          | 0/100 [00:00<?, ?it/s]"
      ]
     },
     "metadata": {},
     "output_type": "display_data"
    },
    {
     "data": {
      "application/vnd.jupyter.widget-view+json": {
       "model_id": "6dbd90e28c104992bf1d9fb3c852a3fc",
       "version_major": 2,
       "version_minor": 0
      },
      "text/plain": [
       "Getting_images:   0%|          | 0/100 [00:00<?, ?it/s]"
      ]
     },
     "metadata": {},
     "output_type": "display_data"
    },
    {
     "data": {
      "application/vnd.jupyter.widget-view+json": {
       "model_id": "528e3fee144f44389263e50501fab393",
       "version_major": 2,
       "version_minor": 0
      },
      "text/plain": [
       "Getting_images:   0%|          | 0/100 [00:00<?, ?it/s]"
      ]
     },
     "metadata": {},
     "output_type": "display_data"
    },
    {
     "data": {
      "application/vnd.jupyter.widget-view+json": {
       "model_id": "71d724c06d864388b94793126bfd2d6c",
       "version_major": 2,
       "version_minor": 0
      },
      "text/plain": [
       "Getting_images:   0%|          | 0/100 [00:00<?, ?it/s]"
      ]
     },
     "metadata": {},
     "output_type": "display_data"
    },
    {
     "data": {
      "application/vnd.jupyter.widget-view+json": {
       "model_id": "38047e8c275947b69906c5ec4c6f1c4f",
       "version_major": 2,
       "version_minor": 0
      },
      "text/plain": [
       "Getting_images:   0%|          | 0/100 [00:00<?, ?it/s]"
      ]
     },
     "metadata": {},
     "output_type": "display_data"
    },
    {
     "data": {
      "application/vnd.jupyter.widget-view+json": {
       "model_id": "7b5f17309ff34767b9f4f7049d13ee43",
       "version_major": 2,
       "version_minor": 0
      },
      "text/plain": [
       "Getting_images:   0%|          | 0/100 [00:00<?, ?it/s]"
      ]
     },
     "metadata": {},
     "output_type": "display_data"
    },
    {
     "data": {
      "application/vnd.jupyter.widget-view+json": {
       "model_id": "95c9f505bb084f70b18a584ecc984bff",
       "version_major": 2,
       "version_minor": 0
      },
      "text/plain": [
       "Getting_images:   0%|          | 0/100 [00:00<?, ?it/s]"
      ]
     },
     "metadata": {},
     "output_type": "display_data"
    },
    {
     "data": {
      "application/vnd.jupyter.widget-view+json": {
       "model_id": "42048ed14e4e4138980ee9eb7e5b6485",
       "version_major": 2,
       "version_minor": 0
      },
      "text/plain": [
       "Getting_images:   0%|          | 0/100 [00:00<?, ?it/s]"
      ]
     },
     "metadata": {},
     "output_type": "display_data"
    },
    {
     "data": {
      "application/vnd.jupyter.widget-view+json": {
       "model_id": "c47fe85b6b3c42c6aa7a74b10ee0d35b",
       "version_major": 2,
       "version_minor": 0
      },
      "text/plain": [
       "Getting_images:   0%|          | 0/100 [00:00<?, ?it/s]"
      ]
     },
     "metadata": {},
     "output_type": "display_data"
    },
    {
     "data": {
      "application/vnd.jupyter.widget-view+json": {
       "model_id": "44d92e18dfa84d0ea5935b14a6e16d12",
       "version_major": 2,
       "version_minor": 0
      },
      "text/plain": [
       "Getting_images:   0%|          | 0/100 [00:00<?, ?it/s]"
      ]
     },
     "metadata": {},
     "output_type": "display_data"
    },
    {
     "data": {
      "application/vnd.jupyter.widget-view+json": {
       "model_id": "68fbafe80f0347a8ba00aab031f2ef77",
       "version_major": 2,
       "version_minor": 0
      },
      "text/plain": [
       "Getting_images:   0%|          | 0/100 [00:00<?, ?it/s]"
      ]
     },
     "metadata": {},
     "output_type": "display_data"
    },
    {
     "data": {
      "application/vnd.jupyter.widget-view+json": {
       "model_id": "db11d93ea9e6459eafef798f4827721a",
       "version_major": 2,
       "version_minor": 0
      },
      "text/plain": [
       "Getting_images:   0%|          | 0/100 [00:00<?, ?it/s]"
      ]
     },
     "metadata": {},
     "output_type": "display_data"
    },
    {
     "data": {
      "application/vnd.jupyter.widget-view+json": {
       "model_id": "ac836ea7f1324a8e826a029f4cbe91a2",
       "version_major": 2,
       "version_minor": 0
      },
      "text/plain": [
       "Getting_images:   0%|          | 0/100 [00:00<?, ?it/s]"
      ]
     },
     "metadata": {},
     "output_type": "display_data"
    },
    {
     "data": {
      "application/vnd.jupyter.widget-view+json": {
       "model_id": "b6b5f61c64bc4e0582e008462fcef860",
       "version_major": 2,
       "version_minor": 0
      },
      "text/plain": [
       "Getting_images:   0%|          | 0/100 [00:00<?, ?it/s]"
      ]
     },
     "metadata": {},
     "output_type": "display_data"
    },
    {
     "data": {
      "application/vnd.jupyter.widget-view+json": {
       "model_id": "5fd4cd2349d048cf84ab433b9caba775",
       "version_major": 2,
       "version_minor": 0
      },
      "text/plain": [
       "Getting_images:   0%|          | 0/100 [00:00<?, ?it/s]"
      ]
     },
     "metadata": {},
     "output_type": "display_data"
    },
    {
     "data": {
      "application/vnd.jupyter.widget-view+json": {
       "model_id": "35e9d0d2697f42d3a228f4f491523928",
       "version_major": 2,
       "version_minor": 0
      },
      "text/plain": [
       "Getting_images:   0%|          | 0/100 [00:00<?, ?it/s]"
      ]
     },
     "metadata": {},
     "output_type": "display_data"
    },
    {
     "data": {
      "application/vnd.jupyter.widget-view+json": {
       "model_id": "e713a0bdf8f348cd8766717c5751e140",
       "version_major": 2,
       "version_minor": 0
      },
      "text/plain": [
       "Getting_images:   0%|          | 0/100 [00:00<?, ?it/s]"
      ]
     },
     "metadata": {},
     "output_type": "display_data"
    },
    {
     "data": {
      "application/vnd.jupyter.widget-view+json": {
       "model_id": "b88c47ec859144018cdebbcefe05fccd",
       "version_major": 2,
       "version_minor": 0
      },
      "text/plain": [
       "Getting_images:   0%|          | 0/100 [00:00<?, ?it/s]"
      ]
     },
     "metadata": {},
     "output_type": "display_data"
    },
    {
     "data": {
      "application/vnd.jupyter.widget-view+json": {
       "model_id": "22ed60702f9549e9a4d7bca1f4fb412d",
       "version_major": 2,
       "version_minor": 0
      },
      "text/plain": [
       "Getting_images:   0%|          | 0/100 [00:00<?, ?it/s]"
      ]
     },
     "metadata": {},
     "output_type": "display_data"
    },
    {
     "data": {
      "application/vnd.jupyter.widget-view+json": {
       "model_id": "d59bbb5c39a8422bbf271cd26156146e",
       "version_major": 2,
       "version_minor": 0
      },
      "text/plain": [
       "Getting_images:   0%|          | 0/100 [00:00<?, ?it/s]"
      ]
     },
     "metadata": {},
     "output_type": "display_data"
    },
    {
     "data": {
      "application/vnd.jupyter.widget-view+json": {
       "model_id": "03202ea6476a441e852ebcb99cc14fd3",
       "version_major": 2,
       "version_minor": 0
      },
      "text/plain": [
       "Getting_images:   0%|          | 0/100 [00:00<?, ?it/s]"
      ]
     },
     "metadata": {},
     "output_type": "display_data"
    },
    {
     "data": {
      "application/vnd.jupyter.widget-view+json": {
       "model_id": "e91350b8880e4f7981af3f628076e296",
       "version_major": 2,
       "version_minor": 0
      },
      "text/plain": [
       "Getting_images:   0%|          | 0/100 [00:00<?, ?it/s]"
      ]
     },
     "metadata": {},
     "output_type": "display_data"
    },
    {
     "data": {
      "application/vnd.jupyter.widget-view+json": {
       "model_id": "a234b30f506d4421a9c1b9cc1b089b22",
       "version_major": 2,
       "version_minor": 0
      },
      "text/plain": [
       "Getting_images:   0%|          | 0/100 [00:00<?, ?it/s]"
      ]
     },
     "metadata": {},
     "output_type": "display_data"
    },
    {
     "data": {
      "application/vnd.jupyter.widget-view+json": {
       "model_id": "52c6768b52454e4a98cf42fc67d8d434",
       "version_major": 2,
       "version_minor": 0
      },
      "text/plain": [
       "Getting_images:   0%|          | 0/100 [00:00<?, ?it/s]"
      ]
     },
     "metadata": {},
     "output_type": "display_data"
    },
    {
     "data": {
      "application/vnd.jupyter.widget-view+json": {
       "model_id": "dd4ef491a99c404a961ff5bff555daf6",
       "version_major": 2,
       "version_minor": 0
      },
      "text/plain": [
       "Getting_images:   0%|          | 0/100 [00:00<?, ?it/s]"
      ]
     },
     "metadata": {},
     "output_type": "display_data"
    },
    {
     "data": {
      "application/vnd.jupyter.widget-view+json": {
       "model_id": "be296ee1beb64a81a6dd0df5324f23f2",
       "version_major": 2,
       "version_minor": 0
      },
      "text/plain": [
       "Getting_images:   0%|          | 0/100 [00:00<?, ?it/s]"
      ]
     },
     "metadata": {},
     "output_type": "display_data"
    },
    {
     "data": {
      "application/vnd.jupyter.widget-view+json": {
       "model_id": "69ac83dfbb8a4730935beaedeae21900",
       "version_major": 2,
       "version_minor": 0
      },
      "text/plain": [
       "Getting_images:   0%|          | 0/100 [00:00<?, ?it/s]"
      ]
     },
     "metadata": {},
     "output_type": "display_data"
    },
    {
     "data": {
      "application/vnd.jupyter.widget-view+json": {
       "model_id": "bab09f6db6b844b0a35f2e64619796a1",
       "version_major": 2,
       "version_minor": 0
      },
      "text/plain": [
       "Getting_images:   0%|          | 0/100 [00:00<?, ?it/s]"
      ]
     },
     "metadata": {},
     "output_type": "display_data"
    },
    {
     "data": {
      "application/vnd.jupyter.widget-view+json": {
       "model_id": "7ddc8d922cde41bfa163c54c583c5e8e",
       "version_major": 2,
       "version_minor": 0
      },
      "text/plain": [
       "Getting_images:   0%|          | 0/100 [00:00<?, ?it/s]"
      ]
     },
     "metadata": {},
     "output_type": "display_data"
    },
    {
     "data": {
      "application/vnd.jupyter.widget-view+json": {
       "model_id": "b0c18daad249481db8f028615bd0b958",
       "version_major": 2,
       "version_minor": 0
      },
      "text/plain": [
       "Getting_images:   0%|          | 0/100 [00:00<?, ?it/s]"
      ]
     },
     "metadata": {},
     "output_type": "display_data"
    },
    {
     "data": {
      "application/vnd.jupyter.widget-view+json": {
       "model_id": "a8619ba11501464cbea7a29bafeb6b70",
       "version_major": 2,
       "version_minor": 0
      },
      "text/plain": [
       "Getting_images:   0%|          | 0/100 [00:00<?, ?it/s]"
      ]
     },
     "metadata": {},
     "output_type": "display_data"
    },
    {
     "data": {
      "application/vnd.jupyter.widget-view+json": {
       "model_id": "f2b2ac7628964227b3373f4c752b784c",
       "version_major": 2,
       "version_minor": 0
      },
      "text/plain": [
       "Getting_images:   0%|          | 0/100 [00:00<?, ?it/s]"
      ]
     },
     "metadata": {},
     "output_type": "display_data"
    },
    {
     "data": {
      "application/vnd.jupyter.widget-view+json": {
       "model_id": "99b8a9c247704dd3a50fb3ebe1d7b57b",
       "version_major": 2,
       "version_minor": 0
      },
      "text/plain": [
       "Getting_images:   0%|          | 0/100 [00:00<?, ?it/s]"
      ]
     },
     "metadata": {},
     "output_type": "display_data"
    },
    {
     "data": {
      "application/vnd.jupyter.widget-view+json": {
       "model_id": "e17010a32ecc4cfc837b70385fc7520a",
       "version_major": 2,
       "version_minor": 0
      },
      "text/plain": [
       "Getting_images:   0%|          | 0/100 [00:00<?, ?it/s]"
      ]
     },
     "metadata": {},
     "output_type": "display_data"
    },
    {
     "data": {
      "application/vnd.jupyter.widget-view+json": {
       "model_id": "99bb18dca2ba4894a47e82ecb79b9d40",
       "version_major": 2,
       "version_minor": 0
      },
      "text/plain": [
       "Getting_images:   0%|          | 0/100 [00:00<?, ?it/s]"
      ]
     },
     "metadata": {},
     "output_type": "display_data"
    },
    {
     "data": {
      "application/vnd.jupyter.widget-view+json": {
       "model_id": "681aca6db8cf4ac5b6f87c80b6ebf86c",
       "version_major": 2,
       "version_minor": 0
      },
      "text/plain": [
       "Getting_images:   0%|          | 0/100 [00:00<?, ?it/s]"
      ]
     },
     "metadata": {},
     "output_type": "display_data"
    },
    {
     "data": {
      "application/vnd.jupyter.widget-view+json": {
       "model_id": "364f14e2ba654e5f952d16cd8fc13c0d",
       "version_major": 2,
       "version_minor": 0
      },
      "text/plain": [
       "Getting_images:   0%|          | 0/100 [00:00<?, ?it/s]"
      ]
     },
     "metadata": {},
     "output_type": "display_data"
    },
    {
     "data": {
      "application/vnd.jupyter.widget-view+json": {
       "model_id": "f6af71fc3537404fa04e67b8c9bff18b",
       "version_major": 2,
       "version_minor": 0
      },
      "text/plain": [
       "Getting_images:   0%|          | 0/100 [00:00<?, ?it/s]"
      ]
     },
     "metadata": {},
     "output_type": "display_data"
    },
    {
     "data": {
      "application/vnd.jupyter.widget-view+json": {
       "model_id": "9b77bba4d93d4326892ba463bfbf2752",
       "version_major": 2,
       "version_minor": 0
      },
      "text/plain": [
       "Getting_images:   0%|          | 0/100 [00:00<?, ?it/s]"
      ]
     },
     "metadata": {},
     "output_type": "display_data"
    },
    {
     "data": {
      "application/vnd.jupyter.widget-view+json": {
       "model_id": "f20b3b1c14f34b7b890c42dd97b38d01",
       "version_major": 2,
       "version_minor": 0
      },
      "text/plain": [
       "Getting_images:   0%|          | 0/100 [00:00<?, ?it/s]"
      ]
     },
     "metadata": {},
     "output_type": "display_data"
    },
    {
     "data": {
      "application/vnd.jupyter.widget-view+json": {
       "model_id": "3208e26e6d674d8197d49f0174222771",
       "version_major": 2,
       "version_minor": 0
      },
      "text/plain": [
       "Getting_images:   0%|          | 0/100 [00:00<?, ?it/s]"
      ]
     },
     "metadata": {},
     "output_type": "display_data"
    },
    {
     "data": {
      "application/vnd.jupyter.widget-view+json": {
       "model_id": "17f8df5066a043b58cf3e5b2e0156ed1",
       "version_major": 2,
       "version_minor": 0
      },
      "text/plain": [
       "Getting_images:   0%|          | 0/100 [00:00<?, ?it/s]"
      ]
     },
     "metadata": {},
     "output_type": "display_data"
    },
    {
     "data": {
      "application/vnd.jupyter.widget-view+json": {
       "model_id": "d516f231b3804f89a6126ec53bac2c02",
       "version_major": 2,
       "version_minor": 0
      },
      "text/plain": [
       "Getting_images:   0%|          | 0/100 [00:00<?, ?it/s]"
      ]
     },
     "metadata": {},
     "output_type": "display_data"
    },
    {
     "data": {
      "application/vnd.jupyter.widget-view+json": {
       "model_id": "7cfafce57b1c4245a1923a651253f8ba",
       "version_major": 2,
       "version_minor": 0
      },
      "text/plain": [
       "Getting_images:   0%|          | 0/100 [00:00<?, ?it/s]"
      ]
     },
     "metadata": {},
     "output_type": "display_data"
    },
    {
     "data": {
      "application/vnd.jupyter.widget-view+json": {
       "model_id": "050ee4ff0efb4e30bda00d7fa41ea08b",
       "version_major": 2,
       "version_minor": 0
      },
      "text/plain": [
       "Getting_images:   0%|          | 0/100 [00:00<?, ?it/s]"
      ]
     },
     "metadata": {},
     "output_type": "display_data"
    },
    {
     "data": {
      "application/vnd.jupyter.widget-view+json": {
       "model_id": "205a2e08a87645c9b1c91694a4beb3fd",
       "version_major": 2,
       "version_minor": 0
      },
      "text/plain": [
       "Getting_images:   0%|          | 0/100 [00:00<?, ?it/s]"
      ]
     },
     "metadata": {},
     "output_type": "display_data"
    },
    {
     "data": {
      "application/vnd.jupyter.widget-view+json": {
       "model_id": "2f53f35c3ee44e09adc1d535014a42b8",
       "version_major": 2,
       "version_minor": 0
      },
      "text/plain": [
       "Getting_images:   0%|          | 0/100 [00:00<?, ?it/s]"
      ]
     },
     "metadata": {},
     "output_type": "display_data"
    },
    {
     "data": {
      "application/vnd.jupyter.widget-view+json": {
       "model_id": "492716fb19ac4a7baefd2ab0fc3b7459",
       "version_major": 2,
       "version_minor": 0
      },
      "text/plain": [
       "Getting_images:   0%|          | 0/100 [00:00<?, ?it/s]"
      ]
     },
     "metadata": {},
     "output_type": "display_data"
    },
    {
     "data": {
      "application/vnd.jupyter.widget-view+json": {
       "model_id": "c6ea5eff18c2471e8142f51eb1f2f5b8",
       "version_major": 2,
       "version_minor": 0
      },
      "text/plain": [
       "Getting_images:   0%|          | 0/100 [00:00<?, ?it/s]"
      ]
     },
     "metadata": {},
     "output_type": "display_data"
    },
    {
     "data": {
      "application/vnd.jupyter.widget-view+json": {
       "model_id": "754f1b8d0c5c4267852a0bc00c459284",
       "version_major": 2,
       "version_minor": 0
      },
      "text/plain": [
       "Getting_images:   0%|          | 0/100 [00:00<?, ?it/s]"
      ]
     },
     "metadata": {},
     "output_type": "display_data"
    },
    {
     "data": {
      "application/vnd.jupyter.widget-view+json": {
       "model_id": "f47e3af98f2d49a78ff352196a8bb8de",
       "version_major": 2,
       "version_minor": 0
      },
      "text/plain": [
       "Getting_images:   0%|          | 0/100 [00:00<?, ?it/s]"
      ]
     },
     "metadata": {},
     "output_type": "display_data"
    },
    {
     "data": {
      "application/vnd.jupyter.widget-view+json": {
       "model_id": "8533b20f3772413c9404bd97d6f2995a",
       "version_major": 2,
       "version_minor": 0
      },
      "text/plain": [
       "Getting_images:   0%|          | 0/100 [00:00<?, ?it/s]"
      ]
     },
     "metadata": {},
     "output_type": "display_data"
    },
    {
     "data": {
      "application/vnd.jupyter.widget-view+json": {
       "model_id": "bc5c57fb6762453fad39654079099d3a",
       "version_major": 2,
       "version_minor": 0
      },
      "text/plain": [
       "Getting_images:   0%|          | 0/100 [00:00<?, ?it/s]"
      ]
     },
     "metadata": {},
     "output_type": "display_data"
    },
    {
     "data": {
      "application/vnd.jupyter.widget-view+json": {
       "model_id": "237af9e0c526475dbac6bfa7ce6038dd",
       "version_major": 2,
       "version_minor": 0
      },
      "text/plain": [
       "Getting_images:   0%|          | 0/100 [00:00<?, ?it/s]"
      ]
     },
     "metadata": {},
     "output_type": "display_data"
    },
    {
     "data": {
      "application/vnd.jupyter.widget-view+json": {
       "model_id": "2afa055b69294e4585fb9b5615b47674",
       "version_major": 2,
       "version_minor": 0
      },
      "text/plain": [
       "Getting_images:   0%|          | 0/100 [00:00<?, ?it/s]"
      ]
     },
     "metadata": {},
     "output_type": "display_data"
    },
    {
     "data": {
      "application/vnd.jupyter.widget-view+json": {
       "model_id": "1ddace5b927648a4ac1f4992f703901a",
       "version_major": 2,
       "version_minor": 0
      },
      "text/plain": [
       "Getting_images:   0%|          | 0/100 [00:00<?, ?it/s]"
      ]
     },
     "metadata": {},
     "output_type": "display_data"
    },
    {
     "data": {
      "application/vnd.jupyter.widget-view+json": {
       "model_id": "2b7744fc5e4f4662bffb8294fa91fece",
       "version_major": 2,
       "version_minor": 0
      },
      "text/plain": [
       "Getting_images:   0%|          | 0/100 [00:00<?, ?it/s]"
      ]
     },
     "metadata": {},
     "output_type": "display_data"
    },
    {
     "data": {
      "application/vnd.jupyter.widget-view+json": {
       "model_id": "0045f5193b804c3287ab35f3545e76a1",
       "version_major": 2,
       "version_minor": 0
      },
      "text/plain": [
       "Getting_images:   0%|          | 0/100 [00:00<?, ?it/s]"
      ]
     },
     "metadata": {},
     "output_type": "display_data"
    },
    {
     "data": {
      "application/vnd.jupyter.widget-view+json": {
       "model_id": "b1befd06806841b0b043058c9b466c29",
       "version_major": 2,
       "version_minor": 0
      },
      "text/plain": [
       "Getting_images:   0%|          | 0/100 [00:00<?, ?it/s]"
      ]
     },
     "metadata": {},
     "output_type": "display_data"
    },
    {
     "data": {
      "application/vnd.jupyter.widget-view+json": {
       "model_id": "059c7ec8a31e45138f8907a820b525b3",
       "version_major": 2,
       "version_minor": 0
      },
      "text/plain": [
       "Getting_images:   0%|          | 0/100 [00:00<?, ?it/s]"
      ]
     },
     "metadata": {},
     "output_type": "display_data"
    },
    {
     "data": {
      "application/vnd.jupyter.widget-view+json": {
       "model_id": "eaea499699b24759830d582cd46c7115",
       "version_major": 2,
       "version_minor": 0
      },
      "text/plain": [
       "Getting_images:   0%|          | 0/100 [00:00<?, ?it/s]"
      ]
     },
     "metadata": {},
     "output_type": "display_data"
    },
    {
     "data": {
      "application/vnd.jupyter.widget-view+json": {
       "model_id": "97b8a01f3fcc44d38b7bdcdb905e49f5",
       "version_major": 2,
       "version_minor": 0
      },
      "text/plain": [
       "Getting_images:   0%|          | 0/100 [00:00<?, ?it/s]"
      ]
     },
     "metadata": {},
     "output_type": "display_data"
    },
    {
     "data": {
      "application/vnd.jupyter.widget-view+json": {
       "model_id": "a436a90cc6584109ad788dff7e26bf07",
       "version_major": 2,
       "version_minor": 0
      },
      "text/plain": [
       "Getting_images:   0%|          | 0/100 [00:00<?, ?it/s]"
      ]
     },
     "metadata": {},
     "output_type": "display_data"
    },
    {
     "data": {
      "application/vnd.jupyter.widget-view+json": {
       "model_id": "db02431622d3413187189b48bce2cf73",
       "version_major": 2,
       "version_minor": 0
      },
      "text/plain": [
       "Getting_images:   0%|          | 0/100 [00:00<?, ?it/s]"
      ]
     },
     "metadata": {},
     "output_type": "display_data"
    },
    {
     "data": {
      "application/vnd.jupyter.widget-view+json": {
       "model_id": "cd31e68528e64134b2a8de86c567283b",
       "version_major": 2,
       "version_minor": 0
      },
      "text/plain": [
       "Getting_images:   0%|          | 0/100 [00:00<?, ?it/s]"
      ]
     },
     "metadata": {},
     "output_type": "display_data"
    },
    {
     "data": {
      "application/vnd.jupyter.widget-view+json": {
       "model_id": "d25bc86537894942b147378ce68070bd",
       "version_major": 2,
       "version_minor": 0
      },
      "text/plain": [
       "Getting_images:   0%|          | 0/100 [00:00<?, ?it/s]"
      ]
     },
     "metadata": {},
     "output_type": "display_data"
    },
    {
     "data": {
      "application/vnd.jupyter.widget-view+json": {
       "model_id": "e566e87157584ba19ba0c88af78dacd8",
       "version_major": 2,
       "version_minor": 0
      },
      "text/plain": [
       "Getting_images:   0%|          | 0/100 [00:00<?, ?it/s]"
      ]
     },
     "metadata": {},
     "output_type": "display_data"
    },
    {
     "data": {
      "application/vnd.jupyter.widget-view+json": {
       "model_id": "f67fe5bf005e4bf6a06cf94fff6638dc",
       "version_major": 2,
       "version_minor": 0
      },
      "text/plain": [
       "Getting_images:   0%|          | 0/100 [00:00<?, ?it/s]"
      ]
     },
     "metadata": {},
     "output_type": "display_data"
    },
    {
     "data": {
      "application/vnd.jupyter.widget-view+json": {
       "model_id": "847861fd2e5b40cd81851bead8f79913",
       "version_major": 2,
       "version_minor": 0
      },
      "text/plain": [
       "Getting_images:   0%|          | 0/100 [00:00<?, ?it/s]"
      ]
     },
     "metadata": {},
     "output_type": "display_data"
    },
    {
     "data": {
      "application/vnd.jupyter.widget-view+json": {
       "model_id": "e2d885fd539945a49481db29f4be487c",
       "version_major": 2,
       "version_minor": 0
      },
      "text/plain": [
       "Getting_images:   0%|          | 0/100 [00:00<?, ?it/s]"
      ]
     },
     "metadata": {},
     "output_type": "display_data"
    },
    {
     "data": {
      "application/vnd.jupyter.widget-view+json": {
       "model_id": "38d2aeadff524bd3bb6ebc38eef23e14",
       "version_major": 2,
       "version_minor": 0
      },
      "text/plain": [
       "Getting_images:   0%|          | 0/100 [00:00<?, ?it/s]"
      ]
     },
     "metadata": {},
     "output_type": "display_data"
    },
    {
     "data": {
      "application/vnd.jupyter.widget-view+json": {
       "model_id": "41350d8821d144bfa8244a222df5f4c6",
       "version_major": 2,
       "version_minor": 0
      },
      "text/plain": [
       "Getting_images:   0%|          | 0/100 [00:00<?, ?it/s]"
      ]
     },
     "metadata": {},
     "output_type": "display_data"
    },
    {
     "data": {
      "application/vnd.jupyter.widget-view+json": {
       "model_id": "6e570719176d4d91b0b580bc1a6cdfbb",
       "version_major": 2,
       "version_minor": 0
      },
      "text/plain": [
       "Getting_images:   0%|          | 0/100 [00:00<?, ?it/s]"
      ]
     },
     "metadata": {},
     "output_type": "display_data"
    },
    {
     "data": {
      "application/vnd.jupyter.widget-view+json": {
       "model_id": "fb5f3bd39f5448e9b4fb7bf6276b4440",
       "version_major": 2,
       "version_minor": 0
      },
      "text/plain": [
       "Getting_images:   0%|          | 0/100 [00:00<?, ?it/s]"
      ]
     },
     "metadata": {},
     "output_type": "display_data"
    },
    {
     "data": {
      "application/vnd.jupyter.widget-view+json": {
       "model_id": "9773ea0431634ba3bd866e505f8eab0d",
       "version_major": 2,
       "version_minor": 0
      },
      "text/plain": [
       "Getting_images:   0%|          | 0/100 [00:00<?, ?it/s]"
      ]
     },
     "metadata": {},
     "output_type": "display_data"
    },
    {
     "data": {
      "application/vnd.jupyter.widget-view+json": {
       "model_id": "3103d54ff34c47cfb6507496a9b3ebb3",
       "version_major": 2,
       "version_minor": 0
      },
      "text/plain": [
       "Getting_images:   0%|          | 0/100 [00:00<?, ?it/s]"
      ]
     },
     "metadata": {},
     "output_type": "display_data"
    },
    {
     "data": {
      "application/vnd.jupyter.widget-view+json": {
       "model_id": "63266ca9771a4d3099bf43339ee8ffba",
       "version_major": 2,
       "version_minor": 0
      },
      "text/plain": [
       "Getting_images:   0%|          | 0/100 [00:00<?, ?it/s]"
      ]
     },
     "metadata": {},
     "output_type": "display_data"
    },
    {
     "data": {
      "application/vnd.jupyter.widget-view+json": {
       "model_id": "388b788e18d0407cbf77559a2b95ea62",
       "version_major": 2,
       "version_minor": 0
      },
      "text/plain": [
       "Getting_images:   0%|          | 0/100 [00:00<?, ?it/s]"
      ]
     },
     "metadata": {},
     "output_type": "display_data"
    },
    {
     "data": {
      "application/vnd.jupyter.widget-view+json": {
       "model_id": "ac388ce1aafb4c4f9cc55bdc99c21a86",
       "version_major": 2,
       "version_minor": 0
      },
      "text/plain": [
       "Getting_images:   0%|          | 0/100 [00:00<?, ?it/s]"
      ]
     },
     "metadata": {},
     "output_type": "display_data"
    },
    {
     "data": {
      "application/vnd.jupyter.widget-view+json": {
       "model_id": "29ae10c0fdf244fabdd312d591df9729",
       "version_major": 2,
       "version_minor": 0
      },
      "text/plain": [
       "Getting_images:   0%|          | 0/100 [00:00<?, ?it/s]"
      ]
     },
     "metadata": {},
     "output_type": "display_data"
    },
    {
     "data": {
      "application/vnd.jupyter.widget-view+json": {
       "model_id": "2a80122e425f4918b7c2d942df5da9fd",
       "version_major": 2,
       "version_minor": 0
      },
      "text/plain": [
       "Getting_images:   0%|          | 0/100 [00:00<?, ?it/s]"
      ]
     },
     "metadata": {},
     "output_type": "display_data"
    },
    {
     "data": {
      "application/vnd.jupyter.widget-view+json": {
       "model_id": "101ccf88d22a42169217b615574d94ae",
       "version_major": 2,
       "version_minor": 0
      },
      "text/plain": [
       "Getting_images:   0%|          | 0/100 [00:00<?, ?it/s]"
      ]
     },
     "metadata": {},
     "output_type": "display_data"
    },
    {
     "data": {
      "application/vnd.jupyter.widget-view+json": {
       "model_id": "06ef7c042fa5475ab234e41aef71e435",
       "version_major": 2,
       "version_minor": 0
      },
      "text/plain": [
       "Getting_images:   0%|          | 0/100 [00:00<?, ?it/s]"
      ]
     },
     "metadata": {},
     "output_type": "display_data"
    },
    {
     "data": {
      "application/vnd.jupyter.widget-view+json": {
       "model_id": "74f018f41e0041a587a54cf803c3eae0",
       "version_major": 2,
       "version_minor": 0
      },
      "text/plain": [
       "Getting_images:   0%|          | 0/100 [00:00<?, ?it/s]"
      ]
     },
     "metadata": {},
     "output_type": "display_data"
    },
    {
     "data": {
      "application/vnd.jupyter.widget-view+json": {
       "model_id": "08a5c5c5a5ae4d4e9e88dc56d3acdb30",
       "version_major": 2,
       "version_minor": 0
      },
      "text/plain": [
       "Getting_images:   0%|          | 0/100 [00:00<?, ?it/s]"
      ]
     },
     "metadata": {},
     "output_type": "display_data"
    },
    {
     "data": {
      "application/vnd.jupyter.widget-view+json": {
       "model_id": "4b2305b5f84c42f292a4ff42d36b3b8e",
       "version_major": 2,
       "version_minor": 0
      },
      "text/plain": [
       "Getting_images:   0%|          | 0/100 [00:00<?, ?it/s]"
      ]
     },
     "metadata": {},
     "output_type": "display_data"
    },
    {
     "data": {
      "application/vnd.jupyter.widget-view+json": {
       "model_id": "e102209ef3084dac9bb794ab4e8b53bb",
       "version_major": 2,
       "version_minor": 0
      },
      "text/plain": [
       "Getting_images:   0%|          | 0/100 [00:00<?, ?it/s]"
      ]
     },
     "metadata": {},
     "output_type": "display_data"
    },
    {
     "data": {
      "application/vnd.jupyter.widget-view+json": {
       "model_id": "6844ed5da31f47ad8f8800b31647d2d0",
       "version_major": 2,
       "version_minor": 0
      },
      "text/plain": [
       "Getting_images:   0%|          | 0/100 [00:00<?, ?it/s]"
      ]
     },
     "metadata": {},
     "output_type": "display_data"
    },
    {
     "data": {
      "application/vnd.jupyter.widget-view+json": {
       "model_id": "fe9481423d054663ae52c848e94161ef",
       "version_major": 2,
       "version_minor": 0
      },
      "text/plain": [
       "Getting_images:   0%|          | 0/100 [00:00<?, ?it/s]"
      ]
     },
     "metadata": {},
     "output_type": "display_data"
    },
    {
     "data": {
      "application/vnd.jupyter.widget-view+json": {
       "model_id": "c06fe86d7b8748a88e90869d21327792",
       "version_major": 2,
       "version_minor": 0
      },
      "text/plain": [
       "Getting_images:   0%|          | 0/100 [00:00<?, ?it/s]"
      ]
     },
     "metadata": {},
     "output_type": "display_data"
    },
    {
     "data": {
      "application/vnd.jupyter.widget-view+json": {
       "model_id": "6517cba2f7c64e30b858fcd03b514c6c",
       "version_major": 2,
       "version_minor": 0
      },
      "text/plain": [
       "Getting_images:   0%|          | 0/100 [00:00<?, ?it/s]"
      ]
     },
     "metadata": {},
     "output_type": "display_data"
    },
    {
     "data": {
      "application/vnd.jupyter.widget-view+json": {
       "model_id": "0647ee30180646658dac02ea0b6679d4",
       "version_major": 2,
       "version_minor": 0
      },
      "text/plain": [
       "Getting_images:   0%|          | 0/100 [00:00<?, ?it/s]"
      ]
     },
     "metadata": {},
     "output_type": "display_data"
    },
    {
     "data": {
      "application/vnd.jupyter.widget-view+json": {
       "model_id": "c910c904723e4ef6b2cf6b3aa46373f1",
       "version_major": 2,
       "version_minor": 0
      },
      "text/plain": [
       "Getting_images:   0%|          | 0/100 [00:00<?, ?it/s]"
      ]
     },
     "metadata": {},
     "output_type": "display_data"
    },
    {
     "data": {
      "application/vnd.jupyter.widget-view+json": {
       "model_id": "f4f0c2df54f241a0824a37b597b13af6",
       "version_major": 2,
       "version_minor": 0
      },
      "text/plain": [
       "Getting_images:   0%|          | 0/100 [00:00<?, ?it/s]"
      ]
     },
     "metadata": {},
     "output_type": "display_data"
    },
    {
     "data": {
      "application/vnd.jupyter.widget-view+json": {
       "model_id": "1207e9babac0409b8cc17aba750ca1a5",
       "version_major": 2,
       "version_minor": 0
      },
      "text/plain": [
       "Getting_images:   0%|          | 0/100 [00:00<?, ?it/s]"
      ]
     },
     "metadata": {},
     "output_type": "display_data"
    },
    {
     "data": {
      "application/vnd.jupyter.widget-view+json": {
       "model_id": "5cbd400b08874bccbae186ea8a32e7ae",
       "version_major": 2,
       "version_minor": 0
      },
      "text/plain": [
       "Getting_images:   0%|          | 0/100 [00:00<?, ?it/s]"
      ]
     },
     "metadata": {},
     "output_type": "display_data"
    },
    {
     "data": {
      "application/vnd.jupyter.widget-view+json": {
       "model_id": "3325cb403e8949b58eb99bc87e376428",
       "version_major": 2,
       "version_minor": 0
      },
      "text/plain": [
       "Getting_images:   0%|          | 0/100 [00:00<?, ?it/s]"
      ]
     },
     "metadata": {},
     "output_type": "display_data"
    },
    {
     "data": {
      "application/vnd.jupyter.widget-view+json": {
       "model_id": "902d10605f3c49dcaab2a26a4947aca2",
       "version_major": 2,
       "version_minor": 0
      },
      "text/plain": [
       "Getting_images:   0%|          | 0/100 [00:00<?, ?it/s]"
      ]
     },
     "metadata": {},
     "output_type": "display_data"
    },
    {
     "data": {
      "application/vnd.jupyter.widget-view+json": {
       "model_id": "405236be566b49959af22e02b7e8367f",
       "version_major": 2,
       "version_minor": 0
      },
      "text/plain": [
       "Getting_images:   0%|          | 0/100 [00:00<?, ?it/s]"
      ]
     },
     "metadata": {},
     "output_type": "display_data"
    },
    {
     "data": {
      "application/vnd.jupyter.widget-view+json": {
       "model_id": "42620c9d26274e71beb21a12817bdb33",
       "version_major": 2,
       "version_minor": 0
      },
      "text/plain": [
       "Getting_images:   0%|          | 0/100 [00:00<?, ?it/s]"
      ]
     },
     "metadata": {},
     "output_type": "display_data"
    },
    {
     "data": {
      "application/vnd.jupyter.widget-view+json": {
       "model_id": "c46f4062f2f948f99aa8d4952b665b56",
       "version_major": 2,
       "version_minor": 0
      },
      "text/plain": [
       "Getting_images:   0%|          | 0/100 [00:00<?, ?it/s]"
      ]
     },
     "metadata": {},
     "output_type": "display_data"
    },
    {
     "data": {
      "application/vnd.jupyter.widget-view+json": {
       "model_id": "886e1ecc3b3c4635a9c6003a0f964b27",
       "version_major": 2,
       "version_minor": 0
      },
      "text/plain": [
       "Getting_images:   0%|          | 0/100 [00:00<?, ?it/s]"
      ]
     },
     "metadata": {},
     "output_type": "display_data"
    },
    {
     "data": {
      "application/vnd.jupyter.widget-view+json": {
       "model_id": "58e2a6b50fc2451d9354311ba8f9256c",
       "version_major": 2,
       "version_minor": 0
      },
      "text/plain": [
       "Getting_images:   0%|          | 0/100 [00:00<?, ?it/s]"
      ]
     },
     "metadata": {},
     "output_type": "display_data"
    },
    {
     "data": {
      "application/vnd.jupyter.widget-view+json": {
       "model_id": "911aee3ac9c04ba0b9ca287cd2b11063",
       "version_major": 2,
       "version_minor": 0
      },
      "text/plain": [
       "Getting_images:   0%|          | 0/100 [00:00<?, ?it/s]"
      ]
     },
     "metadata": {},
     "output_type": "display_data"
    },
    {
     "data": {
      "application/vnd.jupyter.widget-view+json": {
       "model_id": "cb723146bb7742f69f689d8199ac5c33",
       "version_major": 2,
       "version_minor": 0
      },
      "text/plain": [
       "Getting_images:   0%|          | 0/100 [00:00<?, ?it/s]"
      ]
     },
     "metadata": {},
     "output_type": "display_data"
    },
    {
     "data": {
      "application/vnd.jupyter.widget-view+json": {
       "model_id": "10c49802d4a74ae094a945988cc9af80",
       "version_major": 2,
       "version_minor": 0
      },
      "text/plain": [
       "Getting_images:   0%|          | 0/100 [00:00<?, ?it/s]"
      ]
     },
     "metadata": {},
     "output_type": "display_data"
    },
    {
     "data": {
      "application/vnd.jupyter.widget-view+json": {
       "model_id": "bc43ce2a74ef4bfaa955eb66abf08fa7",
       "version_major": 2,
       "version_minor": 0
      },
      "text/plain": [
       "Getting_images:   0%|          | 0/100 [00:00<?, ?it/s]"
      ]
     },
     "metadata": {},
     "output_type": "display_data"
    },
    {
     "data": {
      "application/vnd.jupyter.widget-view+json": {
       "model_id": "a684770972c3406f8debbc9b01b0b890",
       "version_major": 2,
       "version_minor": 0
      },
      "text/plain": [
       "Getting_images:   0%|          | 0/100 [00:00<?, ?it/s]"
      ]
     },
     "metadata": {},
     "output_type": "display_data"
    },
    {
     "data": {
      "application/vnd.jupyter.widget-view+json": {
       "model_id": "3fd9ae8224d14d3eb070c4f0507986a6",
       "version_major": 2,
       "version_minor": 0
      },
      "text/plain": [
       "Getting_images:   0%|          | 0/100 [00:00<?, ?it/s]"
      ]
     },
     "metadata": {},
     "output_type": "display_data"
    },
    {
     "data": {
      "application/vnd.jupyter.widget-view+json": {
       "model_id": "f9a81114383f4d6582e5bead3a8248e8",
       "version_major": 2,
       "version_minor": 0
      },
      "text/plain": [
       "Getting_images:   0%|          | 0/100 [00:00<?, ?it/s]"
      ]
     },
     "metadata": {},
     "output_type": "display_data"
    },
    {
     "data": {
      "application/vnd.jupyter.widget-view+json": {
       "model_id": "07b6592839054fd887211fd5a12d3f97",
       "version_major": 2,
       "version_minor": 0
      },
      "text/plain": [
       "Getting_images:   0%|          | 0/100 [00:00<?, ?it/s]"
      ]
     },
     "metadata": {},
     "output_type": "display_data"
    },
    {
     "data": {
      "application/vnd.jupyter.widget-view+json": {
       "model_id": "ea5d11126cdf4d0db994b9c568186751",
       "version_major": 2,
       "version_minor": 0
      },
      "text/plain": [
       "Getting_images:   0%|          | 0/100 [00:00<?, ?it/s]"
      ]
     },
     "metadata": {},
     "output_type": "display_data"
    },
    {
     "data": {
      "application/vnd.jupyter.widget-view+json": {
       "model_id": "a08aca71c79f48b3b22a6e2ec09daa0a",
       "version_major": 2,
       "version_minor": 0
      },
      "text/plain": [
       "Getting_images:   0%|          | 0/100 [00:00<?, ?it/s]"
      ]
     },
     "metadata": {},
     "output_type": "display_data"
    },
    {
     "data": {
      "application/vnd.jupyter.widget-view+json": {
       "model_id": "faa7fb28d5b2414c8c939734481cc437",
       "version_major": 2,
       "version_minor": 0
      },
      "text/plain": [
       "Getting_images:   0%|          | 0/100 [00:00<?, ?it/s]"
      ]
     },
     "metadata": {},
     "output_type": "display_data"
    },
    {
     "data": {
      "application/vnd.jupyter.widget-view+json": {
       "model_id": "ff0cc3ee08284aa0a1be74197fbd8e84",
       "version_major": 2,
       "version_minor": 0
      },
      "text/plain": [
       "Getting_images:   0%|          | 0/100 [00:00<?, ?it/s]"
      ]
     },
     "metadata": {},
     "output_type": "display_data"
    },
    {
     "data": {
      "application/vnd.jupyter.widget-view+json": {
       "model_id": "8baf901cd47c4d898652dc66b477a445",
       "version_major": 2,
       "version_minor": 0
      },
      "text/plain": [
       "Getting_images:   0%|          | 0/100 [00:00<?, ?it/s]"
      ]
     },
     "metadata": {},
     "output_type": "display_data"
    },
    {
     "data": {
      "application/vnd.jupyter.widget-view+json": {
       "model_id": "97daa5dec135452e96dfbdc69556ee26",
       "version_major": 2,
       "version_minor": 0
      },
      "text/plain": [
       "Getting_images:   0%|          | 0/100 [00:00<?, ?it/s]"
      ]
     },
     "metadata": {},
     "output_type": "display_data"
    },
    {
     "data": {
      "application/vnd.jupyter.widget-view+json": {
       "model_id": "31d80b1363f747ea878908531f27cc07",
       "version_major": 2,
       "version_minor": 0
      },
      "text/plain": [
       "Getting_images:   0%|          | 0/100 [00:00<?, ?it/s]"
      ]
     },
     "metadata": {},
     "output_type": "display_data"
    },
    {
     "data": {
      "application/vnd.jupyter.widget-view+json": {
       "model_id": "f78d9bbfdf784a4686665cc931149ecb",
       "version_major": 2,
       "version_minor": 0
      },
      "text/plain": [
       "Getting_images:   0%|          | 0/100 [00:00<?, ?it/s]"
      ]
     },
     "metadata": {},
     "output_type": "display_data"
    },
    {
     "data": {
      "application/vnd.jupyter.widget-view+json": {
       "model_id": "678048f0ed88468596473f98e608dbb5",
       "version_major": 2,
       "version_minor": 0
      },
      "text/plain": [
       "Getting_images:   0%|          | 0/100 [00:00<?, ?it/s]"
      ]
     },
     "metadata": {},
     "output_type": "display_data"
    },
    {
     "data": {
      "application/vnd.jupyter.widget-view+json": {
       "model_id": "c83178fab801404ca582b7511ac7c393",
       "version_major": 2,
       "version_minor": 0
      },
      "text/plain": [
       "Getting_images:   0%|          | 0/100 [00:00<?, ?it/s]"
      ]
     },
     "metadata": {},
     "output_type": "display_data"
    },
    {
     "data": {
      "application/vnd.jupyter.widget-view+json": {
       "model_id": "3fe7705b7f6142e9a7f69369cd3a7200",
       "version_major": 2,
       "version_minor": 0
      },
      "text/plain": [
       "Getting_images:   0%|          | 0/100 [00:00<?, ?it/s]"
      ]
     },
     "metadata": {},
     "output_type": "display_data"
    },
    {
     "data": {
      "application/vnd.jupyter.widget-view+json": {
       "model_id": "03c38ce155ce4201ae285b753850be0e",
       "version_major": 2,
       "version_minor": 0
      },
      "text/plain": [
       "Getting_images:   0%|          | 0/100 [00:00<?, ?it/s]"
      ]
     },
     "metadata": {},
     "output_type": "display_data"
    },
    {
     "data": {
      "application/vnd.jupyter.widget-view+json": {
       "model_id": "24244313680641169cf86d624cf5a235",
       "version_major": 2,
       "version_minor": 0
      },
      "text/plain": [
       "Getting_images:   0%|          | 0/100 [00:00<?, ?it/s]"
      ]
     },
     "metadata": {},
     "output_type": "display_data"
    },
    {
     "data": {
      "application/vnd.jupyter.widget-view+json": {
       "model_id": "fe427eed85f3476d92530d2c78e52631",
       "version_major": 2,
       "version_minor": 0
      },
      "text/plain": [
       "Getting_images:   0%|          | 0/100 [00:00<?, ?it/s]"
      ]
     },
     "metadata": {},
     "output_type": "display_data"
    },
    {
     "data": {
      "application/vnd.jupyter.widget-view+json": {
       "model_id": "f78e7796d26c46eb8739339832bed137",
       "version_major": 2,
       "version_minor": 0
      },
      "text/plain": [
       "Getting_images:   0%|          | 0/100 [00:00<?, ?it/s]"
      ]
     },
     "metadata": {},
     "output_type": "display_data"
    },
    {
     "data": {
      "application/vnd.jupyter.widget-view+json": {
       "model_id": "37f695626b774e9e87345d9c83a36b76",
       "version_major": 2,
       "version_minor": 0
      },
      "text/plain": [
       "Getting_images:   0%|          | 0/100 [00:00<?, ?it/s]"
      ]
     },
     "metadata": {},
     "output_type": "display_data"
    },
    {
     "data": {
      "application/vnd.jupyter.widget-view+json": {
       "model_id": "f2a9fc58b2ae469b921817d33cbd2231",
       "version_major": 2,
       "version_minor": 0
      },
      "text/plain": [
       "Getting_images:   0%|          | 0/100 [00:00<?, ?it/s]"
      ]
     },
     "metadata": {},
     "output_type": "display_data"
    },
    {
     "data": {
      "application/vnd.jupyter.widget-view+json": {
       "model_id": "ecf09a035c3e48e1a7dc64e5be11884c",
       "version_major": 2,
       "version_minor": 0
      },
      "text/plain": [
       "Getting_images:   0%|          | 0/100 [00:00<?, ?it/s]"
      ]
     },
     "metadata": {},
     "output_type": "display_data"
    },
    {
     "data": {
      "application/vnd.jupyter.widget-view+json": {
       "model_id": "2755e157eb7a4c229ba99a76ecfae776",
       "version_major": 2,
       "version_minor": 0
      },
      "text/plain": [
       "Getting_images:   0%|          | 0/100 [00:00<?, ?it/s]"
      ]
     },
     "metadata": {},
     "output_type": "display_data"
    },
    {
     "data": {
      "application/vnd.jupyter.widget-view+json": {
       "model_id": "3973e28cf7c54252abbc5c4ef4797d1e",
       "version_major": 2,
       "version_minor": 0
      },
      "text/plain": [
       "Getting_images:   0%|          | 0/100 [00:00<?, ?it/s]"
      ]
     },
     "metadata": {},
     "output_type": "display_data"
    },
    {
     "data": {
      "application/vnd.jupyter.widget-view+json": {
       "model_id": "765fcf65e7464a05bff6e400dc94b0c3",
       "version_major": 2,
       "version_minor": 0
      },
      "text/plain": [
       "Getting_images:   0%|          | 0/100 [00:00<?, ?it/s]"
      ]
     },
     "metadata": {},
     "output_type": "display_data"
    },
    {
     "data": {
      "application/vnd.jupyter.widget-view+json": {
       "model_id": "05807d84723d43f6be62fd6a351b24bf",
       "version_major": 2,
       "version_minor": 0
      },
      "text/plain": [
       "Getting_images:   0%|          | 0/100 [00:00<?, ?it/s]"
      ]
     },
     "metadata": {},
     "output_type": "display_data"
    },
    {
     "data": {
      "application/vnd.jupyter.widget-view+json": {
       "model_id": "ba4f7f99100342329f724e692d681b55",
       "version_major": 2,
       "version_minor": 0
      },
      "text/plain": [
       "Getting_images:   0%|          | 0/100 [00:00<?, ?it/s]"
      ]
     },
     "metadata": {},
     "output_type": "display_data"
    },
    {
     "data": {
      "application/vnd.jupyter.widget-view+json": {
       "model_id": "698b4eab57684ddd8afc5cd9315eae9f",
       "version_major": 2,
       "version_minor": 0
      },
      "text/plain": [
       "Getting_images:   0%|          | 0/100 [00:00<?, ?it/s]"
      ]
     },
     "metadata": {},
     "output_type": "display_data"
    },
    {
     "data": {
      "application/vnd.jupyter.widget-view+json": {
       "model_id": "67afef554f474ee09d9ff12fe8fb38f1",
       "version_major": 2,
       "version_minor": 0
      },
      "text/plain": [
       "Getting_images:   0%|          | 0/100 [00:00<?, ?it/s]"
      ]
     },
     "metadata": {},
     "output_type": "display_data"
    },
    {
     "data": {
      "application/vnd.jupyter.widget-view+json": {
       "model_id": "c6fc1c10c9bd40c590e664cee7eeb8af",
       "version_major": 2,
       "version_minor": 0
      },
      "text/plain": [
       "Getting_images:   0%|          | 0/100 [00:00<?, ?it/s]"
      ]
     },
     "metadata": {},
     "output_type": "display_data"
    },
    {
     "data": {
      "application/vnd.jupyter.widget-view+json": {
       "model_id": "0d5a4f1840b945c8afba8d792120a8c7",
       "version_major": 2,
       "version_minor": 0
      },
      "text/plain": [
       "Getting_images:   0%|          | 0/100 [00:00<?, ?it/s]"
      ]
     },
     "metadata": {},
     "output_type": "display_data"
    },
    {
     "data": {
      "application/vnd.jupyter.widget-view+json": {
       "model_id": "6e47666876de4da2abfaaae1a59b6f55",
       "version_major": 2,
       "version_minor": 0
      },
      "text/plain": [
       "Getting_images:   0%|          | 0/100 [00:00<?, ?it/s]"
      ]
     },
     "metadata": {},
     "output_type": "display_data"
    },
    {
     "data": {
      "application/vnd.jupyter.widget-view+json": {
       "model_id": "a663bc99e2a74774aa513b3872f98f99",
       "version_major": 2,
       "version_minor": 0
      },
      "text/plain": [
       "Getting_images:   0%|          | 0/100 [00:00<?, ?it/s]"
      ]
     },
     "metadata": {},
     "output_type": "display_data"
    },
    {
     "data": {
      "application/vnd.jupyter.widget-view+json": {
       "model_id": "0cc00e40e9304e9c9bbc922f5458fabf",
       "version_major": 2,
       "version_minor": 0
      },
      "text/plain": [
       "Getting_images:   0%|          | 0/100 [00:00<?, ?it/s]"
      ]
     },
     "metadata": {},
     "output_type": "display_data"
    },
    {
     "data": {
      "application/vnd.jupyter.widget-view+json": {
       "model_id": "eab8cbcb67a74bd1a5968488b5ab0ec2",
       "version_major": 2,
       "version_minor": 0
      },
      "text/plain": [
       "Getting_images:   0%|          | 0/100 [00:00<?, ?it/s]"
      ]
     },
     "metadata": {},
     "output_type": "display_data"
    },
    {
     "data": {
      "application/vnd.jupyter.widget-view+json": {
       "model_id": "dd6c4cb3b60d4e618076484ddb3ee9a3",
       "version_major": 2,
       "version_minor": 0
      },
      "text/plain": [
       "Getting_images:   0%|          | 0/100 [00:00<?, ?it/s]"
      ]
     },
     "metadata": {},
     "output_type": "display_data"
    },
    {
     "data": {
      "application/vnd.jupyter.widget-view+json": {
       "model_id": "b062fc1446bc429eb03b4a31263e63cd",
       "version_major": 2,
       "version_minor": 0
      },
      "text/plain": [
       "Getting_images:   0%|          | 0/100 [00:00<?, ?it/s]"
      ]
     },
     "metadata": {},
     "output_type": "display_data"
    },
    {
     "data": {
      "application/vnd.jupyter.widget-view+json": {
       "model_id": "10262fea4fcc407a9155faaab3dea683",
       "version_major": 2,
       "version_minor": 0
      },
      "text/plain": [
       "Getting_images:   0%|          | 0/100 [00:00<?, ?it/s]"
      ]
     },
     "metadata": {},
     "output_type": "display_data"
    },
    {
     "data": {
      "application/vnd.jupyter.widget-view+json": {
       "model_id": "867d658fe1394ec699593230e1478a88",
       "version_major": 2,
       "version_minor": 0
      },
      "text/plain": [
       "Getting_images:   0%|          | 0/100 [00:00<?, ?it/s]"
      ]
     },
     "metadata": {},
     "output_type": "display_data"
    },
    {
     "data": {
      "application/vnd.jupyter.widget-view+json": {
       "model_id": "05429e164d4445b390f7f1ddfedd3595",
       "version_major": 2,
       "version_minor": 0
      },
      "text/plain": [
       "Getting_images:   0%|          | 0/100 [00:00<?, ?it/s]"
      ]
     },
     "metadata": {},
     "output_type": "display_data"
    },
    {
     "data": {
      "application/vnd.jupyter.widget-view+json": {
       "model_id": "f7dd0b6d940e406fb58bf2b2dce1a77f",
       "version_major": 2,
       "version_minor": 0
      },
      "text/plain": [
       "Getting_images:   0%|          | 0/100 [00:00<?, ?it/s]"
      ]
     },
     "metadata": {},
     "output_type": "display_data"
    },
    {
     "data": {
      "application/vnd.jupyter.widget-view+json": {
       "model_id": "26ca1252d25848d28d06ff5a71f4c052",
       "version_major": 2,
       "version_minor": 0
      },
      "text/plain": [
       "Getting_images:   0%|          | 0/100 [00:00<?, ?it/s]"
      ]
     },
     "metadata": {},
     "output_type": "display_data"
    },
    {
     "data": {
      "application/vnd.jupyter.widget-view+json": {
       "model_id": "7a2872bed1074406845e5066d7b87e91",
       "version_major": 2,
       "version_minor": 0
      },
      "text/plain": [
       "Getting_images:   0%|          | 0/100 [00:00<?, ?it/s]"
      ]
     },
     "metadata": {},
     "output_type": "display_data"
    },
    {
     "data": {
      "application/vnd.jupyter.widget-view+json": {
       "model_id": "eb4e76d5832d40f9a7f5761904a7b561",
       "version_major": 2,
       "version_minor": 0
      },
      "text/plain": [
       "Getting_images:   0%|          | 0/100 [00:00<?, ?it/s]"
      ]
     },
     "metadata": {},
     "output_type": "display_data"
    },
    {
     "data": {
      "application/vnd.jupyter.widget-view+json": {
       "model_id": "47dcf8ea79f247e48794be8ba9db24b7",
       "version_major": 2,
       "version_minor": 0
      },
      "text/plain": [
       "Getting_images:   0%|          | 0/100 [00:00<?, ?it/s]"
      ]
     },
     "metadata": {},
     "output_type": "display_data"
    },
    {
     "data": {
      "application/vnd.jupyter.widget-view+json": {
       "model_id": "507e9c87174a44efa70b928326521e59",
       "version_major": 2,
       "version_minor": 0
      },
      "text/plain": [
       "Getting_images:   0%|          | 0/100 [00:00<?, ?it/s]"
      ]
     },
     "metadata": {},
     "output_type": "display_data"
    },
    {
     "data": {
      "application/vnd.jupyter.widget-view+json": {
       "model_id": "01b80fdfc37a4fb9b22329e18230e742",
       "version_major": 2,
       "version_minor": 0
      },
      "text/plain": [
       "Getting_images:   0%|          | 0/100 [00:00<?, ?it/s]"
      ]
     },
     "metadata": {},
     "output_type": "display_data"
    },
    {
     "data": {
      "application/vnd.jupyter.widget-view+json": {
       "model_id": "566bea2c54a4414d9d1ef5a008a27b55",
       "version_major": 2,
       "version_minor": 0
      },
      "text/plain": [
       "Getting_images:   0%|          | 0/100 [00:00<?, ?it/s]"
      ]
     },
     "metadata": {},
     "output_type": "display_data"
    },
    {
     "data": {
      "application/vnd.jupyter.widget-view+json": {
       "model_id": "8491abe4ae484e1ea6150cafb55b99a0",
       "version_major": 2,
       "version_minor": 0
      },
      "text/plain": [
       "Getting_images:   0%|          | 0/100 [00:00<?, ?it/s]"
      ]
     },
     "metadata": {},
     "output_type": "display_data"
    },
    {
     "data": {
      "application/vnd.jupyter.widget-view+json": {
       "model_id": "9093d6a9e6d542bcba38bac59323a07f",
       "version_major": 2,
       "version_minor": 0
      },
      "text/plain": [
       "Getting_images:   0%|          | 0/100 [00:00<?, ?it/s]"
      ]
     },
     "metadata": {},
     "output_type": "display_data"
    },
    {
     "data": {
      "application/vnd.jupyter.widget-view+json": {
       "model_id": "d7b604e70fc34a7b8c58d7712684388d",
       "version_major": 2,
       "version_minor": 0
      },
      "text/plain": [
       "Getting_images:   0%|          | 0/100 [00:00<?, ?it/s]"
      ]
     },
     "metadata": {},
     "output_type": "display_data"
    },
    {
     "data": {
      "application/vnd.jupyter.widget-view+json": {
       "model_id": "eee27a824cbd40e5875d4c8bbf91567d",
       "version_major": 2,
       "version_minor": 0
      },
      "text/plain": [
       "Getting_images:   0%|          | 0/100 [00:00<?, ?it/s]"
      ]
     },
     "metadata": {},
     "output_type": "display_data"
    },
    {
     "data": {
      "application/vnd.jupyter.widget-view+json": {
       "model_id": "13ae9ddcb63f45f895b7bee7af439c7f",
       "version_major": 2,
       "version_minor": 0
      },
      "text/plain": [
       "Getting_images:   0%|          | 0/100 [00:00<?, ?it/s]"
      ]
     },
     "metadata": {},
     "output_type": "display_data"
    },
    {
     "data": {
      "application/vnd.jupyter.widget-view+json": {
       "model_id": "945e6d7114954c6ebdc122f707cfda20",
       "version_major": 2,
       "version_minor": 0
      },
      "text/plain": [
       "Getting_images:   0%|          | 0/100 [00:00<?, ?it/s]"
      ]
     },
     "metadata": {},
     "output_type": "display_data"
    },
    {
     "data": {
      "application/vnd.jupyter.widget-view+json": {
       "model_id": "8b61b42da14f4e1d883a333c036b30a4",
       "version_major": 2,
       "version_minor": 0
      },
      "text/plain": [
       "Getting_images:   0%|          | 0/100 [00:00<?, ?it/s]"
      ]
     },
     "metadata": {},
     "output_type": "display_data"
    },
    {
     "data": {
      "application/vnd.jupyter.widget-view+json": {
       "model_id": "d8d4260f1dae435c900a8f09a0592a9a",
       "version_major": 2,
       "version_minor": 0
      },
      "text/plain": [
       "Getting_images:   0%|          | 0/100 [00:00<?, ?it/s]"
      ]
     },
     "metadata": {},
     "output_type": "display_data"
    },
    {
     "data": {
      "application/vnd.jupyter.widget-view+json": {
       "model_id": "ff5c205d09944197ba37c6d6004fc877",
       "version_major": 2,
       "version_minor": 0
      },
      "text/plain": [
       "Getting_images:   0%|          | 0/100 [00:00<?, ?it/s]"
      ]
     },
     "metadata": {},
     "output_type": "display_data"
    },
    {
     "data": {
      "application/vnd.jupyter.widget-view+json": {
       "model_id": "bb2d4dced35f47f991f6956d27c82126",
       "version_major": 2,
       "version_minor": 0
      },
      "text/plain": [
       "Getting_images:   0%|          | 0/100 [00:00<?, ?it/s]"
      ]
     },
     "metadata": {},
     "output_type": "display_data"
    },
    {
     "data": {
      "application/vnd.jupyter.widget-view+json": {
       "model_id": "42e33cd29f6d4c0ba1863e87f617730a",
       "version_major": 2,
       "version_minor": 0
      },
      "text/plain": [
       "Getting_images:   0%|          | 0/100 [00:00<?, ?it/s]"
      ]
     },
     "metadata": {},
     "output_type": "display_data"
    },
    {
     "data": {
      "application/vnd.jupyter.widget-view+json": {
       "model_id": "be0a62f4c2974975a5e9f73af8c98d4c",
       "version_major": 2,
       "version_minor": 0
      },
      "text/plain": [
       "Getting_images:   0%|          | 0/100 [00:00<?, ?it/s]"
      ]
     },
     "metadata": {},
     "output_type": "display_data"
    },
    {
     "data": {
      "application/vnd.jupyter.widget-view+json": {
       "model_id": "2ada4598f13c423183ba82ee8cde997f",
       "version_major": 2,
       "version_minor": 0
      },
      "text/plain": [
       "Getting_images:   0%|          | 0/100 [00:00<?, ?it/s]"
      ]
     },
     "metadata": {},
     "output_type": "display_data"
    },
    {
     "data": {
      "application/vnd.jupyter.widget-view+json": {
       "model_id": "34262234a56f43f4a9727ecd590839a2",
       "version_major": 2,
       "version_minor": 0
      },
      "text/plain": [
       "Getting_images:   0%|          | 0/100 [00:00<?, ?it/s]"
      ]
     },
     "metadata": {},
     "output_type": "display_data"
    },
    {
     "data": {
      "application/vnd.jupyter.widget-view+json": {
       "model_id": "85e4f249b1bd4f86a5ffc583822a9065",
       "version_major": 2,
       "version_minor": 0
      },
      "text/plain": [
       "Getting_images:   0%|          | 0/100 [00:00<?, ?it/s]"
      ]
     },
     "metadata": {},
     "output_type": "display_data"
    },
    {
     "data": {
      "application/vnd.jupyter.widget-view+json": {
       "model_id": "e88a66e342f846328df2b47fa0efe12b",
       "version_major": 2,
       "version_minor": 0
      },
      "text/plain": [
       "Getting_images:   0%|          | 0/100 [00:00<?, ?it/s]"
      ]
     },
     "metadata": {},
     "output_type": "display_data"
    },
    {
     "data": {
      "application/vnd.jupyter.widget-view+json": {
       "model_id": "199a713a2fa04deab8d21d41487eda85",
       "version_major": 2,
       "version_minor": 0
      },
      "text/plain": [
       "Getting_images:   0%|          | 0/100 [00:00<?, ?it/s]"
      ]
     },
     "metadata": {},
     "output_type": "display_data"
    },
    {
     "data": {
      "application/vnd.jupyter.widget-view+json": {
       "model_id": "1dfcf5775b87416282531c1864d5574c",
       "version_major": 2,
       "version_minor": 0
      },
      "text/plain": [
       "Getting_images:   0%|          | 0/100 [00:00<?, ?it/s]"
      ]
     },
     "metadata": {},
     "output_type": "display_data"
    },
    {
     "data": {
      "application/vnd.jupyter.widget-view+json": {
       "model_id": "45b636b49afc4d91bcf6601126b879ad",
       "version_major": 2,
       "version_minor": 0
      },
      "text/plain": [
       "Getting_images:   0%|          | 0/100 [00:00<?, ?it/s]"
      ]
     },
     "metadata": {},
     "output_type": "display_data"
    },
    {
     "data": {
      "application/vnd.jupyter.widget-view+json": {
       "model_id": "46ce1f5892654d5aa44013d46b3f5cea",
       "version_major": 2,
       "version_minor": 0
      },
      "text/plain": [
       "Getting_images:   0%|          | 0/100 [00:00<?, ?it/s]"
      ]
     },
     "metadata": {},
     "output_type": "display_data"
    },
    {
     "data": {
      "application/vnd.jupyter.widget-view+json": {
       "model_id": "5706e3999b46439c9159dbeace21b62d",
       "version_major": 2,
       "version_minor": 0
      },
      "text/plain": [
       "Getting_images:   0%|          | 0/100 [00:00<?, ?it/s]"
      ]
     },
     "metadata": {},
     "output_type": "display_data"
    },
    {
     "data": {
      "application/vnd.jupyter.widget-view+json": {
       "model_id": "a08d582dbe2f4943829e807993f257d2",
       "version_major": 2,
       "version_minor": 0
      },
      "text/plain": [
       "Getting_images:   0%|          | 0/100 [00:00<?, ?it/s]"
      ]
     },
     "metadata": {},
     "output_type": "display_data"
    },
    {
     "data": {
      "application/vnd.jupyter.widget-view+json": {
       "model_id": "5ebbbc6f38ae4a63b7a0296c29bfe01a",
       "version_major": 2,
       "version_minor": 0
      },
      "text/plain": [
       "Getting_images:   0%|          | 0/100 [00:00<?, ?it/s]"
      ]
     },
     "metadata": {},
     "output_type": "display_data"
    },
    {
     "data": {
      "application/vnd.jupyter.widget-view+json": {
       "model_id": "72adcca3c0804ffcbefc38ffede679c9",
       "version_major": 2,
       "version_minor": 0
      },
      "text/plain": [
       "Getting_images:   0%|          | 0/100 [00:00<?, ?it/s]"
      ]
     },
     "metadata": {},
     "output_type": "display_data"
    },
    {
     "data": {
      "application/vnd.jupyter.widget-view+json": {
       "model_id": "a1135c8ae9134ba3b68ee9014c3e1466",
       "version_major": 2,
       "version_minor": 0
      },
      "text/plain": [
       "Getting_images:   0%|          | 0/100 [00:00<?, ?it/s]"
      ]
     },
     "metadata": {},
     "output_type": "display_data"
    },
    {
     "data": {
      "application/vnd.jupyter.widget-view+json": {
       "model_id": "399567f757da4e9283632cd344a7874d",
       "version_major": 2,
       "version_minor": 0
      },
      "text/plain": [
       "Getting_images:   0%|          | 0/100 [00:00<?, ?it/s]"
      ]
     },
     "metadata": {},
     "output_type": "display_data"
    },
    {
     "data": {
      "application/vnd.jupyter.widget-view+json": {
       "model_id": "b6df343f17ec4871a52c29caacc7162b",
       "version_major": 2,
       "version_minor": 0
      },
      "text/plain": [
       "Getting_images:   0%|          | 0/100 [00:00<?, ?it/s]"
      ]
     },
     "metadata": {},
     "output_type": "display_data"
    },
    {
     "data": {
      "application/vnd.jupyter.widget-view+json": {
       "model_id": "ad78995115db4fb4bf3783be62c6982b",
       "version_major": 2,
       "version_minor": 0
      },
      "text/plain": [
       "Getting_images:   0%|          | 0/100 [00:00<?, ?it/s]"
      ]
     },
     "metadata": {},
     "output_type": "display_data"
    },
    {
     "data": {
      "application/vnd.jupyter.widget-view+json": {
       "model_id": "9454d77accc04e9eac86faccbc4cc13b",
       "version_major": 2,
       "version_minor": 0
      },
      "text/plain": [
       "Getting_images:   0%|          | 0/100 [00:00<?, ?it/s]"
      ]
     },
     "metadata": {},
     "output_type": "display_data"
    },
    {
     "data": {
      "application/vnd.jupyter.widget-view+json": {
       "model_id": "299d1cdb0a564c20bcb10094e5e13b93",
       "version_major": 2,
       "version_minor": 0
      },
      "text/plain": [
       "Getting_images:   0%|          | 0/100 [00:00<?, ?it/s]"
      ]
     },
     "metadata": {},
     "output_type": "display_data"
    },
    {
     "data": {
      "application/vnd.jupyter.widget-view+json": {
       "model_id": "5e829eb8f9be48819285a12a95198b93",
       "version_major": 2,
       "version_minor": 0
      },
      "text/plain": [
       "Getting_images:   0%|          | 0/100 [00:00<?, ?it/s]"
      ]
     },
     "metadata": {},
     "output_type": "display_data"
    },
    {
     "data": {
      "application/vnd.jupyter.widget-view+json": {
       "model_id": "c19a84dd4a2d4f32b83da011b4e0451c",
       "version_major": 2,
       "version_minor": 0
      },
      "text/plain": [
       "Getting_images:   0%|          | 0/100 [00:00<?, ?it/s]"
      ]
     },
     "metadata": {},
     "output_type": "display_data"
    },
    {
     "data": {
      "application/vnd.jupyter.widget-view+json": {
       "model_id": "3934f64b893944ae81508d2907d19d66",
       "version_major": 2,
       "version_minor": 0
      },
      "text/plain": [
       "Getting_images:   0%|          | 0/100 [00:00<?, ?it/s]"
      ]
     },
     "metadata": {},
     "output_type": "display_data"
    },
    {
     "data": {
      "application/vnd.jupyter.widget-view+json": {
       "model_id": "cec3146e9b6c4f73a187fd42d46a51d6",
       "version_major": 2,
       "version_minor": 0
      },
      "text/plain": [
       "Getting_images:   0%|          | 0/100 [00:00<?, ?it/s]"
      ]
     },
     "metadata": {},
     "output_type": "display_data"
    },
    {
     "data": {
      "application/vnd.jupyter.widget-view+json": {
       "model_id": "f4e2e97b72c4438299a5a99632f57c02",
       "version_major": 2,
       "version_minor": 0
      },
      "text/plain": [
       "Getting_images:   0%|          | 0/100 [00:00<?, ?it/s]"
      ]
     },
     "metadata": {},
     "output_type": "display_data"
    },
    {
     "data": {
      "application/vnd.jupyter.widget-view+json": {
       "model_id": "370a364f2ea14c23bd4bda9e5e7d51af",
       "version_major": 2,
       "version_minor": 0
      },
      "text/plain": [
       "Getting_images:   0%|          | 0/100 [00:00<?, ?it/s]"
      ]
     },
     "metadata": {},
     "output_type": "display_data"
    },
    {
     "data": {
      "application/vnd.jupyter.widget-view+json": {
       "model_id": "8b7f51ef631f4a00952e452ca6b13039",
       "version_major": 2,
       "version_minor": 0
      },
      "text/plain": [
       "Getting_images:   0%|          | 0/100 [00:00<?, ?it/s]"
      ]
     },
     "metadata": {},
     "output_type": "display_data"
    },
    {
     "data": {
      "application/vnd.jupyter.widget-view+json": {
       "model_id": "eba7acddd9b74989ba4b0ebc48981e59",
       "version_major": 2,
       "version_minor": 0
      },
      "text/plain": [
       "Getting_images:   0%|          | 0/100 [00:00<?, ?it/s]"
      ]
     },
     "metadata": {},
     "output_type": "display_data"
    },
    {
     "data": {
      "application/vnd.jupyter.widget-view+json": {
       "model_id": "6d09d09fa0444ceea5c44f7bc5cd2f9c",
       "version_major": 2,
       "version_minor": 0
      },
      "text/plain": [
       "Getting_images:   0%|          | 0/100 [00:00<?, ?it/s]"
      ]
     },
     "metadata": {},
     "output_type": "display_data"
    },
    {
     "data": {
      "application/vnd.jupyter.widget-view+json": {
       "model_id": "25b476e9859b4cbebab9d35e35615fb6",
       "version_major": 2,
       "version_minor": 0
      },
      "text/plain": [
       "Getting_images:   0%|          | 0/100 [00:00<?, ?it/s]"
      ]
     },
     "metadata": {},
     "output_type": "display_data"
    },
    {
     "data": {
      "application/vnd.jupyter.widget-view+json": {
       "model_id": "9c92a98518a74134861f5b310261293c",
       "version_major": 2,
       "version_minor": 0
      },
      "text/plain": [
       "Getting_images:   0%|          | 0/100 [00:00<?, ?it/s]"
      ]
     },
     "metadata": {},
     "output_type": "display_data"
    },
    {
     "data": {
      "application/vnd.jupyter.widget-view+json": {
       "model_id": "8e5db367ff864418acaddf76723d77f9",
       "version_major": 2,
       "version_minor": 0
      },
      "text/plain": [
       "Getting_images:   0%|          | 0/100 [00:00<?, ?it/s]"
      ]
     },
     "metadata": {},
     "output_type": "display_data"
    },
    {
     "data": {
      "application/vnd.jupyter.widget-view+json": {
       "model_id": "62637585707740908080a9ffde839531",
       "version_major": 2,
       "version_minor": 0
      },
      "text/plain": [
       "Getting_images:   0%|          | 0/100 [00:00<?, ?it/s]"
      ]
     },
     "metadata": {},
     "output_type": "display_data"
    },
    {
     "data": {
      "application/vnd.jupyter.widget-view+json": {
       "model_id": "7e6abfb847af4ac1b617fc8abf07db7b",
       "version_major": 2,
       "version_minor": 0
      },
      "text/plain": [
       "Getting_images:   0%|          | 0/100 [00:00<?, ?it/s]"
      ]
     },
     "metadata": {},
     "output_type": "display_data"
    },
    {
     "data": {
      "application/vnd.jupyter.widget-view+json": {
       "model_id": "8dea1bc6a18540449ac27743619b3077",
       "version_major": 2,
       "version_minor": 0
      },
      "text/plain": [
       "Getting_images:   0%|          | 0/100 [00:00<?, ?it/s]"
      ]
     },
     "metadata": {},
     "output_type": "display_data"
    },
    {
     "data": {
      "application/vnd.jupyter.widget-view+json": {
       "model_id": "3c3a24c310bd41f7bc7786ac13f8299b",
       "version_major": 2,
       "version_minor": 0
      },
      "text/plain": [
       "Getting_images:   0%|          | 0/100 [00:00<?, ?it/s]"
      ]
     },
     "metadata": {},
     "output_type": "display_data"
    },
    {
     "data": {
      "application/vnd.jupyter.widget-view+json": {
       "model_id": "79d3426694ea42fba7fedfd0b9f10a10",
       "version_major": 2,
       "version_minor": 0
      },
      "text/plain": [
       "Getting_images:   0%|          | 0/100 [00:00<?, ?it/s]"
      ]
     },
     "metadata": {},
     "output_type": "display_data"
    },
    {
     "data": {
      "application/vnd.jupyter.widget-view+json": {
       "model_id": "b1d692f154884d2ab16ed79ea5ba4654",
       "version_major": 2,
       "version_minor": 0
      },
      "text/plain": [
       "Getting_images:   0%|          | 0/100 [00:00<?, ?it/s]"
      ]
     },
     "metadata": {},
     "output_type": "display_data"
    },
    {
     "data": {
      "application/vnd.jupyter.widget-view+json": {
       "model_id": "aabb3730af4249bbac2deb5771d9cd35",
       "version_major": 2,
       "version_minor": 0
      },
      "text/plain": [
       "Getting_images:   0%|          | 0/100 [00:00<?, ?it/s]"
      ]
     },
     "metadata": {},
     "output_type": "display_data"
    },
    {
     "data": {
      "application/vnd.jupyter.widget-view+json": {
       "model_id": "ee28648f6cba4438a6541038adc1a61d",
       "version_major": 2,
       "version_minor": 0
      },
      "text/plain": [
       "Getting_images:   0%|          | 0/100 [00:00<?, ?it/s]"
      ]
     },
     "metadata": {},
     "output_type": "display_data"
    },
    {
     "data": {
      "application/vnd.jupyter.widget-view+json": {
       "model_id": "85b7d79a8f0a49e9aaf6519cf862390d",
       "version_major": 2,
       "version_minor": 0
      },
      "text/plain": [
       "Getting_images:   0%|          | 0/100 [00:00<?, ?it/s]"
      ]
     },
     "metadata": {},
     "output_type": "display_data"
    },
    {
     "data": {
      "application/vnd.jupyter.widget-view+json": {
       "model_id": "5a31c89789024263802607236fa6d6d1",
       "version_major": 2,
       "version_minor": 0
      },
      "text/plain": [
       "Getting_images:   0%|          | 0/100 [00:00<?, ?it/s]"
      ]
     },
     "metadata": {},
     "output_type": "display_data"
    },
    {
     "data": {
      "application/vnd.jupyter.widget-view+json": {
       "model_id": "c39cda6b452f4eab8e9471527dcadb6b",
       "version_major": 2,
       "version_minor": 0
      },
      "text/plain": [
       "Getting_images:   0%|          | 0/100 [00:00<?, ?it/s]"
      ]
     },
     "metadata": {},
     "output_type": "display_data"
    },
    {
     "data": {
      "application/vnd.jupyter.widget-view+json": {
       "model_id": "23c1a5bb8f014c3380ab69b0a599d509",
       "version_major": 2,
       "version_minor": 0
      },
      "text/plain": [
       "Getting_images:   0%|          | 0/100 [00:00<?, ?it/s]"
      ]
     },
     "metadata": {},
     "output_type": "display_data"
    },
    {
     "data": {
      "application/vnd.jupyter.widget-view+json": {
       "model_id": "bba641af91ad4e608bc3625e256c382e",
       "version_major": 2,
       "version_minor": 0
      },
      "text/plain": [
       "Getting_images:   0%|          | 0/100 [00:00<?, ?it/s]"
      ]
     },
     "metadata": {},
     "output_type": "display_data"
    },
    {
     "data": {
      "application/vnd.jupyter.widget-view+json": {
       "model_id": "bb756e7ff2004ee18f6d450d939ac475",
       "version_major": 2,
       "version_minor": 0
      },
      "text/plain": [
       "Getting_images:   0%|          | 0/100 [00:00<?, ?it/s]"
      ]
     },
     "metadata": {},
     "output_type": "display_data"
    },
    {
     "data": {
      "application/vnd.jupyter.widget-view+json": {
       "model_id": "510d82cd30f844c395300c54ad3423ea",
       "version_major": 2,
       "version_minor": 0
      },
      "text/plain": [
       "Getting_images:   0%|          | 0/100 [00:00<?, ?it/s]"
      ]
     },
     "metadata": {},
     "output_type": "display_data"
    },
    {
     "data": {
      "application/vnd.jupyter.widget-view+json": {
       "model_id": "46a27fddc9c547578ea68687e165372b",
       "version_major": 2,
       "version_minor": 0
      },
      "text/plain": [
       "Getting_images:   0%|          | 0/100 [00:00<?, ?it/s]"
      ]
     },
     "metadata": {},
     "output_type": "display_data"
    }
   ],
   "source": [
    "student_deepinversion = run_distillation(\n",
    "    algorithm_name=\"deepinversion\",\n",
    "    teacher=teacher,\n",
    "    student=student_deepinversion,\n",
    "    config={\n",
    "        \"total_iterations\": train_config[\"dataset_size\"] * train_config[\"max_epochs\"],\n",
    "        \"distill_k_times\": 16,\n",
    "        \"batch_size\": 128,\n",
    "        \"deep_inversion_batch_size\": 1024,\n",
    "        \"n_classes\": 10,\n",
    "    }\n",
    ")"
   ]
  },
  {
   "cell_type": "code",
   "execution_count": 12,
   "id": "afe1086f",
   "metadata": {},
   "outputs": [
    {
     "data": {
      "application/vnd.jupyter.widget-view+json": {
       "model_id": "c9bfe9fbebb84caaab3a3c26991e13f0",
       "version_major": 2,
       "version_minor": 0
      },
      "text/plain": [
       "eval batch:   0%|          | 0/20 [00:00<?, ?it/s]"
      ]
     },
     "metadata": {},
     "output_type": "display_data"
    },
    {
     "data": {
      "text/plain": [
       "{'Accuracy': 0.1618}"
      ]
     },
     "execution_count": 12,
     "metadata": {},
     "output_type": "execute_result"
    }
   ],
   "source": [
    "trainer.evaluate(\n",
    "    get_cifar10_loader(data_path=\"../../data\", train=False, batch_size=train_config[\"batch_size\"]),\n",
    "    model=student_deepinversion\n",
    ")"
   ]
  },
  {
   "cell_type": "code",
   "execution_count": null,
   "id": "bbe084fe",
   "metadata": {},
   "outputs": [],
   "source": [
    "student_stat_features = run_distillation(\n",
    "    algorithm_name=\"stat_features\",\n",
    "    teacher=teacher,\n",
    "    student=student_stat_features,\n",
    "    config={\n",
    "        'train_loader': get_cifar10_loader(data_path=\"../../data\", train=True, batch_size=train_config[\"batch_size\"]),\n",
    "        'test_loader': get_cifar10_loader(data_path=\"../../data\", train=False, batch_size=train_config[\"batch_size\"]),\n",
    "        'reconstruction_size': 10000,\n",
    "        'device': 'cuda',\n",
    "    }\n",
    ")"
   ]
  },
  {
   "cell_type": "code",
   "execution_count": null,
   "id": "f186fc79",
   "metadata": {},
   "outputs": [],
   "source": [
    "student_dfad = run_distillation(\n",
    "    algorithm_name=\"dfad\",\n",
    "    teacher=teacher,\n",
    "    student=student_dfad,\n",
    "    config={\n",
    "        ...\n",
    "    }\n",
    ")"
   ]
  },
  {
   "cell_type": "code",
   "execution_count": null,
   "id": "0ed968f3",
   "metadata": {},
   "outputs": [],
   "source": [
    "student_spec_features = run_distillation(\n",
    "    algorithm_name=\"?????\",\n",
    "    teacher=teacher,\n",
    "    student=student_spec_features,\n",
    "    config={\n",
    "        ...\n",
    "    }\n",
    ")"
   ]
  }
 ],
 "metadata": {
  "kernelspec": {
   "display_name": ".venv",
   "language": "python",
   "name": "python3"
  },
  "language_info": {
   "codemirror_mode": {
    "name": "ipython",
    "version": 3
   },
   "file_extension": ".py",
   "mimetype": "text/x-python",
   "name": "python",
   "nbconvert_exporter": "python",
   "pygments_lexer": "ipython3",
   "version": "3.12.4"
  }
 },
 "nbformat": 4,
 "nbformat_minor": 5
}
