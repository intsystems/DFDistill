{
 "cells": [
  {
   "cell_type": "code",
   "execution_count": null,
   "id": "8750bed9",
   "metadata": {},
   "outputs": [],
   "source": [
    "import sys\n",
    "import math\n",
    "sys.path.append(\"..\")\n",
    "\n",
    "import torch\n",
    "\n",
    "from algorithms.deepinversion import distill_deep_inversion\n",
    "from algorithms.vanilla_distillation import distill\n",
    "# LATER CHANGE TO SINGLE FUNCTION WITH METHODS FROM CONFIG!\n",
    "\n",
    "from trainer import Trainer\n",
    "from models import SimpleConvNet, SimpleResNet\n",
    "from utils import get_cifar100_loader\n",
    "\n",
    "device = \"cuda\"\n",
    "\n",
    "%load_ext autoreload\n",
    "%autoreload 2"
   ]
  },
  {
   "cell_type": "code",
   "execution_count": 2,
   "id": "8eea1385",
   "metadata": {},
   "outputs": [],
   "source": [
    "teacher = SimpleResNet(n_blocks=5, n_filters=64, input_shape=(3, 32, 32), n_classes=100).to(device)\n",
    "student_reference = SimpleConvNet(n_layers=3, n_filters=32, input_shape=(3, 32, 32), n_classes=100).to(device)\n",
    "\n",
    "student_vanilla = SimpleConvNet(n_layers=3, n_filters=32, input_shape=(3, 32, 32), n_classes=100).to(device)\n",
    "student_deepinversion = SimpleConvNet(n_layers=3, n_filters=32, input_shape=(3, 32, 32), n_classes=100).to(device)"
   ]
  },
  {
   "cell_type": "code",
   "execution_count": 3,
   "id": "c9870acd",
   "metadata": {},
   "outputs": [],
   "source": [
    "train_config = {\n",
    "    'lr': 1e-3,\n",
    "    'batch_size': 512,\n",
    "    'max_iters': -1,\n",
    "    'max_epochs': 7,\n",
    "    'evaluate_every': 36,\n",
    "    'log_every': 36,\n",
    "    \"optimizer\": \"AdamW\",\n",
    "    'verbose': False,\n",
    "    'dataset_size': 50000\n",
    "}"
   ]
  },
  {
   "cell_type": "code",
   "execution_count": 4,
   "id": "f2001dbc",
   "metadata": {},
   "outputs": [],
   "source": [
    "trainer = Trainer(train_config=train_config)"
   ]
  },
  {
   "cell_type": "code",
   "execution_count": 5,
   "id": "6502e578",
   "metadata": {},
   "outputs": [
    {
     "data": {
      "application/vnd.jupyter.widget-view+json": {
       "model_id": "e7777a15d7f14b8e840feb7bae2e54c5",
       "version_major": 2,
       "version_minor": 0
      },
      "text/plain": [
       "Training iters:   0%|          | 0/350000 [00:00<?, ?it/s]"
      ]
     },
     "metadata": {},
     "output_type": "display_data"
    },
    {
     "data": {
      "application/vnd.jupyter.widget-view+json": {
       "model_id": "8100b1f4475d4780a88a6f2fe5472b3f",
       "version_major": 2,
       "version_minor": 0
      },
      "text/plain": [
       "eval batch:   0%|          | 0/20 [00:00<?, ?it/s]"
      ]
     },
     "metadata": {},
     "output_type": "display_data"
    },
    {
     "data": {
      "application/vnd.jupyter.widget-view+json": {
       "model_id": "d3de4e0c4959499eb93ce0d5aa81f585",
       "version_major": 2,
       "version_minor": 0
      },
      "text/plain": [
       "eval batch:   0%|          | 0/20 [00:00<?, ?it/s]"
      ]
     },
     "metadata": {},
     "output_type": "display_data"
    },
    {
     "data": {
      "application/vnd.jupyter.widget-view+json": {
       "model_id": "a1fdccbfd2f1442fa1c15d28997d7e4d",
       "version_major": 2,
       "version_minor": 0
      },
      "text/plain": [
       "eval batch:   0%|          | 0/20 [00:00<?, ?it/s]"
      ]
     },
     "metadata": {},
     "output_type": "display_data"
    },
    {
     "data": {
      "application/vnd.jupyter.widget-view+json": {
       "model_id": "07ef13c0a8744482bd4c6b2c74f9116e",
       "version_major": 2,
       "version_minor": 0
      },
      "text/plain": [
       "eval batch:   0%|          | 0/20 [00:00<?, ?it/s]"
      ]
     },
     "metadata": {},
     "output_type": "display_data"
    },
    {
     "data": {
      "application/vnd.jupyter.widget-view+json": {
       "model_id": "4a0e0c6a0ebc47d1b86826d8e95067e6",
       "version_major": 2,
       "version_minor": 0
      },
      "text/plain": [
       "eval batch:   0%|          | 0/20 [00:00<?, ?it/s]"
      ]
     },
     "metadata": {},
     "output_type": "display_data"
    },
    {
     "data": {
      "application/vnd.jupyter.widget-view+json": {
       "model_id": "59df55dcec634613a11de87e214dc6dc",
       "version_major": 2,
       "version_minor": 0
      },
      "text/plain": [
       "eval batch:   0%|          | 0/20 [00:00<?, ?it/s]"
      ]
     },
     "metadata": {},
     "output_type": "display_data"
    },
    {
     "data": {
      "application/vnd.jupyter.widget-view+json": {
       "model_id": "3f24e9b521694cd397de2a156f1025c3",
       "version_major": 2,
       "version_minor": 0
      },
      "text/plain": [
       "eval batch:   0%|          | 0/20 [00:00<?, ?it/s]"
      ]
     },
     "metadata": {},
     "output_type": "display_data"
    },
    {
     "data": {
      "application/vnd.jupyter.widget-view+json": {
       "model_id": "dd7ccb6f65ca43dabd595d291963908c",
       "version_major": 2,
       "version_minor": 0
      },
      "text/plain": [
       "eval batch:   0%|          | 0/20 [00:00<?, ?it/s]"
      ]
     },
     "metadata": {},
     "output_type": "display_data"
    },
    {
     "data": {
      "application/vnd.jupyter.widget-view+json": {
       "model_id": "71fdef52e0a44e589f7fcd2213e54400",
       "version_major": 2,
       "version_minor": 0
      },
      "text/plain": [
       "eval batch:   0%|          | 0/20 [00:00<?, ?it/s]"
      ]
     },
     "metadata": {},
     "output_type": "display_data"
    },
    {
     "data": {
      "application/vnd.jupyter.widget-view+json": {
       "model_id": "6184189a31ef40b1a248e3222b606a5a",
       "version_major": 2,
       "version_minor": 0
      },
      "text/plain": [
       "eval batch:   0%|          | 0/20 [00:00<?, ?it/s]"
      ]
     },
     "metadata": {},
     "output_type": "display_data"
    },
    {
     "data": {
      "application/vnd.jupyter.widget-view+json": {
       "model_id": "8efa55da957d4d77a38fbb73eb2c90f6",
       "version_major": 2,
       "version_minor": 0
      },
      "text/plain": [
       "eval batch:   0%|          | 0/20 [00:00<?, ?it/s]"
      ]
     },
     "metadata": {},
     "output_type": "display_data"
    },
    {
     "data": {
      "application/vnd.jupyter.widget-view+json": {
       "model_id": "aefa9bd9ed584ec0ba35dcce47f39c73",
       "version_major": 2,
       "version_minor": 0
      },
      "text/plain": [
       "eval batch:   0%|          | 0/20 [00:00<?, ?it/s]"
      ]
     },
     "metadata": {},
     "output_type": "display_data"
    },
    {
     "data": {
      "application/vnd.jupyter.widget-view+json": {
       "model_id": "a351463b512f4bb69cc7287eeb973aa8",
       "version_major": 2,
       "version_minor": 0
      },
      "text/plain": [
       "eval batch:   0%|          | 0/20 [00:00<?, ?it/s]"
      ]
     },
     "metadata": {},
     "output_type": "display_data"
    },
    {
     "data": {
      "application/vnd.jupyter.widget-view+json": {
       "model_id": "25631fbd2ca644bda7978614c4651550",
       "version_major": 2,
       "version_minor": 0
      },
      "text/plain": [
       "eval batch:   0%|          | 0/20 [00:00<?, ?it/s]"
      ]
     },
     "metadata": {},
     "output_type": "display_data"
    }
   ],
   "source": [
    "teacher = trainer.train(\n",
    "    model=teacher,\n",
    "    train_loader=get_cifar100_loader(data_path=\"../../data\", train=True, batch_size=train_config[\"batch_size\"]),\n",
    "    val_loader=get_cifar100_loader(data_path=\"../../data\", train=False, batch_size=train_config[\"batch_size\"])\n",
    ")"
   ]
  },
  {
   "cell_type": "code",
   "execution_count": 6,
   "id": "84139aaf",
   "metadata": {},
   "outputs": [
    {
     "data": {
      "application/vnd.jupyter.widget-view+json": {
       "model_id": "94a490026adf4bbcab85151674c9530c",
       "version_major": 2,
       "version_minor": 0
      },
      "text/plain": [
       "Training iters:   0%|          | 0/350000 [00:00<?, ?it/s]"
      ]
     },
     "metadata": {},
     "output_type": "display_data"
    },
    {
     "data": {
      "application/vnd.jupyter.widget-view+json": {
       "model_id": "1ccbcb9642ae42ca83202059ae541f20",
       "version_major": 2,
       "version_minor": 0
      },
      "text/plain": [
       "eval batch:   0%|          | 0/20 [00:00<?, ?it/s]"
      ]
     },
     "metadata": {},
     "output_type": "display_data"
    },
    {
     "data": {
      "application/vnd.jupyter.widget-view+json": {
       "model_id": "ce725aca36f74ff3b7d7b1e9651dd34b",
       "version_major": 2,
       "version_minor": 0
      },
      "text/plain": [
       "eval batch:   0%|          | 0/20 [00:00<?, ?it/s]"
      ]
     },
     "metadata": {},
     "output_type": "display_data"
    },
    {
     "data": {
      "application/vnd.jupyter.widget-view+json": {
       "model_id": "af87c5452f5f48d99da6580bce432b87",
       "version_major": 2,
       "version_minor": 0
      },
      "text/plain": [
       "eval batch:   0%|          | 0/20 [00:00<?, ?it/s]"
      ]
     },
     "metadata": {},
     "output_type": "display_data"
    },
    {
     "data": {
      "application/vnd.jupyter.widget-view+json": {
       "model_id": "f87d7dfb71be434d973f7a402358f04c",
       "version_major": 2,
       "version_minor": 0
      },
      "text/plain": [
       "eval batch:   0%|          | 0/20 [00:00<?, ?it/s]"
      ]
     },
     "metadata": {},
     "output_type": "display_data"
    },
    {
     "data": {
      "application/vnd.jupyter.widget-view+json": {
       "model_id": "1ab9f22326434e1db54ebe3122df102b",
       "version_major": 2,
       "version_minor": 0
      },
      "text/plain": [
       "eval batch:   0%|          | 0/20 [00:00<?, ?it/s]"
      ]
     },
     "metadata": {},
     "output_type": "display_data"
    },
    {
     "data": {
      "application/vnd.jupyter.widget-view+json": {
       "model_id": "e8fd078753fd4dc9a8d42461c1fcbd27",
       "version_major": 2,
       "version_minor": 0
      },
      "text/plain": [
       "eval batch:   0%|          | 0/20 [00:00<?, ?it/s]"
      ]
     },
     "metadata": {},
     "output_type": "display_data"
    },
    {
     "data": {
      "application/vnd.jupyter.widget-view+json": {
       "model_id": "0f7756fd2b554c37b878a57bf443885d",
       "version_major": 2,
       "version_minor": 0
      },
      "text/plain": [
       "eval batch:   0%|          | 0/20 [00:00<?, ?it/s]"
      ]
     },
     "metadata": {},
     "output_type": "display_data"
    },
    {
     "data": {
      "application/vnd.jupyter.widget-view+json": {
       "model_id": "5f94fb74318a428796d23b6260c1793c",
       "version_major": 2,
       "version_minor": 0
      },
      "text/plain": [
       "eval batch:   0%|          | 0/20 [00:00<?, ?it/s]"
      ]
     },
     "metadata": {},
     "output_type": "display_data"
    },
    {
     "data": {
      "application/vnd.jupyter.widget-view+json": {
       "model_id": "8b31729c8e98413eb939ca81854246dc",
       "version_major": 2,
       "version_minor": 0
      },
      "text/plain": [
       "eval batch:   0%|          | 0/20 [00:00<?, ?it/s]"
      ]
     },
     "metadata": {},
     "output_type": "display_data"
    },
    {
     "data": {
      "application/vnd.jupyter.widget-view+json": {
       "model_id": "6705832fbb55425f8677693ea1dcff5d",
       "version_major": 2,
       "version_minor": 0
      },
      "text/plain": [
       "eval batch:   0%|          | 0/20 [00:00<?, ?it/s]"
      ]
     },
     "metadata": {},
     "output_type": "display_data"
    },
    {
     "data": {
      "application/vnd.jupyter.widget-view+json": {
       "model_id": "4a4c9b733fdf41438b5a86a141bced3e",
       "version_major": 2,
       "version_minor": 0
      },
      "text/plain": [
       "eval batch:   0%|          | 0/20 [00:00<?, ?it/s]"
      ]
     },
     "metadata": {},
     "output_type": "display_data"
    },
    {
     "data": {
      "application/vnd.jupyter.widget-view+json": {
       "model_id": "f00fc0d1679b4e4ca57da5128b3ed4b1",
       "version_major": 2,
       "version_minor": 0
      },
      "text/plain": [
       "eval batch:   0%|          | 0/20 [00:00<?, ?it/s]"
      ]
     },
     "metadata": {},
     "output_type": "display_data"
    },
    {
     "data": {
      "application/vnd.jupyter.widget-view+json": {
       "model_id": "a87f81a977af412c94ef08b72ee0ab8f",
       "version_major": 2,
       "version_minor": 0
      },
      "text/plain": [
       "eval batch:   0%|          | 0/20 [00:00<?, ?it/s]"
      ]
     },
     "metadata": {},
     "output_type": "display_data"
    },
    {
     "data": {
      "application/vnd.jupyter.widget-view+json": {
       "model_id": "6cf55b2055dc40418ad95d6b176ec3f6",
       "version_major": 2,
       "version_minor": 0
      },
      "text/plain": [
       "eval batch:   0%|          | 0/20 [00:00<?, ?it/s]"
      ]
     },
     "metadata": {},
     "output_type": "display_data"
    }
   ],
   "source": [
    "student_reference = trainer.train(\n",
    "    model=student_reference,\n",
    "    train_loader=get_cifar100_loader(data_path=\"../../data\", train=True, batch_size=train_config[\"batch_size\"]),\n",
    "    val_loader=get_cifar100_loader(data_path=\"../../data\", train=False, batch_size=train_config[\"batch_size\"])\n",
    ")"
   ]
  },
  {
   "cell_type": "code",
   "execution_count": 7,
   "id": "26a3b4f7",
   "metadata": {},
   "outputs": [],
   "source": [
    "loader_temp = get_cifar100_loader(data_path=\"../../data\", train=True, batch_size=train_config[\"batch_size\"])"
   ]
  },
  {
   "cell_type": "code",
   "execution_count": null,
   "id": "be9db030",
   "metadata": {},
   "outputs": [
    {
     "name": "stderr",
     "output_type": "stream",
     "text": [
      "Training - 0/686 [                              ] ELP: 00:00d:\\Desktop\\10сем\\BMM\\DFDistill\\.venv\\Lib\\site-packages\\torch\\nn\\_reduction.py:51: UserWarning: size_average and reduce args will be deprecated, please use reduction='sum' instead.\n",
      "  warnings.warn(warning.format(ret))\n",
      "Training - 267/686 [███████████▋                  ] ELP: 00:21, accuracy: 0.2169 - "
     ]
    }
   ],
   "source": [
    "student_vanilla = distill(\n",
    "    teacher=teacher,\n",
    "    student=student_vanilla,\n",
    "    optimizer=torch.optim.AdamW(student_vanilla.parameters(), lr=train_config[\"lr\"], betas=(0.8, 0.9)),\n",
    "    train_loader=get_cifar100_loader(data_path=\"../../data\", train=True, batch_size=train_config[\"batch_size\"]),\n",
    "    test_loader=None,\n",
    "    iterations=math.ceil(train_config['dataset_size'] / train_config[\"batch_size\"]) * train_config[\"max_epochs\"],\n",
    "    test_freq=-1,\n",
    "    alpha=0.6,\n",
    "    T=2.5\n",
    ")"
   ]
  },
  {
   "cell_type": "code",
   "execution_count": null,
   "id": "820bb03e",
   "metadata": {},
   "outputs": [
    {
     "data": {
      "application/vnd.jupyter.widget-view+json": {
       "model_id": "9d18a730d6ff4d3887746c3e722161b7",
       "version_major": 2,
       "version_minor": 0
      },
      "text/plain": [
       "Pipeline iters:   0%|          | 0/341 [00:00<?, ?it/s]"
      ]
     },
     "metadata": {},
     "output_type": "display_data"
    },
    {
     "data": {
      "application/vnd.jupyter.widget-view+json": {
       "model_id": "d76beda3095d47c3bb711ee987fe7233",
       "version_major": 2,
       "version_minor": 0
      },
      "text/plain": [
       "Getting_images:   0%|          | 0/200 [00:00<?, ?it/s]"
      ]
     },
     "metadata": {},
     "output_type": "display_data"
    },
    {
     "data": {
      "application/vnd.jupyter.widget-view+json": {
       "model_id": "5af602c1b3ba489dbc6b111955dd4948",
       "version_major": 2,
       "version_minor": 0
      },
      "text/plain": [
       "Getting_images:   0%|          | 0/200 [00:00<?, ?it/s]"
      ]
     },
     "metadata": {},
     "output_type": "display_data"
    },
    {
     "data": {
      "application/vnd.jupyter.widget-view+json": {
       "model_id": "4a71dbc60d774bfe8d06650630b12698",
       "version_major": 2,
       "version_minor": 0
      },
      "text/plain": [
       "Getting_images:   0%|          | 0/200 [00:00<?, ?it/s]"
      ]
     },
     "metadata": {},
     "output_type": "display_data"
    },
    {
     "data": {
      "application/vnd.jupyter.widget-view+json": {
       "model_id": "1e38ca8ada6e4ff09ea82afa1cb645a4",
       "version_major": 2,
       "version_minor": 0
      },
      "text/plain": [
       "Getting_images:   0%|          | 0/200 [00:00<?, ?it/s]"
      ]
     },
     "metadata": {},
     "output_type": "display_data"
    },
    {
     "data": {
      "application/vnd.jupyter.widget-view+json": {
       "model_id": "e9523fcb047841f5b29c6b603dd651f4",
       "version_major": 2,
       "version_minor": 0
      },
      "text/plain": [
       "Getting_images:   0%|          | 0/200 [00:00<?, ?it/s]"
      ]
     },
     "metadata": {},
     "output_type": "display_data"
    },
    {
     "data": {
      "application/vnd.jupyter.widget-view+json": {
       "model_id": "d9c224b29f0840c583577a1a67d35fac",
       "version_major": 2,
       "version_minor": 0
      },
      "text/plain": [
       "Getting_images:   0%|          | 0/200 [00:00<?, ?it/s]"
      ]
     },
     "metadata": {},
     "output_type": "display_data"
    },
    {
     "data": {
      "application/vnd.jupyter.widget-view+json": {
       "model_id": "fe84178219c14cb4b805fccb19dccfa8",
       "version_major": 2,
       "version_minor": 0
      },
      "text/plain": [
       "Getting_images:   0%|          | 0/200 [00:00<?, ?it/s]"
      ]
     },
     "metadata": {},
     "output_type": "display_data"
    },
    {
     "data": {
      "application/vnd.jupyter.widget-view+json": {
       "model_id": "c230aaad3dc74252bda07657caa90325",
       "version_major": 2,
       "version_minor": 0
      },
      "text/plain": [
       "Getting_images:   0%|          | 0/200 [00:00<?, ?it/s]"
      ]
     },
     "metadata": {},
     "output_type": "display_data"
    },
    {
     "data": {
      "application/vnd.jupyter.widget-view+json": {
       "model_id": "c24aa17fa1224625b39ee25939ff4652",
       "version_major": 2,
       "version_minor": 0
      },
      "text/plain": [
       "Getting_images:   0%|          | 0/200 [00:00<?, ?it/s]"
      ]
     },
     "metadata": {},
     "output_type": "display_data"
    },
    {
     "data": {
      "application/vnd.jupyter.widget-view+json": {
       "model_id": "4cc7366358974dc99652bd36c8214ca1",
       "version_major": 2,
       "version_minor": 0
      },
      "text/plain": [
       "Getting_images:   0%|          | 0/200 [00:00<?, ?it/s]"
      ]
     },
     "metadata": {},
     "output_type": "display_data"
    },
    {
     "data": {
      "application/vnd.jupyter.widget-view+json": {
       "model_id": "1e2ebd00f17e45f9bd0f65bad15c825e",
       "version_major": 2,
       "version_minor": 0
      },
      "text/plain": [
       "Getting_images:   0%|          | 0/200 [00:00<?, ?it/s]"
      ]
     },
     "metadata": {},
     "output_type": "display_data"
    },
    {
     "data": {
      "application/vnd.jupyter.widget-view+json": {
       "model_id": "89de54e60ac048a197a075b7f98f6129",
       "version_major": 2,
       "version_minor": 0
      },
      "text/plain": [
       "Getting_images:   0%|          | 0/200 [00:00<?, ?it/s]"
      ]
     },
     "metadata": {},
     "output_type": "display_data"
    },
    {
     "data": {
      "application/vnd.jupyter.widget-view+json": {
       "model_id": "c68c295c12a84788b1acdb6eec999b89",
       "version_major": 2,
       "version_minor": 0
      },
      "text/plain": [
       "Getting_images:   0%|          | 0/200 [00:00<?, ?it/s]"
      ]
     },
     "metadata": {},
     "output_type": "display_data"
    },
    {
     "data": {
      "application/vnd.jupyter.widget-view+json": {
       "model_id": "f442cbbb4c0444abb9691b4d37733ee7",
       "version_major": 2,
       "version_minor": 0
      },
      "text/plain": [
       "Getting_images:   0%|          | 0/200 [00:00<?, ?it/s]"
      ]
     },
     "metadata": {},
     "output_type": "display_data"
    },
    {
     "data": {
      "application/vnd.jupyter.widget-view+json": {
       "model_id": "20a27cfd3350443bb10e0ec62aa4a0c5",
       "version_major": 2,
       "version_minor": 0
      },
      "text/plain": [
       "Getting_images:   0%|          | 0/200 [00:00<?, ?it/s]"
      ]
     },
     "metadata": {},
     "output_type": "display_data"
    },
    {
     "data": {
      "application/vnd.jupyter.widget-view+json": {
       "model_id": "49de0f65d49140908c5ba4c953b3fa99",
       "version_major": 2,
       "version_minor": 0
      },
      "text/plain": [
       "Getting_images:   0%|          | 0/200 [00:00<?, ?it/s]"
      ]
     },
     "metadata": {},
     "output_type": "display_data"
    },
    {
     "data": {
      "application/vnd.jupyter.widget-view+json": {
       "model_id": "1ced92f8e29348dd8ae051842fd64ec2",
       "version_major": 2,
       "version_minor": 0
      },
      "text/plain": [
       "Getting_images:   0%|          | 0/200 [00:00<?, ?it/s]"
      ]
     },
     "metadata": {},
     "output_type": "display_data"
    },
    {
     "data": {
      "application/vnd.jupyter.widget-view+json": {
       "model_id": "09944458080143eeb9ee2c350b9a8633",
       "version_major": 2,
       "version_minor": 0
      },
      "text/plain": [
       "Getting_images:   0%|          | 0/200 [00:00<?, ?it/s]"
      ]
     },
     "metadata": {},
     "output_type": "display_data"
    },
    {
     "data": {
      "application/vnd.jupyter.widget-view+json": {
       "model_id": "5ec76aabdee7437988ed672828de8455",
       "version_major": 2,
       "version_minor": 0
      },
      "text/plain": [
       "Getting_images:   0%|          | 0/200 [00:00<?, ?it/s]"
      ]
     },
     "metadata": {},
     "output_type": "display_data"
    },
    {
     "data": {
      "application/vnd.jupyter.widget-view+json": {
       "model_id": "63d38eca344746b4a2966b37b37f7bcf",
       "version_major": 2,
       "version_minor": 0
      },
      "text/plain": [
       "Getting_images:   0%|          | 0/200 [00:00<?, ?it/s]"
      ]
     },
     "metadata": {},
     "output_type": "display_data"
    },
    {
     "data": {
      "application/vnd.jupyter.widget-view+json": {
       "model_id": "6bf866f6d2fd4b9f8f41fb2648b88edf",
       "version_major": 2,
       "version_minor": 0
      },
      "text/plain": [
       "Getting_images:   0%|          | 0/200 [00:00<?, ?it/s]"
      ]
     },
     "metadata": {},
     "output_type": "display_data"
    },
    {
     "data": {
      "application/vnd.jupyter.widget-view+json": {
       "model_id": "044d655aa3d04b10809dbcea0c2bab0c",
       "version_major": 2,
       "version_minor": 0
      },
      "text/plain": [
       "Getting_images:   0%|          | 0/200 [00:00<?, ?it/s]"
      ]
     },
     "metadata": {},
     "output_type": "display_data"
    },
    {
     "data": {
      "application/vnd.jupyter.widget-view+json": {
       "model_id": "c5b17bac560f4cc6ba10641d62114855",
       "version_major": 2,
       "version_minor": 0
      },
      "text/plain": [
       "Getting_images:   0%|          | 0/200 [00:00<?, ?it/s]"
      ]
     },
     "metadata": {},
     "output_type": "display_data"
    },
    {
     "data": {
      "application/vnd.jupyter.widget-view+json": {
       "model_id": "9e7ebe6d7b52403e9155185459471cab",
       "version_major": 2,
       "version_minor": 0
      },
      "text/plain": [
       "Getting_images:   0%|          | 0/200 [00:00<?, ?it/s]"
      ]
     },
     "metadata": {},
     "output_type": "display_data"
    },
    {
     "data": {
      "application/vnd.jupyter.widget-view+json": {
       "model_id": "dbc4bbba7638411ab83c162728030dea",
       "version_major": 2,
       "version_minor": 0
      },
      "text/plain": [
       "Getting_images:   0%|          | 0/200 [00:00<?, ?it/s]"
      ]
     },
     "metadata": {},
     "output_type": "display_data"
    },
    {
     "data": {
      "application/vnd.jupyter.widget-view+json": {
       "model_id": "1e5de7fa03694fccb838a88952f77365",
       "version_major": 2,
       "version_minor": 0
      },
      "text/plain": [
       "Getting_images:   0%|          | 0/200 [00:00<?, ?it/s]"
      ]
     },
     "metadata": {},
     "output_type": "display_data"
    },
    {
     "data": {
      "application/vnd.jupyter.widget-view+json": {
       "model_id": "8a496291e69f47d2aa542f8933a2df88",
       "version_major": 2,
       "version_minor": 0
      },
      "text/plain": [
       "Getting_images:   0%|          | 0/200 [00:00<?, ?it/s]"
      ]
     },
     "metadata": {},
     "output_type": "display_data"
    },
    {
     "data": {
      "application/vnd.jupyter.widget-view+json": {
       "model_id": "a288547f39df44bf9695dbda9d3c90c0",
       "version_major": 2,
       "version_minor": 0
      },
      "text/plain": [
       "Getting_images:   0%|          | 0/200 [00:00<?, ?it/s]"
      ]
     },
     "metadata": {},
     "output_type": "display_data"
    },
    {
     "data": {
      "application/vnd.jupyter.widget-view+json": {
       "model_id": "abd5f01a36364d30ae152381202f4b93",
       "version_major": 2,
       "version_minor": 0
      },
      "text/plain": [
       "Getting_images:   0%|          | 0/200 [00:00<?, ?it/s]"
      ]
     },
     "metadata": {},
     "output_type": "display_data"
    },
    {
     "data": {
      "application/vnd.jupyter.widget-view+json": {
       "model_id": "1e9a7514b9964c7cb326bad16a92dd05",
       "version_major": 2,
       "version_minor": 0
      },
      "text/plain": [
       "Getting_images:   0%|          | 0/200 [00:00<?, ?it/s]"
      ]
     },
     "metadata": {},
     "output_type": "display_data"
    },
    {
     "data": {
      "application/vnd.jupyter.widget-view+json": {
       "model_id": "f29b9e983b8e4d65886a871fc2d2dbec",
       "version_major": 2,
       "version_minor": 0
      },
      "text/plain": [
       "Getting_images:   0%|          | 0/200 [00:00<?, ?it/s]"
      ]
     },
     "metadata": {},
     "output_type": "display_data"
    },
    {
     "data": {
      "application/vnd.jupyter.widget-view+json": {
       "model_id": "496077d713a943e1874d102eabd9d364",
       "version_major": 2,
       "version_minor": 0
      },
      "text/plain": [
       "Getting_images:   0%|          | 0/200 [00:00<?, ?it/s]"
      ]
     },
     "metadata": {},
     "output_type": "display_data"
    },
    {
     "data": {
      "application/vnd.jupyter.widget-view+json": {
       "model_id": "e46055ac95ac49b7bf313ba1dcbe8956",
       "version_major": 2,
       "version_minor": 0
      },
      "text/plain": [
       "Getting_images:   0%|          | 0/200 [00:00<?, ?it/s]"
      ]
     },
     "metadata": {},
     "output_type": "display_data"
    },
    {
     "data": {
      "application/vnd.jupyter.widget-view+json": {
       "model_id": "854a7be7d9c8425eb757505624b0ba68",
       "version_major": 2,
       "version_minor": 0
      },
      "text/plain": [
       "Getting_images:   0%|          | 0/200 [00:00<?, ?it/s]"
      ]
     },
     "metadata": {},
     "output_type": "display_data"
    },
    {
     "data": {
      "application/vnd.jupyter.widget-view+json": {
       "model_id": "39bc461894584f13a89f45857437222a",
       "version_major": 2,
       "version_minor": 0
      },
      "text/plain": [
       "Getting_images:   0%|          | 0/200 [00:00<?, ?it/s]"
      ]
     },
     "metadata": {},
     "output_type": "display_data"
    },
    {
     "data": {
      "application/vnd.jupyter.widget-view+json": {
       "model_id": "9880934f76054fa0944e6d2363f6c13b",
       "version_major": 2,
       "version_minor": 0
      },
      "text/plain": [
       "Getting_images:   0%|          | 0/200 [00:00<?, ?it/s]"
      ]
     },
     "metadata": {},
     "output_type": "display_data"
    },
    {
     "data": {
      "application/vnd.jupyter.widget-view+json": {
       "model_id": "425ea2c59b8b4e5e8d96827d2fa7315f",
       "version_major": 2,
       "version_minor": 0
      },
      "text/plain": [
       "Getting_images:   0%|          | 0/200 [00:00<?, ?it/s]"
      ]
     },
     "metadata": {},
     "output_type": "display_data"
    },
    {
     "data": {
      "application/vnd.jupyter.widget-view+json": {
       "model_id": "703e4f0426fd48d1bfaacbb28bf7ac61",
       "version_major": 2,
       "version_minor": 0
      },
      "text/plain": [
       "Getting_images:   0%|          | 0/200 [00:00<?, ?it/s]"
      ]
     },
     "metadata": {},
     "output_type": "display_data"
    },
    {
     "data": {
      "application/vnd.jupyter.widget-view+json": {
       "model_id": "d625822734314e5896039d2508f7af19",
       "version_major": 2,
       "version_minor": 0
      },
      "text/plain": [
       "Getting_images:   0%|          | 0/200 [00:00<?, ?it/s]"
      ]
     },
     "metadata": {},
     "output_type": "display_data"
    },
    {
     "data": {
      "application/vnd.jupyter.widget-view+json": {
       "model_id": "fff7f26d8c0b4d90b57f33a7b32f4404",
       "version_major": 2,
       "version_minor": 0
      },
      "text/plain": [
       "Getting_images:   0%|          | 0/200 [00:00<?, ?it/s]"
      ]
     },
     "metadata": {},
     "output_type": "display_data"
    },
    {
     "data": {
      "application/vnd.jupyter.widget-view+json": {
       "model_id": "f9f2f158399648cdb5e11ca2b11b72ab",
       "version_major": 2,
       "version_minor": 0
      },
      "text/plain": [
       "Getting_images:   0%|          | 0/200 [00:00<?, ?it/s]"
      ]
     },
     "metadata": {},
     "output_type": "display_data"
    },
    {
     "data": {
      "application/vnd.jupyter.widget-view+json": {
       "model_id": "0f456a02a3ef4f108274cf3b96546547",
       "version_major": 2,
       "version_minor": 0
      },
      "text/plain": [
       "Getting_images:   0%|          | 0/200 [00:00<?, ?it/s]"
      ]
     },
     "metadata": {},
     "output_type": "display_data"
    },
    {
     "data": {
      "application/vnd.jupyter.widget-view+json": {
       "model_id": "da416e39eaf34b408848d9f1165f0df3",
       "version_major": 2,
       "version_minor": 0
      },
      "text/plain": [
       "Getting_images:   0%|          | 0/200 [00:00<?, ?it/s]"
      ]
     },
     "metadata": {},
     "output_type": "display_data"
    },
    {
     "data": {
      "application/vnd.jupyter.widget-view+json": {
       "model_id": "c2a64953929c4859a7c54f165fd8a408",
       "version_major": 2,
       "version_minor": 0
      },
      "text/plain": [
       "Getting_images:   0%|          | 0/200 [00:00<?, ?it/s]"
      ]
     },
     "metadata": {},
     "output_type": "display_data"
    },
    {
     "data": {
      "application/vnd.jupyter.widget-view+json": {
       "model_id": "6de6f90561884d588119ed92fc56685b",
       "version_major": 2,
       "version_minor": 0
      },
      "text/plain": [
       "Getting_images:   0%|          | 0/200 [00:00<?, ?it/s]"
      ]
     },
     "metadata": {},
     "output_type": "display_data"
    },
    {
     "data": {
      "application/vnd.jupyter.widget-view+json": {
       "model_id": "88f6af7377f944c5959deea0521c9abb",
       "version_major": 2,
       "version_minor": 0
      },
      "text/plain": [
       "Getting_images:   0%|          | 0/200 [00:00<?, ?it/s]"
      ]
     },
     "metadata": {},
     "output_type": "display_data"
    },
    {
     "data": {
      "application/vnd.jupyter.widget-view+json": {
       "model_id": "936e79f95ac446fe85616d506f686f8e",
       "version_major": 2,
       "version_minor": 0
      },
      "text/plain": [
       "Getting_images:   0%|          | 0/200 [00:00<?, ?it/s]"
      ]
     },
     "metadata": {},
     "output_type": "display_data"
    },
    {
     "data": {
      "application/vnd.jupyter.widget-view+json": {
       "model_id": "059ea55567c7424096cefb13ea0f41ca",
       "version_major": 2,
       "version_minor": 0
      },
      "text/plain": [
       "Getting_images:   0%|          | 0/200 [00:00<?, ?it/s]"
      ]
     },
     "metadata": {},
     "output_type": "display_data"
    },
    {
     "data": {
      "application/vnd.jupyter.widget-view+json": {
       "model_id": "e08b6ce6370344198833125bd5977f03",
       "version_major": 2,
       "version_minor": 0
      },
      "text/plain": [
       "Getting_images:   0%|          | 0/200 [00:00<?, ?it/s]"
      ]
     },
     "metadata": {},
     "output_type": "display_data"
    },
    {
     "data": {
      "application/vnd.jupyter.widget-view+json": {
       "model_id": "0fcf66668f614b63b430ec3ef68f7022",
       "version_major": 2,
       "version_minor": 0
      },
      "text/plain": [
       "Getting_images:   0%|          | 0/200 [00:00<?, ?it/s]"
      ]
     },
     "metadata": {},
     "output_type": "display_data"
    },
    {
     "data": {
      "application/vnd.jupyter.widget-view+json": {
       "model_id": "f4b8955516984cdd91dbc4e79731afbe",
       "version_major": 2,
       "version_minor": 0
      },
      "text/plain": [
       "Getting_images:   0%|          | 0/200 [00:00<?, ?it/s]"
      ]
     },
     "metadata": {},
     "output_type": "display_data"
    },
    {
     "data": {
      "application/vnd.jupyter.widget-view+json": {
       "model_id": "2c00c69d841b401a890ae411ccd5d16d",
       "version_major": 2,
       "version_minor": 0
      },
      "text/plain": [
       "Getting_images:   0%|          | 0/200 [00:00<?, ?it/s]"
      ]
     },
     "metadata": {},
     "output_type": "display_data"
    },
    {
     "data": {
      "application/vnd.jupyter.widget-view+json": {
       "model_id": "56e7bc128acf47248dbde9cbe6023829",
       "version_major": 2,
       "version_minor": 0
      },
      "text/plain": [
       "Getting_images:   0%|          | 0/200 [00:00<?, ?it/s]"
      ]
     },
     "metadata": {},
     "output_type": "display_data"
    },
    {
     "data": {
      "application/vnd.jupyter.widget-view+json": {
       "model_id": "af16557d7f06445da8d61bae150e4906",
       "version_major": 2,
       "version_minor": 0
      },
      "text/plain": [
       "Getting_images:   0%|          | 0/200 [00:00<?, ?it/s]"
      ]
     },
     "metadata": {},
     "output_type": "display_data"
    },
    {
     "data": {
      "application/vnd.jupyter.widget-view+json": {
       "model_id": "c1e048c7416645658644ec5fbd714e00",
       "version_major": 2,
       "version_minor": 0
      },
      "text/plain": [
       "Getting_images:   0%|          | 0/200 [00:00<?, ?it/s]"
      ]
     },
     "metadata": {},
     "output_type": "display_data"
    },
    {
     "data": {
      "application/vnd.jupyter.widget-view+json": {
       "model_id": "6b94afa365144c199698d987f702cc44",
       "version_major": 2,
       "version_minor": 0
      },
      "text/plain": [
       "Getting_images:   0%|          | 0/200 [00:00<?, ?it/s]"
      ]
     },
     "metadata": {},
     "output_type": "display_data"
    },
    {
     "data": {
      "application/vnd.jupyter.widget-view+json": {
       "model_id": "ffc3dd94c644467e9390d411101fb45f",
       "version_major": 2,
       "version_minor": 0
      },
      "text/plain": [
       "Getting_images:   0%|          | 0/200 [00:00<?, ?it/s]"
      ]
     },
     "metadata": {},
     "output_type": "display_data"
    },
    {
     "data": {
      "application/vnd.jupyter.widget-view+json": {
       "model_id": "c0a1803ad4e64a249423debf21e5dc14",
       "version_major": 2,
       "version_minor": 0
      },
      "text/plain": [
       "Getting_images:   0%|          | 0/200 [00:00<?, ?it/s]"
      ]
     },
     "metadata": {},
     "output_type": "display_data"
    },
    {
     "data": {
      "application/vnd.jupyter.widget-view+json": {
       "model_id": "93897fb836004853946fcec1e3380472",
       "version_major": 2,
       "version_minor": 0
      },
      "text/plain": [
       "Getting_images:   0%|          | 0/200 [00:00<?, ?it/s]"
      ]
     },
     "metadata": {},
     "output_type": "display_data"
    },
    {
     "data": {
      "application/vnd.jupyter.widget-view+json": {
       "model_id": "a08b4e7efc2849f8bbab619af673f037",
       "version_major": 2,
       "version_minor": 0
      },
      "text/plain": [
       "Getting_images:   0%|          | 0/200 [00:00<?, ?it/s]"
      ]
     },
     "metadata": {},
     "output_type": "display_data"
    },
    {
     "data": {
      "application/vnd.jupyter.widget-view+json": {
       "model_id": "44b682d629824d7b981fa9740f4c265a",
       "version_major": 2,
       "version_minor": 0
      },
      "text/plain": [
       "Getting_images:   0%|          | 0/200 [00:00<?, ?it/s]"
      ]
     },
     "metadata": {},
     "output_type": "display_data"
    },
    {
     "data": {
      "application/vnd.jupyter.widget-view+json": {
       "model_id": "b5e9b211a7a94934b8d1ce060af2f434",
       "version_major": 2,
       "version_minor": 0
      },
      "text/plain": [
       "Getting_images:   0%|          | 0/200 [00:00<?, ?it/s]"
      ]
     },
     "metadata": {},
     "output_type": "display_data"
    },
    {
     "data": {
      "application/vnd.jupyter.widget-view+json": {
       "model_id": "ae0241a89ead43ed90a11e14f1b1229c",
       "version_major": 2,
       "version_minor": 0
      },
      "text/plain": [
       "Getting_images:   0%|          | 0/200 [00:00<?, ?it/s]"
      ]
     },
     "metadata": {},
     "output_type": "display_data"
    },
    {
     "data": {
      "application/vnd.jupyter.widget-view+json": {
       "model_id": "db550972eda244138a3e38572124bd3c",
       "version_major": 2,
       "version_minor": 0
      },
      "text/plain": [
       "Getting_images:   0%|          | 0/200 [00:00<?, ?it/s]"
      ]
     },
     "metadata": {},
     "output_type": "display_data"
    },
    {
     "data": {
      "application/vnd.jupyter.widget-view+json": {
       "model_id": "4823f6719f284e38ad67e49fdd45eeaa",
       "version_major": 2,
       "version_minor": 0
      },
      "text/plain": [
       "Getting_images:   0%|          | 0/200 [00:00<?, ?it/s]"
      ]
     },
     "metadata": {},
     "output_type": "display_data"
    },
    {
     "data": {
      "application/vnd.jupyter.widget-view+json": {
       "model_id": "a2b664bb6b564ea1bab87f9949c69571",
       "version_major": 2,
       "version_minor": 0
      },
      "text/plain": [
       "Getting_images:   0%|          | 0/200 [00:00<?, ?it/s]"
      ]
     },
     "metadata": {},
     "output_type": "display_data"
    },
    {
     "data": {
      "application/vnd.jupyter.widget-view+json": {
       "model_id": "49625ce0826f4f1a9c1115d2112ccc7d",
       "version_major": 2,
       "version_minor": 0
      },
      "text/plain": [
       "Getting_images:   0%|          | 0/200 [00:00<?, ?it/s]"
      ]
     },
     "metadata": {},
     "output_type": "display_data"
    },
    {
     "data": {
      "application/vnd.jupyter.widget-view+json": {
       "model_id": "68f6b7aa22624c4aaa84ceff0398ccd2",
       "version_major": 2,
       "version_minor": 0
      },
      "text/plain": [
       "Getting_images:   0%|          | 0/200 [00:00<?, ?it/s]"
      ]
     },
     "metadata": {},
     "output_type": "display_data"
    },
    {
     "data": {
      "application/vnd.jupyter.widget-view+json": {
       "model_id": "e3a8deb4b7c241089a4b0c74081db855",
       "version_major": 2,
       "version_minor": 0
      },
      "text/plain": [
       "Getting_images:   0%|          | 0/200 [00:00<?, ?it/s]"
      ]
     },
     "metadata": {},
     "output_type": "display_data"
    },
    {
     "data": {
      "application/vnd.jupyter.widget-view+json": {
       "model_id": "ad947ab219e5469dbd8f97a63fad8ca7",
       "version_major": 2,
       "version_minor": 0
      },
      "text/plain": [
       "Getting_images:   0%|          | 0/200 [00:00<?, ?it/s]"
      ]
     },
     "metadata": {},
     "output_type": "display_data"
    },
    {
     "data": {
      "application/vnd.jupyter.widget-view+json": {
       "model_id": "469d96f7ad044f8581546a3a0d0358f2",
       "version_major": 2,
       "version_minor": 0
      },
      "text/plain": [
       "Getting_images:   0%|          | 0/200 [00:00<?, ?it/s]"
      ]
     },
     "metadata": {},
     "output_type": "display_data"
    },
    {
     "data": {
      "application/vnd.jupyter.widget-view+json": {
       "model_id": "411ddb8798d0415ab34526aa62647975",
       "version_major": 2,
       "version_minor": 0
      },
      "text/plain": [
       "Getting_images:   0%|          | 0/200 [00:00<?, ?it/s]"
      ]
     },
     "metadata": {},
     "output_type": "display_data"
    },
    {
     "data": {
      "application/vnd.jupyter.widget-view+json": {
       "model_id": "593af8f4ee824fc7b220b0ac8d8e104b",
       "version_major": 2,
       "version_minor": 0
      },
      "text/plain": [
       "Getting_images:   0%|          | 0/200 [00:00<?, ?it/s]"
      ]
     },
     "metadata": {},
     "output_type": "display_data"
    },
    {
     "data": {
      "application/vnd.jupyter.widget-view+json": {
       "model_id": "d87de46f4da34686bc3f56a197445c22",
       "version_major": 2,
       "version_minor": 0
      },
      "text/plain": [
       "Getting_images:   0%|          | 0/200 [00:00<?, ?it/s]"
      ]
     },
     "metadata": {},
     "output_type": "display_data"
    },
    {
     "data": {
      "application/vnd.jupyter.widget-view+json": {
       "model_id": "a7fec11760554861959a264b1b2b6586",
       "version_major": 2,
       "version_minor": 0
      },
      "text/plain": [
       "Getting_images:   0%|          | 0/200 [00:00<?, ?it/s]"
      ]
     },
     "metadata": {},
     "output_type": "display_data"
    },
    {
     "data": {
      "application/vnd.jupyter.widget-view+json": {
       "model_id": "91e6d8c4aa804bb2be927866a313a38f",
       "version_major": 2,
       "version_minor": 0
      },
      "text/plain": [
       "Getting_images:   0%|          | 0/200 [00:00<?, ?it/s]"
      ]
     },
     "metadata": {},
     "output_type": "display_data"
    },
    {
     "data": {
      "application/vnd.jupyter.widget-view+json": {
       "model_id": "e98bb5e7e79b469bb3736e7781fa3d44",
       "version_major": 2,
       "version_minor": 0
      },
      "text/plain": [
       "Getting_images:   0%|          | 0/200 [00:00<?, ?it/s]"
      ]
     },
     "metadata": {},
     "output_type": "display_data"
    },
    {
     "data": {
      "application/vnd.jupyter.widget-view+json": {
       "model_id": "f209be8bd9ed446c87ffa43f4b906b1c",
       "version_major": 2,
       "version_minor": 0
      },
      "text/plain": [
       "Getting_images:   0%|          | 0/200 [00:00<?, ?it/s]"
      ]
     },
     "metadata": {},
     "output_type": "display_data"
    },
    {
     "data": {
      "application/vnd.jupyter.widget-view+json": {
       "model_id": "1492205afc1e497bbdfef682891cac97",
       "version_major": 2,
       "version_minor": 0
      },
      "text/plain": [
       "Getting_images:   0%|          | 0/200 [00:00<?, ?it/s]"
      ]
     },
     "metadata": {},
     "output_type": "display_data"
    },
    {
     "data": {
      "application/vnd.jupyter.widget-view+json": {
       "model_id": "d3cb798b9422452d8bc851e524491681",
       "version_major": 2,
       "version_minor": 0
      },
      "text/plain": [
       "Getting_images:   0%|          | 0/200 [00:00<?, ?it/s]"
      ]
     },
     "metadata": {},
     "output_type": "display_data"
    },
    {
     "data": {
      "application/vnd.jupyter.widget-view+json": {
       "model_id": "28515831901b40da9cb2d2e8b3919a88",
       "version_major": 2,
       "version_minor": 0
      },
      "text/plain": [
       "Getting_images:   0%|          | 0/200 [00:00<?, ?it/s]"
      ]
     },
     "metadata": {},
     "output_type": "display_data"
    },
    {
     "data": {
      "application/vnd.jupyter.widget-view+json": {
       "model_id": "d2456e05876c4b95b365b133bb8c242f",
       "version_major": 2,
       "version_minor": 0
      },
      "text/plain": [
       "Getting_images:   0%|          | 0/200 [00:00<?, ?it/s]"
      ]
     },
     "metadata": {},
     "output_type": "display_data"
    },
    {
     "data": {
      "application/vnd.jupyter.widget-view+json": {
       "model_id": "db34ccc409f34083a4480f3155711eca",
       "version_major": 2,
       "version_minor": 0
      },
      "text/plain": [
       "Getting_images:   0%|          | 0/200 [00:00<?, ?it/s]"
      ]
     },
     "metadata": {},
     "output_type": "display_data"
    },
    {
     "data": {
      "application/vnd.jupyter.widget-view+json": {
       "model_id": "9c7ba8fbeb594ef0bf0e8abe8a047b6f",
       "version_major": 2,
       "version_minor": 0
      },
      "text/plain": [
       "Getting_images:   0%|          | 0/200 [00:00<?, ?it/s]"
      ]
     },
     "metadata": {},
     "output_type": "display_data"
    },
    {
     "data": {
      "application/vnd.jupyter.widget-view+json": {
       "model_id": "98a566880a95455aba132241783e7575",
       "version_major": 2,
       "version_minor": 0
      },
      "text/plain": [
       "Getting_images:   0%|          | 0/200 [00:00<?, ?it/s]"
      ]
     },
     "metadata": {},
     "output_type": "display_data"
    },
    {
     "data": {
      "application/vnd.jupyter.widget-view+json": {
       "model_id": "c0f9c5a5f72c4739a35e6cd24fcfa1f1",
       "version_major": 2,
       "version_minor": 0
      },
      "text/plain": [
       "Getting_images:   0%|          | 0/200 [00:00<?, ?it/s]"
      ]
     },
     "metadata": {},
     "output_type": "display_data"
    },
    {
     "data": {
      "application/vnd.jupyter.widget-view+json": {
       "model_id": "1fa1925c64a048d8a727504e975b8329",
       "version_major": 2,
       "version_minor": 0
      },
      "text/plain": [
       "Getting_images:   0%|          | 0/200 [00:00<?, ?it/s]"
      ]
     },
     "metadata": {},
     "output_type": "display_data"
    },
    {
     "data": {
      "application/vnd.jupyter.widget-view+json": {
       "model_id": "00728f11e44c4d3794cea79ac3a2fee2",
       "version_major": 2,
       "version_minor": 0
      },
      "text/plain": [
       "Getting_images:   0%|          | 0/200 [00:00<?, ?it/s]"
      ]
     },
     "metadata": {},
     "output_type": "display_data"
    },
    {
     "data": {
      "application/vnd.jupyter.widget-view+json": {
       "model_id": "042957ddc95646e88a444a0951d2de97",
       "version_major": 2,
       "version_minor": 0
      },
      "text/plain": [
       "Getting_images:   0%|          | 0/200 [00:00<?, ?it/s]"
      ]
     },
     "metadata": {},
     "output_type": "display_data"
    },
    {
     "data": {
      "application/vnd.jupyter.widget-view+json": {
       "model_id": "dc4fc0fbebf849bcb420f1bbdb149afa",
       "version_major": 2,
       "version_minor": 0
      },
      "text/plain": [
       "Getting_images:   0%|          | 0/200 [00:00<?, ?it/s]"
      ]
     },
     "metadata": {},
     "output_type": "display_data"
    },
    {
     "data": {
      "application/vnd.jupyter.widget-view+json": {
       "model_id": "872604f97130408ca01332454d7c2c36",
       "version_major": 2,
       "version_minor": 0
      },
      "text/plain": [
       "Getting_images:   0%|          | 0/200 [00:00<?, ?it/s]"
      ]
     },
     "metadata": {},
     "output_type": "display_data"
    },
    {
     "data": {
      "application/vnd.jupyter.widget-view+json": {
       "model_id": "aabdd353621d4277a16b3fd11a1608fc",
       "version_major": 2,
       "version_minor": 0
      },
      "text/plain": [
       "Getting_images:   0%|          | 0/200 [00:00<?, ?it/s]"
      ]
     },
     "metadata": {},
     "output_type": "display_data"
    },
    {
     "data": {
      "application/vnd.jupyter.widget-view+json": {
       "model_id": "f86c4425e4c741618106e22c3528bae3",
       "version_major": 2,
       "version_minor": 0
      },
      "text/plain": [
       "Getting_images:   0%|          | 0/200 [00:00<?, ?it/s]"
      ]
     },
     "metadata": {},
     "output_type": "display_data"
    },
    {
     "data": {
      "application/vnd.jupyter.widget-view+json": {
       "model_id": "ad92bd46833e4a38b1c9188bdfbafc3d",
       "version_major": 2,
       "version_minor": 0
      },
      "text/plain": [
       "Getting_images:   0%|          | 0/200 [00:00<?, ?it/s]"
      ]
     },
     "metadata": {},
     "output_type": "display_data"
    },
    {
     "data": {
      "application/vnd.jupyter.widget-view+json": {
       "model_id": "d9010075010d41f188bf1dad956b2d4e",
       "version_major": 2,
       "version_minor": 0
      },
      "text/plain": [
       "Getting_images:   0%|          | 0/200 [00:00<?, ?it/s]"
      ]
     },
     "metadata": {},
     "output_type": "display_data"
    },
    {
     "data": {
      "application/vnd.jupyter.widget-view+json": {
       "model_id": "33f73ff85fea42a590edf1255c1a4a8a",
       "version_major": 2,
       "version_minor": 0
      },
      "text/plain": [
       "Getting_images:   0%|          | 0/200 [00:00<?, ?it/s]"
      ]
     },
     "metadata": {},
     "output_type": "display_data"
    },
    {
     "data": {
      "application/vnd.jupyter.widget-view+json": {
       "model_id": "8f7e487e76bf44ddad80362c7fd6a021",
       "version_major": 2,
       "version_minor": 0
      },
      "text/plain": [
       "Getting_images:   0%|          | 0/200 [00:00<?, ?it/s]"
      ]
     },
     "metadata": {},
     "output_type": "display_data"
    },
    {
     "data": {
      "application/vnd.jupyter.widget-view+json": {
       "model_id": "58679d7108334a318354e1fe6e1e2dbd",
       "version_major": 2,
       "version_minor": 0
      },
      "text/plain": [
       "Getting_images:   0%|          | 0/200 [00:00<?, ?it/s]"
      ]
     },
     "metadata": {},
     "output_type": "display_data"
    },
    {
     "data": {
      "application/vnd.jupyter.widget-view+json": {
       "model_id": "550d6fb1dc844a84843b03893dc16212",
       "version_major": 2,
       "version_minor": 0
      },
      "text/plain": [
       "Getting_images:   0%|          | 0/200 [00:00<?, ?it/s]"
      ]
     },
     "metadata": {},
     "output_type": "display_data"
    },
    {
     "data": {
      "application/vnd.jupyter.widget-view+json": {
       "model_id": "91b6507c622a466bae9439180d03324f",
       "version_major": 2,
       "version_minor": 0
      },
      "text/plain": [
       "Getting_images:   0%|          | 0/200 [00:00<?, ?it/s]"
      ]
     },
     "metadata": {},
     "output_type": "display_data"
    },
    {
     "data": {
      "application/vnd.jupyter.widget-view+json": {
       "model_id": "c878ffd2d58e4feca3e950a7b3caf0a1",
       "version_major": 2,
       "version_minor": 0
      },
      "text/plain": [
       "Getting_images:   0%|          | 0/200 [00:00<?, ?it/s]"
      ]
     },
     "metadata": {},
     "output_type": "display_data"
    },
    {
     "data": {
      "application/vnd.jupyter.widget-view+json": {
       "model_id": "d840a6990a80454b89b8c6c61b8575f1",
       "version_major": 2,
       "version_minor": 0
      },
      "text/plain": [
       "Getting_images:   0%|          | 0/200 [00:00<?, ?it/s]"
      ]
     },
     "metadata": {},
     "output_type": "display_data"
    },
    {
     "data": {
      "application/vnd.jupyter.widget-view+json": {
       "model_id": "d993259ad1544ef38398db3f577d9b7e",
       "version_major": 2,
       "version_minor": 0
      },
      "text/plain": [
       "Getting_images:   0%|          | 0/200 [00:00<?, ?it/s]"
      ]
     },
     "metadata": {},
     "output_type": "display_data"
    },
    {
     "data": {
      "application/vnd.jupyter.widget-view+json": {
       "model_id": "c6fe8e1a889c40e496f380908239ea5a",
       "version_major": 2,
       "version_minor": 0
      },
      "text/plain": [
       "Getting_images:   0%|          | 0/200 [00:00<?, ?it/s]"
      ]
     },
     "metadata": {},
     "output_type": "display_data"
    },
    {
     "data": {
      "application/vnd.jupyter.widget-view+json": {
       "model_id": "19b42a5890844cb49476a5c8b1bf534c",
       "version_major": 2,
       "version_minor": 0
      },
      "text/plain": [
       "Getting_images:   0%|          | 0/200 [00:00<?, ?it/s]"
      ]
     },
     "metadata": {},
     "output_type": "display_data"
    },
    {
     "data": {
      "application/vnd.jupyter.widget-view+json": {
       "model_id": "1002b305048b48d0bb8fb4de161e062b",
       "version_major": 2,
       "version_minor": 0
      },
      "text/plain": [
       "Getting_images:   0%|          | 0/200 [00:00<?, ?it/s]"
      ]
     },
     "metadata": {},
     "output_type": "display_data"
    },
    {
     "data": {
      "application/vnd.jupyter.widget-view+json": {
       "model_id": "1b3d57c8d4f140f2be636f8d67ba6238",
       "version_major": 2,
       "version_minor": 0
      },
      "text/plain": [
       "Getting_images:   0%|          | 0/200 [00:00<?, ?it/s]"
      ]
     },
     "metadata": {},
     "output_type": "display_data"
    },
    {
     "data": {
      "application/vnd.jupyter.widget-view+json": {
       "model_id": "6f95170a2272444f8af5cf019ae586cc",
       "version_major": 2,
       "version_minor": 0
      },
      "text/plain": [
       "Getting_images:   0%|          | 0/200 [00:00<?, ?it/s]"
      ]
     },
     "metadata": {},
     "output_type": "display_data"
    },
    {
     "data": {
      "application/vnd.jupyter.widget-view+json": {
       "model_id": "aa192548616241c094641ef5416c1e92",
       "version_major": 2,
       "version_minor": 0
      },
      "text/plain": [
       "Getting_images:   0%|          | 0/200 [00:00<?, ?it/s]"
      ]
     },
     "metadata": {},
     "output_type": "display_data"
    },
    {
     "data": {
      "application/vnd.jupyter.widget-view+json": {
       "model_id": "cf975f3aaf5c45c6947a8ca625ae8018",
       "version_major": 2,
       "version_minor": 0
      },
      "text/plain": [
       "Getting_images:   0%|          | 0/200 [00:00<?, ?it/s]"
      ]
     },
     "metadata": {},
     "output_type": "display_data"
    },
    {
     "data": {
      "application/vnd.jupyter.widget-view+json": {
       "model_id": "3b3886eddac14d509cc42a154ad30f18",
       "version_major": 2,
       "version_minor": 0
      },
      "text/plain": [
       "Getting_images:   0%|          | 0/200 [00:00<?, ?it/s]"
      ]
     },
     "metadata": {},
     "output_type": "display_data"
    },
    {
     "data": {
      "application/vnd.jupyter.widget-view+json": {
       "model_id": "095a23d7b8354686b269e4b7f58df776",
       "version_major": 2,
       "version_minor": 0
      },
      "text/plain": [
       "Getting_images:   0%|          | 0/200 [00:00<?, ?it/s]"
      ]
     },
     "metadata": {},
     "output_type": "display_data"
    },
    {
     "data": {
      "application/vnd.jupyter.widget-view+json": {
       "model_id": "6db0857595e24bc2a398cecfd5cf8e26",
       "version_major": 2,
       "version_minor": 0
      },
      "text/plain": [
       "Getting_images:   0%|          | 0/200 [00:00<?, ?it/s]"
      ]
     },
     "metadata": {},
     "output_type": "display_data"
    },
    {
     "data": {
      "application/vnd.jupyter.widget-view+json": {
       "model_id": "2d091e999d094b30adf64fc326326ba9",
       "version_major": 2,
       "version_minor": 0
      },
      "text/plain": [
       "Getting_images:   0%|          | 0/200 [00:00<?, ?it/s]"
      ]
     },
     "metadata": {},
     "output_type": "display_data"
    },
    {
     "data": {
      "application/vnd.jupyter.widget-view+json": {
       "model_id": "8f075cb52aa547beaf49bbb9eb743e35",
       "version_major": 2,
       "version_minor": 0
      },
      "text/plain": [
       "Getting_images:   0%|          | 0/200 [00:00<?, ?it/s]"
      ]
     },
     "metadata": {},
     "output_type": "display_data"
    },
    {
     "data": {
      "application/vnd.jupyter.widget-view+json": {
       "model_id": "f709ca1762c74a99b142d8da930001c2",
       "version_major": 2,
       "version_minor": 0
      },
      "text/plain": [
       "Getting_images:   0%|          | 0/200 [00:00<?, ?it/s]"
      ]
     },
     "metadata": {},
     "output_type": "display_data"
    },
    {
     "data": {
      "application/vnd.jupyter.widget-view+json": {
       "model_id": "c7d55f2e49ce43d29075f9461f16a097",
       "version_major": 2,
       "version_minor": 0
      },
      "text/plain": [
       "Getting_images:   0%|          | 0/200 [00:00<?, ?it/s]"
      ]
     },
     "metadata": {},
     "output_type": "display_data"
    },
    {
     "data": {
      "application/vnd.jupyter.widget-view+json": {
       "model_id": "2938da71a70b48ca87468816d1e722fb",
       "version_major": 2,
       "version_minor": 0
      },
      "text/plain": [
       "Getting_images:   0%|          | 0/200 [00:00<?, ?it/s]"
      ]
     },
     "metadata": {},
     "output_type": "display_data"
    },
    {
     "data": {
      "application/vnd.jupyter.widget-view+json": {
       "model_id": "5d592520a21346c3a6e1f1593e337cfb",
       "version_major": 2,
       "version_minor": 0
      },
      "text/plain": [
       "Getting_images:   0%|          | 0/200 [00:00<?, ?it/s]"
      ]
     },
     "metadata": {},
     "output_type": "display_data"
    },
    {
     "data": {
      "application/vnd.jupyter.widget-view+json": {
       "model_id": "c81184d2ccf147c7b7480a731b916a1a",
       "version_major": 2,
       "version_minor": 0
      },
      "text/plain": [
       "Getting_images:   0%|          | 0/200 [00:00<?, ?it/s]"
      ]
     },
     "metadata": {},
     "output_type": "display_data"
    },
    {
     "data": {
      "application/vnd.jupyter.widget-view+json": {
       "model_id": "2ba00b5191ce483e8c1fc0d7274b46f7",
       "version_major": 2,
       "version_minor": 0
      },
      "text/plain": [
       "Getting_images:   0%|          | 0/200 [00:00<?, ?it/s]"
      ]
     },
     "metadata": {},
     "output_type": "display_data"
    },
    {
     "data": {
      "application/vnd.jupyter.widget-view+json": {
       "model_id": "7ef24b34c7d84331a56b1402929681a7",
       "version_major": 2,
       "version_minor": 0
      },
      "text/plain": [
       "Getting_images:   0%|          | 0/200 [00:00<?, ?it/s]"
      ]
     },
     "metadata": {},
     "output_type": "display_data"
    },
    {
     "data": {
      "application/vnd.jupyter.widget-view+json": {
       "model_id": "4015bf88b2dd480da112bda82fe28c2b",
       "version_major": 2,
       "version_minor": 0
      },
      "text/plain": [
       "Getting_images:   0%|          | 0/200 [00:00<?, ?it/s]"
      ]
     },
     "metadata": {},
     "output_type": "display_data"
    },
    {
     "data": {
      "application/vnd.jupyter.widget-view+json": {
       "model_id": "d0ad4badebea4e58ad5157689ce53053",
       "version_major": 2,
       "version_minor": 0
      },
      "text/plain": [
       "Getting_images:   0%|          | 0/200 [00:00<?, ?it/s]"
      ]
     },
     "metadata": {},
     "output_type": "display_data"
    },
    {
     "data": {
      "application/vnd.jupyter.widget-view+json": {
       "model_id": "ce7e8468d4c147058517d686fe9f40f7",
       "version_major": 2,
       "version_minor": 0
      },
      "text/plain": [
       "Getting_images:   0%|          | 0/200 [00:00<?, ?it/s]"
      ]
     },
     "metadata": {},
     "output_type": "display_data"
    },
    {
     "data": {
      "application/vnd.jupyter.widget-view+json": {
       "model_id": "4f1cf7ea49d94432bdcf7ae43b90332a",
       "version_major": 2,
       "version_minor": 0
      },
      "text/plain": [
       "Getting_images:   0%|          | 0/200 [00:00<?, ?it/s]"
      ]
     },
     "metadata": {},
     "output_type": "display_data"
    },
    {
     "data": {
      "application/vnd.jupyter.widget-view+json": {
       "model_id": "c3aa64ad2a7d4bc298fe1aa0adc61fca",
       "version_major": 2,
       "version_minor": 0
      },
      "text/plain": [
       "Getting_images:   0%|          | 0/200 [00:00<?, ?it/s]"
      ]
     },
     "metadata": {},
     "output_type": "display_data"
    },
    {
     "data": {
      "application/vnd.jupyter.widget-view+json": {
       "model_id": "0d5749f549434c5a8866851600e71d00",
       "version_major": 2,
       "version_minor": 0
      },
      "text/plain": [
       "Getting_images:   0%|          | 0/200 [00:00<?, ?it/s]"
      ]
     },
     "metadata": {},
     "output_type": "display_data"
    },
    {
     "data": {
      "application/vnd.jupyter.widget-view+json": {
       "model_id": "948f891de8b44ae89dcd9f3d117056e0",
       "version_major": 2,
       "version_minor": 0
      },
      "text/plain": [
       "Getting_images:   0%|          | 0/200 [00:00<?, ?it/s]"
      ]
     },
     "metadata": {},
     "output_type": "display_data"
    },
    {
     "data": {
      "application/vnd.jupyter.widget-view+json": {
       "model_id": "01b7d23e67284601b5239f87b680f681",
       "version_major": 2,
       "version_minor": 0
      },
      "text/plain": [
       "Getting_images:   0%|          | 0/200 [00:00<?, ?it/s]"
      ]
     },
     "metadata": {},
     "output_type": "display_data"
    },
    {
     "data": {
      "application/vnd.jupyter.widget-view+json": {
       "model_id": "d5f225f934274f86b87b74efb15880e6",
       "version_major": 2,
       "version_minor": 0
      },
      "text/plain": [
       "Getting_images:   0%|          | 0/200 [00:00<?, ?it/s]"
      ]
     },
     "metadata": {},
     "output_type": "display_data"
    },
    {
     "data": {
      "application/vnd.jupyter.widget-view+json": {
       "model_id": "15ba099733ae46e3b17c18a1e56210a3",
       "version_major": 2,
       "version_minor": 0
      },
      "text/plain": [
       "Getting_images:   0%|          | 0/200 [00:00<?, ?it/s]"
      ]
     },
     "metadata": {},
     "output_type": "display_data"
    },
    {
     "data": {
      "application/vnd.jupyter.widget-view+json": {
       "model_id": "37083843e66f4677848806533448e501",
       "version_major": 2,
       "version_minor": 0
      },
      "text/plain": [
       "Getting_images:   0%|          | 0/200 [00:00<?, ?it/s]"
      ]
     },
     "metadata": {},
     "output_type": "display_data"
    },
    {
     "data": {
      "application/vnd.jupyter.widget-view+json": {
       "model_id": "95e1e5eb5c5141b2b05f69360848f58f",
       "version_major": 2,
       "version_minor": 0
      },
      "text/plain": [
       "Getting_images:   0%|          | 0/200 [00:00<?, ?it/s]"
      ]
     },
     "metadata": {},
     "output_type": "display_data"
    },
    {
     "data": {
      "application/vnd.jupyter.widget-view+json": {
       "model_id": "e0ebf6005aa54f70a869af7b2a8af0d4",
       "version_major": 2,
       "version_minor": 0
      },
      "text/plain": [
       "Getting_images:   0%|          | 0/200 [00:00<?, ?it/s]"
      ]
     },
     "metadata": {},
     "output_type": "display_data"
    },
    {
     "data": {
      "application/vnd.jupyter.widget-view+json": {
       "model_id": "87f58c1dd7fd46f89d9a00095de5bbaf",
       "version_major": 2,
       "version_minor": 0
      },
      "text/plain": [
       "Getting_images:   0%|          | 0/200 [00:00<?, ?it/s]"
      ]
     },
     "metadata": {},
     "output_type": "display_data"
    },
    {
     "data": {
      "application/vnd.jupyter.widget-view+json": {
       "model_id": "c7a1a602b3f14b1c9f581c818a5560f3",
       "version_major": 2,
       "version_minor": 0
      },
      "text/plain": [
       "Getting_images:   0%|          | 0/200 [00:00<?, ?it/s]"
      ]
     },
     "metadata": {},
     "output_type": "display_data"
    },
    {
     "data": {
      "application/vnd.jupyter.widget-view+json": {
       "model_id": "74124c2c01af418b9348ffe70e622f46",
       "version_major": 2,
       "version_minor": 0
      },
      "text/plain": [
       "Getting_images:   0%|          | 0/200 [00:00<?, ?it/s]"
      ]
     },
     "metadata": {},
     "output_type": "display_data"
    },
    {
     "data": {
      "application/vnd.jupyter.widget-view+json": {
       "model_id": "d92397e26dc1491ba8ab7d2cddb39476",
       "version_major": 2,
       "version_minor": 0
      },
      "text/plain": [
       "Getting_images:   0%|          | 0/200 [00:00<?, ?it/s]"
      ]
     },
     "metadata": {},
     "output_type": "display_data"
    },
    {
     "data": {
      "application/vnd.jupyter.widget-view+json": {
       "model_id": "1e73de2fbaf9467aa97c831a1f9d4775",
       "version_major": 2,
       "version_minor": 0
      },
      "text/plain": [
       "Getting_images:   0%|          | 0/200 [00:00<?, ?it/s]"
      ]
     },
     "metadata": {},
     "output_type": "display_data"
    },
    {
     "data": {
      "application/vnd.jupyter.widget-view+json": {
       "model_id": "a96c2e6a6c854b2bb96801c1870b78f4",
       "version_major": 2,
       "version_minor": 0
      },
      "text/plain": [
       "Getting_images:   0%|          | 0/200 [00:00<?, ?it/s]"
      ]
     },
     "metadata": {},
     "output_type": "display_data"
    },
    {
     "data": {
      "application/vnd.jupyter.widget-view+json": {
       "model_id": "eff02b26ee21408e8f590b0dac079c35",
       "version_major": 2,
       "version_minor": 0
      },
      "text/plain": [
       "Getting_images:   0%|          | 0/200 [00:00<?, ?it/s]"
      ]
     },
     "metadata": {},
     "output_type": "display_data"
    },
    {
     "data": {
      "application/vnd.jupyter.widget-view+json": {
       "model_id": "5457a8f4e63842c0b3c69d50bc6dd52e",
       "version_major": 2,
       "version_minor": 0
      },
      "text/plain": [
       "Getting_images:   0%|          | 0/200 [00:00<?, ?it/s]"
      ]
     },
     "metadata": {},
     "output_type": "display_data"
    },
    {
     "data": {
      "application/vnd.jupyter.widget-view+json": {
       "model_id": "e294e72be11f4ad19158976d12ad5bb7",
       "version_major": 2,
       "version_minor": 0
      },
      "text/plain": [
       "Getting_images:   0%|          | 0/200 [00:00<?, ?it/s]"
      ]
     },
     "metadata": {},
     "output_type": "display_data"
    },
    {
     "data": {
      "application/vnd.jupyter.widget-view+json": {
       "model_id": "9142d434e7bb447ebec8c19c8f488292",
       "version_major": 2,
       "version_minor": 0
      },
      "text/plain": [
       "Getting_images:   0%|          | 0/200 [00:00<?, ?it/s]"
      ]
     },
     "metadata": {},
     "output_type": "display_data"
    },
    {
     "data": {
      "application/vnd.jupyter.widget-view+json": {
       "model_id": "4e39e149ca594ba4ad61388cb75e94c9",
       "version_major": 2,
       "version_minor": 0
      },
      "text/plain": [
       "Getting_images:   0%|          | 0/200 [00:00<?, ?it/s]"
      ]
     },
     "metadata": {},
     "output_type": "display_data"
    },
    {
     "data": {
      "application/vnd.jupyter.widget-view+json": {
       "model_id": "8794e287e75a46a482dac05083322a24",
       "version_major": 2,
       "version_minor": 0
      },
      "text/plain": [
       "Getting_images:   0%|          | 0/200 [00:00<?, ?it/s]"
      ]
     },
     "metadata": {},
     "output_type": "display_data"
    },
    {
     "data": {
      "application/vnd.jupyter.widget-view+json": {
       "model_id": "95541f19e94e49cbb7c8e79cf0c6a9d9",
       "version_major": 2,
       "version_minor": 0
      },
      "text/plain": [
       "Getting_images:   0%|          | 0/200 [00:00<?, ?it/s]"
      ]
     },
     "metadata": {},
     "output_type": "display_data"
    },
    {
     "data": {
      "application/vnd.jupyter.widget-view+json": {
       "model_id": "c12ecd06c45e487ebcedf8ebf02f4415",
       "version_major": 2,
       "version_minor": 0
      },
      "text/plain": [
       "Getting_images:   0%|          | 0/200 [00:00<?, ?it/s]"
      ]
     },
     "metadata": {},
     "output_type": "display_data"
    },
    {
     "data": {
      "application/vnd.jupyter.widget-view+json": {
       "model_id": "eca3af55e33640fabacb6f621a305e75",
       "version_major": 2,
       "version_minor": 0
      },
      "text/plain": [
       "Getting_images:   0%|          | 0/200 [00:00<?, ?it/s]"
      ]
     },
     "metadata": {},
     "output_type": "display_data"
    },
    {
     "data": {
      "application/vnd.jupyter.widget-view+json": {
       "model_id": "0d2643f7809d4deab14332efa0bf82c8",
       "version_major": 2,
       "version_minor": 0
      },
      "text/plain": [
       "Getting_images:   0%|          | 0/200 [00:00<?, ?it/s]"
      ]
     },
     "metadata": {},
     "output_type": "display_data"
    },
    {
     "data": {
      "application/vnd.jupyter.widget-view+json": {
       "model_id": "d210c648bc0f47259e14f5b944217c8d",
       "version_major": 2,
       "version_minor": 0
      },
      "text/plain": [
       "Getting_images:   0%|          | 0/200 [00:00<?, ?it/s]"
      ]
     },
     "metadata": {},
     "output_type": "display_data"
    },
    {
     "data": {
      "application/vnd.jupyter.widget-view+json": {
       "model_id": "d83490f4cb9944bf9f20175843cbf6ea",
       "version_major": 2,
       "version_minor": 0
      },
      "text/plain": [
       "Getting_images:   0%|          | 0/200 [00:00<?, ?it/s]"
      ]
     },
     "metadata": {},
     "output_type": "display_data"
    },
    {
     "data": {
      "application/vnd.jupyter.widget-view+json": {
       "model_id": "63871d86077340a79c50afde26716be4",
       "version_major": 2,
       "version_minor": 0
      },
      "text/plain": [
       "Getting_images:   0%|          | 0/200 [00:00<?, ?it/s]"
      ]
     },
     "metadata": {},
     "output_type": "display_data"
    },
    {
     "data": {
      "application/vnd.jupyter.widget-view+json": {
       "model_id": "098ea130135c4c54a67f2cf859a4e0ce",
       "version_major": 2,
       "version_minor": 0
      },
      "text/plain": [
       "Getting_images:   0%|          | 0/200 [00:00<?, ?it/s]"
      ]
     },
     "metadata": {},
     "output_type": "display_data"
    },
    {
     "data": {
      "application/vnd.jupyter.widget-view+json": {
       "model_id": "5399c2102364486dbbc29174f4170918",
       "version_major": 2,
       "version_minor": 0
      },
      "text/plain": [
       "Getting_images:   0%|          | 0/200 [00:00<?, ?it/s]"
      ]
     },
     "metadata": {},
     "output_type": "display_data"
    },
    {
     "data": {
      "application/vnd.jupyter.widget-view+json": {
       "model_id": "a529558761234ecda13e26b82db215e1",
       "version_major": 2,
       "version_minor": 0
      },
      "text/plain": [
       "Getting_images:   0%|          | 0/200 [00:00<?, ?it/s]"
      ]
     },
     "metadata": {},
     "output_type": "display_data"
    },
    {
     "data": {
      "application/vnd.jupyter.widget-view+json": {
       "model_id": "de70b7a438f04776a39f98a3ec809ab9",
       "version_major": 2,
       "version_minor": 0
      },
      "text/plain": [
       "Getting_images:   0%|          | 0/200 [00:00<?, ?it/s]"
      ]
     },
     "metadata": {},
     "output_type": "display_data"
    },
    {
     "data": {
      "application/vnd.jupyter.widget-view+json": {
       "model_id": "6c8ba19d25ec4461831c628436ffb3bb",
       "version_major": 2,
       "version_minor": 0
      },
      "text/plain": [
       "Getting_images:   0%|          | 0/200 [00:00<?, ?it/s]"
      ]
     },
     "metadata": {},
     "output_type": "display_data"
    },
    {
     "data": {
      "application/vnd.jupyter.widget-view+json": {
       "model_id": "8d6544c2f8ce4e01a52463172645d7bb",
       "version_major": 2,
       "version_minor": 0
      },
      "text/plain": [
       "Getting_images:   0%|          | 0/200 [00:00<?, ?it/s]"
      ]
     },
     "metadata": {},
     "output_type": "display_data"
    },
    {
     "data": {
      "application/vnd.jupyter.widget-view+json": {
       "model_id": "67c61add5d04490c8c468c885486de13",
       "version_major": 2,
       "version_minor": 0
      },
      "text/plain": [
       "Getting_images:   0%|          | 0/200 [00:00<?, ?it/s]"
      ]
     },
     "metadata": {},
     "output_type": "display_data"
    },
    {
     "data": {
      "application/vnd.jupyter.widget-view+json": {
       "model_id": "f928366540eb474c926e5c8e67129240",
       "version_major": 2,
       "version_minor": 0
      },
      "text/plain": [
       "Getting_images:   0%|          | 0/200 [00:00<?, ?it/s]"
      ]
     },
     "metadata": {},
     "output_type": "display_data"
    },
    {
     "data": {
      "application/vnd.jupyter.widget-view+json": {
       "model_id": "0d6be3942e1244a1b53ce5e1efcfe9e1",
       "version_major": 2,
       "version_minor": 0
      },
      "text/plain": [
       "Getting_images:   0%|          | 0/200 [00:00<?, ?it/s]"
      ]
     },
     "metadata": {},
     "output_type": "display_data"
    },
    {
     "data": {
      "application/vnd.jupyter.widget-view+json": {
       "model_id": "f8c734d3d7f04d64b11b5f387b9f9329",
       "version_major": 2,
       "version_minor": 0
      },
      "text/plain": [
       "Getting_images:   0%|          | 0/200 [00:00<?, ?it/s]"
      ]
     },
     "metadata": {},
     "output_type": "display_data"
    },
    {
     "data": {
      "application/vnd.jupyter.widget-view+json": {
       "model_id": "93d64893187a445685075a061f3fe72c",
       "version_major": 2,
       "version_minor": 0
      },
      "text/plain": [
       "Getting_images:   0%|          | 0/200 [00:00<?, ?it/s]"
      ]
     },
     "metadata": {},
     "output_type": "display_data"
    },
    {
     "data": {
      "application/vnd.jupyter.widget-view+json": {
       "model_id": "b75f0ece3ac3444e8b8023b2697fdf46",
       "version_major": 2,
       "version_minor": 0
      },
      "text/plain": [
       "Getting_images:   0%|          | 0/200 [00:00<?, ?it/s]"
      ]
     },
     "metadata": {},
     "output_type": "display_data"
    },
    {
     "data": {
      "application/vnd.jupyter.widget-view+json": {
       "model_id": "3898f875cd0a4ff0b48b79bd5aa35755",
       "version_major": 2,
       "version_minor": 0
      },
      "text/plain": [
       "Getting_images:   0%|          | 0/200 [00:00<?, ?it/s]"
      ]
     },
     "metadata": {},
     "output_type": "display_data"
    },
    {
     "data": {
      "application/vnd.jupyter.widget-view+json": {
       "model_id": "758d5094c87d475088db9004f2a8cd0d",
       "version_major": 2,
       "version_minor": 0
      },
      "text/plain": [
       "Getting_images:   0%|          | 0/200 [00:00<?, ?it/s]"
      ]
     },
     "metadata": {},
     "output_type": "display_data"
    },
    {
     "data": {
      "application/vnd.jupyter.widget-view+json": {
       "model_id": "d33c4bd1d8184fc39039dff741cc7605",
       "version_major": 2,
       "version_minor": 0
      },
      "text/plain": [
       "Getting_images:   0%|          | 0/200 [00:00<?, ?it/s]"
      ]
     },
     "metadata": {},
     "output_type": "display_data"
    }
   ],
   "source": [
    "student_deepinversion = distill_deep_inversion(\n",
    "    teacher=teacher, \n",
    "    student=student_deepinversion,\n",
    "    distill_config={\n",
    "        \"alpha\": 0.6,\n",
    "        \"T\": 2.5,\n",
    "        \"lr\": 0.001\n",
    "    },\n",
    "    total_iterations=train_config[\"dataset_size\"] * train_config[\"max_epochs\"],\n",
    "    distill_k_times=8,\n",
    "    batch_size=256,\n",
    "    deep_inversion_batch_size=1024,\n",
    "    deep_inversion_iterations=200,\n",
    "    n_classes=100,\n",
    "    image_shape=(3, 32, 32),\n",
    "    r_feature=0.01,\n",
    "    first_bn_multiplier=10,\n",
    "    tv_l1=0.0,\n",
    "    tv_l2=0.0001,\n",
    "    l2=0.00001,\n",
    "    main_loss_multiplier=1.0,\n",
    "    lr=0.1,\n",
    "    adi_scale=1,\n",
    "    device=\"cuda\"\n",
    ")"
   ]
  },
  {
   "cell_type": "code",
   "execution_count": null,
   "id": "e7771159",
   "metadata": {},
   "outputs": [
    {
     "data": {
      "application/vnd.jupyter.widget-view+json": {
       "model_id": "0484a59a936c41a6936e857fecc1844b",
       "version_major": 2,
       "version_minor": 0
      },
      "text/plain": [
       "eval batch:   0%|          | 0/20 [00:00<?, ?it/s]"
      ]
     },
     "metadata": {},
     "output_type": "display_data"
    },
    {
     "data": {
      "text/plain": [
       "{'Accuracy': 0.2535}"
      ]
     },
     "execution_count": 16,
     "metadata": {},
     "output_type": "execute_result"
    }
   ],
   "source": [
    "trainer.evaluate(\n",
    "    get_cifar100_loader(data_path=\"../../data\", train=False, batch_size=train_config[\"batch_size\"]),\n",
    "    model=student_reference\n",
    ")"
   ]
  },
  {
   "cell_type": "code",
   "execution_count": null,
   "id": "35932e35",
   "metadata": {},
   "outputs": [
    {
     "data": {
      "application/vnd.jupyter.widget-view+json": {
       "model_id": "b7d8553774e2418881d0104f5839c52e",
       "version_major": 2,
       "version_minor": 0
      },
      "text/plain": [
       "eval batch:   0%|          | 0/20 [00:00<?, ?it/s]"
      ]
     },
     "metadata": {},
     "output_type": "display_data"
    },
    {
     "data": {
      "text/plain": [
       "{'Accuracy': 0.2406}"
      ]
     },
     "execution_count": 17,
     "metadata": {},
     "output_type": "execute_result"
    }
   ],
   "source": [
    "trainer.evaluate(\n",
    "    get_cifar100_loader(data_path=\"../../data\", train=False, batch_size=train_config[\"batch_size\"]),\n",
    "    model=student_vanilla\n",
    ")"
   ]
  },
  {
   "cell_type": "code",
   "execution_count": null,
   "id": "afe1086f",
   "metadata": {},
   "outputs": [
    {
     "data": {
      "application/vnd.jupyter.widget-view+json": {
       "model_id": "7bf4513c8a8a4cbbb4ca5403d0a2facd",
       "version_major": 2,
       "version_minor": 0
      },
      "text/plain": [
       "eval batch:   0%|          | 0/20 [00:00<?, ?it/s]"
      ]
     },
     "metadata": {},
     "output_type": "display_data"
    },
    {
     "data": {
      "text/plain": [
       "{'Accuracy': 0.018}"
      ]
     },
     "execution_count": 18,
     "metadata": {},
     "output_type": "execute_result"
    }
   ],
   "source": [
    "trainer.evaluate(\n",
    "    get_cifar100_loader(data_path=\"../../data\", train=False, batch_size=train_config[\"batch_size\"]),\n",
    "    model=student_deepinversion\n",
    ")"
   ]
  },
  {
   "cell_type": "code",
   "execution_count": null,
   "id": "7de7f696",
   "metadata": {},
   "outputs": [],
   "source": []
  }
 ],
 "metadata": {
  "kernelspec": {
   "display_name": ".venv",
   "language": "python",
   "name": "python3"
  },
  "language_info": {
   "codemirror_mode": {
    "name": "ipython",
    "version": 3
   },
   "file_extension": ".py",
   "mimetype": "text/x-python",
   "name": "python",
   "nbconvert_exporter": "python",
   "pygments_lexer": "ipython3",
   "version": "3.12.4"
  }
 },
 "nbformat": 4,
 "nbformat_minor": 5
}
