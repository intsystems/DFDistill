{
 "cells": [
  {
   "cell_type": "code",
   "execution_count": null,
   "id": "8750bed9",
   "metadata": {},
   "outputs": [],
   "source": [
    "import sys\n",
    "import math\n",
    "sys.path.append(\"..\")\n",
    "\n",
    "import torch\n",
    "\n",
    "from algorithms.deepinversion import distill_deep_inversion\n",
    "from algorithms.vanilla_distillation import distill\n",
    "# LATER CHANGE TO SINGLE FUNCTION WITH METHODS FROM CONFIG!\n",
    "\n",
    "from trainer import Trainer\n",
    "from models import SimpleConvNet, SimpleResNet\n",
    "from utils import get_cifar100_loader\n",
    "\n",
    "device = \"cuda\"\n",
    "\n",
    "%load_ext autoreload\n",
    "%autoreload 2"
   ]
  },
  {
   "cell_type": "code",
   "execution_count": 2,
   "id": "8eea1385",
   "metadata": {},
   "outputs": [],
   "source": [
    "teacher = SimpleResNet(n_blocks=5, n_filters=64, input_shape=(3, 32, 32), n_classes=100).to(device)\n",
    "student_reference = SimpleConvNet(n_layers=3, n_filters=32, input_shape=(3, 32, 32), n_classes=100).to(device)\n",
    "\n",
    "student_vanilla = SimpleConvNet(n_layers=3, n_filters=32, input_shape=(3, 32, 32), n_classes=100).to(device)\n",
    "student_deepinversion = SimpleConvNet(n_layers=3, n_filters=32, input_shape=(3, 32, 32), n_classes=100).to(device)"
   ]
  },
  {
   "cell_type": "code",
   "execution_count": 3,
   "id": "c9870acd",
   "metadata": {},
   "outputs": [],
   "source": [
    "train_config = {\n",
    "    'lr': 1e-3,\n",
    "    'batch_size': 512,\n",
    "    'max_iters': -1,\n",
    "    'max_epochs': 7,\n",
    "    'evaluate_every': 36,\n",
    "    'log_every': 36,\n",
    "    \"optimizer\": \"AdamW\",\n",
    "    'verbose': False,\n",
    "    'dataset_size': 50000\n",
    "}"
   ]
  },
  {
   "cell_type": "code",
   "execution_count": 4,
   "id": "f2001dbc",
   "metadata": {},
   "outputs": [],
   "source": [
    "trainer = Trainer(train_config=train_config)"
   ]
  },
  {
   "cell_type": "code",
   "execution_count": 5,
   "id": "6502e578",
   "metadata": {},
   "outputs": [
    {
     "data": {
      "application/vnd.jupyter.widget-view+json": {
       "model_id": "e7777a15d7f14b8e840feb7bae2e54c5",
       "version_major": 2,
       "version_minor": 0
      },
      "text/plain": [
       "Training iters:   0%|          | 0/350000 [00:00<?, ?it/s]"
      ]
     },
     "metadata": {},
     "output_type": "display_data"
    },
    {
     "data": {
      "application/vnd.jupyter.widget-view+json": {
       "model_id": "8100b1f4475d4780a88a6f2fe5472b3f",
       "version_major": 2,
       "version_minor": 0
      },
      "text/plain": [
       "eval batch:   0%|          | 0/20 [00:00<?, ?it/s]"
      ]
     },
     "metadata": {},
     "output_type": "display_data"
    },
    {
     "data": {
      "application/vnd.jupyter.widget-view+json": {
       "model_id": "d3de4e0c4959499eb93ce0d5aa81f585",
       "version_major": 2,
       "version_minor": 0
      },
      "text/plain": [
       "eval batch:   0%|          | 0/20 [00:00<?, ?it/s]"
      ]
     },
     "metadata": {},
     "output_type": "display_data"
    },
    {
     "data": {
      "application/vnd.jupyter.widget-view+json": {
       "model_id": "a1fdccbfd2f1442fa1c15d28997d7e4d",
       "version_major": 2,
       "version_minor": 0
      },
      "text/plain": [
       "eval batch:   0%|          | 0/20 [00:00<?, ?it/s]"
      ]
     },
     "metadata": {},
     "output_type": "display_data"
    },
    {
     "data": {
      "application/vnd.jupyter.widget-view+json": {
       "model_id": "07ef13c0a8744482bd4c6b2c74f9116e",
       "version_major": 2,
       "version_minor": 0
      },
      "text/plain": [
       "eval batch:   0%|          | 0/20 [00:00<?, ?it/s]"
      ]
     },
     "metadata": {},
     "output_type": "display_data"
    },
    {
     "data": {
      "application/vnd.jupyter.widget-view+json": {
       "model_id": "4a0e0c6a0ebc47d1b86826d8e95067e6",
       "version_major": 2,
       "version_minor": 0
      },
      "text/plain": [
       "eval batch:   0%|          | 0/20 [00:00<?, ?it/s]"
      ]
     },
     "metadata": {},
     "output_type": "display_data"
    },
    {
     "data": {
      "application/vnd.jupyter.widget-view+json": {
       "model_id": "59df55dcec634613a11de87e214dc6dc",
       "version_major": 2,
       "version_minor": 0
      },
      "text/plain": [
       "eval batch:   0%|          | 0/20 [00:00<?, ?it/s]"
      ]
     },
     "metadata": {},
     "output_type": "display_data"
    },
    {
     "data": {
      "application/vnd.jupyter.widget-view+json": {
       "model_id": "3f24e9b521694cd397de2a156f1025c3",
       "version_major": 2,
       "version_minor": 0
      },
      "text/plain": [
       "eval batch:   0%|          | 0/20 [00:00<?, ?it/s]"
      ]
     },
     "metadata": {},
     "output_type": "display_data"
    },
    {
     "data": {
      "application/vnd.jupyter.widget-view+json": {
       "model_id": "dd7ccb6f65ca43dabd595d291963908c",
       "version_major": 2,
       "version_minor": 0
      },
      "text/plain": [
       "eval batch:   0%|          | 0/20 [00:00<?, ?it/s]"
      ]
     },
     "metadata": {},
     "output_type": "display_data"
    },
    {
     "data": {
      "application/vnd.jupyter.widget-view+json": {
       "model_id": "71fdef52e0a44e589f7fcd2213e54400",
       "version_major": 2,
       "version_minor": 0
      },
      "text/plain": [
       "eval batch:   0%|          | 0/20 [00:00<?, ?it/s]"
      ]
     },
     "metadata": {},
     "output_type": "display_data"
    },
    {
     "data": {
      "application/vnd.jupyter.widget-view+json": {
       "model_id": "6184189a31ef40b1a248e3222b606a5a",
       "version_major": 2,
       "version_minor": 0
      },
      "text/plain": [
       "eval batch:   0%|          | 0/20 [00:00<?, ?it/s]"
      ]
     },
     "metadata": {},
     "output_type": "display_data"
    },
    {
     "data": {
      "application/vnd.jupyter.widget-view+json": {
       "model_id": "8efa55da957d4d77a38fbb73eb2c90f6",
       "version_major": 2,
       "version_minor": 0
      },
      "text/plain": [
       "eval batch:   0%|          | 0/20 [00:00<?, ?it/s]"
      ]
     },
     "metadata": {},
     "output_type": "display_data"
    },
    {
     "data": {
      "application/vnd.jupyter.widget-view+json": {
       "model_id": "aefa9bd9ed584ec0ba35dcce47f39c73",
       "version_major": 2,
       "version_minor": 0
      },
      "text/plain": [
       "eval batch:   0%|          | 0/20 [00:00<?, ?it/s]"
      ]
     },
     "metadata": {},
     "output_type": "display_data"
    },
    {
     "data": {
      "application/vnd.jupyter.widget-view+json": {
       "model_id": "a351463b512f4bb69cc7287eeb973aa8",
       "version_major": 2,
       "version_minor": 0
      },
      "text/plain": [
       "eval batch:   0%|          | 0/20 [00:00<?, ?it/s]"
      ]
     },
     "metadata": {},
     "output_type": "display_data"
    },
    {
     "data": {
      "application/vnd.jupyter.widget-view+json": {
       "model_id": "25631fbd2ca644bda7978614c4651550",
       "version_major": 2,
       "version_minor": 0
      },
      "text/plain": [
       "eval batch:   0%|          | 0/20 [00:00<?, ?it/s]"
      ]
     },
     "metadata": {},
     "output_type": "display_data"
    }
   ],
   "source": [
    "teacher = trainer.train(\n",
    "    model=teacher,\n",
    "    train_loader=get_cifar100_loader(data_path=\"../../data\", train=True, batch_size=train_config[\"batch_size\"]),\n",
    "    val_loader=get_cifar100_loader(data_path=\"../../data\", train=False, batch_size=train_config[\"batch_size\"])\n",
    ")"
   ]
  },
  {
   "cell_type": "code",
   "execution_count": 6,
   "id": "84139aaf",
   "metadata": {},
   "outputs": [
    {
     "data": {
      "application/vnd.jupyter.widget-view+json": {
       "model_id": "94a490026adf4bbcab85151674c9530c",
       "version_major": 2,
       "version_minor": 0
      },
      "text/plain": [
       "Training iters:   0%|          | 0/350000 [00:00<?, ?it/s]"
      ]
     },
     "metadata": {},
     "output_type": "display_data"
    },
    {
     "data": {
      "application/vnd.jupyter.widget-view+json": {
       "model_id": "1ccbcb9642ae42ca83202059ae541f20",
       "version_major": 2,
       "version_minor": 0
      },
      "text/plain": [
       "eval batch:   0%|          | 0/20 [00:00<?, ?it/s]"
      ]
     },
     "metadata": {},
     "output_type": "display_data"
    },
    {
     "data": {
      "application/vnd.jupyter.widget-view+json": {
       "model_id": "ce725aca36f74ff3b7d7b1e9651dd34b",
       "version_major": 2,
       "version_minor": 0
      },
      "text/plain": [
       "eval batch:   0%|          | 0/20 [00:00<?, ?it/s]"
      ]
     },
     "metadata": {},
     "output_type": "display_data"
    },
    {
     "data": {
      "application/vnd.jupyter.widget-view+json": {
       "model_id": "af87c5452f5f48d99da6580bce432b87",
       "version_major": 2,
       "version_minor": 0
      },
      "text/plain": [
       "eval batch:   0%|          | 0/20 [00:00<?, ?it/s]"
      ]
     },
     "metadata": {},
     "output_type": "display_data"
    },
    {
     "data": {
      "application/vnd.jupyter.widget-view+json": {
       "model_id": "f87d7dfb71be434d973f7a402358f04c",
       "version_major": 2,
       "version_minor": 0
      },
      "text/plain": [
       "eval batch:   0%|          | 0/20 [00:00<?, ?it/s]"
      ]
     },
     "metadata": {},
     "output_type": "display_data"
    },
    {
     "data": {
      "application/vnd.jupyter.widget-view+json": {
       "model_id": "1ab9f22326434e1db54ebe3122df102b",
       "version_major": 2,
       "version_minor": 0
      },
      "text/plain": [
       "eval batch:   0%|          | 0/20 [00:00<?, ?it/s]"
      ]
     },
     "metadata": {},
     "output_type": "display_data"
    },
    {
     "data": {
      "application/vnd.jupyter.widget-view+json": {
       "model_id": "e8fd078753fd4dc9a8d42461c1fcbd27",
       "version_major": 2,
       "version_minor": 0
      },
      "text/plain": [
       "eval batch:   0%|          | 0/20 [00:00<?, ?it/s]"
      ]
     },
     "metadata": {},
     "output_type": "display_data"
    },
    {
     "data": {
      "application/vnd.jupyter.widget-view+json": {
       "model_id": "0f7756fd2b554c37b878a57bf443885d",
       "version_major": 2,
       "version_minor": 0
      },
      "text/plain": [
       "eval batch:   0%|          | 0/20 [00:00<?, ?it/s]"
      ]
     },
     "metadata": {},
     "output_type": "display_data"
    },
    {
     "data": {
      "application/vnd.jupyter.widget-view+json": {
       "model_id": "5f94fb74318a428796d23b6260c1793c",
       "version_major": 2,
       "version_minor": 0
      },
      "text/plain": [
       "eval batch:   0%|          | 0/20 [00:00<?, ?it/s]"
      ]
     },
     "metadata": {},
     "output_type": "display_data"
    },
    {
     "data": {
      "application/vnd.jupyter.widget-view+json": {
       "model_id": "8b31729c8e98413eb939ca81854246dc",
       "version_major": 2,
       "version_minor": 0
      },
      "text/plain": [
       "eval batch:   0%|          | 0/20 [00:00<?, ?it/s]"
      ]
     },
     "metadata": {},
     "output_type": "display_data"
    },
    {
     "data": {
      "application/vnd.jupyter.widget-view+json": {
       "model_id": "6705832fbb55425f8677693ea1dcff5d",
       "version_major": 2,
       "version_minor": 0
      },
      "text/plain": [
       "eval batch:   0%|          | 0/20 [00:00<?, ?it/s]"
      ]
     },
     "metadata": {},
     "output_type": "display_data"
    },
    {
     "data": {
      "application/vnd.jupyter.widget-view+json": {
       "model_id": "4a4c9b733fdf41438b5a86a141bced3e",
       "version_major": 2,
       "version_minor": 0
      },
      "text/plain": [
       "eval batch:   0%|          | 0/20 [00:00<?, ?it/s]"
      ]
     },
     "metadata": {},
     "output_type": "display_data"
    },
    {
     "data": {
      "application/vnd.jupyter.widget-view+json": {
       "model_id": "f00fc0d1679b4e4ca57da5128b3ed4b1",
       "version_major": 2,
       "version_minor": 0
      },
      "text/plain": [
       "eval batch:   0%|          | 0/20 [00:00<?, ?it/s]"
      ]
     },
     "metadata": {},
     "output_type": "display_data"
    },
    {
     "data": {
      "application/vnd.jupyter.widget-view+json": {
       "model_id": "a87f81a977af412c94ef08b72ee0ab8f",
       "version_major": 2,
       "version_minor": 0
      },
      "text/plain": [
       "eval batch:   0%|          | 0/20 [00:00<?, ?it/s]"
      ]
     },
     "metadata": {},
     "output_type": "display_data"
    },
    {
     "data": {
      "application/vnd.jupyter.widget-view+json": {
       "model_id": "6cf55b2055dc40418ad95d6b176ec3f6",
       "version_major": 2,
       "version_minor": 0
      },
      "text/plain": [
       "eval batch:   0%|          | 0/20 [00:00<?, ?it/s]"
      ]
     },
     "metadata": {},
     "output_type": "display_data"
    }
   ],
   "source": [
    "student_reference = trainer.train(\n",
    "    model=student_reference,\n",
    "    train_loader=get_cifar100_loader(data_path=\"../../data\", train=True, batch_size=train_config[\"batch_size\"]),\n",
    "    val_loader=get_cifar100_loader(data_path=\"../../data\", train=False, batch_size=train_config[\"batch_size\"])\n",
    ")"
   ]
  },
  {
   "cell_type": "code",
   "execution_count": 7,
   "id": "26a3b4f7",
   "metadata": {},
   "outputs": [],
   "source": [
    "loader_temp = get_cifar100_loader(data_path=\"../../data\", train=True, batch_size=train_config[\"batch_size\"])"
   ]
  },
  {
   "cell_type": "code",
   "execution_count": 8,
   "id": "be9db030",
   "metadata": {},
   "outputs": [
    {
     "name": "stderr",
     "output_type": "stream",
     "text": [
      "Training - 0/686 [                              ] ELP: 00:00d:\\Desktop\\10сем\\BMM\\DFDistill\\.venv\\Lib\\site-packages\\torch\\nn\\_reduction.py:51: UserWarning: size_average and reduce args will be deprecated, please use reduction='sum' instead.\n",
      "  warnings.warn(warning.format(ret))\n",
      "Training - 686/686 [██████████████████████████████] ELP: 00:52, accuracy: 0.3513 - \n"
     ]
    }
   ],
   "source": [
    "student_vanilla = distill(\n",
    "    teacher=teacher,\n",
    "    student=student_vanilla,\n",
    "    optimizer=torch.optim.AdamW(student_vanilla.parameters(), lr=train_config[\"lr\"], betas=(0.8, 0.9)),\n",
    "    train_loader=get_cifar100_loader(data_path=\"../../data\", train=True, batch_size=train_config[\"batch_size\"]),\n",
    "    test_loader=None,\n",
    "    iterations=math.ceil(train_config['dataset_size'] / train_config[\"batch_size\"]) * train_config[\"max_epochs\"],\n",
    "    test_freq=-1,\n",
    "    alpha=0.6,\n",
    "    T=2.5\n",
    ")"
   ]
  },
  {
   "cell_type": "code",
   "execution_count": null,
   "id": "820bb03e",
   "metadata": {},
   "outputs": [
    {
     "data": {
      "application/vnd.jupyter.widget-view+json": {
       "model_id": "0cb046f55cb6444fa7f0f629aa44a29e",
       "version_major": 2,
       "version_minor": 0
      },
      "text/plain": [
       "Pipeline iters:   0%|          | 0/341 [00:00<?, ?it/s]"
      ]
     },
     "metadata": {},
     "output_type": "display_data"
    },
    {
     "data": {
      "application/vnd.jupyter.widget-view+json": {
       "model_id": "92163407e6c24c52bc81fe2b71691299",
       "version_major": 2,
       "version_minor": 0
      },
      "text/plain": [
       "Getting_images:   0%|          | 0/200 [00:00<?, ?it/s]"
      ]
     },
     "metadata": {},
     "output_type": "display_data"
    },
    {
     "name": "stderr",
     "output_type": "stream",
     "text": [
      "d:\\Desktop\\10сем\\BMM\\DFDistill\\.venv\\Lib\\site-packages\\torch\\nn\\_reduction.py:51: UserWarning: size_average and reduce args will be deprecated, please use reduction='sum' instead.\n",
      "  warnings.warn(warning.format(ret))\n"
     ]
    },
    {
     "data": {
      "application/vnd.jupyter.widget-view+json": {
       "model_id": "bad4ec87f2f94e0e9388d028e67a934a",
       "version_major": 2,
       "version_minor": 0
      },
      "text/plain": [
       "Getting_images:   0%|          | 0/200 [00:00<?, ?it/s]"
      ]
     },
     "metadata": {},
     "output_type": "display_data"
    },
    {
     "data": {
      "application/vnd.jupyter.widget-view+json": {
       "model_id": "954e5f0a4b694312a528d800d1183219",
       "version_major": 2,
       "version_minor": 0
      },
      "text/plain": [
       "Getting_images:   0%|          | 0/200 [00:00<?, ?it/s]"
      ]
     },
     "metadata": {},
     "output_type": "display_data"
    },
    {
     "data": {
      "application/vnd.jupyter.widget-view+json": {
       "model_id": "183cc18b815d4a7b9224be3dbb2f9311",
       "version_major": 2,
       "version_minor": 0
      },
      "text/plain": [
       "Getting_images:   0%|          | 0/200 [00:00<?, ?it/s]"
      ]
     },
     "metadata": {},
     "output_type": "display_data"
    },
    {
     "data": {
      "application/vnd.jupyter.widget-view+json": {
       "model_id": "64c3080cfb9e4503b725547b830344f8",
       "version_major": 2,
       "version_minor": 0
      },
      "text/plain": [
       "Getting_images:   0%|          | 0/200 [00:00<?, ?it/s]"
      ]
     },
     "metadata": {},
     "output_type": "display_data"
    },
    {
     "data": {
      "application/vnd.jupyter.widget-view+json": {
       "model_id": "9bc9b73291ef44e485f6101d54451f62",
       "version_major": 2,
       "version_minor": 0
      },
      "text/plain": [
       "Getting_images:   0%|          | 0/200 [00:00<?, ?it/s]"
      ]
     },
     "metadata": {},
     "output_type": "display_data"
    },
    {
     "data": {
      "application/vnd.jupyter.widget-view+json": {
       "model_id": "3c8ab280855f431b8a64f430319aca4c",
       "version_major": 2,
       "version_minor": 0
      },
      "text/plain": [
       "Getting_images:   0%|          | 0/200 [00:00<?, ?it/s]"
      ]
     },
     "metadata": {},
     "output_type": "display_data"
    },
    {
     "data": {
      "application/vnd.jupyter.widget-view+json": {
       "model_id": "7b636690af6e4e27820154c6bdb18262",
       "version_major": 2,
       "version_minor": 0
      },
      "text/plain": [
       "Getting_images:   0%|          | 0/200 [00:00<?, ?it/s]"
      ]
     },
     "metadata": {},
     "output_type": "display_data"
    },
    {
     "data": {
      "application/vnd.jupyter.widget-view+json": {
       "model_id": "97c18ea2328544178cf0cc03fed40c1d",
       "version_major": 2,
       "version_minor": 0
      },
      "text/plain": [
       "Getting_images:   0%|          | 0/200 [00:00<?, ?it/s]"
      ]
     },
     "metadata": {},
     "output_type": "display_data"
    },
    {
     "data": {
      "application/vnd.jupyter.widget-view+json": {
       "model_id": "deba81fd18594963b2a102006508df58",
       "version_major": 2,
       "version_minor": 0
      },
      "text/plain": [
       "Getting_images:   0%|          | 0/200 [00:00<?, ?it/s]"
      ]
     },
     "metadata": {},
     "output_type": "display_data"
    },
    {
     "data": {
      "application/vnd.jupyter.widget-view+json": {
       "model_id": "2a929b60b79e42768e2cabe1162108e4",
       "version_major": 2,
       "version_minor": 0
      },
      "text/plain": [
       "Getting_images:   0%|          | 0/200 [00:00<?, ?it/s]"
      ]
     },
     "metadata": {},
     "output_type": "display_data"
    },
    {
     "data": {
      "application/vnd.jupyter.widget-view+json": {
       "model_id": "ce6cb1c451a14748bd3fb18487920f9a",
       "version_major": 2,
       "version_minor": 0
      },
      "text/plain": [
       "Getting_images:   0%|          | 0/200 [00:00<?, ?it/s]"
      ]
     },
     "metadata": {},
     "output_type": "display_data"
    },
    {
     "data": {
      "application/vnd.jupyter.widget-view+json": {
       "model_id": "9660e7e4b38844eeb5eb76530b9b1c44",
       "version_major": 2,
       "version_minor": 0
      },
      "text/plain": [
       "Getting_images:   0%|          | 0/200 [00:00<?, ?it/s]"
      ]
     },
     "metadata": {},
     "output_type": "display_data"
    },
    {
     "data": {
      "application/vnd.jupyter.widget-view+json": {
       "model_id": "3c224088106b4239b88e649c8c5a1551",
       "version_major": 2,
       "version_minor": 0
      },
      "text/plain": [
       "Getting_images:   0%|          | 0/200 [00:00<?, ?it/s]"
      ]
     },
     "metadata": {},
     "output_type": "display_data"
    },
    {
     "data": {
      "application/vnd.jupyter.widget-view+json": {
       "model_id": "d26a879d4ab54db69e4a0392632a4191",
       "version_major": 2,
       "version_minor": 0
      },
      "text/plain": [
       "Getting_images:   0%|          | 0/200 [00:00<?, ?it/s]"
      ]
     },
     "metadata": {},
     "output_type": "display_data"
    },
    {
     "data": {
      "application/vnd.jupyter.widget-view+json": {
       "model_id": "dcbbf944500c43618762eac99f37c630",
       "version_major": 2,
       "version_minor": 0
      },
      "text/plain": [
       "Getting_images:   0%|          | 0/200 [00:00<?, ?it/s]"
      ]
     },
     "metadata": {},
     "output_type": "display_data"
    },
    {
     "data": {
      "application/vnd.jupyter.widget-view+json": {
       "model_id": "78695a4cfd524e2da2b591135d8c06ff",
       "version_major": 2,
       "version_minor": 0
      },
      "text/plain": [
       "Getting_images:   0%|          | 0/200 [00:00<?, ?it/s]"
      ]
     },
     "metadata": {},
     "output_type": "display_data"
    },
    {
     "data": {
      "application/vnd.jupyter.widget-view+json": {
       "model_id": "9b37047c8f914c5e8aff3ee976535ae3",
       "version_major": 2,
       "version_minor": 0
      },
      "text/plain": [
       "Getting_images:   0%|          | 0/200 [00:00<?, ?it/s]"
      ]
     },
     "metadata": {},
     "output_type": "display_data"
    },
    {
     "ename": "KeyboardInterrupt",
     "evalue": "",
     "output_type": "error",
     "traceback": [
      "\u001b[31m---------------------------------------------------------------------------\u001b[39m",
      "\u001b[31mKeyboardInterrupt\u001b[39m                         Traceback (most recent call last)",
      "\u001b[36mCell\u001b[39m\u001b[36m \u001b[39m\u001b[32mIn[9]\u001b[39m\u001b[32m, line 1\u001b[39m\n\u001b[32m----> \u001b[39m\u001b[32m1\u001b[39m student_deepinversion = \u001b[43mdistill_deep_inversion\u001b[49m\u001b[43m(\u001b[49m\n\u001b[32m      2\u001b[39m \u001b[43m    \u001b[49m\u001b[43mteacher\u001b[49m\u001b[43m=\u001b[49m\u001b[43mteacher\u001b[49m\u001b[43m,\u001b[49m\u001b[43m \u001b[49m\n\u001b[32m      3\u001b[39m \u001b[43m    \u001b[49m\u001b[43mstudent\u001b[49m\u001b[43m=\u001b[49m\u001b[43mstudent_deepinversion\u001b[49m\u001b[43m,\u001b[49m\n\u001b[32m      4\u001b[39m \u001b[43m    \u001b[49m\u001b[43mdistill_config\u001b[49m\u001b[43m=\u001b[49m\u001b[43m{\u001b[49m\n\u001b[32m      5\u001b[39m \u001b[43m        \u001b[49m\u001b[33;43m\"\u001b[39;49m\u001b[33;43malpha\u001b[39;49m\u001b[33;43m\"\u001b[39;49m\u001b[43m:\u001b[49m\u001b[43m \u001b[49m\u001b[32;43m0.6\u001b[39;49m\u001b[43m,\u001b[49m\n\u001b[32m      6\u001b[39m \u001b[43m        \u001b[49m\u001b[33;43m\"\u001b[39;49m\u001b[33;43mT\u001b[39;49m\u001b[33;43m\"\u001b[39;49m\u001b[43m:\u001b[49m\u001b[43m \u001b[49m\u001b[32;43m2.5\u001b[39;49m\u001b[43m,\u001b[49m\n\u001b[32m      7\u001b[39m \u001b[43m        \u001b[49m\u001b[33;43m\"\u001b[39;49m\u001b[33;43mlr\u001b[39;49m\u001b[33;43m\"\u001b[39;49m\u001b[43m:\u001b[49m\u001b[43m \u001b[49m\u001b[32;43m0.001\u001b[39;49m\n\u001b[32m      8\u001b[39m \u001b[43m    \u001b[49m\u001b[43m}\u001b[49m\u001b[43m,\u001b[49m\n\u001b[32m      9\u001b[39m \u001b[43m    \u001b[49m\u001b[43mtotal_iterations\u001b[49m\u001b[43m=\u001b[49m\u001b[43mtrain_config\u001b[49m\u001b[43m[\u001b[49m\u001b[33;43m\"\u001b[39;49m\u001b[33;43mdataset_size\u001b[39;49m\u001b[33;43m\"\u001b[39;49m\u001b[43m]\u001b[49m\u001b[43m \u001b[49m\u001b[43m*\u001b[49m\u001b[43m \u001b[49m\u001b[43mtrain_config\u001b[49m\u001b[43m[\u001b[49m\u001b[33;43m\"\u001b[39;49m\u001b[33;43mmax_epochs\u001b[39;49m\u001b[33;43m\"\u001b[39;49m\u001b[43m]\u001b[49m\u001b[43m,\u001b[49m\n\u001b[32m     10\u001b[39m \u001b[43m    \u001b[49m\u001b[43mdistill_k_times\u001b[49m\u001b[43m=\u001b[49m\u001b[32;43m8\u001b[39;49m\u001b[43m,\u001b[49m\n\u001b[32m     11\u001b[39m \u001b[43m    \u001b[49m\u001b[43mbatch_size\u001b[49m\u001b[43m=\u001b[49m\u001b[32;43m256\u001b[39;49m\u001b[43m,\u001b[49m\n\u001b[32m     12\u001b[39m \u001b[43m    \u001b[49m\u001b[43mdeep_inversion_batch_size\u001b[49m\u001b[43m=\u001b[49m\u001b[32;43m1024\u001b[39;49m\u001b[43m,\u001b[49m\n\u001b[32m     13\u001b[39m \u001b[43m    \u001b[49m\u001b[43mdeep_inversion_iterations\u001b[49m\u001b[43m=\u001b[49m\u001b[32;43m200\u001b[39;49m\u001b[43m,\u001b[49m\n\u001b[32m     14\u001b[39m \u001b[43m    \u001b[49m\u001b[43mn_classes\u001b[49m\u001b[43m=\u001b[49m\u001b[32;43m100\u001b[39;49m\u001b[43m,\u001b[49m\n\u001b[32m     15\u001b[39m \u001b[43m    \u001b[49m\u001b[43mimage_shape\u001b[49m\u001b[43m=\u001b[49m\u001b[43m(\u001b[49m\u001b[32;43m3\u001b[39;49m\u001b[43m,\u001b[49m\u001b[43m \u001b[49m\u001b[32;43m32\u001b[39;49m\u001b[43m,\u001b[49m\u001b[43m \u001b[49m\u001b[32;43m32\u001b[39;49m\u001b[43m)\u001b[49m\u001b[43m,\u001b[49m\n\u001b[32m     16\u001b[39m \u001b[43m    \u001b[49m\u001b[43mr_feature\u001b[49m\u001b[43m=\u001b[49m\u001b[32;43m0.01\u001b[39;49m\u001b[43m,\u001b[49m\n\u001b[32m     17\u001b[39m \u001b[43m    \u001b[49m\u001b[43mfirst_bn_multiplier\u001b[49m\u001b[43m=\u001b[49m\u001b[32;43m10\u001b[39;49m\u001b[43m,\u001b[49m\n\u001b[32m     18\u001b[39m \u001b[43m    \u001b[49m\u001b[43mtv_l1\u001b[49m\u001b[43m=\u001b[49m\u001b[32;43m0.0\u001b[39;49m\u001b[43m,\u001b[49m\n\u001b[32m     19\u001b[39m \u001b[43m    \u001b[49m\u001b[43mtv_l2\u001b[49m\u001b[43m=\u001b[49m\u001b[32;43m0.0001\u001b[39;49m\u001b[43m,\u001b[49m\n\u001b[32m     20\u001b[39m \u001b[43m    \u001b[49m\u001b[43ml2\u001b[49m\u001b[43m=\u001b[49m\u001b[32;43m0.00001\u001b[39;49m\u001b[43m,\u001b[49m\n\u001b[32m     21\u001b[39m \u001b[43m    \u001b[49m\u001b[43mmain_loss_multiplier\u001b[49m\u001b[43m=\u001b[49m\u001b[32;43m1.0\u001b[39;49m\u001b[43m,\u001b[49m\n\u001b[32m     22\u001b[39m \u001b[43m    \u001b[49m\u001b[43mlr\u001b[49m\u001b[43m=\u001b[49m\u001b[32;43m0.1\u001b[39;49m\u001b[43m,\u001b[49m\n\u001b[32m     23\u001b[39m \u001b[43m    \u001b[49m\u001b[43madi_scale\u001b[49m\u001b[43m=\u001b[49m\u001b[32;43m1\u001b[39;49m\u001b[43m,\u001b[49m\n\u001b[32m     24\u001b[39m \u001b[43m    \u001b[49m\u001b[43mdevice\u001b[49m\u001b[43m=\u001b[49m\u001b[33;43m\"\u001b[39;49m\u001b[33;43mcuda\u001b[39;49m\u001b[33;43m\"\u001b[39;49m\n\u001b[32m     25\u001b[39m \u001b[43m)\u001b[49m\n",
      "\u001b[36mFile \u001b[39m\u001b[32md:\\Desktop\\10сем\\BMM\\DFDistill\\dfdistill\\demo\\..\\algorithms\\deepinversion.py:248\u001b[39m, in \u001b[36mdistill_deep_inversion\u001b[39m\u001b[34m(teacher, student, distill_config, total_iterations, distill_k_times, batch_size, deep_inversion_batch_size, deep_inversion_iterations, n_classes, image_shape, r_feature, first_bn_multiplier, tv_l1, tv_l2, l2, main_loss_multiplier, lr, adi_scale, device)\u001b[39m\n\u001b[32m    245\u001b[39m num_steps = total_iterations // deep_inversion_batch_size\n\u001b[32m    247\u001b[39m \u001b[38;5;28;01mfor\u001b[39;00m step \u001b[38;5;129;01min\u001b[39;00m tqdm(\u001b[38;5;28mrange\u001b[39m(num_steps), desc=\u001b[33m\"\u001b[39m\u001b[33mPipeline iters\u001b[39m\u001b[33m\"\u001b[39m, leave=\u001b[38;5;28;01mTrue\u001b[39;00m):\n\u001b[32m--> \u001b[39m\u001b[32m248\u001b[39m     inputs, targets = \u001b[43mdeep_inversion\u001b[49m\u001b[43m.\u001b[49m\u001b[43mget_images\u001b[49m\u001b[43m(\u001b[49m\u001b[43m)\u001b[49m   \n\u001b[32m    250\u001b[39m     teacher.zero_grad()\n\u001b[32m    251\u001b[39m     student.zero_grad()\n",
      "\u001b[36mFile \u001b[39m\u001b[32md:\\Desktop\\10сем\\BMM\\DFDistill\\dfdistill\\demo\\..\\algorithms\\deepinversion.py:183\u001b[39m, in \u001b[36mDeepInversionClass.get_images\u001b[39m\u001b[34m(self)\u001b[39m\n\u001b[32m    179\u001b[39m     loss = \u001b[38;5;28mself\u001b[39m.main_loss_multiplier * loss + loss_aux\n\u001b[32m    181\u001b[39m     \u001b[38;5;66;03m#### logging calback??\u001b[39;00m\n\u001b[32m--> \u001b[39m\u001b[32m183\u001b[39m     \u001b[43mloss\u001b[49m\u001b[43m.\u001b[49m\u001b[43mbackward\u001b[49m\u001b[43m(\u001b[49m\u001b[43m)\u001b[49m\n\u001b[32m    184\u001b[39m     optimizer.step()\n\u001b[32m    186\u001b[39m optimizer.state = defaultdict(\u001b[38;5;28mdict\u001b[39m)\n",
      "\u001b[36mFile \u001b[39m\u001b[32md:\\Desktop\\10сем\\BMM\\DFDistill\\.venv\\Lib\\site-packages\\torch\\_tensor.py:648\u001b[39m, in \u001b[36mTensor.backward\u001b[39m\u001b[34m(self, gradient, retain_graph, create_graph, inputs)\u001b[39m\n\u001b[32m    638\u001b[39m \u001b[38;5;28;01mif\u001b[39;00m has_torch_function_unary(\u001b[38;5;28mself\u001b[39m):\n\u001b[32m    639\u001b[39m     \u001b[38;5;28;01mreturn\u001b[39;00m handle_torch_function(\n\u001b[32m    640\u001b[39m         Tensor.backward,\n\u001b[32m    641\u001b[39m         (\u001b[38;5;28mself\u001b[39m,),\n\u001b[32m   (...)\u001b[39m\u001b[32m    646\u001b[39m         inputs=inputs,\n\u001b[32m    647\u001b[39m     )\n\u001b[32m--> \u001b[39m\u001b[32m648\u001b[39m \u001b[43mtorch\u001b[49m\u001b[43m.\u001b[49m\u001b[43mautograd\u001b[49m\u001b[43m.\u001b[49m\u001b[43mbackward\u001b[49m\u001b[43m(\u001b[49m\n\u001b[32m    649\u001b[39m \u001b[43m    \u001b[49m\u001b[38;5;28;43mself\u001b[39;49m\u001b[43m,\u001b[49m\u001b[43m \u001b[49m\u001b[43mgradient\u001b[49m\u001b[43m,\u001b[49m\u001b[43m \u001b[49m\u001b[43mretain_graph\u001b[49m\u001b[43m,\u001b[49m\u001b[43m \u001b[49m\u001b[43mcreate_graph\u001b[49m\u001b[43m,\u001b[49m\u001b[43m \u001b[49m\u001b[43minputs\u001b[49m\u001b[43m=\u001b[49m\u001b[43minputs\u001b[49m\n\u001b[32m    650\u001b[39m \u001b[43m\u001b[49m\u001b[43m)\u001b[49m\n",
      "\u001b[36mFile \u001b[39m\u001b[32md:\\Desktop\\10сем\\BMM\\DFDistill\\.venv\\Lib\\site-packages\\torch\\autograd\\__init__.py:353\u001b[39m, in \u001b[36mbackward\u001b[39m\u001b[34m(tensors, grad_tensors, retain_graph, create_graph, grad_variables, inputs)\u001b[39m\n\u001b[32m    348\u001b[39m     retain_graph = create_graph\n\u001b[32m    350\u001b[39m \u001b[38;5;66;03m# The reason we repeat the same comment below is that\u001b[39;00m\n\u001b[32m    351\u001b[39m \u001b[38;5;66;03m# some Python versions print out the first line of a multi-line function\u001b[39;00m\n\u001b[32m    352\u001b[39m \u001b[38;5;66;03m# calls in the traceback and some print out the last line\u001b[39;00m\n\u001b[32m--> \u001b[39m\u001b[32m353\u001b[39m \u001b[43m_engine_run_backward\u001b[49m\u001b[43m(\u001b[49m\n\u001b[32m    354\u001b[39m \u001b[43m    \u001b[49m\u001b[43mtensors\u001b[49m\u001b[43m,\u001b[49m\n\u001b[32m    355\u001b[39m \u001b[43m    \u001b[49m\u001b[43mgrad_tensors_\u001b[49m\u001b[43m,\u001b[49m\n\u001b[32m    356\u001b[39m \u001b[43m    \u001b[49m\u001b[43mretain_graph\u001b[49m\u001b[43m,\u001b[49m\n\u001b[32m    357\u001b[39m \u001b[43m    \u001b[49m\u001b[43mcreate_graph\u001b[49m\u001b[43m,\u001b[49m\n\u001b[32m    358\u001b[39m \u001b[43m    \u001b[49m\u001b[43minputs\u001b[49m\u001b[43m,\u001b[49m\n\u001b[32m    359\u001b[39m \u001b[43m    \u001b[49m\u001b[43mallow_unreachable\u001b[49m\u001b[43m=\u001b[49m\u001b[38;5;28;43;01mTrue\u001b[39;49;00m\u001b[43m,\u001b[49m\n\u001b[32m    360\u001b[39m \u001b[43m    \u001b[49m\u001b[43maccumulate_grad\u001b[49m\u001b[43m=\u001b[49m\u001b[38;5;28;43;01mTrue\u001b[39;49;00m\u001b[43m,\u001b[49m\n\u001b[32m    361\u001b[39m \u001b[43m\u001b[49m\u001b[43m)\u001b[49m\n",
      "\u001b[36mFile \u001b[39m\u001b[32md:\\Desktop\\10сем\\BMM\\DFDistill\\.venv\\Lib\\site-packages\\torch\\autograd\\graph.py:824\u001b[39m, in \u001b[36m_engine_run_backward\u001b[39m\u001b[34m(t_outputs, *args, **kwargs)\u001b[39m\n\u001b[32m    822\u001b[39m     unregister_hooks = _register_logging_hooks_on_whole_graph(t_outputs)\n\u001b[32m    823\u001b[39m \u001b[38;5;28;01mtry\u001b[39;00m:\n\u001b[32m--> \u001b[39m\u001b[32m824\u001b[39m     \u001b[38;5;28;01mreturn\u001b[39;00m \u001b[43mVariable\u001b[49m\u001b[43m.\u001b[49m\u001b[43m_execution_engine\u001b[49m\u001b[43m.\u001b[49m\u001b[43mrun_backward\u001b[49m\u001b[43m(\u001b[49m\u001b[43m  \u001b[49m\u001b[38;5;66;43;03m# Calls into the C++ engine to run the backward pass\u001b[39;49;00m\n\u001b[32m    825\u001b[39m \u001b[43m        \u001b[49m\u001b[43mt_outputs\u001b[49m\u001b[43m,\u001b[49m\u001b[43m \u001b[49m\u001b[43m*\u001b[49m\u001b[43margs\u001b[49m\u001b[43m,\u001b[49m\u001b[43m \u001b[49m\u001b[43m*\u001b[49m\u001b[43m*\u001b[49m\u001b[43mkwargs\u001b[49m\n\u001b[32m    826\u001b[39m \u001b[43m    \u001b[49m\u001b[43m)\u001b[49m  \u001b[38;5;66;03m# Calls into the C++ engine to run the backward pass\u001b[39;00m\n\u001b[32m    827\u001b[39m \u001b[38;5;28;01mfinally\u001b[39;00m:\n\u001b[32m    828\u001b[39m     \u001b[38;5;28;01mif\u001b[39;00m attach_logging_hooks:\n",
      "\u001b[31mKeyboardInterrupt\u001b[39m: "
     ]
    }
   ],
   "source": [
    "student_deepinversion = distill_deep_inversion(\n",
    "    teacher=teacher, \n",
    "    student=student_deepinversion,\n",
    "    distill_config={\n",
    "        \"alpha\": 0.6,\n",
    "        \"T\": 2.5,\n",
    "        \"lr\": 0.001\n",
    "    },\n",
    "    total_iterations=train_config[\"dataset_size\"] * train_config[\"max_epochs\"],\n",
    "    distill_k_times=2,\n",
    "    batch_size=256,\n",
    "    deep_inversion_batch_size=2048,\n",
    "    deep_inversion_iterations=200,\n",
    "    n_classes=100,\n",
    "    image_shape=(3, 32, 32),\n",
    "    r_feature=0.01,\n",
    "    first_bn_multiplier=10,\n",
    "    tv_l1=0.0,\n",
    "    tv_l2=0.0001,\n",
    "    l2=0.00001,\n",
    "    main_loss_multiplier=1.0,\n",
    "    lr=0.03,\n",
    "    adi_scale=1,\n",
    "    device=\"cuda\"\n",
    ")"
   ]
  },
  {
   "cell_type": "code",
   "execution_count": null,
   "id": "e7771159",
   "metadata": {},
   "outputs": [
    {
     "data": {
      "application/vnd.jupyter.widget-view+json": {
       "model_id": "0484a59a936c41a6936e857fecc1844b",
       "version_major": 2,
       "version_minor": 0
      },
      "text/plain": [
       "eval batch:   0%|          | 0/20 [00:00<?, ?it/s]"
      ]
     },
     "metadata": {},
     "output_type": "display_data"
    },
    {
     "data": {
      "text/plain": [
       "{'Accuracy': 0.2535}"
      ]
     },
     "execution_count": 16,
     "metadata": {},
     "output_type": "execute_result"
    }
   ],
   "source": [
    "trainer.evaluate(\n",
    "    get_cifar100_loader(data_path=\"../../data\", train=False, batch_size=train_config[\"batch_size\"]),\n",
    "    model=student_reference\n",
    ")"
   ]
  },
  {
   "cell_type": "code",
   "execution_count": null,
   "id": "35932e35",
   "metadata": {},
   "outputs": [
    {
     "data": {
      "application/vnd.jupyter.widget-view+json": {
       "model_id": "b7d8553774e2418881d0104f5839c52e",
       "version_major": 2,
       "version_minor": 0
      },
      "text/plain": [
       "eval batch:   0%|          | 0/20 [00:00<?, ?it/s]"
      ]
     },
     "metadata": {},
     "output_type": "display_data"
    },
    {
     "data": {
      "text/plain": [
       "{'Accuracy': 0.2406}"
      ]
     },
     "execution_count": 17,
     "metadata": {},
     "output_type": "execute_result"
    }
   ],
   "source": [
    "trainer.evaluate(\n",
    "    get_cifar100_loader(data_path=\"../../data\", train=False, batch_size=train_config[\"batch_size\"]),\n",
    "    model=student_vanilla\n",
    ")"
   ]
  },
  {
   "cell_type": "code",
   "execution_count": null,
   "id": "afe1086f",
   "metadata": {},
   "outputs": [
    {
     "data": {
      "application/vnd.jupyter.widget-view+json": {
       "model_id": "7bf4513c8a8a4cbbb4ca5403d0a2facd",
       "version_major": 2,
       "version_minor": 0
      },
      "text/plain": [
       "eval batch:   0%|          | 0/20 [00:00<?, ?it/s]"
      ]
     },
     "metadata": {},
     "output_type": "display_data"
    },
    {
     "data": {
      "text/plain": [
       "{'Accuracy': 0.018}"
      ]
     },
     "execution_count": 18,
     "metadata": {},
     "output_type": "execute_result"
    }
   ],
   "source": [
    "trainer.evaluate(\n",
    "    get_cifar100_loader(data_path=\"../../data\", train=False, batch_size=train_config[\"batch_size\"]),\n",
    "    model=student_deepinversion\n",
    ")"
   ]
  },
  {
   "cell_type": "code",
   "execution_count": null,
   "id": "7de7f696",
   "metadata": {},
   "outputs": [],
   "source": []
  }
 ],
 "metadata": {
  "kernelspec": {
   "display_name": ".venv",
   "language": "python",
   "name": "python3"
  },
  "language_info": {
   "codemirror_mode": {
    "name": "ipython",
    "version": 3
   },
   "file_extension": ".py",
   "mimetype": "text/x-python",
   "name": "python",
   "nbconvert_exporter": "python",
   "pygments_lexer": "ipython3",
   "version": "3.12.4"
  }
 },
 "nbformat": 4,
 "nbformat_minor": 5
}
